{
 "cells": [
  {
   "cell_type": "markdown",
   "id": "b99cf992-f1eb-4559-b5a3-ef4a4e179b88",
   "metadata": {},
   "source": [
    "# Chapter 1. Python Primer"
   ]
  },
  {
   "attachments": {},
   "cell_type": "markdown",
   "id": "75181bec-4c02-4db8-aa4b-a39d9e99432a",
   "metadata": {},
   "source": [
    "Python Resource:\n",
    "    https://medium.com/@-TutortAcademy/choosing-the-best-books-for-mastering-python-algorithms-c7d0b5a64057\n",
    "\n",
    "Python Book:\n",
    "    Data Structures and Algorithms in Python by Michael T. Goodrich and Roberto Tamassia\n",
    "    https://nibmehub.com/opac-service/pdf/read/Data%20Structures%20and%20Algorithms%20in%20Python.pdf\n",
    "\n",
    "Chapter 1:\n",
    "    Python is a interpeted and dynamic type language that does not require a compiler\n",
    "    \n",
    "    Class|Description|Immutable?\n",
    "    bool|Boolean value|Yes\n",
    "    int|integer (arbitrary magnitude)|Yes\n",
    "    float|floating-point number| Yes\n",
    "    list|mutable sequence of objects|No\n",
    "    tuple| immutable sequence of objects|Yes\n",
    "    str|character string|Yes\n",
    "    set |unordered set of distinct objects| No\n",
    "    frozenset|immutable form of set class| Yes\n",
    "    dict|associative mapping (aka dictionary)| No\n",
    "\n",
    "    Sequence Types\n",
    "        are list, tuple, and str.\n",
    "        list = []\n",
    "            - list are zero index are similar to an array\n",
    "        Tuple = ()\n",
    "            - tuples are immutable version of a sequence\n",
    "        str = \"\" or '' or \"\"\"\"\"\" or ''''''\n",
    "            - str is specifically designed to represent an immutable sequence of\n",
    "            characters\n",
    "    Set and Frozenset\n",
    "        set = {}\n",
    "            - set class represent the mathamatical notion of a set, namely\n",
    "            a collection of elements, without a duplicate\n",
    "            - No order\n",
    "        frozenset =\n",
    "            - is a immutable form of a set type, so it is legal to have set of frozenset\n",
    "            - frozenset()\n",
    "    Dict\n",
    "        dict represents a dictionary or mapping from a set of dictinct keys to associated values\n",
    "            - key value pair\n",
    "                dictionary = {'k':'V','k1':'V1'}\n",
    "            - access value\n",
    "                dictionary['K'] or dictionary.get('k')\n",
    "    Operators:\n",
    "        Python provides the following bitwise operators for integers:\n",
    "            ∼ bitwise complement (prefix unary operator)\n",
    "            & bitwise and\n",
    "            | bitwise or\n",
    "            ˆ bitwise exclusive-or\n",
    "            << shift bits left, filling in with zeros\n",
    "            >> shift bits right, filling in with sign bit\n",
    "\n",
    "        Each of Python’s built-in sequence types (str, tuple, and list) support the following\n",
    "            operator syntaxes:\n",
    "            s[j] element at index j\n",
    "            s[start:stop] slice including indices [start,stop)\n",
    "            s[start:stop:step] slice including indices start, start + step,\n",
    "            start + 2 step, . . . , up to but not equalling or stop\n",
    "            s+t concatenation of sequences\n",
    "            k s shorthand for s + s + s + ... (k times)\n",
    "            val in s containment check\n",
    "            val not in s non-containment check\n",
    "\n",
    "        Operators for Sets and Dictionaries\n",
    "            Sets and frozensets support the following operators:\n",
    "            key in s containment check\n",
    "            key not in s non-containment check\n",
    "            s1 == s2 s1 is equivalent to s2\n",
    "            s1 != s2 s1 is not equivalent to s2\n",
    "            s1 <= s2 s1 is subset of s2\n",
    "            s1 < s2 s1 is proper subset of s2\n",
    "            s1 >= s2 s1 is superset of s2\n",
    "            s1 > s2 s1 is proper superset of s2\n",
    "            s1 | s2 the union of s1 and s2\n",
    "            s1 & s2 the intersection of s1 and s2\n",
    "            s1 − s2 the set of elements in s1 but not s2\n",
    "            s1 ˆ s2 the set of elements in precisely one of s1 or s2\n",
    "\n",
    "\n",
    "        Control Flow\n",
    "            \n",
    "            if first condition:\n",
    "                first body\n",
    "            elif second condition:\n",
    "                second body\n",
    "            elif third condition:\n",
    "                third body\n",
    "            else:\n",
    "                fourth body\n",
    "\n",
    "\n",
    "        Loops:\n",
    "            while statement:\n",
    "                while condition:\n",
    "                    body\n",
    "            - condition statement needs to be false to exit\n",
    "\n",
    "        Calling Syntax Description\n",
    "            Calling_Syntax Description\n",
    "            abs(x) Return the absolute value of a number.\n",
    "            all(iterable) Return True if bool(e) is True for each element e.\n",
    "            any(iterable) Return True if bool(e) is True for at least one element e.\n",
    "            chr(integer) Return a one-character string with the given Unicode code point.\n",
    "            divmod(x, y) Return (x // y, x % y) as tuple, if x and y are integers.\n",
    "            hash(obj) Return an integer hash value for the object (see Chapter 10).\n",
    "            id(obj) Return the unique integer serving as an “identity” for the object.\n",
    "            input(prompt) Return a string from standard input; the prompt is optional.\n",
    "            isinstance(obj, cls) Determine if obj is an instance of the class (or a subclass).\n",
    "            iter(iterable) Return a new iterator object for the parameter (see Section 1.8).\n",
    "            len(iterable) Return the number of elements in the given iteration.\n",
    "            map(f, iter1, iter2, ...) Return an iterator yielding the result of function calls f(e1, e2, ...)\n",
    "            for respective elements e1 ∈ iter1,e2 ∈ iter2,...\n",
    "            max(iterable) Return the largest element of the given iteration.\n",
    "            max(a, b, c, ...) Return the largest of the arguments.\n",
    "            min(iterable) Return the smallest element of the given iteration.\n",
    "            min(a, b, c, ...) Return the smallest of the arguments.\n",
    "            next(iterator) Return the next element reported by the iterator (see Section 1.8).\n",
    "            open(filename, mode) Open a file with the given name and access mode.\n",
    "            ord(char) Return the Unicode code point of the given character.\n",
    "            pow(x, y) Return the value xy (as an integer if x and y are integers);\n",
    "            equivalent to x y.\n",
    "            pow(x, y, z) Return the value (xy mod z) as an integer.\n",
    "            print(obj1, obj2, ...) Print the arguments, with separating spaces and trailing newline.\n",
    "            range(stop) Construct an iteration of values 0, 1,..., stop−1.\n",
    "            range(start, stop) Construct an iteration of values start, start+1,..., stop−1.\n",
    "            range(start, stop, step) Construct an iteration of values start, start+step, start+2 step,...\n",
    "            reversed(sequence) Return an iteration of the sequence in reverse.\n",
    "            round(x) Return the nearest int value (a tie is broken toward the even value).\n",
    "            round(x, k) Return the value rounded to the nearest 10−k (return-type matches x).\n",
    "            sorted(iterable) Return a list containing elements of the iterable in sorted order.\n",
    "            sum(iterable) Return the sum of the elements in the iterable (must be numeric).\n",
    "            type(obj) Return the class to which the instance obj belongs.\n",
    "\n",
    "        Error Handling\n",
    "            \n",
    "            Class Description\n",
    "            Exception A base class for most error types\n",
    "            AttributeError Raised by syntax obj.foo, if obj has no member named foo\n",
    "            EOFError Raised if “end of file” reached for console or file input\n",
    "            IOError Raised upon failure of I/O operation (e.g., opening file)\n",
    "            IndexError Raised if index to sequence is out of bounds\n",
    "            KeyError Raised if nonexistent key requested for set or dictionary\n",
    "            KeyboardInterrupt Raised if user types ctrl-C while program is executing\n",
    "            NameError Raised if nonexistent identifier used\n",
    "            StopIteration Raised by next(iterator) if no element; see Section 1.8\n",
    "            TypeError Raised when wrong type of parameter is sent to a function\n",
    "            ValueError Raised when parameter has invalid value (e.g., sqrt(−5))\n",
    "            ZeroDivisionError Raised when any division operator used with 0 as divison\n",
    "\n",
    "\n",
    "        Modules\n",
    "            Module Name Description\n",
    "                array Provides compact array storage for primitive types.\n",
    "                collections Defines additional data structures and abstract base classes\n",
    "                involving collections of objects.\n",
    "                copy Defines general functions for making copies of objects.\n",
    "                heapq Provides heap-based priority queue functions (see Section 9.3.7).\n",
    "                math Defines common mathematical constants and functions.\n",
    "                os Provides support for interactions with the operating system.\n",
    "                random Provides random number generation.\n",
    "                re Provides support for processing regular expressions.\n",
    "                sys Provides additional level of interaction with the Python interpreter.\n",
    "                time Provides support for measuring time, or delaying a program.\n",
    "\n",
    "        Generators:\n",
    "            - Generators are most convient ways to create iterators\n",
    "            - A function that uses the yield instead of return keyword\n",
    "            - Yield statement is executed to indicate each element of the series\n",
    "                # list that produces everything\n",
    "                def factor(n):\n",
    "                    results = []\n",
    "                    for k in range(1,n+1):\n",
    "                        if n%k == 0:\n",
    "                            results.append(k)\n",
    "                    return results\n",
    "\n",
    "                # yield implementation\n",
    "                def factor(n):\n",
    "                    for k in range(1,n+1):\n",
    "                        if n%k == 0:\n",
    "                            yield k   "
   ]
  },
  {
   "cell_type": "markdown",
   "id": "68d41fb3-a562-4e1e-802d-5bd9ba9a3043",
   "metadata": {},
   "source": [
    "### Write a short Python function, is multiple(n, m), that takes two integer\n",
    "### values and returns True if n is a multiple of m, that is, n = mi for some\n",
    "### integer i, and False otherwise.\n"
   ]
  },
  {
   "cell_type": "code",
   "execution_count": 109,
   "id": "b1b5f202-3425-4266-9935-40e3d12304fc",
   "metadata": {},
   "outputs": [],
   "source": [
    "def is_multiple(n,m):\n",
    "    if n%m == 0:\n",
    "        return True\n",
    "    return False"
   ]
  },
  {
   "cell_type": "code",
   "execution_count": 110,
   "id": "4e2fb741-c104-4dd5-b5ee-689b1bbbe4da",
   "metadata": {},
   "outputs": [
    {
     "data": {
      "text/plain": [
       "True"
      ]
     },
     "execution_count": 110,
     "metadata": {},
     "output_type": "execute_result"
    }
   ],
   "source": [
    "is_multiple(16,8)"
   ]
  },
  {
   "cell_type": "code",
   "execution_count": 111,
   "id": "c04e6ee0-58fb-4860-b3aa-3fcb48d71f48",
   "metadata": {},
   "outputs": [
    {
     "data": {
      "text/plain": [
       "False"
      ]
     },
     "execution_count": 111,
     "metadata": {},
     "output_type": "execute_result"
    }
   ],
   "source": [
    "is_multiple(16,3)"
   ]
  },
  {
   "cell_type": "markdown",
   "id": "8b4ac594-c7a0-4238-abd0-6908d39c2c4f",
   "metadata": {},
   "source": [
    "### R-1.2 Write a short Python function, is even(k), that takes an integer value and\n",
    "### returns True if k is even, and False otherwise. However, your function\n",
    "### cannot use the multiplication, modulo, or division operators."
   ]
  },
  {
   "cell_type": "code",
   "execution_count": 112,
   "id": "ed5dd03b-b2fd-45ce-89aa-7129b5c159df",
   "metadata": {},
   "outputs": [],
   "source": [
    "def is_even(k):\n",
    "    if (k & 1) == 0:\n",
    "        return True\n",
    "    return False"
   ]
  },
  {
   "cell_type": "code",
   "execution_count": 113,
   "id": "ec2a0598-d9f4-4979-8f54-8534123137d9",
   "metadata": {},
   "outputs": [
    {
     "data": {
      "text/plain": [
       "False"
      ]
     },
     "execution_count": 113,
     "metadata": {},
     "output_type": "execute_result"
    }
   ],
   "source": [
    "is_even(1)"
   ]
  },
  {
   "cell_type": "code",
   "execution_count": 114,
   "id": "4cbf0548-cc4a-4c83-bf80-26d9da4f8ceb",
   "metadata": {},
   "outputs": [
    {
     "data": {
      "text/plain": [
       "True"
      ]
     },
     "execution_count": 114,
     "metadata": {},
     "output_type": "execute_result"
    }
   ],
   "source": [
    "is_even(10)"
   ]
  },
  {
   "cell_type": "code",
   "execution_count": 115,
   "id": "264e1a04-e3af-4f7b-ad17-27b3e4d62539",
   "metadata": {},
   "outputs": [
    {
     "name": "stdout",
     "output_type": "stream",
     "text": [
      "L1 [0, 1, 2, 3, 4, 5, 6, 7, 8, 9]\n",
      "l2 [0, 100, 200, 300, 400, 500, 600, 700, 800, 900]\n"
     ]
    },
    {
     "data": {
      "text/plain": [
       "[0, 101, 202, 303, 404, 505, 606, 707, 808, 909]"
      ]
     },
     "execution_count": 115,
     "metadata": {},
     "output_type": "execute_result"
    }
   ],
   "source": [
    "# Test Map Function\n",
    "\n",
    "def add(a,b):\n",
    "    return a+b\n",
    "\n",
    "def iter_lists(func,list1,list2):\n",
    "    return map(func,list1,list2)\n",
    "\n",
    "l1 = [i for i in range(0,10,)] \n",
    "l2 = [i*100 for i in range(0,10)]\n",
    "\n",
    "print('L1', l1)\n",
    "print('l2',l2)\n",
    "\n",
    "list(iter_lists(add,l1,l2))"
   ]
  },
  {
   "cell_type": "markdown",
   "id": "ffdfe873-cd9c-4cdc-96de-25bc70615ad7",
   "metadata": {},
   "source": [
    "### R-1.3 Write a short Python function, minmax(data), that takes a sequence of\n",
    "### one or more numbers, and returns the smallest and largest numbers, in the\n",
    "### form of a tuple of length two. Do not use the built-in functions min or\n",
    "### max in implementing your solution."
   ]
  },
  {
   "cell_type": "code",
   "execution_count": 116,
   "id": "f29e38d1-af04-4b1b-aa04-f6c942dec0a3",
   "metadata": {},
   "outputs": [],
   "source": [
    "def minmax(data):\n",
    "    minimum = maximum = data[0]\n",
    "    for i in data[1:]:\n",
    "        if i < minimum:\n",
    "            minimum = i\n",
    "        elif i > maximum:\n",
    "            maximum = i\n",
    "    return (minimum,maximum)        \n",
    "        "
   ]
  },
  {
   "cell_type": "code",
   "execution_count": 117,
   "id": "d57c6de6-aa5a-4d93-9aa4-dcd7345a31ee",
   "metadata": {},
   "outputs": [
    {
     "name": "stdout",
     "output_type": "stream",
     "text": [
      "[200, 800, 500, 400, 700, 900, 0, 600, 100, 300]\n"
     ]
    },
    {
     "data": {
      "text/plain": [
       "(0, 900)"
      ]
     },
     "execution_count": 117,
     "metadata": {},
     "output_type": "execute_result"
    }
   ],
   "source": [
    "import random\n",
    "shuffled_list = random.shuffle(l2)\n",
    "print(l2)\n",
    "minmax(l2)"
   ]
  },
  {
   "cell_type": "markdown",
   "id": "5b1cbae8-0d85-4880-9a18-9b918dc8144b",
   "metadata": {},
   "source": [
    "### R-1.5\n",
    "### Give a single command that computes the sum from Exercise R-1.4, relying on Python’s comprehension syntax and the built-in sum function."
   ]
  },
  {
   "cell_type": "code",
   "execution_count": 118,
   "id": "a52eb96c-5573-4d8e-912d-6507584e5ba8",
   "metadata": {},
   "outputs": [
    {
     "name": "stdout",
     "output_type": "stream",
     "text": [
      "900\n"
     ]
    }
   ],
   "source": [
    "l3 = [a for a in minmax(l2)]\n",
    "print(sum(l3))"
   ]
  },
  {
   "cell_type": "markdown",
   "id": "b96bfff2-f8ba-4105-8a98-031034e642d3",
   "metadata": {},
   "source": [
    "### R-1.6 \n",
    "### Write a short Python function that takes a positive integer n and returns the sum of the squares of all the odd positive integers smaller than n\n",
    "\n",
    "### R-1.7 Give a single command that computes the sum from Exercise R-1.6, relying on Python’s comprehension syntax and the built-in sum function.\n"
   ]
  },
  {
   "cell_type": "code",
   "execution_count": 119,
   "id": "05d14cb9-cf9c-49b0-bbf2-ac884b4d43e8",
   "metadata": {},
   "outputs": [],
   "source": [
    "def squared_odds(n):\n",
    "    if type(n) == int and n> 0:\n",
    "        return sum([pow(i,2) for i in range(1,n) if i%2 != 0])\n",
    "    else:\n",
    "        print(f'Not greater than 0 or argument is not type of int {n}')\n",
    "            \n",
    "                "
   ]
  },
  {
   "cell_type": "code",
   "execution_count": 120,
   "id": "ad073967-8935-4daf-9eb3-c7866b4dbd3f",
   "metadata": {},
   "outputs": [
    {
     "name": "stdout",
     "output_type": "stream",
     "text": [
      "Not greater than 0 or argument is not type of int A\n"
     ]
    }
   ],
   "source": [
    "squared_odds('A')\n",
    "assert squared_odds(4) == 10"
   ]
  },
  {
   "cell_type": "code",
   "execution_count": 121,
   "id": "bf98b1d0-7d5b-4ea1-bca7-72730236434c",
   "metadata": {},
   "outputs": [
    {
     "data": {
      "text/plain": [
       "10"
      ]
     },
     "execution_count": 121,
     "metadata": {},
     "output_type": "execute_result"
    }
   ],
   "source": [
    "squared_odds(4)"
   ]
  },
  {
   "cell_type": "markdown",
   "id": "090291ab-1de3-45e0-bc90-580261db151d",
   "metadata": {},
   "source": [
    "### R-1.8 \n",
    "### Python allows negative integers to be used as indices into a sequence, such as a string. If string s has length n, and expression s[k] is used for index −n ≤ k < 0, what is the equivalent index j ≥ 0 such that s[j] references the same element?"
   ]
  },
  {
   "cell_type": "code",
   "execution_count": 122,
   "id": "d964af08-654c-4edf-8f22-3269926e558b",
   "metadata": {},
   "outputs": [
    {
     "data": {
      "text/plain": [
       "'o'"
      ]
     },
     "execution_count": 122,
     "metadata": {},
     "output_type": "execute_result"
    }
   ],
   "source": [
    "string = \"Hello\"\n",
    "string[-1]\n",
    "index = len(string)-1\n",
    "string[index]"
   ]
  },
  {
   "cell_type": "markdown",
   "id": "f24f26d3-86f6-4cd3-a505-997af3678c4a",
   "metadata": {},
   "source": [
    "### R-1.9 What parameters should be sent to the range constructor, to produce a\n",
    "### range with values 50, 60, 70, 80?"
   ]
  },
  {
   "cell_type": "code",
   "execution_count": 123,
   "id": "057a5e05-5fd8-449e-8c34-226da6ad23f0",
   "metadata": {},
   "outputs": [
    {
     "data": {
      "text/plain": [
       "[50, 60, 70, 80]"
      ]
     },
     "execution_count": 123,
     "metadata": {},
     "output_type": "execute_result"
    }
   ],
   "source": [
    "list(range(50,81,10))"
   ]
  },
  {
   "cell_type": "markdown",
   "id": "89bbec42-d5bb-49ca-89dc-8c75827cdcb6",
   "metadata": {},
   "source": [
    "### R-1.10 \n",
    "### What parameters should be sent to the range constructor, to produce a range with values 8, 6, 4, 2, 0, −2, −4, −6, −8?"
   ]
  },
  {
   "cell_type": "code",
   "execution_count": 124,
   "id": "73ec2d7d-9fac-446d-bb50-c928e7840ee9",
   "metadata": {},
   "outputs": [
    {
     "data": {
      "text/plain": [
       "[8, 6, 4, 2, 0, -2, -4, -6, -8]"
      ]
     },
     "execution_count": 124,
     "metadata": {},
     "output_type": "execute_result"
    }
   ],
   "source": [
    "list(range(8,-9,-2))"
   ]
  },
  {
   "cell_type": "code",
   "execution_count": 125,
   "id": "2263996c-1d54-4658-a044-ffaa4ea207b1",
   "metadata": {},
   "outputs": [],
   "source": [
    "### R-1.11 \n",
    "### Demonstrate how to use Python’s list comprehension syntax to produce the list [1, 2, 4, 8, 16, 32, 64, 128, 256].\n"
   ]
  },
  {
   "cell_type": "code",
   "execution_count": 126,
   "id": "73fda77b-410f-4a85-a438-dd4ef78062bf",
   "metadata": {},
   "outputs": [
    {
     "data": {
      "text/plain": [
       "[1, 2, 4, 8, 16, 32, 64, 128, 256]"
      ]
     },
     "execution_count": 126,
     "metadata": {},
     "output_type": "execute_result"
    }
   ],
   "source": [
    "[pow(2,i) for i in range(0,9)] "
   ]
  },
  {
   "cell_type": "markdown",
   "id": "23400de6-d7dd-47c5-8bc6-e873ea827909",
   "metadata": {},
   "source": [
    "### R-1.12 \n",
    "### Python’s random module includes a function choice(data) that returns a\n",
    "### random element from a non-empty sequence. The random module includes a more basic function randrange, with parameterization similar to\n",
    "### the built-in range function, that return a random choice from the given\n",
    "### range. Using only the randrange function, implement your own version\n",
    "### of the choice function"
   ]
  },
  {
   "cell_type": "code",
   "execution_count": 127,
   "id": "83653a4b-4f5b-44ac-b900-86c40457e182",
   "metadata": {},
   "outputs": [],
   "source": [
    "def choice_rand(start,end):\n",
    "    return random.randrange(start,end)\n",
    "    "
   ]
  },
  {
   "cell_type": "code",
   "execution_count": 128,
   "id": "927bf1ab-62c5-455a-8b12-50763f8af276",
   "metadata": {},
   "outputs": [
    {
     "data": {
      "text/plain": [
       "8"
      ]
     },
     "execution_count": 128,
     "metadata": {},
     "output_type": "execute_result"
    }
   ],
   "source": [
    "choice_rand(1,10)"
   ]
  },
  {
   "cell_type": "markdown",
   "id": "75b516d2-4611-4a11-ada6-5b766f080142",
   "metadata": {},
   "source": [
    "### C-1.13\n",
    "### Write a pseudo-code description of a function that reverses a list of n\n",
    "### integers, so that the numbers are listed in the opposite order than they\n",
    "### were before, and compare this method to an equivalent Python function\n",
    "### for doing the same thing."
   ]
  },
  {
   "cell_type": "code",
   "execution_count": 129,
   "id": "92545f70-2184-4147-965d-f9090277ce0a",
   "metadata": {},
   "outputs": [],
   "source": [
    "def reverse_iter(iterable):\n",
    "    return iterable[::-1]"
   ]
  },
  {
   "cell_type": "code",
   "execution_count": 130,
   "id": "34bc0ba6-b956-46da-afac-05127b628485",
   "metadata": {},
   "outputs": [
    {
     "data": {
      "text/plain": [
       "[9, 8, 7, 6, 5, 4, 3, 2, 1, 0]"
      ]
     },
     "execution_count": 130,
     "metadata": {},
     "output_type": "execute_result"
    }
   ],
   "source": [
    "reverse_iter(l1)"
   ]
  },
  {
   "cell_type": "markdown",
   "id": "934f35ae-fe9c-4dea-9cef-b82f0c9583c0",
   "metadata": {},
   "source": [
    "### C-1.14 \n",
    "### Write a short Python function that takes a sequence of integer values and determines if there is a distinct pair of numbers in the sequence whose product is odd."
   ]
  },
  {
   "cell_type": "code",
   "execution_count": 131,
   "id": "26d3f07e-8838-4b60-b106-3ecc8abd93c2",
   "metadata": {},
   "outputs": [],
   "source": [
    "def distinct_pair(iterable):\n",
    "    \"\"\"\n",
    "    Used a queue as a strategy here, FIFO\n",
    "    This is O(n^2)\n",
    "    \"\"\"\n",
    "    products = set()\n",
    "    for _ in range(len(iterable)):\n",
    "        head = iterable.pop(0)\n",
    "        for i in iterable:\n",
    "            if (head * i)%2 != 0:\n",
    "                products.add((head,i))\n",
    "    return products"
   ]
  },
  {
   "cell_type": "code",
   "execution_count": 132,
   "id": "b8771e12-bd4f-46df-95ed-d73fb9fefb03",
   "metadata": {},
   "outputs": [
    {
     "data": {
      "text/plain": [
       "{(1, 3),\n",
       " (1, 5),\n",
       " (1, 7),\n",
       " (1, 9),\n",
       " (3, 5),\n",
       " (3, 7),\n",
       " (3, 9),\n",
       " (5, 7),\n",
       " (5, 9),\n",
       " (7, 9)}"
      ]
     },
     "execution_count": 132,
     "metadata": {},
     "output_type": "execute_result"
    }
   ],
   "source": [
    "distinct_pair(l1)"
   ]
  },
  {
   "cell_type": "code",
   "execution_count": 133,
   "id": "ee696f52-9fb0-41db-a0f9-a7fc85df8eb8",
   "metadata": {},
   "outputs": [
    {
     "data": {
      "text/plain": [
       "{(1, 3), (3, 3)}"
      ]
     },
     "execution_count": 133,
     "metadata": {},
     "output_type": "execute_result"
    }
   ],
   "source": [
    "distinct_pair([1,2,3,3,3,3])"
   ]
  },
  {
   "cell_type": "markdown",
   "id": "97f14817-34e3-433e-9129-2f716cb41f14",
   "metadata": {},
   "source": [
    "### C-1.15\n",
    "### Write a Python function that takes a sequence of numbers and determines if all the numbers are different from each other (that is, they are distinct)."
   ]
  },
  {
   "cell_type": "code",
   "execution_count": 134,
   "id": "9b0e43b0-cc26-4b10-9566-9d0c2347f38e",
   "metadata": {},
   "outputs": [],
   "source": [
    "def distinct_numbers(iterable):\n",
    "    if len(iterable) == len(set(iterable)):\n",
    "        return True\n",
    "    return False"
   ]
  },
  {
   "cell_type": "code",
   "execution_count": 135,
   "id": "1dc26c24-e298-4dda-aae8-02e53fb7c412",
   "metadata": {},
   "outputs": [],
   "source": [
    "l1 = [i for i in range(10)]\n",
    "l2 = [2] * 4"
   ]
  },
  {
   "cell_type": "code",
   "execution_count": 136,
   "id": "5b73317c-3e95-49e0-91ef-cec32329ad68",
   "metadata": {},
   "outputs": [
    {
     "data": {
      "text/plain": [
       "[0, 1, 2, 3, 4, 5, 6, 7, 8, 9]"
      ]
     },
     "execution_count": 136,
     "metadata": {},
     "output_type": "execute_result"
    }
   ],
   "source": [
    "l1"
   ]
  },
  {
   "cell_type": "code",
   "execution_count": 137,
   "id": "39cd8836-d5ed-471c-83cf-49bc2389d68e",
   "metadata": {},
   "outputs": [
    {
     "data": {
      "text/plain": [
       "[2, 2, 2, 2]"
      ]
     },
     "execution_count": 137,
     "metadata": {},
     "output_type": "execute_result"
    }
   ],
   "source": [
    "l2"
   ]
  },
  {
   "cell_type": "code",
   "execution_count": 138,
   "id": "d9927d8c-aa2a-4c11-8460-30185453fe47",
   "metadata": {},
   "outputs": [
    {
     "data": {
      "text/plain": [
       "True"
      ]
     },
     "execution_count": 138,
     "metadata": {},
     "output_type": "execute_result"
    }
   ],
   "source": [
    "distinct_numbers(l1)"
   ]
  },
  {
   "cell_type": "code",
   "execution_count": 139,
   "id": "2230be5c-9912-4d74-bf11-acd7e9367080",
   "metadata": {},
   "outputs": [
    {
     "data": {
      "text/plain": [
       "False"
      ]
     },
     "execution_count": 139,
     "metadata": {},
     "output_type": "execute_result"
    }
   ],
   "source": [
    "distinct_numbers(l2)"
   ]
  },
  {
   "cell_type": "markdown",
   "id": "6d2147bf-06b9-4f9f-9dd3-87cb94c8d2b2",
   "metadata": {},
   "source": [
    "### C-1.16\n",
    "### In our implementation of the scale function (page 25), the body of the loop executes the command data[j] = factor. We have discussed that numeric types are immutable, and that use of the = operator in this context causes the creation of a new instance (not the mutation of an existing instance). How is it still possible, then, that our implementation of scale changes the actual parameter sent by the caller?"
   ]
  },
  {
   "cell_type": "code",
   "execution_count": 140,
   "id": "513e7829-9307-4beb-863a-41eb0565a05f",
   "metadata": {},
   "outputs": [
    {
     "data": {
      "text/plain": [
       "[0, 1, 2, 3, 4, 5, 6, 7, 8, 9]"
      ]
     },
     "execution_count": 140,
     "metadata": {},
     "output_type": "execute_result"
    }
   ],
   "source": [
    "l1"
   ]
  },
  {
   "cell_type": "code",
   "execution_count": 141,
   "id": "1426d034-966c-4e86-a17a-4df0935784c7",
   "metadata": {},
   "outputs": [],
   "source": [
    "data = l1.copy()"
   ]
  },
  {
   "cell_type": "code",
   "execution_count": 142,
   "id": "aa368a1e-9d19-4308-9555-773bc49705ab",
   "metadata": {},
   "outputs": [
    {
     "data": {
      "text/plain": [
       "[0, 1, 2, 3, 4, 5, 6, 7, 8, 9]"
      ]
     },
     "execution_count": 142,
     "metadata": {},
     "output_type": "execute_result"
    }
   ],
   "source": [
    "data"
   ]
  },
  {
   "cell_type": "code",
   "execution_count": 143,
   "id": "96c391dd-8906-46d5-957c-59237d389a81",
   "metadata": {},
   "outputs": [],
   "source": [
    "def scale(data,factor):\n",
    "    for i in range(len(data)):\n",
    "        data[i] =data[i]*factor"
   ]
  },
  {
   "cell_type": "code",
   "execution_count": 144,
   "id": "5e004859-76ee-4bc2-be20-4c321a3a7431",
   "metadata": {},
   "outputs": [],
   "source": [
    "scale(data,2)"
   ]
  },
  {
   "cell_type": "code",
   "execution_count": 145,
   "id": "80960b46-3a13-4e42-a5ba-1e3ae5a48409",
   "metadata": {},
   "outputs": [
    {
     "data": {
      "text/plain": [
       "[0, 2, 4, 6, 8, 10, 12, 14, 16, 18]"
      ]
     },
     "execution_count": 145,
     "metadata": {},
     "output_type": "execute_result"
    }
   ],
   "source": [
    "data"
   ]
  },
  {
   "cell_type": "code",
   "execution_count": 146,
   "id": "7b580b6e-c2db-4497-9db8-41e63d4b0d8f",
   "metadata": {},
   "outputs": [],
   "source": [
    "immutable_data = set(data)"
   ]
  },
  {
   "cell_type": "code",
   "execution_count": 147,
   "id": "efb36e54-b3b2-4058-a5f1-b33f2f01544a",
   "metadata": {},
   "outputs": [
    {
     "data": {
      "text/plain": [
       "{0, 2, 4, 6, 8, 10, 12, 14, 16, 18}"
      ]
     },
     "execution_count": 147,
     "metadata": {},
     "output_type": "execute_result"
    }
   ],
   "source": [
    "immutable_data"
   ]
  },
  {
   "cell_type": "code",
   "execution_count": 148,
   "id": "80017977-9909-46d1-b29d-8965a24ff691",
   "metadata": {},
   "outputs": [
    {
     "ename": "TypeError",
     "evalue": "'set' object is not subscriptable",
     "output_type": "error",
     "traceback": [
      "\u001b[1;31m---------------------------------------------------------------------------\u001b[0m",
      "\u001b[1;31mTypeError\u001b[0m                                 Traceback (most recent call last)",
      "Cell \u001b[1;32mIn[148], line 1\u001b[0m\n\u001b[1;32m----> 1\u001b[0m \u001b[43mscale\u001b[49m\u001b[43m(\u001b[49m\u001b[43mimmutable_data\u001b[49m\u001b[43m,\u001b[49m\u001b[38;5;241;43m2\u001b[39;49m\u001b[43m)\u001b[49m\n",
      "Cell \u001b[1;32mIn[143], line 3\u001b[0m, in \u001b[0;36mscale\u001b[1;34m(data, factor)\u001b[0m\n\u001b[0;32m      1\u001b[0m \u001b[38;5;28;01mdef\u001b[39;00m \u001b[38;5;21mscale\u001b[39m(data,factor):\n\u001b[0;32m      2\u001b[0m     \u001b[38;5;28;01mfor\u001b[39;00m i \u001b[38;5;129;01min\u001b[39;00m \u001b[38;5;28mrange\u001b[39m(\u001b[38;5;28mlen\u001b[39m(data)):\n\u001b[1;32m----> 3\u001b[0m         data[i] \u001b[38;5;241m=\u001b[39m\u001b[43mdata\u001b[49m\u001b[43m[\u001b[49m\u001b[43mi\u001b[49m\u001b[43m]\u001b[49m\u001b[38;5;241m*\u001b[39mfactor\n",
      "\u001b[1;31mTypeError\u001b[0m: 'set' object is not subscriptable"
     ]
    }
   ],
   "source": [
    "scale(immutable_data,2)"
   ]
  },
  {
   "cell_type": "markdown",
   "id": "c41bf22d-c7c7-4fa7-9332-7501868067ea",
   "metadata": {},
   "source": [
    "### C-1.17 \n",
    "### Had we implemented the scale function (page 25) as follows, does it work properly? \n",
    "### def scale(data, factor):\n",
    "###    for val in data:\n",
    "###        val = factor\n",
    "\n",
    "#### This would not work cause we are only altering the value itself than the index of data. "
   ]
  },
  {
   "cell_type": "markdown",
   "id": "4efff463-a5f0-43b7-b168-b08d9f1de081",
   "metadata": {},
   "source": [
    "### C-1.18\n",
    "### Demonstrate how to use Python’s list comprehension syntax to producethe list [0, 2, 6, 12, 20, 30, 42, 56, 72, 90]."
   ]
  },
  {
   "cell_type": "code",
   "execution_count": null,
   "id": "e8dcf1bf-a86e-4906-9381-e227587bf8a8",
   "metadata": {},
   "outputs": [],
   "source": [
    "[i*(i+1) for i in range(10)]"
   ]
  },
  {
   "cell_type": "markdown",
   "id": "9d25fe11-4ae1-4d80-bc4d-a1cfb8e85df4",
   "metadata": {},
   "source": [
    "### C-1.19\n",
    "### Demonstrate how to use Python’s list comprehension syntax to produce the list [ a , b , c , ..., z ], but without having to type all 26 such characters literally"
   ]
  },
  {
   "cell_type": "code",
   "execution_count": null,
   "id": "1d653048-c1a8-42df-9695-aa4fd03a23b3",
   "metadata": {},
   "outputs": [],
   "source": [
    "[chr(i) for i in range(97,123)]"
   ]
  },
  {
   "cell_type": "markdown",
   "id": "f9212a17-dcc0-49e5-b4d1-6c9f379fcc60",
   "metadata": {},
   "source": [
    "### C-20 \n",
    "### Python’s random module includes a function shuffle(data) that accepts a list of elements and randomly reorders the elements so that each possible order occurs with equal probability. The random module includes a more basic function randint(a, b) that returns a uniformly random integer from a to b (including both endpoints). Using only the randint function, implement your own version of the shuffle function"
   ]
  },
  {
   "cell_type": "code",
   "execution_count": null,
   "id": "5a92ef7b-7881-436c-8b19-6908128fd8aa",
   "metadata": {},
   "outputs": [],
   "source": [
    "unordered_list = [1,1,4,5,4,6,6,4,7]\n",
    "random.shuffle(unordered_list)"
   ]
  },
  {
   "cell_type": "code",
   "execution_count": null,
   "id": "84193591-1600-4d11-9157-fd99ebc0bbb3",
   "metadata": {},
   "outputs": [],
   "source": [
    "unordered_list"
   ]
  },
  {
   "cell_type": "code",
   "execution_count": null,
   "id": "4e968c88-9968-4bc4-8019-b6b506bff6bb",
   "metadata": {},
   "outputs": [],
   "source": [
    "def myshuffle(start,end,loops):\n",
    "    return [random.randint(start,end) for _ in range(loops)]"
   ]
  },
  {
   "cell_type": "code",
   "execution_count": null,
   "id": "f6d45962-cab1-4117-bb14-c7a5f86aed65",
   "metadata": {},
   "outputs": [],
   "source": [
    "myshuffle(1,10,10)"
   ]
  },
  {
   "cell_type": "markdown",
   "id": "e80ae53e-6fd5-4857-97be-316e0c5177ea",
   "metadata": {},
   "source": [
    "### C-1.22 \n",
    "### Write a short Python program that takes two arrays a and b of length n storing int values, and returns the dot product of a and b. That is, it returns an array c of length n such that c[i] = a[i] · b[i], for i = 0,...,n−1."
   ]
  },
  {
   "cell_type": "code",
   "execution_count": null,
   "id": "7dfef6fe-829c-4b35-b2a1-cde251e3da1d",
   "metadata": {},
   "outputs": [],
   "source": [
    "def product_list(a,b):\n",
    "    if len(a) == len(b):\n",
    "        return list(map(lambda x,y: x*y, a,b))"
   ]
  },
  {
   "cell_type": "code",
   "execution_count": null,
   "id": "8276f75f-c5ee-4da5-b6b6-4cd8ae9ad9ca",
   "metadata": {},
   "outputs": [],
   "source": [
    "product_list([i for i in range(0,10)],[i*2 for i in range(0,10)])"
   ]
  },
  {
   "cell_type": "markdown",
   "id": "596e0db2-8a9d-4ca5-b58a-33701be1c439",
   "metadata": {},
   "source": [
    "### C-1.23 Give an example of a Python code fragment that attempts to write an element to a list based on an index that may be out of bounds. If that index is out of bounds, the program should catch the exception that results, and print the following error message: “Don’t try buffer overflow attacks in Python!”"
   ]
  },
  {
   "cell_type": "code",
   "execution_count": null,
   "id": "cceefde9-ca98-46c6-a4dd-6e01f38f8486",
   "metadata": {},
   "outputs": [],
   "source": [
    "try:\n",
    "    unordered_list[100]\n",
    "except IndexError as ie:\n",
    "    print('Don’t try buffer overflow attacks in Python!')"
   ]
  },
  {
   "cell_type": "markdown",
   "id": "893fe087-7b0c-4a92-99b8-fe71a8acb923",
   "metadata": {},
   "source": [
    "### C-1.24 Write a short Python function that counts the number of vowels in a given character string."
   ]
  },
  {
   "cell_type": "code",
   "execution_count": null,
   "id": "56c2428b-8d7e-4e63-a329-7c9374799753",
   "metadata": {},
   "outputs": [],
   "source": [
    "def count_vowels(string):\n",
    "    vowels = ['a','e','i','o','u']\n",
    "    count = 0\n",
    "    for char in string.lower():\n",
    "        if char in vowels:\n",
    "            count+=1\n",
    "    return count"
   ]
  },
  {
   "cell_type": "code",
   "execution_count": null,
   "id": "ee1ef3a5-c5f8-4630-a7b8-be46f3966dc2",
   "metadata": {},
   "outputs": [],
   "source": [
    "count_vowels(\"String\")"
   ]
  },
  {
   "cell_type": "code",
   "execution_count": null,
   "id": "25a43581-e829-4723-be89-7f130af276b7",
   "metadata": {},
   "outputs": [],
   "source": [
    "count_vowels(\"FANNY\")"
   ]
  },
  {
   "cell_type": "markdown",
   "id": "47652b72-a934-4231-8049-47666cb7a7e4",
   "metadata": {},
   "source": [
    "### C-1.25\n",
    "### Write a short Python function that takes a string s, representing a sentence, and returns a copy of the string with all punctuation removed. For example, if given the string \"Let's try, Mike.\", this function would return \"Lets try Mike\"."
   ]
  },
  {
   "cell_type": "code",
   "execution_count": null,
   "id": "f9aa9980-0129-47dd-ab05-6fa5cb088933",
   "metadata": {},
   "outputs": [],
   "source": [
    "import re\n",
    "def remove_punctuation(string):\n",
    "    return re.sub(r'[^\\w\\s]','',string)"
   ]
  },
  {
   "cell_type": "code",
   "execution_count": null,
   "id": "f1fcd806-fd9a-4122-819f-57216ed7841e",
   "metadata": {},
   "outputs": [],
   "source": [
    "remove_punctuation(\"Let's try, Mike.\")"
   ]
  },
  {
   "cell_type": "markdown",
   "id": "866a67e5-d664-4fda-967e-0626eb3f7638",
   "metadata": {},
   "source": [
    "### C-1.26\n",
    "### Write a short program that takes as input three integers, a, b, and c, from the console and determines if they can be used in a correct arithmetic formula (in the given order), like “a+b = c,” “a = b−c,” or “a ∗ b = c.”"
   ]
  },
  {
   "cell_type": "code",
   "execution_count": null,
   "id": "63616541-b714-409d-8af7-965c18a65a29",
   "metadata": {},
   "outputs": [],
   "source": [
    "def correct_arithmetic(a,b,c):\n",
    "    for t1,t2,t3 in [(a,b,c),(c,b,a)]:\n",
    "        if t1 + t2 == t3:\n",
    "            print(f'{t1} + {t2} = {t3}')\n",
    "        if t1 - t2 == t3:\n",
    "            print(f'{t1} - {t2} = {t3}')\n",
    "        if t1 * t2 == t3:\n",
    "            print(f'{t1} * {t2} = {t3}')\n",
    "        if t1 / t2 == t3:\n",
    "            print(f'{t1} / {t2} = {t3}')"
   ]
  },
  {
   "cell_type": "code",
   "execution_count": null,
   "id": "f34bbfb6-3f00-448a-8a00-21a7a0edcadd",
   "metadata": {},
   "outputs": [],
   "source": [
    "correct_arithmetic(1,2,3)"
   ]
  },
  {
   "cell_type": "code",
   "execution_count": null,
   "id": "5111d631-8e43-4e20-ac41-0a66ca60d2d7",
   "metadata": {},
   "outputs": [],
   "source": [
    "correct_arithmetic(2,2,4)"
   ]
  },
  {
   "cell_type": "markdown",
   "id": "ab14281a-54d5-413e-8094-671431067e17",
   "metadata": {},
   "source": [
    "### C-1.27 \n",
    "### In Section 1.8, we provided three different implementations of a generator that computes factors of a given integer. The third of those implementations, from page 41, was the most efficient, but we noted that it did not yield the factors in increasing order. Modify the generator so that it reports factors in increasing order, while maintaining its general performance advantages"
   ]
  },
  {
   "cell_type": "code",
   "execution_count": null,
   "id": "7c4cd89a-0ff5-4c64-bab2-e0a12982ff0f",
   "metadata": {},
   "outputs": [],
   "source": [
    "def factors(n): # generator that computes factors\n",
    "    k=1\n",
    "    while k*k < n: # while k < sqrt(n)\n",
    "        if n % k == 0:\n",
    "            yield k\n",
    "            yield n // k\n",
    "        k += 1\n",
    "    if k *k == n: # special case if n is perfect square\n",
    "        yield k"
   ]
  },
  {
   "cell_type": "code",
   "execution_count": null,
   "id": "30c186b3-dbc5-44cf-b098-51b61c548a93",
   "metadata": {},
   "outputs": [],
   "source": [
    "gen = factors(10)"
   ]
  },
  {
   "cell_type": "code",
   "execution_count": null,
   "id": "b30f20fd-b8f8-46b5-866d-e7d6fa90a522",
   "metadata": {},
   "outputs": [],
   "source": [
    "next(gen)"
   ]
  },
  {
   "cell_type": "code",
   "execution_count": null,
   "id": "b1e5770d-89c4-42df-8d02-fd788c372494",
   "metadata": {},
   "outputs": [],
   "source": [
    "next(gen)"
   ]
  },
  {
   "cell_type": "code",
   "execution_count": null,
   "id": "a551e59b-7338-4219-b5e4-8f9d4347505e",
   "metadata": {},
   "outputs": [],
   "source": [
    "# list of generator\n",
    "list(gen)"
   ]
  },
  {
   "cell_type": "code",
   "execution_count": null,
   "id": "bfaa7111-cd1e-4880-81d3-b05c0ac3a402",
   "metadata": {},
   "outputs": [],
   "source": [
    "next(gen)"
   ]
  },
  {
   "cell_type": "code",
   "execution_count": null,
   "id": "2306709e-ac9f-4c31-a553-b1e92f39e15f",
   "metadata": {},
   "outputs": [],
   "source": [
    "gen2 = factors(100)"
   ]
  },
  {
   "cell_type": "code",
   "execution_count": null,
   "id": "dd45a29f-41f4-4c57-b702-d414b42720d9",
   "metadata": {},
   "outputs": [],
   "source": [
    "list(gen2)"
   ]
  },
  {
   "cell_type": "code",
   "execution_count": null,
   "id": "d31178e7-35dc-4b56-82f2-092c35d0a543",
   "metadata": {},
   "outputs": [],
   "source": [
    "gen3 = factors(3)"
   ]
  },
  {
   "cell_type": "code",
   "execution_count": null,
   "id": "da313dc4-4ebe-4e3a-8369-2101e36e8ce0",
   "metadata": {},
   "outputs": [],
   "source": [
    "sorted(gen3)"
   ]
  },
  {
   "cell_type": "code",
   "execution_count": null,
   "id": "af634a28-7d3e-4afd-b395-b9d67d58e9e9",
   "metadata": {},
   "outputs": [],
   "source": [
    "next(gen3)"
   ]
  },
  {
   "cell_type": "code",
   "execution_count": null,
   "id": "333d5c54-b60c-4681-b296-46e83f1aa1eb",
   "metadata": {},
   "outputs": [],
   "source": [
    "def sorted_factors(n):\n",
    "    k=1\n",
    "    while k*k  < n:\n",
    "        if n % k == 0:\n",
    "            yield k\n",
    "        k+=1\n",
    "    if k*k == n:\n",
    "        yield k\n",
    "    \n",
    "    while k <= n//2:\n",
    "        k+=1\n",
    "        if n % k == 0:\n",
    "            yield k\n",
    "    yield n\n"
   ]
  },
  {
   "cell_type": "code",
   "execution_count": null,
   "id": "0bace045-7a9d-41c9-ba17-f60ad5f0fad3",
   "metadata": {},
   "outputs": [],
   "source": [
    "list(sorted_factors(100))"
   ]
  },
  {
   "cell_type": "code",
   "execution_count": null,
   "id": "14e35d11-398b-459c-8013-affb85027a7f",
   "metadata": {},
   "outputs": [],
   "source": [
    "def loop_iterable(start,end):\n",
    "    for i in range(start,end):\n",
    "        yield i"
   ]
  },
  {
   "cell_type": "code",
   "execution_count": null,
   "id": "72df3a2c-1409-44c9-aaaf-4c7e0844fa20",
   "metadata": {},
   "outputs": [],
   "source": [
    "gene4 = loop_iterable(0,10)"
   ]
  },
  {
   "cell_type": "code",
   "execution_count": null,
   "id": "35ce3585-0885-4635-b0cf-d6097f2059f5",
   "metadata": {},
   "outputs": [],
   "source": [
    "next(gene4)"
   ]
  },
  {
   "cell_type": "code",
   "execution_count": null,
   "id": "e709cb4f-0818-402c-a09d-6f1fa6f1102b",
   "metadata": {},
   "outputs": [],
   "source": [
    "list(gene4)"
   ]
  },
  {
   "cell_type": "code",
   "execution_count": null,
   "id": "61c0ea1e-dd26-4ee5-b172-041229a3c8c2",
   "metadata": {},
   "outputs": [],
   "source": [
    "def loop_2x_iterable(start,end):\n",
    "    for i in range(start,end):\n",
    "        yield i\n",
    "        yield i*2"
   ]
  },
  {
   "cell_type": "code",
   "execution_count": null,
   "id": "0de7f8ab-75ad-4585-a2e8-1f158c5dace2",
   "metadata": {},
   "outputs": [],
   "source": [
    "gene5 = loop_2x_iterable(0,10)"
   ]
  },
  {
   "cell_type": "code",
   "execution_count": null,
   "id": "fa4aea23-9af4-495d-a085-ba2b6bad44e2",
   "metadata": {},
   "outputs": [],
   "source": [
    "next(gene5)"
   ]
  },
  {
   "cell_type": "code",
   "execution_count": null,
   "id": "cb8a0568-136a-45fa-9c09-a83042fa43fc",
   "metadata": {},
   "outputs": [],
   "source": [
    "next(gene5)"
   ]
  },
  {
   "cell_type": "code",
   "execution_count": null,
   "id": "e43fa2b8-85e8-4792-951c-7d47aa178217",
   "metadata": {},
   "outputs": [],
   "source": [
    "next(gene5)"
   ]
  },
  {
   "cell_type": "code",
   "execution_count": null,
   "id": "a49f8dfe-36ef-4a8a-b287-d8e3c8898a84",
   "metadata": {},
   "outputs": [],
   "source": [
    "next(gene5)"
   ]
  },
  {
   "cell_type": "code",
   "execution_count": null,
   "id": "2dfcf990-913f-4622-adbc-e8b442aeefc1",
   "metadata": {},
   "outputs": [],
   "source": [
    "list(gene5)"
   ]
  },
  {
   "cell_type": "markdown",
   "id": "ec9e41d2-ceb1-49c8-a58c-959733b8d033",
   "metadata": {},
   "source": [
    "### C-1.28 \n",
    "### The p-norm of a vector v = (v1,v2,...,vn) in n-dimensional space is defined as For the special case of p = 2, this results in the traditional Euclidean norm, which represents the length of the vector. For example, the Euclidean norm of a two-dimensional vector with coordinates (4,3) has a Euclidean norm of √ 42 +32 = √16+9 = √ 25 = 5. Give an implementation of a function named norm such that norm(v, p) returns the p-norm value of v and norm(v) returns the Euclidean norm of v. You may assume that v is a list of numbers."
   ]
  },
  {
   "cell_type": "code",
   "execution_count": null,
   "id": "769a78b8-4aa2-4881-9513-e7217518ad21",
   "metadata": {},
   "outputs": [],
   "source": [
    "def norm(v:list, p:int):\n",
    "    return pow(sum([pow(i,p) for i in v]),(1/p))"
   ]
  },
  {
   "cell_type": "code",
   "execution_count": null,
   "id": "f31ea04a-e38b-4302-9085-8c504a1874c1",
   "metadata": {},
   "outputs": [],
   "source": [
    "norm([3,4],2)"
   ]
  },
  {
   "cell_type": "markdown",
   "id": "58a2d035-35b0-4127-8a97-93fc9e2ac01f",
   "metadata": {},
   "source": [
    "### P-1.29 \n",
    "### Write a Python program that outputs all possible strings formed by using the characters c , a , t , d , o , and g exactly once."
   ]
  },
  {
   "cell_type": "code",
   "execution_count": null,
   "id": "2f8da67e-0c98-4039-a44c-f25f7658c0e3",
   "metadata": {},
   "outputs": [],
   "source": [
    "import itertools\n",
    "\n",
    "def get_words(characters):\n",
    "    permutation_set = []\n",
    "    for i in range(2,4): \n",
    "        permutation_set += list(itertools.permutations(characters,i))\n",
    "    return permutation_set"
   ]
  },
  {
   "cell_type": "code",
   "execution_count": null,
   "id": "bfc95271-873e-4f0c-8747-77508562b1bf",
   "metadata": {},
   "outputs": [],
   "source": [
    "characters = ['c','a','t','d','o','g']\n",
    "get_words(characters)"
   ]
  },
  {
   "cell_type": "markdown",
   "id": "d372279e-9a09-494d-a663-53fec06f252b",
   "metadata": {},
   "source": [
    "### P-1.30 \n",
    "### Write a Python program that can take a positive integer greater than 2 as input and write out the number of times one must repeatedly divide this number by 2 before getting a value less than 2."
   ]
  },
  {
   "cell_type": "code",
   "execution_count": null,
   "id": "a1a4a42a-60d9-4eb9-ac47-78a05201671b",
   "metadata": {},
   "outputs": [],
   "source": [
    "def count_division_by_2(n,count=0):\n",
    "    if n<2:\n",
    "        return count\n",
    "    return count_division_by_2(n/2,count+1)"
   ]
  },
  {
   "cell_type": "code",
   "execution_count": null,
   "id": "b4d06db1-b55f-4cd0-95d7-7146f6c7adad",
   "metadata": {},
   "outputs": [],
   "source": [
    "count_division_by_2(4)"
   ]
  },
  {
   "cell_type": "code",
   "execution_count": null,
   "id": "bbed2941-e1a4-4829-a06d-a813265114c8",
   "metadata": {},
   "outputs": [],
   "source": [
    "count_division_by_2(100)"
   ]
  },
  {
   "cell_type": "markdown",
   "id": "889059ff-4f27-4483-bd66-f67adc4cdf81",
   "metadata": {},
   "source": [
    "### P-1.31\n",
    "### Write a Python program that can “make change.” Your program should take two numbers as input, one that is a monetary amount charged and the other that is a monetary amount given. It should then return the number of each kind of bill and coin to give back as change for the difference between the amount given and the amount charged. The values assigned to the bills and coins can be based on the monetary system of any current or former government. Try to design your program so that it returns as few bills and coins as possible"
   ]
  },
  {
   "cell_type": "code",
   "execution_count": null,
   "id": "9520a5fe-1156-42e1-b0f9-71d7945e784e",
   "metadata": {},
   "outputs": [],
   "source": [
    "def make_change(charged,given):\n",
    "    monetary = {\n",
    "        'hundred':100,\n",
    "        'fifty':50,\n",
    "        'twenty':20,\n",
    "        'ten': 10,\n",
    "        'five':5,\n",
    "        'dollar':1,\n",
    "        'quarter':0.25,\n",
    "        'dime':0.10,\n",
    "        'nickle':0.05,\n",
    "        'penny': 0.01\n",
    "    }\n",
    "    balance = given-charged\n",
    "    change = dict()\n",
    "    for k,v in monetary.items():\n",
    "        while balance >= v:\n",
    "            balance-=v\n",
    "            if change.get(k):\n",
    "                change[k] +=1\n",
    "            else:\n",
    "                change[k]=1\n",
    "    return change"
   ]
  },
  {
   "cell_type": "code",
   "execution_count": null,
   "id": "77acd34e-37ff-4efb-b0a5-7f4166b6463a",
   "metadata": {},
   "outputs": [],
   "source": [
    "make_change(27.72,30)"
   ]
  },
  {
   "cell_type": "markdown",
   "id": "34c4fb69-775b-4ab2-9873-78a90f0fe0fe",
   "metadata": {},
   "source": [
    "### P-1.32 and P-1.33\n",
    "### Write a Python program that can simulate a simple calculator, using the console as the exclusive input and output device. That is, each input to the calculator, be it a number, like 12.34 or 1034, or an operator, like + or =, can be done on a separate line. After each such input, you should output to the Python console what would be displayed on your calculator"
   ]
  },
  {
   "cell_type": "code",
   "execution_count": null,
   "id": "7cac80a6-1553-41f7-b126-ade4d13ce698",
   "metadata": {},
   "outputs": [],
   "source": [
    "def add(a,b):\n",
    "    return a+b\n",
    "\n",
    "def sub(a,b):\n",
    "    return a-b\n",
    "\n",
    "def multiply(a,b):\n",
    "    return a*b\n",
    "\n",
    "def division(a,b):\n",
    "    try:\n",
    "        return a/b\n",
    "    except ZeroDivsionError as zde:\n",
    "        print('Can not divided by zero')\n",
    "        \n",
    "def calculate():\n",
    "    input_feed = None\n",
    "    operations = []\n",
    "    arithmetic = {\n",
    "        '+': add,\n",
    "        '-': sub,\n",
    "        '*': multiply,\n",
    "        '/': division\n",
    "    }\n",
    "    while input_feed != '=':\n",
    "        input_feed = input(\"Enter a number or arthmetic operation(+,-./,*), else type = to end?\")\n",
    "        if input_feed != '=':\n",
    "            try: \n",
    "                operations.append(float(input_feed))\n",
    "            except ValueError as ve:\n",
    "                operations.append(input_feed)\n",
    "    total = operations[0]\n",
    "    get_method = None\n",
    "    \n",
    "    for i in range(1,len(operations)):\n",
    "        if operations[i] in arithmetic:\n",
    "            get_method = arithmetic[operations[i]]\n",
    "            continue\n",
    "        else:\n",
    "            total = get_method(total,operations[i])\n",
    "    return total"
   ]
  },
  {
   "cell_type": "code",
   "execution_count": null,
   "id": "9eee9e15-9b71-4688-927c-88df896e5ae5",
   "metadata": {},
   "outputs": [],
   "source": [
    "calculate()"
   ]
  },
  {
   "cell_type": "markdown",
   "id": "58b1fdf4-128b-439c-902b-2e35af1d8cf0",
   "metadata": {},
   "source": [
    "### P-1.34\n",
    "### A common punishment for school children is to write out a sentence multiple times. Write a Python stand-alone program that will write out the following sentence one hundred times: “I will never spam my friends again.” Your program should number each of the sentences and it shouldmake eight different random-looking typos."
   ]
  },
  {
   "cell_type": "code",
   "execution_count": 150,
   "id": "38307bb2-e873-4210-bdd9-0eaf19a725d7",
   "metadata": {},
   "outputs": [],
   "source": [
    "def punishment(string,counter,errors=8):\n",
    "    if counter != 0:\n",
    "        if random.randint(1,101) < 50 and errors != 0:\n",
    "            print(string.upper())\n",
    "            errors -=1\n",
    "        else:\n",
    "            print(string)\n",
    "        punishment(string,counter-1,errors)"
   ]
  },
  {
   "cell_type": "code",
   "execution_count": 151,
   "id": "736548c9-995c-4655-8add-6b3c93a9f84a",
   "metadata": {},
   "outputs": [
    {
     "name": "stdout",
     "output_type": "stream",
     "text": [
      "I will not spam my friend again\n",
      "I will not spam my friend again\n",
      "I WILL NOT SPAM MY FRIEND AGAIN\n",
      "I will not spam my friend again\n",
      "I will not spam my friend again\n",
      "I will not spam my friend again\n",
      "I will not spam my friend again\n",
      "I will not spam my friend again\n",
      "I will not spam my friend again\n",
      "I WILL NOT SPAM MY FRIEND AGAIN\n",
      "I will not spam my friend again\n",
      "I WILL NOT SPAM MY FRIEND AGAIN\n",
      "I will not spam my friend again\n",
      "I WILL NOT SPAM MY FRIEND AGAIN\n",
      "I WILL NOT SPAM MY FRIEND AGAIN\n",
      "I WILL NOT SPAM MY FRIEND AGAIN\n",
      "I will not spam my friend again\n",
      "I WILL NOT SPAM MY FRIEND AGAIN\n",
      "I will not spam my friend again\n",
      "I will not spam my friend again\n",
      "I will not spam my friend again\n",
      "I will not spam my friend again\n",
      "I WILL NOT SPAM MY FRIEND AGAIN\n",
      "I will not spam my friend again\n",
      "I will not spam my friend again\n",
      "I will not spam my friend again\n",
      "I will not spam my friend again\n",
      "I will not spam my friend again\n",
      "I will not spam my friend again\n",
      "I will not spam my friend again\n",
      "I will not spam my friend again\n",
      "I will not spam my friend again\n",
      "I will not spam my friend again\n",
      "I will not spam my friend again\n",
      "I will not spam my friend again\n",
      "I will not spam my friend again\n",
      "I will not spam my friend again\n",
      "I will not spam my friend again\n",
      "I will not spam my friend again\n",
      "I will not spam my friend again\n",
      "I will not spam my friend again\n",
      "I will not spam my friend again\n",
      "I will not spam my friend again\n",
      "I will not spam my friend again\n",
      "I will not spam my friend again\n",
      "I will not spam my friend again\n",
      "I will not spam my friend again\n",
      "I will not spam my friend again\n",
      "I will not spam my friend again\n",
      "I will not spam my friend again\n",
      "I will not spam my friend again\n",
      "I will not spam my friend again\n",
      "I will not spam my friend again\n",
      "I will not spam my friend again\n",
      "I will not spam my friend again\n",
      "I will not spam my friend again\n",
      "I will not spam my friend again\n",
      "I will not spam my friend again\n",
      "I will not spam my friend again\n",
      "I will not spam my friend again\n",
      "I will not spam my friend again\n",
      "I will not spam my friend again\n",
      "I will not spam my friend again\n",
      "I will not spam my friend again\n",
      "I will not spam my friend again\n",
      "I will not spam my friend again\n",
      "I will not spam my friend again\n",
      "I will not spam my friend again\n",
      "I will not spam my friend again\n",
      "I will not spam my friend again\n",
      "I will not spam my friend again\n",
      "I will not spam my friend again\n",
      "I will not spam my friend again\n",
      "I will not spam my friend again\n",
      "I will not spam my friend again\n",
      "I will not spam my friend again\n",
      "I will not spam my friend again\n",
      "I will not spam my friend again\n",
      "I will not spam my friend again\n",
      "I will not spam my friend again\n",
      "I will not spam my friend again\n",
      "I will not spam my friend again\n",
      "I will not spam my friend again\n",
      "I will not spam my friend again\n",
      "I will not spam my friend again\n",
      "I will not spam my friend again\n",
      "I will not spam my friend again\n",
      "I will not spam my friend again\n",
      "I will not spam my friend again\n",
      "I will not spam my friend again\n",
      "I will not spam my friend again\n",
      "I will not spam my friend again\n",
      "I will not spam my friend again\n",
      "I will not spam my friend again\n",
      "I will not spam my friend again\n",
      "I will not spam my friend again\n",
      "I will not spam my friend again\n",
      "I will not spam my friend again\n",
      "I will not spam my friend again\n",
      "I will not spam my friend again\n"
     ]
    }
   ],
   "source": [
    "punishment(\"I will not spam my friend again\", 100)"
   ]
  },
  {
   "cell_type": "markdown",
   "id": "99534d57-754a-4461-871d-cc67eb9c4b86",
   "metadata": {},
   "source": [
    "# Ch2 Object-Oriented Programming"
   ]
  },
  {
   "cell_type": "markdown",
   "id": "33e6abda-7ae7-46c0-a68a-86fced2fab7b",
   "metadata": {},
   "source": [
    "\n",
    "## Ch2 Object-Oriented Programming:\n",
    "\n",
    "    Objects are instance of a class\n",
    "    Classes are blue print that are composed of \n",
    "        1. data member or attributes\n",
    "        2. methods are functions\n",
    "\n",
    "### Software goals are:\n",
    "        1. Robustness - being able to handle various inputs that are not explicit and return expected behavior. Avoid errors as much as possible\n",
    "        2. Adaptability(evolvability) - the ability pf spftware tp run with minmal change on different hardware and operating systems\n",
    "        3. Reusability - software code should be usable as component for different systems in various applications\n",
    "\n",
    "    \n",
    "###  Principles in OOP:\n",
    "        1. Modularity - organizing principle in which different components of software are divided into separate function unit\n",
    "            module - is a collection of closely related functions and classes that are defined together in a single file\n",
    "            Being modules allows to easily debug and trace where issues are \n",
    "        2. Abstraction - \n",
    "            - distill a system to its fundamental parts\n",
    "            - python support abstract data type using Abstract Base Class or (ABC) \n",
    "            - ABC can not have concrete class or implementation of that class\n",
    "        3. Encapsulation\n",
    "            - components of software should not reveal the internal details of their respective implementations.Main purpose of encapsulation is to\n",
    "              have loose coupling\n",
    "\n",
    "###  Design Patterns:\n",
    "        - Design patterns to address common problems\n",
    "        - Purpose is to \n",
    "            1. Solving algorithm design problems \n",
    "            2. Solving software engineering problem\n",
    "\n",
    "        Algo Design Patterns:\n",
    "            1. Recursion\n",
    "            2. Amortization\n",
    "            3. Prunch and search\n",
    "            4. Brute Force\n",
    "            5. Dynamic Programming\n",
    "            6. Greedy method\n",
    "\n",
    "        Software engineering Design Pattern:\n",
    "            1. Itearator \n",
    "            2. Adapter\n",
    "            3. Position\n",
    "            4. Compostion\n",
    "            5. Template method\n",
    "            6. Locator\n",
    "            7. Factor Method \n",
    "\n",
    "        Software Development Phases:\n",
    "            1. Design\n",
    "                - very important phase\n",
    "                - dividing the programming into modules/classes\n",
    "                - interactions of each classes\n",
    "                - data each will store\n",
    "                - actions each class will perform\n",
    "                \n",
    "                Rules for Design:\n",
    "                    1. Responsiblities - describe the actors responsibilities. Use action verbs \n",
    "                    2. Independence - define the work for each class to be as independent from other classes as possible. \n",
    "                       Give data to the class that has juridiction over the action that requires access to this data\n",
    "                    3. Behavior - define the behaiors for each class carefully and precisely, so consequences of each action performed by a class will\n",
    "                       be understood\n",
    "\n",
    "                UML\n",
    "                    - uml diagrams are standard visual notation to express object-oriented software designs\n",
    "                        - class diagram - \n",
    "                            defines the fields \n",
    "                                1. name of the class\n",
    "                                2. variables\n",
    "                                3. methods\n",
    "                PEP8 \n",
    "                    - standard coding for python\n",
    "                    - url: https://peps.python.org/pep-0008/\n",
    "                    - 4 space or indentation\n",
    "                    - using meaniful name for indentifier \n",
    "                    -  Class\n",
    "                        - should be a noun\n",
    "                        - Capitalized first letter or Camel Case if multiple word\n",
    "                    - Function\n",
    "                        - should be lower case\n",
    "                        - multiple words underscore and still lowercase eg. do_something\n",
    "                        - typically a verb\n",
    "                    - instances\n",
    "                        - lowercase \n",
    "                        - name that described the object\n",
    "                    - comments\n",
    "                        - \"\"\" block comments\"\"\"\n",
    "                        - # this is a comment \n",
    "                        - use comments sparingly, functions should describe the intended action of what is expected\n",
    "                        - if comments are needed try add docstring\n",
    "                            url: https://peps.python.org/pep-0257/\n",
    "                \n",
    "            2. Implementation\n",
    "            3. Testing and debugging\n",
    "                    Testing:\n",
    "                        - Is the process of experimentally checking the correctness of a program\n",
    "                        - A careful test plan is estential part of writing a program\n",
    "                        - Programs tend to fail on special cases of input\n",
    "                        - consider min,max, dependency,impact,worst and best case sceanrios\n",
    "                        - testing strategies:\n",
    "                            1. Top down\n",
    "                                - processed from the top to the bottom of the application/program\n",
    "                                - typically used with stubbing - replacing low level components with stub\n",
    "                                - stub is a replacement of a component the simulate the functionally of the original\n",
    "                            2. Bottom up\n",
    "                                - testing from lower level components to high level compenents\n",
    "                                - utilized unit testing\n",
    "                                    - isolate errors and determine root cause\n",
    "                                - utilizing the unittest module\n",
    "                                - regression testing is used, whereby all previous tests are re-executed to ensure that changes to the software do \n",
    "                                  not introduct new bugs in previously tested compnent \n",
    "                    Debugging:\n",
    "                        - Is the process of tracking the execution of a program and diverying the error in it\n",
    "                        - Simplest form of debugging is print statement. This is a bad approach. Instead of littering the program with \n",
    "                          print. Only use debug level. \n",
    "                        - Using a debugger as well to identify the break point and inspect the variable\n",
    "                    Testing and debugging is the most time consuming task in development\n",
    "        \n",
    "###     Class Definition:\n",
    "                - Composes of attributes(data) and methods(functions/behavior)\n",
    "                - classes act a blueprint for instances\n",
    "                - self keyword:\n",
    "                    - refer to the instance it self\n",
    "                - constructor:\n",
    "                    - creation of an object using the __init__(self,) function\n",
    "                - data members:\n",
    "                    _variable_name or _function is used to describe a non public attribute or method\n",
    "                    __varible_name or __function_name is used to describe a private attibute or method \n",
    "                    - generale rule to treat all data members as non public \n",
    "                - polymorphism \n",
    "                    - taking on many forms with functions using overloaded\n",
    "\n",
    "                        Overloaded operations:\n",
    "                            Common Syntax Special Method Form\n",
    "                            \n",
    "                            a+b a.add(b);alternatively b.radd(a)\n",
    "                            a−b a.sub(b); alternatively b.rsub(a)\n",
    "                            a*b a.mul(b); alternativelyb.rmul(a)\n",
    "                            a/b a.truediv(b);alternatively b.rtruediv(a)\n",
    "                            a//b a.floordiv(b);alternatively b.rfloordiv(a)\n",
    "                            a%b a.mod(b);alternatively b.rmod(a)\n",
    "                            a**b a.pow(b);alternatively b.rpow(a)\n",
    "                            a<<b a.lshift(b); alternativelyb.rlshift(a)\n",
    "                            a>>b a.rshift(b); alternativelyb.rrshift(a)\n",
    "                            a&b a.and(b);alternatively b.rand(a)\n",
    "                            aˆb a.xor(b);alternatively b.rxor(a)\n",
    "                            a|b a.or(b);alternatively b.ror(a)\n",
    "                            a+=b a.iadd(b)\n",
    "                            a−=b a.isub(b)\n",
    "                            a=b a.imul(b)\n",
    "                            +a a. pos ( )\n",
    "                            −a a. neg ( )\n",
    "                            ˜a a. invert ( )\n",
    "                            abs(a) a.abs()\n",
    "                            a<b a.lt(b)\n",
    "                            a<=b a.le(b)\n",
    "                            a>b a.gt(b)\n",
    "                            a>=b a.ge(b)\n",
    "                            a==b a.eq(b)\n",
    "                            a!=b a.ne(b)\n",
    "                            vina a.contains(v)\n",
    "                            a[k] a.getitem(k)\n",
    "                            a[k]=v a.setitem(k,v)\n",
    "                            del a[k] a.delitem(k)\n",
    "                            a(arg1,arg2,...) a.call(arg1,arg2,...)\n",
    "                            len(a) a.len()\n",
    "                            hash(a) a.hash()\n",
    "                            iter(a) a.iter()\n",
    "                            next(a) a.next()\n",
    "                            bool(a) a.bool()\n",
    "                            float(a) a.float()\n",
    "                            int(a) a.int()\n",
    "                            repr(a) a.repr()\n",
    "                            reversed(a) a.reversed()\n",
    "                            str(a) a.str()\n",
    "                        \n",
    "            \n",
    "            \n",
    "        "
   ]
  },
  {
   "cell_type": "code",
   "execution_count": 189,
   "id": "40748b9a-d607-41e0-83df-c849c5f52198",
   "metadata": {},
   "outputs": [],
   "source": [
    "# Define a class call credit card\n",
    "class CreditCard:\n",
    "    _currency_symbol = {\n",
    "        'DOLLAR': '$',\n",
    "        'EURO': '€'\n",
    "    }\n",
    "    \n",
    "    def __init__(self,customer,bank,acnt,limit,_currency='DOLLAR'):\n",
    "        self._customer = customer\n",
    "        self._bank = bank\n",
    "        self._account = acnt\n",
    "        self._limit = float(limit)\n",
    "        self._balance = 0.00\n",
    "        self._currency = self._currency_symbol[_currency]\n",
    "\n",
    "    def get_customer(self):\n",
    "        return self._customer\n",
    "\n",
    "    def get_bank(self,):\n",
    "        return self._bank\n",
    "\n",
    "    def get_account(self,):\n",
    "        return self._account\n",
    "\n",
    "    def get_limit(self,):\n",
    "        return self._limit\n",
    "\n",
    "    def get_balance(self,is_currency=False):\n",
    "        if is_currency:\n",
    "            return f'{self.get_currency()} {self._balance}'\n",
    "        return self._balance\n",
    "        \n",
    "\n",
    "    def get_currency(self):\n",
    "        return self._currency\n",
    "\n",
    "    def set_currency(self,currency):\n",
    "        if self._currency_symbol.get(currency):\n",
    "            self.currency = self._currency_symbol.get(currency)\n",
    "    \n",
    "    def charge(self,price):\n",
    "        if price + self._balance > self._limit:\n",
    "            return False\n",
    "        else:\n",
    "            self._balance+=price\n",
    "            return True\n",
    "\n",
    "    def make_payment(self,amount):\n",
    "        self._balance-=amount\n",
    "    "
   ]
  },
  {
   "cell_type": "code",
   "execution_count": 217,
   "id": "72d5f761-c7b9-465a-983d-584c7b8c4495",
   "metadata": {},
   "outputs": [],
   "source": [
    "cc = CreditCard('Fanny Reguieg', 'Societe Generale', '5112-1224-7845-1','100000','EURO')"
   ]
  },
  {
   "cell_type": "code",
   "execution_count": 218,
   "id": "481fb35c-3af2-4a78-9259-908ee6f23c7d",
   "metadata": {},
   "outputs": [
    {
     "data": {
      "text/plain": [
       "0.0"
      ]
     },
     "execution_count": 218,
     "metadata": {},
     "output_type": "execute_result"
    }
   ],
   "source": [
    "cc.get_balance()"
   ]
  },
  {
   "cell_type": "code",
   "execution_count": 219,
   "id": "458365bc-28c3-4198-88b7-1505afc061a9",
   "metadata": {},
   "outputs": [
    {
     "data": {
      "text/plain": [
       "'€ 0.0'"
      ]
     },
     "execution_count": 219,
     "metadata": {},
     "output_type": "execute_result"
    }
   ],
   "source": [
    "cc.get_balance(True)"
   ]
  },
  {
   "cell_type": "code",
   "execution_count": 220,
   "id": "61caa1b1-bafc-4c4f-81a6-fc01ad51d239",
   "metadata": {},
   "outputs": [
    {
     "data": {
      "text/plain": [
       "100000.0"
      ]
     },
     "execution_count": 220,
     "metadata": {},
     "output_type": "execute_result"
    }
   ],
   "source": [
    "cc.get_limit()"
   ]
  },
  {
   "cell_type": "code",
   "execution_count": 221,
   "id": "6f9ef6c7-c91c-4f9e-9987-bb3b6b56badd",
   "metadata": {},
   "outputs": [
    {
     "name": "stdout",
     "output_type": "stream",
     "text": [
      "Customer is Fanny Reguieg\n",
      "Bank is Societe Generale\n",
      "Account is 5112-1224-7845-1\n",
      "Credit Card Limit is 100000.0\n",
      "Credit Card Balance is € 1496.0\n",
      "Credit Card new balance is € 1396.0\n",
      "Credit Card new balance is € 1296.0\n",
      "Credit Card new balance is € 1196.0\n",
      "Credit Card new balance is € 1096.0\n",
      "Credit Card new balance is € 996.0\n",
      "Credit Card new balance is € 896.0\n",
      "Credit Card new balance is € 796.0\n",
      "Credit Card new balance is € 696.0\n",
      "Credit Card new balance is € 596.0\n",
      "Credit Card new balance is € 496.0\n",
      "Credit Card new balance is € 396.0\n",
      "Credit Card new balance is € 296.0\n",
      "Credit Card new balance is € 196.0\n",
      "Credit Card new balance is € 96.0\n",
      "\n",
      "Customer is Fanny Reguieg\n",
      "Bank is BNP Paribas\n",
      "Account is 1425-8597-4457-2\n",
      "Credit Card Limit is 10000.0\n",
      "Credit Card Balance is € 816.0\n",
      "Credit Card new balance is € 716.0\n",
      "Credit Card new balance is € 616.0\n",
      "Credit Card new balance is € 516.0\n",
      "Credit Card new balance is € 416.0\n",
      "Credit Card new balance is € 316.0\n",
      "Credit Card new balance is € 216.0\n",
      "Credit Card new balance is € 116.0\n",
      "Credit Card new balance is € 16.0\n",
      "\n",
      "Customer is Fanny Reguieg\n",
      "Bank is Credit Agricole CIB\n",
      "Account is 7477-5779-9998-3\n",
      "Credit Card Limit is 1000000.0\n",
      "Credit Card Balance is € 1496.0\n",
      "Credit Card new balance is € 1396.0\n",
      "Credit Card new balance is € 1296.0\n",
      "Credit Card new balance is € 1196.0\n",
      "Credit Card new balance is € 1096.0\n",
      "Credit Card new balance is € 996.0\n",
      "Credit Card new balance is € 896.0\n",
      "Credit Card new balance is € 796.0\n",
      "Credit Card new balance is € 696.0\n",
      "Credit Card new balance is € 596.0\n",
      "Credit Card new balance is € 496.0\n",
      "Credit Card new balance is € 396.0\n",
      "Credit Card new balance is € 296.0\n",
      "Credit Card new balance is € 196.0\n",
      "Credit Card new balance is € 96.0\n",
      "\n"
     ]
    }
   ],
   "source": [
    "wallet = []\n",
    "wallet.append(cc)\n",
    "wallet.append(CreditCard('Fanny Reguieg', 'BNP Paribas', '1425-8597-4457-2','10000','EURO'))\n",
    "wallet.append(CreditCard('Fanny Reguieg', 'Credit Agricole CIB', '7477-5779-9998-3','1000000','EURO'))\n",
    "\n",
    "for val in range(1,17):\n",
    "    for cc in wallet:\n",
    "        cc.charge(val)\n",
    "        if cc.get_bank() == 'BNP Paribas':\n",
    "            cc.charge(val*5)\n",
    "        else:\n",
    "            cc.charge(val*10)\n",
    "for cc in wallet:\n",
    "    print(f'Customer is {cc.get_customer()}')\n",
    "    print(f'Bank is {cc.get_bank()}')\n",
    "    print(f'Account is {cc.get_account()}')\n",
    "    print(f'Credit Card Limit is {cc.get_limit()}')\n",
    "    print(f'Credit Card Balance is {cc.get_balance(True)}')\n",
    "    while cc.get_balance() > 100:\n",
    "        cc.make_payment(100)\n",
    "        print(f'Credit Card new balance is {cc.get_balance(True)}')\n",
    "    print()\n",
    "        "
   ]
  },
  {
   "cell_type": "code",
   "execution_count": 230,
   "id": "abc3a9e3-0915-4453-a42a-bb7241a459e7",
   "metadata": {},
   "outputs": [],
   "source": [
    "### Over loaded operations with a list as the object\n",
    "class Vector:\n",
    "    \"\"\"Represent a multidimension space\"\"\"\n",
    "    def __init__(self,dimension:int):\n",
    "        self._coords = [0] * dimension\n",
    "\n",
    "    def __len__(self):\n",
    "        \"\"\"Return the demsion of the ventor\"\"\"\n",
    "        return len(self._coords)\n",
    "\n",
    "    def __getitem__(self,j):\n",
    "        \"\"\"Return jth coordinate of vector\"\"\"\n",
    "        return self._coords[j]\n",
    "\n",
    "    def __setitem__(self,j,val):\n",
    "        \"\"\"Set jth coordinate of vector to given value\"\"\"\n",
    "        self._coords[j] = val\n",
    "\n",
    "    def __add__(self,other):\n",
    "        \"\"\"return sum of two vectors\n",
    "            vector must be same length in order to get the sum\n",
    "        \"\"\"\n",
    "        if len(self) != len(other):\n",
    "            raise ValueError('dimensions must agree')\n",
    "        result = Vector(len(self))\n",
    "        for j in range(len(self)):\n",
    "            result[j] = self[j] + other[j]\n",
    "        return result\n",
    "\n",
    "    def __eq__(self,other):\n",
    "        \"\"\"Return True if vector has same coordinates as other\"\"\"\n",
    "        return self._coords == other._coords\n",
    "\n",
    "    def __ne__(self,other):\n",
    "        \"\"\"Return True if vector differ from other\"\"\"\n",
    "        return not self == other\n",
    "\n",
    "    def __str__(self,):\n",
    "        \"\"\"Produce string representation of vector\"\"\"\n",
    "        return f'< {str(self._coords)[1:-1]} >'\n",
    "        \n",
    "        \n"
   ]
  },
  {
   "cell_type": "code",
   "execution_count": 231,
   "id": "f56f943a-742a-41b1-b340-df63a083e77d",
   "metadata": {},
   "outputs": [],
   "source": [
    "v= Vector(5)"
   ]
  },
  {
   "cell_type": "code",
   "execution_count": 232,
   "id": "b176a7fe-ec90-496b-aaee-c15bc91c7243",
   "metadata": {},
   "outputs": [
    {
     "data": {
      "text/plain": [
       "5"
      ]
     },
     "execution_count": 232,
     "metadata": {},
     "output_type": "execute_result"
    }
   ],
   "source": [
    "len(v)"
   ]
  },
  {
   "cell_type": "code",
   "execution_count": 233,
   "id": "602f8d45-8e14-4102-9215-fd393dd4157a",
   "metadata": {},
   "outputs": [],
   "source": [
    "for i in range(0,4):\n",
    "    v[i] = i"
   ]
  },
  {
   "cell_type": "code",
   "execution_count": 234,
   "id": "0ddece0c-781b-4bfa-a735-4a58bc3b0a3d",
   "metadata": {},
   "outputs": [
    {
     "name": "stdout",
     "output_type": "stream",
     "text": [
      "0\n",
      "1\n",
      "2\n",
      "3\n"
     ]
    }
   ],
   "source": [
    "for i in range(0,4):\n",
    "    print(v[i])"
   ]
  },
  {
   "cell_type": "code",
   "execution_count": 235,
   "id": "b03ad913-e9be-48a2-8a0b-1ef8c83b7a9a",
   "metadata": {},
   "outputs": [
    {
     "data": {
      "text/plain": [
       "0"
      ]
     },
     "execution_count": 235,
     "metadata": {},
     "output_type": "execute_result"
    }
   ],
   "source": [
    "v[4]"
   ]
  },
  {
   "cell_type": "code",
   "execution_count": 236,
   "id": "d8740d48-3c7f-44b6-81f2-fc56c5704196",
   "metadata": {},
   "outputs": [
    {
     "data": {
      "text/plain": [
       "'< 0, 1, 2, 3, 0 >'"
      ]
     },
     "execution_count": 236,
     "metadata": {},
     "output_type": "execute_result"
    }
   ],
   "source": [
    "str(v)"
   ]
  },
  {
   "cell_type": "code",
   "execution_count": 237,
   "id": "9f3e8b28-73f7-4ded-8441-55a405d0bfff",
   "metadata": {},
   "outputs": [],
   "source": [
    "other = Vector(5)"
   ]
  },
  {
   "cell_type": "code",
   "execution_count": 238,
   "id": "6360c3c7-495a-4235-96af-5a2e37f04942",
   "metadata": {},
   "outputs": [
    {
     "data": {
      "text/plain": [
       "False"
      ]
     },
     "execution_count": 238,
     "metadata": {},
     "output_type": "execute_result"
    }
   ],
   "source": [
    "v == other"
   ]
  },
  {
   "cell_type": "code",
   "execution_count": 239,
   "id": "c0c600c7-1418-438e-acbb-a90069834b51",
   "metadata": {},
   "outputs": [
    {
     "data": {
      "text/plain": [
       "True"
      ]
     },
     "execution_count": 239,
     "metadata": {},
     "output_type": "execute_result"
    }
   ],
   "source": [
    "v != other"
   ]
  },
  {
   "cell_type": "code",
   "execution_count": 240,
   "id": "d68972c4-b438-48f6-886f-9035c8b3e1ba",
   "metadata": {},
   "outputs": [],
   "source": [
    "for i in range(len(other)):\n",
    "    other[i] = (i+5)**2"
   ]
  },
  {
   "cell_type": "code",
   "execution_count": 241,
   "id": "f6309945-485e-4046-ae2e-4366aa4f0b12",
   "metadata": {},
   "outputs": [
    {
     "data": {
      "text/plain": [
       "'< 25, 36, 49, 64, 81 >'"
      ]
     },
     "execution_count": 241,
     "metadata": {},
     "output_type": "execute_result"
    }
   ],
   "source": [
    "str(other)"
   ]
  },
  {
   "cell_type": "code",
   "execution_count": 242,
   "id": "0464245c-f101-4f08-9e8c-391783196d45",
   "metadata": {},
   "outputs": [],
   "source": [
    "combo_vector = other + v"
   ]
  },
  {
   "cell_type": "code",
   "execution_count": 243,
   "id": "9c604b67-43b0-4edd-bf35-75d5b751fd94",
   "metadata": {},
   "outputs": [
    {
     "data": {
      "text/plain": [
       "<__main__.Vector at 0x1626fccfc40>"
      ]
     },
     "execution_count": 243,
     "metadata": {},
     "output_type": "execute_result"
    }
   ],
   "source": [
    "combo_vector"
   ]
  },
  {
   "cell_type": "code",
   "execution_count": 244,
   "id": "1458db13-edf0-4c7c-8874-fdcf7fa9c9c1",
   "metadata": {},
   "outputs": [
    {
     "data": {
      "text/plain": [
       "'< 25, 37, 51, 67, 81 >'"
      ]
     },
     "execution_count": 244,
     "metadata": {},
     "output_type": "execute_result"
    }
   ],
   "source": [
    "str(combo_vector)"
   ]
  },
  {
   "cell_type": "code",
   "execution_count": null,
   "id": "f00e2e6d-44cf-4d01-aed0-db0bca7558e5",
   "metadata": {},
   "outputs": [],
   "source": []
  }
 ],
 "metadata": {
  "kernelspec": {
   "display_name": "Python 3 (ipykernel)",
   "language": "python",
   "name": "python3"
  },
  "language_info": {
   "codemirror_mode": {
    "name": "ipython",
    "version": 3
   },
   "file_extension": ".py",
   "mimetype": "text/x-python",
   "name": "python",
   "nbconvert_exporter": "python",
   "pygments_lexer": "ipython3",
   "version": "3.9.0"
  }
 },
 "nbformat": 4,
 "nbformat_minor": 5
}
