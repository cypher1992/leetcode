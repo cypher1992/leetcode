{
 "cells": [
  {
   "cell_type": "markdown",
   "id": "b99cf992-f1eb-4559-b5a3-ef4a4e179b88",
   "metadata": {},
   "source": [
    "# Chapter 1. Python Primer"
   ]
  },
  {
   "attachments": {},
   "cell_type": "markdown",
   "id": "75181bec-4c02-4db8-aa4b-a39d9e99432a",
   "metadata": {},
   "source": [
    "Python Resource:\n",
    "    https://medium.com/@-TutortAcademy/choosing-the-best-books-for-mastering-python-algorithms-c7d0b5a64057\n",
    "\n",
    "Python Book:\n",
    "    Data Structures and Algorithms in Python by Michael T. Goodrich and Roberto Tamassia\n",
    "    https://nibmehub.com/opac-service/pdf/read/Data%20Structures%20and%20Algorithms%20in%20Python.pdf\n",
    "\n",
    "Chapter 1:\n",
    "    Python is a interpeted and dynamic type language that does not require a compiler\n",
    "    \n",
    "    Class|Description|Immutable?\n",
    "    bool|Boolean value|Yes\n",
    "    int|integer (arbitrary magnitude)|Yes\n",
    "    float|floating-point number| Yes\n",
    "    list|mutable sequence of objects|No\n",
    "    tuple| immutable sequence of objects|Yes\n",
    "    str|character string|Yes\n",
    "    set |unordered set of distinct objects| No\n",
    "    frozenset|immutable form of set class| Yes\n",
    "    dict|associative mapping (aka dictionary)| No\n",
    "\n",
    "    Sequence Types\n",
    "        are list, tuple, and str.\n",
    "        list = []\n",
    "            - list are zero index are similar to an array\n",
    "        Tuple = ()\n",
    "            - tuples are immutable version of a sequence\n",
    "        str = \"\" or '' or \"\"\"\"\"\" or ''''''\n",
    "            - str is specifically designed to represent an immutable sequence of\n",
    "            characters\n",
    "    Set and Frozenset\n",
    "        set = {}\n",
    "            - set class represent the mathamatical notion of a set, namely\n",
    "            a collection of elements, without a duplicate\n",
    "            - No order\n",
    "        frozenset =\n",
    "            - is a immutable form of a set type, so it is legal to have set of frozenset\n",
    "            - frozenset()\n",
    "    Dict\n",
    "        dict represents a dictionary or mapping from a set of dictinct keys to associated values\n",
    "            - key value pair\n",
    "                dictionary = {'k':'V','k1':'V1'}\n",
    "            - access value\n",
    "                dictionary['K'] or dictionary.get('k')\n",
    "    Operators:\n",
    "        Python provides the following bitwise operators for integers:\n",
    "            ∼ bitwise complement (prefix unary operator)\n",
    "            & bitwise and\n",
    "            | bitwise or\n",
    "            ˆ bitwise exclusive-or\n",
    "            << shift bits left, filling in with zeros\n",
    "            >> shift bits right, filling in with sign bit\n",
    "\n",
    "        Each of Python’s built-in sequence types (str, tuple, and list) support the following\n",
    "            operator syntaxes:\n",
    "            s[j] element at index j\n",
    "            s[start:stop] slice including indices [start,stop)\n",
    "            s[start:stop:step] slice including indices start, start + step,\n",
    "            start + 2 step, . . . , up to but not equalling or stop\n",
    "            s+t concatenation of sequences\n",
    "            k s shorthand for s + s + s + ... (k times)\n",
    "            val in s containment check\n",
    "            val not in s non-containment check\n",
    "\n",
    "        Operators for Sets and Dictionaries\n",
    "            Sets and frozensets support the following operators:\n",
    "            key in s containment check\n",
    "            key not in s non-containment check\n",
    "            s1 == s2 s1 is equivalent to s2\n",
    "            s1 != s2 s1 is not equivalent to s2\n",
    "            s1 <= s2 s1 is subset of s2\n",
    "            s1 < s2 s1 is proper subset of s2\n",
    "            s1 >= s2 s1 is superset of s2\n",
    "            s1 > s2 s1 is proper superset of s2\n",
    "            s1 | s2 the union of s1 and s2\n",
    "            s1 & s2 the intersection of s1 and s2\n",
    "            s1 − s2 the set of elements in s1 but not s2\n",
    "            s1 ˆ s2 the set of elements in precisely one of s1 or s2\n",
    "\n",
    "\n",
    "        Control Flow\n",
    "            \n",
    "            if first condition:\n",
    "                first body\n",
    "            elif second condition:\n",
    "                second body\n",
    "            elif third condition:\n",
    "                third body\n",
    "            else:\n",
    "                fourth body\n",
    "\n",
    "\n",
    "        Loops:\n",
    "            while statement:\n",
    "                while condition:\n",
    "                    body\n",
    "            - condition statement needs to be false to exit\n",
    "\n",
    "        Calling Syntax Description\n",
    "            Calling_Syntax Description\n",
    "            abs(x) Return the absolute value of a number.\n",
    "            all(iterable) Return True if bool(e) is True for each element e.\n",
    "            any(iterable) Return True if bool(e) is True for at least one element e.\n",
    "            chr(integer) Return a one-character string with the given Unicode code point.\n",
    "            divmod(x, y) Return (x // y, x % y) as tuple, if x and y are integers.\n",
    "            hash(obj) Return an integer hash value for the object (see Chapter 10).\n",
    "            id(obj) Return the unique integer serving as an “identity” for the object.\n",
    "            input(prompt) Return a string from standard input; the prompt is optional.\n",
    "            isinstance(obj, cls) Determine if obj is an instance of the class (or a subclass).\n",
    "            iter(iterable) Return a new iterator object for the parameter (see Section 1.8).\n",
    "            len(iterable) Return the number of elements in the given iteration.\n",
    "            map(f, iter1, iter2, ...) Return an iterator yielding the result of function calls f(e1, e2, ...)\n",
    "            for respective elements e1 ∈ iter1,e2 ∈ iter2,...\n",
    "            max(iterable) Return the largest element of the given iteration.\n",
    "            max(a, b, c, ...) Return the largest of the arguments.\n",
    "            min(iterable) Return the smallest element of the given iteration.\n",
    "            min(a, b, c, ...) Return the smallest of the arguments.\n",
    "            next(iterator) Return the next element reported by the iterator (see Section 1.8).\n",
    "            open(filename, mode) Open a file with the given name and access mode.\n",
    "            ord(char) Return the Unicode code point of the given character.\n",
    "            pow(x, y) Return the value xy (as an integer if x and y are integers);\n",
    "            equivalent to x y.\n",
    "            pow(x, y, z) Return the value (xy mod z) as an integer.\n",
    "            print(obj1, obj2, ...) Print the arguments, with separating spaces and trailing newline.\n",
    "            range(stop) Construct an iteration of values 0, 1,..., stop−1.\n",
    "            range(start, stop) Construct an iteration of values start, start+1,..., stop−1.\n",
    "            range(start, stop, step) Construct an iteration of values start, start+step, start+2 step,...\n",
    "            reversed(sequence) Return an iteration of the sequence in reverse.\n",
    "            round(x) Return the nearest int value (a tie is broken toward the even value).\n",
    "            round(x, k) Return the value rounded to the nearest 10−k (return-type matches x).\n",
    "            sorted(iterable) Return a list containing elements of the iterable in sorted order.\n",
    "            sum(iterable) Return the sum of the elements in the iterable (must be numeric).\n",
    "            type(obj) Return the class to which the instance obj belongs.\n",
    "\n",
    "        Error Handling\n",
    "            \n",
    "            Class Description\n",
    "            Exception A base class for most error types\n",
    "            AttributeError Raised by syntax obj.foo, if obj has no member named foo\n",
    "            EOFError Raised if “end of file” reached for console or file input\n",
    "            IOError Raised upon failure of I/O operation (e.g., opening file)\n",
    "            IndexError Raised if index to sequence is out of bounds\n",
    "            KeyError Raised if nonexistent key requested for set or dictionary\n",
    "            KeyboardInterrupt Raised if user types ctrl-C while program is executing\n",
    "            NameError Raised if nonexistent identifier used\n",
    "            StopIteration Raised by next(iterator) if no element; see Section 1.8\n",
    "            TypeError Raised when wrong type of parameter is sent to a function\n",
    "            ValueError Raised when parameter has invalid value (e.g., sqrt(−5))\n",
    "            ZeroDivisionError Raised when any division operator used with 0 as divison\n",
    "\n",
    "\n",
    "        Modules\n",
    "            Module Name Description\n",
    "                array Provides compact array storage for primitive types.\n",
    "                collections Defines additional data structures and abstract base classes\n",
    "                involving collections of objects.\n",
    "                copy Defines general functions for making copies of objects.\n",
    "                heapq Provides heap-based priority queue functions (see Section 9.3.7).\n",
    "                math Defines common mathematical constants and functions.\n",
    "                os Provides support for interactions with the operating system.\n",
    "                random Provides random number generation.\n",
    "                re Provides support for processing regular expressions.\n",
    "                sys Provides additional level of interaction with the Python interpreter.\n",
    "                time Provides support for measuring time, or delaying a program.\n",
    "\n",
    "        Generators:\n",
    "            - Generators are most convient ways to create iterators\n",
    "            - A function that uses the yield instead of return keyword\n",
    "            - Yield statement is executed to indicate each element of the series\n",
    "                # list that produces everything\n",
    "                def factor(n):\n",
    "                    results = []\n",
    "                    for k in range(1,n+1):\n",
    "                        if n%k == 0:\n",
    "                            results.append(k)\n",
    "                    return results\n",
    "\n",
    "                # yield implementation\n",
    "                def factor(n):\n",
    "                    for k in range(1,n+1):\n",
    "                        if n%k == 0:\n",
    "                            yield k   "
   ]
  },
  {
   "cell_type": "markdown",
   "id": "68d41fb3-a562-4e1e-802d-5bd9ba9a3043",
   "metadata": {},
   "source": [
    "### Write a short Python function, is multiple(n, m), that takes two integer\n",
    "### values and returns True if n is a multiple of m, that is, n = mi for some\n",
    "### integer i, and False otherwise.\n"
   ]
  },
  {
   "cell_type": "code",
   "execution_count": 123,
   "id": "b1b5f202-3425-4266-9935-40e3d12304fc",
   "metadata": {},
   "outputs": [],
   "source": [
    "def is_multiple(n,m):\n",
    "    if n%m == 0:\n",
    "        return True\n",
    "    return False"
   ]
  },
  {
   "cell_type": "code",
   "execution_count": 124,
   "id": "4e2fb741-c104-4dd5-b5ee-689b1bbbe4da",
   "metadata": {},
   "outputs": [
    {
     "data": {
      "text/plain": [
       "True"
      ]
     },
     "execution_count": 124,
     "metadata": {},
     "output_type": "execute_result"
    }
   ],
   "source": [
    "is_multiple(16,8)"
   ]
  },
  {
   "cell_type": "code",
   "execution_count": 125,
   "id": "c04e6ee0-58fb-4860-b3aa-3fcb48d71f48",
   "metadata": {},
   "outputs": [
    {
     "data": {
      "text/plain": [
       "False"
      ]
     },
     "execution_count": 125,
     "metadata": {},
     "output_type": "execute_result"
    }
   ],
   "source": [
    "is_multiple(16,3)"
   ]
  },
  {
   "cell_type": "markdown",
   "id": "8b4ac594-c7a0-4238-abd0-6908d39c2c4f",
   "metadata": {},
   "source": [
    "### R-1.2 Write a short Python function, is even(k), that takes an integer value and\n",
    "### returns True if k is even, and False otherwise. However, your function\n",
    "### cannot use the multiplication, modulo, or division operators."
   ]
  },
  {
   "cell_type": "code",
   "execution_count": 126,
   "id": "ed5dd03b-b2fd-45ce-89aa-7129b5c159df",
   "metadata": {},
   "outputs": [],
   "source": [
    "def is_even(k):\n",
    "    if (k & 1) == 0:\n",
    "        return True\n",
    "    return False"
   ]
  },
  {
   "cell_type": "code",
   "execution_count": 127,
   "id": "ec2a0598-d9f4-4979-8f54-8534123137d9",
   "metadata": {},
   "outputs": [
    {
     "data": {
      "text/plain": [
       "False"
      ]
     },
     "execution_count": 127,
     "metadata": {},
     "output_type": "execute_result"
    }
   ],
   "source": [
    "is_even(1)"
   ]
  },
  {
   "cell_type": "code",
   "execution_count": 128,
   "id": "4cbf0548-cc4a-4c83-bf80-26d9da4f8ceb",
   "metadata": {},
   "outputs": [
    {
     "data": {
      "text/plain": [
       "True"
      ]
     },
     "execution_count": 128,
     "metadata": {},
     "output_type": "execute_result"
    }
   ],
   "source": [
    "is_even(10)"
   ]
  },
  {
   "cell_type": "code",
   "execution_count": 129,
   "id": "264e1a04-e3af-4f7b-ad17-27b3e4d62539",
   "metadata": {},
   "outputs": [
    {
     "name": "stdout",
     "output_type": "stream",
     "text": [
      "L1 [0, 1, 2, 3, 4, 5, 6, 7, 8, 9]\n",
      "l2 [0, 100, 200, 300, 400, 500, 600, 700, 800, 900]\n"
     ]
    },
    {
     "data": {
      "text/plain": [
       "[0, 101, 202, 303, 404, 505, 606, 707, 808, 909]"
      ]
     },
     "execution_count": 129,
     "metadata": {},
     "output_type": "execute_result"
    }
   ],
   "source": [
    "# Test Map Function\n",
    "\n",
    "def add(a,b):\n",
    "    return a+b\n",
    "\n",
    "def iter_lists(func,list1,list2):\n",
    "    return map(func,list1,list2)\n",
    "\n",
    "l1 = [i for i in range(0,10,)] \n",
    "l2 = [i*100 for i in range(0,10)]\n",
    "\n",
    "print('L1', l1)\n",
    "print('l2',l2)\n",
    "\n",
    "list(iter_lists(add,l1,l2))"
   ]
  },
  {
   "cell_type": "markdown",
   "id": "ffdfe873-cd9c-4cdc-96de-25bc70615ad7",
   "metadata": {},
   "source": [
    "### R-1.3 Write a short Python function, minmax(data), that takes a sequence of\n",
    "### one or more numbers, and returns the smallest and largest numbers, in the\n",
    "### form of a tuple of length two. Do not use the built-in functions min or\n",
    "### max in implementing your solution."
   ]
  },
  {
   "cell_type": "code",
   "execution_count": 130,
   "id": "f29e38d1-af04-4b1b-aa04-f6c942dec0a3",
   "metadata": {},
   "outputs": [],
   "source": [
    "def minmax(data):\n",
    "    minimum = maximum = data[0]\n",
    "    for i in data[1:]:\n",
    "        if i < minimum:\n",
    "            minimum = i\n",
    "        elif i > maximum:\n",
    "            maximum = i\n",
    "    return (minimum,maximum)        \n",
    "        "
   ]
  },
  {
   "cell_type": "code",
   "execution_count": 131,
   "id": "d57c6de6-aa5a-4d93-9aa4-dcd7345a31ee",
   "metadata": {},
   "outputs": [
    {
     "name": "stdout",
     "output_type": "stream",
     "text": [
      "[500, 400, 600, 100, 0, 900, 300, 800, 700, 200]\n"
     ]
    },
    {
     "data": {
      "text/plain": [
       "(0, 900)"
      ]
     },
     "execution_count": 131,
     "metadata": {},
     "output_type": "execute_result"
    }
   ],
   "source": [
    "import random\n",
    "shuffled_list = random.shuffle(l2)\n",
    "print(l2)\n",
    "minmax(l2)"
   ]
  },
  {
   "cell_type": "markdown",
   "id": "5b1cbae8-0d85-4880-9a18-9b918dc8144b",
   "metadata": {},
   "source": [
    "### R-1.5\n",
    "### Give a single command that computes the sum from Exercise R-1.4, relying on Python’s comprehension syntax and the built-in sum function."
   ]
  },
  {
   "cell_type": "code",
   "execution_count": 132,
   "id": "a52eb96c-5573-4d8e-912d-6507584e5ba8",
   "metadata": {},
   "outputs": [
    {
     "name": "stdout",
     "output_type": "stream",
     "text": [
      "900\n"
     ]
    }
   ],
   "source": [
    "l3 = [a for a in minmax(l2)]\n",
    "print(sum(l3))"
   ]
  },
  {
   "cell_type": "markdown",
   "id": "b96bfff2-f8ba-4105-8a98-031034e642d3",
   "metadata": {},
   "source": [
    "### R-1.6 \n",
    "### Write a short Python function that takes a positive integer n and returns the sum of the squares of all the odd positive integers smaller than n\n",
    "\n",
    "### R-1.7 Give a single command that computes the sum from Exercise R-1.6, relying on Python’s comprehension syntax and the built-in sum function.\n"
   ]
  },
  {
   "cell_type": "code",
   "execution_count": 133,
   "id": "05d14cb9-cf9c-49b0-bbf2-ac884b4d43e8",
   "metadata": {},
   "outputs": [],
   "source": [
    "def squared_odds(n):\n",
    "    if type(n) == int and n> 0:\n",
    "        return sum([pow(i,2) for i in range(1,n) if i%2 != 0])\n",
    "    else:\n",
    "        print(f'Not greater than 0 or argument is not type of int {n}')\n",
    "            \n",
    "                "
   ]
  },
  {
   "cell_type": "code",
   "execution_count": 134,
   "id": "ad073967-8935-4daf-9eb3-c7866b4dbd3f",
   "metadata": {},
   "outputs": [
    {
     "name": "stdout",
     "output_type": "stream",
     "text": [
      "Not greater than 0 or argument is not type of int A\n"
     ]
    }
   ],
   "source": [
    "squared_odds('A')\n",
    "assert squared_odds(4) == 10"
   ]
  },
  {
   "cell_type": "code",
   "execution_count": 135,
   "id": "bf98b1d0-7d5b-4ea1-bca7-72730236434c",
   "metadata": {},
   "outputs": [
    {
     "data": {
      "text/plain": [
       "10"
      ]
     },
     "execution_count": 135,
     "metadata": {},
     "output_type": "execute_result"
    }
   ],
   "source": [
    "squared_odds(4)"
   ]
  },
  {
   "cell_type": "markdown",
   "id": "090291ab-1de3-45e0-bc90-580261db151d",
   "metadata": {},
   "source": [
    "### R-1.8 \n",
    "### Python allows negative integers to be used as indices into a sequence, such as a string. If string s has length n, and expression s[k] is used for index −n ≤ k < 0, what is the equivalent index j ≥ 0 such that s[j] references the same element?"
   ]
  },
  {
   "cell_type": "code",
   "execution_count": 136,
   "id": "d964af08-654c-4edf-8f22-3269926e558b",
   "metadata": {},
   "outputs": [
    {
     "data": {
      "text/plain": [
       "'o'"
      ]
     },
     "execution_count": 136,
     "metadata": {},
     "output_type": "execute_result"
    }
   ],
   "source": [
    "string = \"Hello\"\n",
    "string[-1]\n",
    "index = len(string)-1\n",
    "string[index]"
   ]
  },
  {
   "cell_type": "markdown",
   "id": "f24f26d3-86f6-4cd3-a505-997af3678c4a",
   "metadata": {},
   "source": [
    "### R-1.9 What parameters should be sent to the range constructor, to produce a\n",
    "### range with values 50, 60, 70, 80?"
   ]
  },
  {
   "cell_type": "code",
   "execution_count": 137,
   "id": "057a5e05-5fd8-449e-8c34-226da6ad23f0",
   "metadata": {},
   "outputs": [
    {
     "data": {
      "text/plain": [
       "[50, 60, 70, 80]"
      ]
     },
     "execution_count": 137,
     "metadata": {},
     "output_type": "execute_result"
    }
   ],
   "source": [
    "list(range(50,81,10))"
   ]
  },
  {
   "cell_type": "markdown",
   "id": "89bbec42-d5bb-49ca-89dc-8c75827cdcb6",
   "metadata": {},
   "source": [
    "### R-1.10 \n",
    "### What parameters should be sent to the range constructor, to produce a range with values 8, 6, 4, 2, 0, −2, −4, −6, −8?"
   ]
  },
  {
   "cell_type": "code",
   "execution_count": 138,
   "id": "73ec2d7d-9fac-446d-bb50-c928e7840ee9",
   "metadata": {},
   "outputs": [
    {
     "data": {
      "text/plain": [
       "[8, 6, 4, 2, 0, -2, -4, -6, -8]"
      ]
     },
     "execution_count": 138,
     "metadata": {},
     "output_type": "execute_result"
    }
   ],
   "source": [
    "list(range(8,-9,-2))"
   ]
  },
  {
   "cell_type": "code",
   "execution_count": 139,
   "id": "2263996c-1d54-4658-a044-ffaa4ea207b1",
   "metadata": {},
   "outputs": [],
   "source": [
    "### R-1.11 \n",
    "### Demonstrate how to use Python’s list comprehension syntax to produce the list [1, 2, 4, 8, 16, 32, 64, 128, 256].\n"
   ]
  },
  {
   "cell_type": "code",
   "execution_count": 140,
   "id": "73fda77b-410f-4a85-a438-dd4ef78062bf",
   "metadata": {},
   "outputs": [
    {
     "data": {
      "text/plain": [
       "[1, 2, 4, 8, 16, 32, 64, 128, 256]"
      ]
     },
     "execution_count": 140,
     "metadata": {},
     "output_type": "execute_result"
    }
   ],
   "source": [
    "[pow(2,i) for i in range(0,9)] "
   ]
  },
  {
   "cell_type": "markdown",
   "id": "23400de6-d7dd-47c5-8bc6-e873ea827909",
   "metadata": {},
   "source": [
    "### R-1.12 \n",
    "### Python’s random module includes a function choice(data) that returns a\n",
    "### random element from a non-empty sequence. The random module includes a more basic function randrange, with parameterization similar to\n",
    "### the built-in range function, that return a random choice from the given\n",
    "### range. Using only the randrange function, implement your own version\n",
    "### of the choice function"
   ]
  },
  {
   "cell_type": "code",
   "execution_count": 141,
   "id": "83653a4b-4f5b-44ac-b900-86c40457e182",
   "metadata": {},
   "outputs": [],
   "source": [
    "def choice_rand(start,end):\n",
    "    return random.randrange(start,end)\n",
    "    "
   ]
  },
  {
   "cell_type": "code",
   "execution_count": 142,
   "id": "927bf1ab-62c5-455a-8b12-50763f8af276",
   "metadata": {},
   "outputs": [
    {
     "data": {
      "text/plain": [
       "7"
      ]
     },
     "execution_count": 142,
     "metadata": {},
     "output_type": "execute_result"
    }
   ],
   "source": [
    "choice_rand(1,10)"
   ]
  },
  {
   "cell_type": "markdown",
   "id": "75b516d2-4611-4a11-ada6-5b766f080142",
   "metadata": {},
   "source": [
    "### C-1.13\n",
    "### Write a pseudo-code description of a function that reverses a list of n\n",
    "### integers, so that the numbers are listed in the opposite order than they\n",
    "### were before, and compare this method to an equivalent Python function\n",
    "### for doing the same thing."
   ]
  },
  {
   "cell_type": "code",
   "execution_count": 143,
   "id": "92545f70-2184-4147-965d-f9090277ce0a",
   "metadata": {},
   "outputs": [],
   "source": [
    "def reverse_iter(iterable):\n",
    "    return iterable[::-1]"
   ]
  },
  {
   "cell_type": "code",
   "execution_count": 144,
   "id": "34bc0ba6-b956-46da-afac-05127b628485",
   "metadata": {},
   "outputs": [
    {
     "data": {
      "text/plain": [
       "[9, 8, 7, 6, 5, 4, 3, 2, 1, 0]"
      ]
     },
     "execution_count": 144,
     "metadata": {},
     "output_type": "execute_result"
    }
   ],
   "source": [
    "reverse_iter(l1)"
   ]
  },
  {
   "cell_type": "markdown",
   "id": "934f35ae-fe9c-4dea-9cef-b82f0c9583c0",
   "metadata": {},
   "source": [
    "### C-1.14 \n",
    "### Write a short Python function that takes a sequence of integer values and determines if there is a distinct pair of numbers in the sequence whose product is odd."
   ]
  },
  {
   "cell_type": "code",
   "execution_count": 145,
   "id": "26d3f07e-8838-4b60-b106-3ecc8abd93c2",
   "metadata": {},
   "outputs": [],
   "source": [
    "def distinct_pair(iterable):\n",
    "    \"\"\"\n",
    "    Used a queue as a strategy here, FIFO\n",
    "    This is O(n^2)\n",
    "    \"\"\"\n",
    "    products = set()\n",
    "    for _ in range(len(iterable)):\n",
    "        head = iterable.pop(0)\n",
    "        for i in iterable:\n",
    "            if (head * i)%2 != 0:\n",
    "                products.add((head,i))\n",
    "    return products"
   ]
  },
  {
   "cell_type": "code",
   "execution_count": 146,
   "id": "b8771e12-bd4f-46df-95ed-d73fb9fefb03",
   "metadata": {},
   "outputs": [
    {
     "data": {
      "text/plain": [
       "{(1, 3),\n",
       " (1, 5),\n",
       " (1, 7),\n",
       " (1, 9),\n",
       " (3, 5),\n",
       " (3, 7),\n",
       " (3, 9),\n",
       " (5, 7),\n",
       " (5, 9),\n",
       " (7, 9)}"
      ]
     },
     "execution_count": 146,
     "metadata": {},
     "output_type": "execute_result"
    }
   ],
   "source": [
    "distinct_pair(l1)"
   ]
  },
  {
   "cell_type": "code",
   "execution_count": 147,
   "id": "ee696f52-9fb0-41db-a0f9-a7fc85df8eb8",
   "metadata": {},
   "outputs": [
    {
     "data": {
      "text/plain": [
       "{(1, 3), (3, 3)}"
      ]
     },
     "execution_count": 147,
     "metadata": {},
     "output_type": "execute_result"
    }
   ],
   "source": [
    "distinct_pair([1,2,3,3,3,3])"
   ]
  },
  {
   "cell_type": "markdown",
   "id": "97f14817-34e3-433e-9129-2f716cb41f14",
   "metadata": {},
   "source": [
    "### C-1.15\n",
    "### Write a Python function that takes a sequence of numbers and determines if all the numbers are different from each other (that is, they are distinct)."
   ]
  },
  {
   "cell_type": "code",
   "execution_count": 148,
   "id": "9b0e43b0-cc26-4b10-9566-9d0c2347f38e",
   "metadata": {},
   "outputs": [],
   "source": [
    "def distinct_numbers(iterable):\n",
    "    if len(iterable) == len(set(iterable)):\n",
    "        return True\n",
    "    return False"
   ]
  },
  {
   "cell_type": "code",
   "execution_count": 149,
   "id": "1dc26c24-e298-4dda-aae8-02e53fb7c412",
   "metadata": {},
   "outputs": [],
   "source": [
    "l1 = [i for i in range(10)]\n",
    "l2 = [2] * 4"
   ]
  },
  {
   "cell_type": "code",
   "execution_count": 150,
   "id": "5b73317c-3e95-49e0-91ef-cec32329ad68",
   "metadata": {},
   "outputs": [
    {
     "data": {
      "text/plain": [
       "[0, 1, 2, 3, 4, 5, 6, 7, 8, 9]"
      ]
     },
     "execution_count": 150,
     "metadata": {},
     "output_type": "execute_result"
    }
   ],
   "source": [
    "l1"
   ]
  },
  {
   "cell_type": "code",
   "execution_count": 151,
   "id": "39cd8836-d5ed-471c-83cf-49bc2389d68e",
   "metadata": {},
   "outputs": [
    {
     "data": {
      "text/plain": [
       "[2, 2, 2, 2]"
      ]
     },
     "execution_count": 151,
     "metadata": {},
     "output_type": "execute_result"
    }
   ],
   "source": [
    "l2"
   ]
  },
  {
   "cell_type": "code",
   "execution_count": 152,
   "id": "d9927d8c-aa2a-4c11-8460-30185453fe47",
   "metadata": {},
   "outputs": [
    {
     "data": {
      "text/plain": [
       "True"
      ]
     },
     "execution_count": 152,
     "metadata": {},
     "output_type": "execute_result"
    }
   ],
   "source": [
    "distinct_numbers(l1)"
   ]
  },
  {
   "cell_type": "code",
   "execution_count": 153,
   "id": "2230be5c-9912-4d74-bf11-acd7e9367080",
   "metadata": {},
   "outputs": [
    {
     "data": {
      "text/plain": [
       "False"
      ]
     },
     "execution_count": 153,
     "metadata": {},
     "output_type": "execute_result"
    }
   ],
   "source": [
    "distinct_numbers(l2)"
   ]
  },
  {
   "cell_type": "markdown",
   "id": "6d2147bf-06b9-4f9f-9dd3-87cb94c8d2b2",
   "metadata": {},
   "source": [
    "### C-1.16\n",
    "### In our implementation of the scale function (page 25), the body of the loop executes the command data[j] = factor. We have discussed that numeric types are immutable, and that use of the = operator in this context causes the creation of a new instance (not the mutation of an existing instance). How is it still possible, then, that our implementation of scale changes the actual parameter sent by the caller?"
   ]
  },
  {
   "cell_type": "code",
   "execution_count": 154,
   "id": "513e7829-9307-4beb-863a-41eb0565a05f",
   "metadata": {},
   "outputs": [
    {
     "data": {
      "text/plain": [
       "[0, 1, 2, 3, 4, 5, 6, 7, 8, 9]"
      ]
     },
     "execution_count": 154,
     "metadata": {},
     "output_type": "execute_result"
    }
   ],
   "source": [
    "l1"
   ]
  },
  {
   "cell_type": "code",
   "execution_count": 155,
   "id": "1426d034-966c-4e86-a17a-4df0935784c7",
   "metadata": {},
   "outputs": [],
   "source": [
    "data = l1.copy()"
   ]
  },
  {
   "cell_type": "code",
   "execution_count": 156,
   "id": "aa368a1e-9d19-4308-9555-773bc49705ab",
   "metadata": {},
   "outputs": [
    {
     "data": {
      "text/plain": [
       "[0, 1, 2, 3, 4, 5, 6, 7, 8, 9]"
      ]
     },
     "execution_count": 156,
     "metadata": {},
     "output_type": "execute_result"
    }
   ],
   "source": [
    "data"
   ]
  },
  {
   "cell_type": "code",
   "execution_count": 157,
   "id": "96c391dd-8906-46d5-957c-59237d389a81",
   "metadata": {},
   "outputs": [],
   "source": [
    "def scale(data,factor):\n",
    "    for i in range(len(data)):\n",
    "        data[i] =data[i]*factor"
   ]
  },
  {
   "cell_type": "code",
   "execution_count": 158,
   "id": "5e004859-76ee-4bc2-be20-4c321a3a7431",
   "metadata": {},
   "outputs": [],
   "source": [
    "scale(data,2)"
   ]
  },
  {
   "cell_type": "code",
   "execution_count": 159,
   "id": "80960b46-3a13-4e42-a5ba-1e3ae5a48409",
   "metadata": {},
   "outputs": [
    {
     "data": {
      "text/plain": [
       "[0, 2, 4, 6, 8, 10, 12, 14, 16, 18]"
      ]
     },
     "execution_count": 159,
     "metadata": {},
     "output_type": "execute_result"
    }
   ],
   "source": [
    "data"
   ]
  },
  {
   "cell_type": "code",
   "execution_count": 160,
   "id": "7b580b6e-c2db-4497-9db8-41e63d4b0d8f",
   "metadata": {},
   "outputs": [],
   "source": [
    "immutable_data = set(data)"
   ]
  },
  {
   "cell_type": "code",
   "execution_count": 161,
   "id": "efb36e54-b3b2-4058-a5f1-b33f2f01544a",
   "metadata": {},
   "outputs": [
    {
     "data": {
      "text/plain": [
       "{0, 2, 4, 6, 8, 10, 12, 14, 16, 18}"
      ]
     },
     "execution_count": 161,
     "metadata": {},
     "output_type": "execute_result"
    }
   ],
   "source": [
    "immutable_data"
   ]
  },
  {
   "cell_type": "code",
   "execution_count": 162,
   "id": "80017977-9909-46d1-b29d-8965a24ff691",
   "metadata": {},
   "outputs": [
    {
     "ename": "TypeError",
     "evalue": "'set' object is not subscriptable",
     "output_type": "error",
     "traceback": [
      "\u001b[1;31m---------------------------------------------------------------------------\u001b[0m",
      "\u001b[1;31mTypeError\u001b[0m                                 Traceback (most recent call last)",
      "Cell \u001b[1;32mIn[162], line 1\u001b[0m\n\u001b[1;32m----> 1\u001b[0m \u001b[43mscale\u001b[49m\u001b[43m(\u001b[49m\u001b[43mimmutable_data\u001b[49m\u001b[43m,\u001b[49m\u001b[38;5;241;43m2\u001b[39;49m\u001b[43m)\u001b[49m\n",
      "Cell \u001b[1;32mIn[157], line 3\u001b[0m, in \u001b[0;36mscale\u001b[1;34m(data, factor)\u001b[0m\n\u001b[0;32m      1\u001b[0m \u001b[38;5;28;01mdef\u001b[39;00m \u001b[38;5;21mscale\u001b[39m(data,factor):\n\u001b[0;32m      2\u001b[0m     \u001b[38;5;28;01mfor\u001b[39;00m i \u001b[38;5;129;01min\u001b[39;00m \u001b[38;5;28mrange\u001b[39m(\u001b[38;5;28mlen\u001b[39m(data)):\n\u001b[1;32m----> 3\u001b[0m         data[i] \u001b[38;5;241m=\u001b[39m\u001b[43mdata\u001b[49m\u001b[43m[\u001b[49m\u001b[43mi\u001b[49m\u001b[43m]\u001b[49m\u001b[38;5;241m*\u001b[39mfactor\n",
      "\u001b[1;31mTypeError\u001b[0m: 'set' object is not subscriptable"
     ]
    }
   ],
   "source": [
    "scale(immutable_data,2)"
   ]
  },
  {
   "cell_type": "markdown",
   "id": "c41bf22d-c7c7-4fa7-9332-7501868067ea",
   "metadata": {},
   "source": [
    "### C-1.17 \n",
    "### Had we implemented the scale function (page 25) as follows, does it work properly? \n",
    "### def scale(data, factor):\n",
    "###    for val in data:\n",
    "###        val = factor\n",
    "\n",
    "#### This would not work cause we are only altering the value itself than the index of data. "
   ]
  },
  {
   "cell_type": "markdown",
   "id": "4efff463-a5f0-43b7-b168-b08d9f1de081",
   "metadata": {},
   "source": [
    "### C-1.18\n",
    "### Demonstrate how to use Python’s list comprehension syntax to producethe list [0, 2, 6, 12, 20, 30, 42, 56, 72, 90]."
   ]
  },
  {
   "cell_type": "code",
   "execution_count": 163,
   "id": "e8dcf1bf-a86e-4906-9381-e227587bf8a8",
   "metadata": {},
   "outputs": [
    {
     "data": {
      "text/plain": [
       "[0, 2, 6, 12, 20, 30, 42, 56, 72, 90]"
      ]
     },
     "execution_count": 163,
     "metadata": {},
     "output_type": "execute_result"
    }
   ],
   "source": [
    "[i*(i+1) for i in range(10)]"
   ]
  },
  {
   "cell_type": "markdown",
   "id": "9d25fe11-4ae1-4d80-bc4d-a1cfb8e85df4",
   "metadata": {},
   "source": [
    "### C-1.19\n",
    "### Demonstrate how to use Python’s list comprehension syntax to produce the list [ a , b , c , ..., z ], but without having to type all 26 such characters literally"
   ]
  },
  {
   "cell_type": "code",
   "execution_count": 164,
   "id": "1d653048-c1a8-42df-9695-aa4fd03a23b3",
   "metadata": {},
   "outputs": [
    {
     "data": {
      "text/plain": [
       "['a',\n",
       " 'b',\n",
       " 'c',\n",
       " 'd',\n",
       " 'e',\n",
       " 'f',\n",
       " 'g',\n",
       " 'h',\n",
       " 'i',\n",
       " 'j',\n",
       " 'k',\n",
       " 'l',\n",
       " 'm',\n",
       " 'n',\n",
       " 'o',\n",
       " 'p',\n",
       " 'q',\n",
       " 'r',\n",
       " 's',\n",
       " 't',\n",
       " 'u',\n",
       " 'v',\n",
       " 'w',\n",
       " 'x',\n",
       " 'y',\n",
       " 'z']"
      ]
     },
     "execution_count": 164,
     "metadata": {},
     "output_type": "execute_result"
    }
   ],
   "source": [
    "[chr(i) for i in range(97,123)]"
   ]
  },
  {
   "cell_type": "markdown",
   "id": "f9212a17-dcc0-49e5-b4d1-6c9f379fcc60",
   "metadata": {},
   "source": [
    "### C-20 \n",
    "### Python’s random module includes a function shuffle(data) that accepts a list of elements and randomly reorders the elements so that each possible order occurs with equal probability. The random module includes a more basic function randint(a, b) that returns a uniformly random integer from a to b (including both endpoints). Using only the randint function, implement your own version of the shuffle function"
   ]
  },
  {
   "cell_type": "code",
   "execution_count": 165,
   "id": "5a92ef7b-7881-436c-8b19-6908128fd8aa",
   "metadata": {},
   "outputs": [],
   "source": [
    "unordered_list = [1,1,4,5,4,6,6,4,7]\n",
    "random.shuffle(unordered_list)"
   ]
  },
  {
   "cell_type": "code",
   "execution_count": 166,
   "id": "84193591-1600-4d11-9157-fd99ebc0bbb3",
   "metadata": {},
   "outputs": [
    {
     "data": {
      "text/plain": [
       "[4, 5, 4, 6, 4, 1, 1, 7, 6]"
      ]
     },
     "execution_count": 166,
     "metadata": {},
     "output_type": "execute_result"
    }
   ],
   "source": [
    "unordered_list"
   ]
  },
  {
   "cell_type": "code",
   "execution_count": 167,
   "id": "4e968c88-9968-4bc4-8019-b6b506bff6bb",
   "metadata": {},
   "outputs": [],
   "source": [
    "def myshuffle(start,end,loops):\n",
    "    return [random.randint(start,end) for _ in range(loops)]"
   ]
  },
  {
   "cell_type": "code",
   "execution_count": 168,
   "id": "f6d45962-cab1-4117-bb14-c7a5f86aed65",
   "metadata": {},
   "outputs": [
    {
     "data": {
      "text/plain": [
       "[9, 6, 1, 1, 6, 6, 8, 6, 6, 1]"
      ]
     },
     "execution_count": 168,
     "metadata": {},
     "output_type": "execute_result"
    }
   ],
   "source": [
    "myshuffle(1,10,10)"
   ]
  },
  {
   "cell_type": "markdown",
   "id": "e80ae53e-6fd5-4857-97be-316e0c5177ea",
   "metadata": {},
   "source": [
    "### C-1.22 \n",
    "### Write a short Python program that takes two arrays a and b of length n storing int values, and returns the dot product of a and b. That is, it returns an array c of length n such that c[i] = a[i] · b[i], for i = 0,...,n−1."
   ]
  },
  {
   "cell_type": "code",
   "execution_count": 169,
   "id": "7dfef6fe-829c-4b35-b2a1-cde251e3da1d",
   "metadata": {},
   "outputs": [],
   "source": [
    "def product_list(a,b):\n",
    "    if len(a) == len(b):\n",
    "        return list(map(lambda x,y: x*y, a,b))"
   ]
  },
  {
   "cell_type": "code",
   "execution_count": 170,
   "id": "8276f75f-c5ee-4da5-b6b6-4cd8ae9ad9ca",
   "metadata": {},
   "outputs": [
    {
     "data": {
      "text/plain": [
       "[0, 2, 8, 18, 32, 50, 72, 98, 128, 162]"
      ]
     },
     "execution_count": 170,
     "metadata": {},
     "output_type": "execute_result"
    }
   ],
   "source": [
    "product_list([i for i in range(0,10)],[i*2 for i in range(0,10)])"
   ]
  },
  {
   "cell_type": "markdown",
   "id": "596e0db2-8a9d-4ca5-b58a-33701be1c439",
   "metadata": {},
   "source": [
    "### C-1.23 Give an example of a Python code fragment that attempts to write an element to a list based on an index that may be out of bounds. If that index is out of bounds, the program should catch the exception that results, and print the following error message: “Don’t try buffer overflow attacks in Python!”"
   ]
  },
  {
   "cell_type": "code",
   "execution_count": 171,
   "id": "cceefde9-ca98-46c6-a4dd-6e01f38f8486",
   "metadata": {},
   "outputs": [
    {
     "name": "stdout",
     "output_type": "stream",
     "text": [
      "Don’t try buffer overflow attacks in Python!\n"
     ]
    }
   ],
   "source": [
    "try:\n",
    "    unordered_list[100]\n",
    "except IndexError as ie:\n",
    "    print('Don’t try buffer overflow attacks in Python!')"
   ]
  },
  {
   "cell_type": "markdown",
   "id": "893fe087-7b0c-4a92-99b8-fe71a8acb923",
   "metadata": {},
   "source": [
    "### C-1.24 Write a short Python function that counts the number of vowels in a given character string."
   ]
  },
  {
   "cell_type": "code",
   "execution_count": 172,
   "id": "56c2428b-8d7e-4e63-a329-7c9374799753",
   "metadata": {},
   "outputs": [],
   "source": [
    "def count_vowels(string):\n",
    "    vowels = ['a','e','i','o','u']\n",
    "    count = 0\n",
    "    for char in string.lower():\n",
    "        if char in vowels:\n",
    "            count+=1\n",
    "    return count"
   ]
  },
  {
   "cell_type": "code",
   "execution_count": 173,
   "id": "ee1ef3a5-c5f8-4630-a7b8-be46f3966dc2",
   "metadata": {},
   "outputs": [
    {
     "data": {
      "text/plain": [
       "1"
      ]
     },
     "execution_count": 173,
     "metadata": {},
     "output_type": "execute_result"
    }
   ],
   "source": [
    "count_vowels(\"String\")"
   ]
  },
  {
   "cell_type": "code",
   "execution_count": 174,
   "id": "25a43581-e829-4723-be89-7f130af276b7",
   "metadata": {},
   "outputs": [
    {
     "data": {
      "text/plain": [
       "1"
      ]
     },
     "execution_count": 174,
     "metadata": {},
     "output_type": "execute_result"
    }
   ],
   "source": [
    "count_vowels(\"FANNY\")"
   ]
  },
  {
   "cell_type": "markdown",
   "id": "47652b72-a934-4231-8049-47666cb7a7e4",
   "metadata": {},
   "source": [
    "### C-1.25\n",
    "### Write a short Python function that takes a string s, representing a sentence, and returns a copy of the string with all punctuation removed. For example, if given the string \"Let's try, Mike.\", this function would return \"Lets try Mike\"."
   ]
  },
  {
   "cell_type": "code",
   "execution_count": 175,
   "id": "f9aa9980-0129-47dd-ab05-6fa5cb088933",
   "metadata": {},
   "outputs": [],
   "source": [
    "import re\n",
    "def remove_punctuation(string):\n",
    "    return re.sub(r'[^\\w\\s]','',string)"
   ]
  },
  {
   "cell_type": "code",
   "execution_count": 176,
   "id": "f1fcd806-fd9a-4122-819f-57216ed7841e",
   "metadata": {},
   "outputs": [
    {
     "data": {
      "text/plain": [
       "'Lets try Mike'"
      ]
     },
     "execution_count": 176,
     "metadata": {},
     "output_type": "execute_result"
    }
   ],
   "source": [
    "remove_punctuation(\"Let's try, Mike.\")"
   ]
  },
  {
   "cell_type": "markdown",
   "id": "866a67e5-d664-4fda-967e-0626eb3f7638",
   "metadata": {},
   "source": [
    "### C-1.26\n",
    "### Write a short program that takes as input three integers, a, b, and c, from the console and determines if they can be used in a correct arithmetic formula (in the given order), like “a+b = c,” “a = b−c,” or “a ∗ b = c.”"
   ]
  },
  {
   "cell_type": "code",
   "execution_count": 177,
   "id": "63616541-b714-409d-8af7-965c18a65a29",
   "metadata": {},
   "outputs": [],
   "source": [
    "def correct_arithmetic(a,b,c):\n",
    "    for t1,t2,t3 in [(a,b,c),(c,b,a)]:\n",
    "        if t1 + t2 == t3:\n",
    "            print(f'{t1} + {t2} = {t3}')\n",
    "        if t1 - t2 == t3:\n",
    "            print(f'{t1} - {t2} = {t3}')\n",
    "        if t1 * t2 == t3:\n",
    "            print(f'{t1} * {t2} = {t3}')\n",
    "        if t1 / t2 == t3:\n",
    "            print(f'{t1} / {t2} = {t3}')"
   ]
  },
  {
   "cell_type": "code",
   "execution_count": 178,
   "id": "f34bbfb6-3f00-448a-8a00-21a7a0edcadd",
   "metadata": {},
   "outputs": [
    {
     "name": "stdout",
     "output_type": "stream",
     "text": [
      "1 + 2 = 3\n",
      "3 - 2 = 1\n"
     ]
    }
   ],
   "source": [
    "correct_arithmetic(1,2,3)"
   ]
  },
  {
   "cell_type": "code",
   "execution_count": 179,
   "id": "5111d631-8e43-4e20-ac41-0a66ca60d2d7",
   "metadata": {},
   "outputs": [
    {
     "name": "stdout",
     "output_type": "stream",
     "text": [
      "2 + 2 = 4\n",
      "2 * 2 = 4\n",
      "4 - 2 = 2\n",
      "4 / 2 = 2\n"
     ]
    }
   ],
   "source": [
    "correct_arithmetic(2,2,4)"
   ]
  },
  {
   "cell_type": "markdown",
   "id": "ab14281a-54d5-413e-8094-671431067e17",
   "metadata": {},
   "source": [
    "### C-1.27 \n",
    "### In Section 1.8, we provided three different implementations of a generator that computes factors of a given integer. The third of those implementations, from page 41, was the most efficient, but we noted that it did not yield the factors in increasing order. Modify the generator so that it reports factors in increasing order, while maintaining its general performance advantages"
   ]
  },
  {
   "cell_type": "code",
   "execution_count": 180,
   "id": "7c4cd89a-0ff5-4c64-bab2-e0a12982ff0f",
   "metadata": {},
   "outputs": [],
   "source": [
    "def factors(n): # generator that computes factors\n",
    "    k=1\n",
    "    while k*k < n: # while k < sqrt(n)\n",
    "        if n % k == 0:\n",
    "            yield k\n",
    "            yield n // k\n",
    "        k += 1\n",
    "    if k *k == n: # special case if n is perfect square\n",
    "        yield k"
   ]
  },
  {
   "cell_type": "code",
   "execution_count": 181,
   "id": "30c186b3-dbc5-44cf-b098-51b61c548a93",
   "metadata": {},
   "outputs": [],
   "source": [
    "gen = factors(10)"
   ]
  },
  {
   "cell_type": "code",
   "execution_count": 182,
   "id": "b30f20fd-b8f8-46b5-866d-e7d6fa90a522",
   "metadata": {},
   "outputs": [
    {
     "data": {
      "text/plain": [
       "1"
      ]
     },
     "execution_count": 182,
     "metadata": {},
     "output_type": "execute_result"
    }
   ],
   "source": [
    "next(gen)"
   ]
  },
  {
   "cell_type": "code",
   "execution_count": 183,
   "id": "b1e5770d-89c4-42df-8d02-fd788c372494",
   "metadata": {},
   "outputs": [
    {
     "data": {
      "text/plain": [
       "10"
      ]
     },
     "execution_count": 183,
     "metadata": {},
     "output_type": "execute_result"
    }
   ],
   "source": [
    "next(gen)"
   ]
  },
  {
   "cell_type": "code",
   "execution_count": 184,
   "id": "a551e59b-7338-4219-b5e4-8f9d4347505e",
   "metadata": {},
   "outputs": [
    {
     "data": {
      "text/plain": [
       "[2, 5]"
      ]
     },
     "execution_count": 184,
     "metadata": {},
     "output_type": "execute_result"
    }
   ],
   "source": [
    "# list of generator\n",
    "list(gen)"
   ]
  },
  {
   "cell_type": "code",
   "execution_count": 185,
   "id": "bfaa7111-cd1e-4880-81d3-b05c0ac3a402",
   "metadata": {},
   "outputs": [
    {
     "ename": "StopIteration",
     "evalue": "",
     "output_type": "error",
     "traceback": [
      "\u001b[1;31m---------------------------------------------------------------------------\u001b[0m",
      "\u001b[1;31mStopIteration\u001b[0m                             Traceback (most recent call last)",
      "Cell \u001b[1;32mIn[185], line 1\u001b[0m\n\u001b[1;32m----> 1\u001b[0m \u001b[38;5;28;43mnext\u001b[39;49m\u001b[43m(\u001b[49m\u001b[43mgen\u001b[49m\u001b[43m)\u001b[49m\n",
      "\u001b[1;31mStopIteration\u001b[0m: "
     ]
    }
   ],
   "source": [
    "next(gen)"
   ]
  },
  {
   "cell_type": "code",
   "execution_count": 186,
   "id": "2306709e-ac9f-4c31-a553-b1e92f39e15f",
   "metadata": {},
   "outputs": [],
   "source": [
    "gen2 = factors(100)"
   ]
  },
  {
   "cell_type": "code",
   "execution_count": 187,
   "id": "dd45a29f-41f4-4c57-b702-d414b42720d9",
   "metadata": {},
   "outputs": [
    {
     "data": {
      "text/plain": [
       "[1, 100, 2, 50, 4, 25, 5, 20, 10]"
      ]
     },
     "execution_count": 187,
     "metadata": {},
     "output_type": "execute_result"
    }
   ],
   "source": [
    "list(gen2)"
   ]
  },
  {
   "cell_type": "code",
   "execution_count": 188,
   "id": "d31178e7-35dc-4b56-82f2-092c35d0a543",
   "metadata": {},
   "outputs": [],
   "source": [
    "gen3 = factors(3)"
   ]
  },
  {
   "cell_type": "code",
   "execution_count": 189,
   "id": "da313dc4-4ebe-4e3a-8369-2101e36e8ce0",
   "metadata": {},
   "outputs": [
    {
     "data": {
      "text/plain": [
       "[1, 3]"
      ]
     },
     "execution_count": 189,
     "metadata": {},
     "output_type": "execute_result"
    }
   ],
   "source": [
    "sorted(gen3)"
   ]
  },
  {
   "cell_type": "code",
   "execution_count": 190,
   "id": "af634a28-7d3e-4afd-b395-b9d67d58e9e9",
   "metadata": {},
   "outputs": [
    {
     "ename": "StopIteration",
     "evalue": "",
     "output_type": "error",
     "traceback": [
      "\u001b[1;31m---------------------------------------------------------------------------\u001b[0m",
      "\u001b[1;31mStopIteration\u001b[0m                             Traceback (most recent call last)",
      "Cell \u001b[1;32mIn[190], line 1\u001b[0m\n\u001b[1;32m----> 1\u001b[0m \u001b[38;5;28;43mnext\u001b[39;49m\u001b[43m(\u001b[49m\u001b[43mgen3\u001b[49m\u001b[43m)\u001b[49m\n",
      "\u001b[1;31mStopIteration\u001b[0m: "
     ]
    }
   ],
   "source": [
    "next(gen3)"
   ]
  },
  {
   "cell_type": "code",
   "execution_count": 191,
   "id": "333d5c54-b60c-4681-b296-46e83f1aa1eb",
   "metadata": {},
   "outputs": [],
   "source": [
    "def sorted_factors(n):\n",
    "    k=1\n",
    "    while k*k  < n:\n",
    "        if n % k == 0:\n",
    "            yield k\n",
    "        k+=1\n",
    "    if k*k == n:\n",
    "        yield k\n",
    "    \n",
    "    while k <= n//2:\n",
    "        k+=1\n",
    "        if n % k == 0:\n",
    "            yield k\n",
    "    yield n\n"
   ]
  },
  {
   "cell_type": "code",
   "execution_count": 192,
   "id": "0bace045-7a9d-41c9-ba17-f60ad5f0fad3",
   "metadata": {},
   "outputs": [
    {
     "data": {
      "text/plain": [
       "[1, 2, 4, 5, 10, 20, 25, 50, 100]"
      ]
     },
     "execution_count": 192,
     "metadata": {},
     "output_type": "execute_result"
    }
   ],
   "source": [
    "list(sorted_factors(100))"
   ]
  },
  {
   "cell_type": "code",
   "execution_count": 193,
   "id": "14e35d11-398b-459c-8013-affb85027a7f",
   "metadata": {},
   "outputs": [],
   "source": [
    "def loop_iterable(start,end):\n",
    "    for i in range(start,end):\n",
    "        yield i"
   ]
  },
  {
   "cell_type": "code",
   "execution_count": 194,
   "id": "72df3a2c-1409-44c9-aaaf-4c7e0844fa20",
   "metadata": {},
   "outputs": [],
   "source": [
    "gene4 = loop_iterable(0,10)"
   ]
  },
  {
   "cell_type": "code",
   "execution_count": 195,
   "id": "35ce3585-0885-4635-b0cf-d6097f2059f5",
   "metadata": {},
   "outputs": [
    {
     "data": {
      "text/plain": [
       "0"
      ]
     },
     "execution_count": 195,
     "metadata": {},
     "output_type": "execute_result"
    }
   ],
   "source": [
    "next(gene4)"
   ]
  },
  {
   "cell_type": "code",
   "execution_count": 196,
   "id": "e709cb4f-0818-402c-a09d-6f1fa6f1102b",
   "metadata": {},
   "outputs": [
    {
     "data": {
      "text/plain": [
       "[1, 2, 3, 4, 5, 6, 7, 8, 9]"
      ]
     },
     "execution_count": 196,
     "metadata": {},
     "output_type": "execute_result"
    }
   ],
   "source": [
    "list(gene4)"
   ]
  },
  {
   "cell_type": "code",
   "execution_count": 197,
   "id": "61c0ea1e-dd26-4ee5-b172-041229a3c8c2",
   "metadata": {},
   "outputs": [],
   "source": [
    "def loop_2x_iterable(start,end):\n",
    "    for i in range(start,end):\n",
    "        yield i\n",
    "        yield i*2"
   ]
  },
  {
   "cell_type": "code",
   "execution_count": 198,
   "id": "0de7f8ab-75ad-4585-a2e8-1f158c5dace2",
   "metadata": {},
   "outputs": [],
   "source": [
    "gene5 = loop_2x_iterable(0,10)"
   ]
  },
  {
   "cell_type": "code",
   "execution_count": 199,
   "id": "fa4aea23-9af4-495d-a085-ba2b6bad44e2",
   "metadata": {},
   "outputs": [
    {
     "data": {
      "text/plain": [
       "0"
      ]
     },
     "execution_count": 199,
     "metadata": {},
     "output_type": "execute_result"
    }
   ],
   "source": [
    "next(gene5)"
   ]
  },
  {
   "cell_type": "code",
   "execution_count": 200,
   "id": "cb8a0568-136a-45fa-9c09-a83042fa43fc",
   "metadata": {},
   "outputs": [
    {
     "data": {
      "text/plain": [
       "0"
      ]
     },
     "execution_count": 200,
     "metadata": {},
     "output_type": "execute_result"
    }
   ],
   "source": [
    "next(gene5)"
   ]
  },
  {
   "cell_type": "code",
   "execution_count": 201,
   "id": "e43fa2b8-85e8-4792-951c-7d47aa178217",
   "metadata": {},
   "outputs": [
    {
     "data": {
      "text/plain": [
       "1"
      ]
     },
     "execution_count": 201,
     "metadata": {},
     "output_type": "execute_result"
    }
   ],
   "source": [
    "next(gene5)"
   ]
  },
  {
   "cell_type": "code",
   "execution_count": 202,
   "id": "a49f8dfe-36ef-4a8a-b287-d8e3c8898a84",
   "metadata": {},
   "outputs": [
    {
     "data": {
      "text/plain": [
       "2"
      ]
     },
     "execution_count": 202,
     "metadata": {},
     "output_type": "execute_result"
    }
   ],
   "source": [
    "next(gene5)"
   ]
  },
  {
   "cell_type": "code",
   "execution_count": 203,
   "id": "2dfcf990-913f-4622-adbc-e8b442aeefc1",
   "metadata": {},
   "outputs": [
    {
     "data": {
      "text/plain": [
       "[2, 4, 3, 6, 4, 8, 5, 10, 6, 12, 7, 14, 8, 16, 9, 18]"
      ]
     },
     "execution_count": 203,
     "metadata": {},
     "output_type": "execute_result"
    }
   ],
   "source": [
    "list(gene5)"
   ]
  },
  {
   "cell_type": "markdown",
   "id": "ec9e41d2-ceb1-49c8-a58c-959733b8d033",
   "metadata": {},
   "source": [
    "### C-1.28 \n",
    "### The p-norm of a vector v = (v1,v2,...,vn) in n-dimensional space is defined as For the special case of p = 2, this results in the traditional Euclidean norm, which represents the length of the vector. For example, the Euclidean norm of a two-dimensional vector with coordinates (4,3) has a Euclidean norm of √ 42 +32 = √16+9 = √ 25 = 5. Give an implementation of a function named norm such that norm(v, p) returns the p-norm value of v and norm(v) returns the Euclidean norm of v. You may assume that v is a list of numbers."
   ]
  },
  {
   "cell_type": "code",
   "execution_count": 204,
   "id": "769a78b8-4aa2-4881-9513-e7217518ad21",
   "metadata": {},
   "outputs": [],
   "source": [
    "def norm(v:list, p:int):\n",
    "    return pow(sum([pow(i,p) for i in v]),(1/p))"
   ]
  },
  {
   "cell_type": "code",
   "execution_count": 205,
   "id": "f31ea04a-e38b-4302-9085-8c504a1874c1",
   "metadata": {},
   "outputs": [
    {
     "data": {
      "text/plain": [
       "5.0"
      ]
     },
     "execution_count": 205,
     "metadata": {},
     "output_type": "execute_result"
    }
   ],
   "source": [
    "norm([3,4],2)"
   ]
  },
  {
   "cell_type": "markdown",
   "id": "58a2d035-35b0-4127-8a97-93fc9e2ac01f",
   "metadata": {},
   "source": [
    "### P-1.29 \n",
    "### Write a Python program that outputs all possible strings formed by using the characters c , a , t , d , o , and g exactly once."
   ]
  },
  {
   "cell_type": "code",
   "execution_count": 206,
   "id": "2f8da67e-0c98-4039-a44c-f25f7658c0e3",
   "metadata": {},
   "outputs": [],
   "source": [
    "import itertools\n",
    "\n",
    "def get_words(characters):\n",
    "    permutation_set = []\n",
    "    for i in range(2,4): \n",
    "        permutation_set += list(itertools.permutations(characters,i))\n",
    "    return permutation_set"
   ]
  },
  {
   "cell_type": "code",
   "execution_count": 207,
   "id": "bfc95271-873e-4f0c-8747-77508562b1bf",
   "metadata": {},
   "outputs": [
    {
     "data": {
      "text/plain": [
       "[('c', 'a'),\n",
       " ('c', 't'),\n",
       " ('c', 'd'),\n",
       " ('c', 'o'),\n",
       " ('c', 'g'),\n",
       " ('a', 'c'),\n",
       " ('a', 't'),\n",
       " ('a', 'd'),\n",
       " ('a', 'o'),\n",
       " ('a', 'g'),\n",
       " ('t', 'c'),\n",
       " ('t', 'a'),\n",
       " ('t', 'd'),\n",
       " ('t', 'o'),\n",
       " ('t', 'g'),\n",
       " ('d', 'c'),\n",
       " ('d', 'a'),\n",
       " ('d', 't'),\n",
       " ('d', 'o'),\n",
       " ('d', 'g'),\n",
       " ('o', 'c'),\n",
       " ('o', 'a'),\n",
       " ('o', 't'),\n",
       " ('o', 'd'),\n",
       " ('o', 'g'),\n",
       " ('g', 'c'),\n",
       " ('g', 'a'),\n",
       " ('g', 't'),\n",
       " ('g', 'd'),\n",
       " ('g', 'o'),\n",
       " ('c', 'a', 't'),\n",
       " ('c', 'a', 'd'),\n",
       " ('c', 'a', 'o'),\n",
       " ('c', 'a', 'g'),\n",
       " ('c', 't', 'a'),\n",
       " ('c', 't', 'd'),\n",
       " ('c', 't', 'o'),\n",
       " ('c', 't', 'g'),\n",
       " ('c', 'd', 'a'),\n",
       " ('c', 'd', 't'),\n",
       " ('c', 'd', 'o'),\n",
       " ('c', 'd', 'g'),\n",
       " ('c', 'o', 'a'),\n",
       " ('c', 'o', 't'),\n",
       " ('c', 'o', 'd'),\n",
       " ('c', 'o', 'g'),\n",
       " ('c', 'g', 'a'),\n",
       " ('c', 'g', 't'),\n",
       " ('c', 'g', 'd'),\n",
       " ('c', 'g', 'o'),\n",
       " ('a', 'c', 't'),\n",
       " ('a', 'c', 'd'),\n",
       " ('a', 'c', 'o'),\n",
       " ('a', 'c', 'g'),\n",
       " ('a', 't', 'c'),\n",
       " ('a', 't', 'd'),\n",
       " ('a', 't', 'o'),\n",
       " ('a', 't', 'g'),\n",
       " ('a', 'd', 'c'),\n",
       " ('a', 'd', 't'),\n",
       " ('a', 'd', 'o'),\n",
       " ('a', 'd', 'g'),\n",
       " ('a', 'o', 'c'),\n",
       " ('a', 'o', 't'),\n",
       " ('a', 'o', 'd'),\n",
       " ('a', 'o', 'g'),\n",
       " ('a', 'g', 'c'),\n",
       " ('a', 'g', 't'),\n",
       " ('a', 'g', 'd'),\n",
       " ('a', 'g', 'o'),\n",
       " ('t', 'c', 'a'),\n",
       " ('t', 'c', 'd'),\n",
       " ('t', 'c', 'o'),\n",
       " ('t', 'c', 'g'),\n",
       " ('t', 'a', 'c'),\n",
       " ('t', 'a', 'd'),\n",
       " ('t', 'a', 'o'),\n",
       " ('t', 'a', 'g'),\n",
       " ('t', 'd', 'c'),\n",
       " ('t', 'd', 'a'),\n",
       " ('t', 'd', 'o'),\n",
       " ('t', 'd', 'g'),\n",
       " ('t', 'o', 'c'),\n",
       " ('t', 'o', 'a'),\n",
       " ('t', 'o', 'd'),\n",
       " ('t', 'o', 'g'),\n",
       " ('t', 'g', 'c'),\n",
       " ('t', 'g', 'a'),\n",
       " ('t', 'g', 'd'),\n",
       " ('t', 'g', 'o'),\n",
       " ('d', 'c', 'a'),\n",
       " ('d', 'c', 't'),\n",
       " ('d', 'c', 'o'),\n",
       " ('d', 'c', 'g'),\n",
       " ('d', 'a', 'c'),\n",
       " ('d', 'a', 't'),\n",
       " ('d', 'a', 'o'),\n",
       " ('d', 'a', 'g'),\n",
       " ('d', 't', 'c'),\n",
       " ('d', 't', 'a'),\n",
       " ('d', 't', 'o'),\n",
       " ('d', 't', 'g'),\n",
       " ('d', 'o', 'c'),\n",
       " ('d', 'o', 'a'),\n",
       " ('d', 'o', 't'),\n",
       " ('d', 'o', 'g'),\n",
       " ('d', 'g', 'c'),\n",
       " ('d', 'g', 'a'),\n",
       " ('d', 'g', 't'),\n",
       " ('d', 'g', 'o'),\n",
       " ('o', 'c', 'a'),\n",
       " ('o', 'c', 't'),\n",
       " ('o', 'c', 'd'),\n",
       " ('o', 'c', 'g'),\n",
       " ('o', 'a', 'c'),\n",
       " ('o', 'a', 't'),\n",
       " ('o', 'a', 'd'),\n",
       " ('o', 'a', 'g'),\n",
       " ('o', 't', 'c'),\n",
       " ('o', 't', 'a'),\n",
       " ('o', 't', 'd'),\n",
       " ('o', 't', 'g'),\n",
       " ('o', 'd', 'c'),\n",
       " ('o', 'd', 'a'),\n",
       " ('o', 'd', 't'),\n",
       " ('o', 'd', 'g'),\n",
       " ('o', 'g', 'c'),\n",
       " ('o', 'g', 'a'),\n",
       " ('o', 'g', 't'),\n",
       " ('o', 'g', 'd'),\n",
       " ('g', 'c', 'a'),\n",
       " ('g', 'c', 't'),\n",
       " ('g', 'c', 'd'),\n",
       " ('g', 'c', 'o'),\n",
       " ('g', 'a', 'c'),\n",
       " ('g', 'a', 't'),\n",
       " ('g', 'a', 'd'),\n",
       " ('g', 'a', 'o'),\n",
       " ('g', 't', 'c'),\n",
       " ('g', 't', 'a'),\n",
       " ('g', 't', 'd'),\n",
       " ('g', 't', 'o'),\n",
       " ('g', 'd', 'c'),\n",
       " ('g', 'd', 'a'),\n",
       " ('g', 'd', 't'),\n",
       " ('g', 'd', 'o'),\n",
       " ('g', 'o', 'c'),\n",
       " ('g', 'o', 'a'),\n",
       " ('g', 'o', 't'),\n",
       " ('g', 'o', 'd')]"
      ]
     },
     "execution_count": 207,
     "metadata": {},
     "output_type": "execute_result"
    }
   ],
   "source": [
    "characters = ['c','a','t','d','o','g']\n",
    "get_words(characters)"
   ]
  },
  {
   "cell_type": "markdown",
   "id": "d372279e-9a09-494d-a663-53fec06f252b",
   "metadata": {},
   "source": [
    "### P-1.30 \n",
    "### Write a Python program that can take a positive integer greater than 2 as input and write out the number of times one must repeatedly divide this number by 2 before getting a value less than 2."
   ]
  },
  {
   "cell_type": "code",
   "execution_count": 208,
   "id": "a1a4a42a-60d9-4eb9-ac47-78a05201671b",
   "metadata": {},
   "outputs": [],
   "source": [
    "def count_division_by_2(n,count=0):\n",
    "    if n<2:\n",
    "        return count\n",
    "    return count_division_by_2(n/2,count+1)"
   ]
  },
  {
   "cell_type": "code",
   "execution_count": 209,
   "id": "b4d06db1-b55f-4cd0-95d7-7146f6c7adad",
   "metadata": {},
   "outputs": [
    {
     "data": {
      "text/plain": [
       "2"
      ]
     },
     "execution_count": 209,
     "metadata": {},
     "output_type": "execute_result"
    }
   ],
   "source": [
    "count_division_by_2(4)"
   ]
  },
  {
   "cell_type": "code",
   "execution_count": 210,
   "id": "bbed2941-e1a4-4829-a06d-a813265114c8",
   "metadata": {},
   "outputs": [
    {
     "data": {
      "text/plain": [
       "6"
      ]
     },
     "execution_count": 210,
     "metadata": {},
     "output_type": "execute_result"
    }
   ],
   "source": [
    "count_division_by_2(100)"
   ]
  },
  {
   "cell_type": "markdown",
   "id": "889059ff-4f27-4483-bd66-f67adc4cdf81",
   "metadata": {},
   "source": [
    "### P-1.31\n",
    "### Write a Python program that can “make change.” Your program should take two numbers as input, one that is a monetary amount charged and the other that is a monetary amount given. It should then return the number of each kind of bill and coin to give back as change for the difference between the amount given and the amount charged. The values assigned to the bills and coins can be based on the monetary system of any current or former government. Try to design your program so that it returns as few bills and coins as possible"
   ]
  },
  {
   "cell_type": "code",
   "execution_count": 211,
   "id": "9520a5fe-1156-42e1-b0f9-71d7945e784e",
   "metadata": {},
   "outputs": [],
   "source": [
    "def make_change(charged,given):\n",
    "    monetary = {\n",
    "        'hundred':100,\n",
    "        'fifty':50,\n",
    "        'twenty':20,\n",
    "        'ten': 10,\n",
    "        'five':5,\n",
    "        'dollar':1,\n",
    "        'quarter':0.25,\n",
    "        'dime':0.10,\n",
    "        'nickle':0.05,\n",
    "        'penny': 0.01\n",
    "    }\n",
    "    balance = given-charged\n",
    "    change = dict()\n",
    "    for k,v in monetary.items():\n",
    "        while balance >= v:\n",
    "            balance-=v\n",
    "            if change.get(k):\n",
    "                change[k] +=1\n",
    "            else:\n",
    "                change[k]=1\n",
    "    return change"
   ]
  },
  {
   "cell_type": "code",
   "execution_count": 212,
   "id": "77acd34e-37ff-4efb-b0a5-7f4166b6463a",
   "metadata": {},
   "outputs": [
    {
     "data": {
      "text/plain": [
       "{'dollar': 2, 'quarter': 1, 'penny': 3}"
      ]
     },
     "execution_count": 212,
     "metadata": {},
     "output_type": "execute_result"
    }
   ],
   "source": [
    "make_change(27.72,30)"
   ]
  },
  {
   "cell_type": "markdown",
   "id": "34c4fb69-775b-4ab2-9873-78a90f0fe0fe",
   "metadata": {},
   "source": [
    "### P-1.32 and P-1.33\n",
    "### Write a Python program that can simulate a simple calculator, using the console as the exclusive input and output device. That is, each input to the calculator, be it a number, like 12.34 or 1034, or an operator, like + or =, can be done on a separate line. After each such input, you should output to the Python console what would be displayed on your calculator"
   ]
  },
  {
   "cell_type": "code",
   "execution_count": 213,
   "id": "7cac80a6-1553-41f7-b126-ade4d13ce698",
   "metadata": {},
   "outputs": [],
   "source": [
    "def add(a,b):\n",
    "    return a+b\n",
    "\n",
    "def sub(a,b):\n",
    "    return a-b\n",
    "\n",
    "def multiply(a,b):\n",
    "    return a*b\n",
    "\n",
    "def division(a,b):\n",
    "    try:\n",
    "        return a/b\n",
    "    except ZeroDivsionError as zde:\n",
    "        print('Can not divided by zero')\n",
    "        \n",
    "def calculate():\n",
    "    input_feed = None\n",
    "    operations = []\n",
    "    arithmetic = {\n",
    "        '+': add,\n",
    "        '-': sub,\n",
    "        '*': multiply,\n",
    "        '/': division\n",
    "    }\n",
    "    while input_feed != '=':\n",
    "        input_feed = input(\"Enter a number or arthmetic operation(+,-./,*), else type = to end?\")\n",
    "        if input_feed != '=':\n",
    "            try: \n",
    "                operations.append(float(input_feed))\n",
    "            except ValueError as ve:\n",
    "                operations.append(input_feed)\n",
    "    total = operations[0]\n",
    "    get_method = None\n",
    "    \n",
    "    for i in range(1,len(operations)):\n",
    "        if operations[i] in arithmetic:\n",
    "            get_method = arithmetic[operations[i]]\n",
    "            continue\n",
    "        else:\n",
    "            total = get_method(total,operations[i])\n",
    "    return total"
   ]
  },
  {
   "cell_type": "code",
   "execution_count": 214,
   "id": "9eee9e15-9b71-4688-927c-88df896e5ae5",
   "metadata": {},
   "outputs": [
    {
     "ename": "KeyboardInterrupt",
     "evalue": "Interrupted by user",
     "output_type": "error",
     "traceback": [
      "\u001b[1;31m---------------------------------------------------------------------------\u001b[0m",
      "\u001b[1;31mKeyboardInterrupt\u001b[0m                         Traceback (most recent call last)",
      "Cell \u001b[1;32mIn[214], line 1\u001b[0m\n\u001b[1;32m----> 1\u001b[0m \u001b[43mcalculate\u001b[49m\u001b[43m(\u001b[49m\u001b[43m)\u001b[49m\n",
      "Cell \u001b[1;32mIn[213], line 26\u001b[0m, in \u001b[0;36mcalculate\u001b[1;34m()\u001b[0m\n\u001b[0;32m     19\u001b[0m arithmetic \u001b[38;5;241m=\u001b[39m {\n\u001b[0;32m     20\u001b[0m     \u001b[38;5;124m'\u001b[39m\u001b[38;5;124m+\u001b[39m\u001b[38;5;124m'\u001b[39m: add,\n\u001b[0;32m     21\u001b[0m     \u001b[38;5;124m'\u001b[39m\u001b[38;5;124m-\u001b[39m\u001b[38;5;124m'\u001b[39m: sub,\n\u001b[0;32m     22\u001b[0m     \u001b[38;5;124m'\u001b[39m\u001b[38;5;124m*\u001b[39m\u001b[38;5;124m'\u001b[39m: multiply,\n\u001b[0;32m     23\u001b[0m     \u001b[38;5;124m'\u001b[39m\u001b[38;5;124m/\u001b[39m\u001b[38;5;124m'\u001b[39m: division\n\u001b[0;32m     24\u001b[0m }\n\u001b[0;32m     25\u001b[0m \u001b[38;5;28;01mwhile\u001b[39;00m input_feed \u001b[38;5;241m!=\u001b[39m \u001b[38;5;124m'\u001b[39m\u001b[38;5;124m=\u001b[39m\u001b[38;5;124m'\u001b[39m:\n\u001b[1;32m---> 26\u001b[0m     input_feed \u001b[38;5;241m=\u001b[39m \u001b[38;5;28;43minput\u001b[39;49m\u001b[43m(\u001b[49m\u001b[38;5;124;43m\"\u001b[39;49m\u001b[38;5;124;43mEnter a number or arthmetic operation(+,-./,*), else type = to end?\u001b[39;49m\u001b[38;5;124;43m\"\u001b[39;49m\u001b[43m)\u001b[49m\n\u001b[0;32m     27\u001b[0m     \u001b[38;5;28;01mif\u001b[39;00m input_feed \u001b[38;5;241m!=\u001b[39m \u001b[38;5;124m'\u001b[39m\u001b[38;5;124m=\u001b[39m\u001b[38;5;124m'\u001b[39m:\n\u001b[0;32m     28\u001b[0m         \u001b[38;5;28;01mtry\u001b[39;00m: \n",
      "File \u001b[1;32me:\\zm developer\\program files\\python39\\lib\\site-packages\\ipykernel\\kernelbase.py:1282\u001b[0m, in \u001b[0;36mKernel.raw_input\u001b[1;34m(self, prompt)\u001b[0m\n\u001b[0;32m   1280\u001b[0m     msg \u001b[38;5;241m=\u001b[39m \u001b[38;5;124m\"\u001b[39m\u001b[38;5;124mraw_input was called, but this frontend does not support input requests.\u001b[39m\u001b[38;5;124m\"\u001b[39m\n\u001b[0;32m   1281\u001b[0m     \u001b[38;5;28;01mraise\u001b[39;00m StdinNotImplementedError(msg)\n\u001b[1;32m-> 1282\u001b[0m \u001b[38;5;28;01mreturn\u001b[39;00m \u001b[38;5;28;43mself\u001b[39;49m\u001b[38;5;241;43m.\u001b[39;49m\u001b[43m_input_request\u001b[49m\u001b[43m(\u001b[49m\n\u001b[0;32m   1283\u001b[0m \u001b[43m    \u001b[49m\u001b[38;5;28;43mstr\u001b[39;49m\u001b[43m(\u001b[49m\u001b[43mprompt\u001b[49m\u001b[43m)\u001b[49m\u001b[43m,\u001b[49m\n\u001b[0;32m   1284\u001b[0m \u001b[43m    \u001b[49m\u001b[38;5;28;43mself\u001b[39;49m\u001b[38;5;241;43m.\u001b[39;49m\u001b[43m_parent_ident\u001b[49m\u001b[43m[\u001b[49m\u001b[38;5;124;43m\"\u001b[39;49m\u001b[38;5;124;43mshell\u001b[39;49m\u001b[38;5;124;43m\"\u001b[39;49m\u001b[43m]\u001b[49m\u001b[43m,\u001b[49m\n\u001b[0;32m   1285\u001b[0m \u001b[43m    \u001b[49m\u001b[38;5;28;43mself\u001b[39;49m\u001b[38;5;241;43m.\u001b[39;49m\u001b[43mget_parent\u001b[49m\u001b[43m(\u001b[49m\u001b[38;5;124;43m\"\u001b[39;49m\u001b[38;5;124;43mshell\u001b[39;49m\u001b[38;5;124;43m\"\u001b[39;49m\u001b[43m)\u001b[49m\u001b[43m,\u001b[49m\n\u001b[0;32m   1286\u001b[0m \u001b[43m    \u001b[49m\u001b[43mpassword\u001b[49m\u001b[38;5;241;43m=\u001b[39;49m\u001b[38;5;28;43;01mFalse\u001b[39;49;00m\u001b[43m,\u001b[49m\n\u001b[0;32m   1287\u001b[0m \u001b[43m\u001b[49m\u001b[43m)\u001b[49m\n",
      "File \u001b[1;32me:\\zm developer\\program files\\python39\\lib\\site-packages\\ipykernel\\kernelbase.py:1325\u001b[0m, in \u001b[0;36mKernel._input_request\u001b[1;34m(self, prompt, ident, parent, password)\u001b[0m\n\u001b[0;32m   1322\u001b[0m \u001b[38;5;28;01mexcept\u001b[39;00m \u001b[38;5;167;01mKeyboardInterrupt\u001b[39;00m:\n\u001b[0;32m   1323\u001b[0m     \u001b[38;5;66;03m# re-raise KeyboardInterrupt, to truncate traceback\u001b[39;00m\n\u001b[0;32m   1324\u001b[0m     msg \u001b[38;5;241m=\u001b[39m \u001b[38;5;124m\"\u001b[39m\u001b[38;5;124mInterrupted by user\u001b[39m\u001b[38;5;124m\"\u001b[39m\n\u001b[1;32m-> 1325\u001b[0m     \u001b[38;5;28;01mraise\u001b[39;00m \u001b[38;5;167;01mKeyboardInterrupt\u001b[39;00m(msg) \u001b[38;5;28;01mfrom\u001b[39;00m \u001b[38;5;28;01mNone\u001b[39;00m\n\u001b[0;32m   1326\u001b[0m \u001b[38;5;28;01mexcept\u001b[39;00m \u001b[38;5;167;01mException\u001b[39;00m:\n\u001b[0;32m   1327\u001b[0m     \u001b[38;5;28mself\u001b[39m\u001b[38;5;241m.\u001b[39mlog\u001b[38;5;241m.\u001b[39mwarning(\u001b[38;5;124m\"\u001b[39m\u001b[38;5;124mInvalid Message:\u001b[39m\u001b[38;5;124m\"\u001b[39m, exc_info\u001b[38;5;241m=\u001b[39m\u001b[38;5;28;01mTrue\u001b[39;00m)\n",
      "\u001b[1;31mKeyboardInterrupt\u001b[0m: Interrupted by user"
     ]
    },
    {
     "name": "stdin",
     "output_type": "stream",
     "text": [
      "Enter a number or arthmetic operation(+,-./,*), else type = to end? 2\n"
     ]
    }
   ],
   "source": [
    "calculate()"
   ]
  },
  {
   "cell_type": "markdown",
   "id": "58b1fdf4-128b-439c-902b-2e35af1d8cf0",
   "metadata": {},
   "source": [
    "### P-1.34\n",
    "### A common punishment for school children is to write out a sentence multiple times. Write a Python stand-alone program that will write out the following sentence one hundred times: “I will never spam my friends again.” Your program should number each of the sentences and it shouldmake eight different random-looking typos."
   ]
  },
  {
   "cell_type": "code",
   "execution_count": null,
   "id": "38307bb2-e873-4210-bdd9-0eaf19a725d7",
   "metadata": {},
   "outputs": [],
   "source": [
    "def punishment(string,counter,errors=8):\n",
    "    if counter != 0:\n",
    "        if random.randint(1,101) < 50 and errors != 0:\n",
    "            print(string.upper())\n",
    "            errors -=1\n",
    "        else:\n",
    "            print(string)\n",
    "        punishment(string,counter-1,errors)"
   ]
  },
  {
   "cell_type": "code",
   "execution_count": null,
   "id": "736548c9-995c-4655-8add-6b3c93a9f84a",
   "metadata": {},
   "outputs": [],
   "source": [
    "punishment(\"I will not spam my friend again\", 100)"
   ]
  },
  {
   "cell_type": "markdown",
   "id": "99534d57-754a-4461-871d-cc67eb9c4b86",
   "metadata": {},
   "source": [
    "# Ch2 Object-Oriented Programming"
   ]
  },
  {
   "cell_type": "markdown",
   "id": "33e6abda-7ae7-46c0-a68a-86fced2fab7b",
   "metadata": {},
   "source": [
    "\n",
    "## Ch2 Object-Oriented Programming:\n",
    "\n",
    "    Objects are instance of a class\n",
    "    Classes are blue print that are composed of \n",
    "        1. data member or attributes\n",
    "        2. methods are functions\n",
    "\n",
    "### Software goals are:\n",
    "        1. Robustness - being able to handle various inputs that are not explicit and return expected behavior. Avoid errors as much as possible\n",
    "        2. Adaptability(evolvability) - the ability pf spftware tp run with minmal change on different hardware and operating systems\n",
    "        3. Reusability - software code should be usable as component for different systems in various applications\n",
    "\n",
    "    \n",
    "###  Principles in OOP:\n",
    "        1. Modularity - organizing principle in which different components of software are divided into separate function unit\n",
    "            module - is a collection of closely related functions and classes that are defined together in a single file\n",
    "            Being modules allows to easily debug and trace where issues are \n",
    "        2. Abstraction - \n",
    "            - distill a system to its fundamental parts\n",
    "            - python support abstract data type using Abstract Base Class or (ABC) \n",
    "            - ABC can not have concrete class or implementation of that class\n",
    "        3. Encapsulation\n",
    "            - components of software should not reveal the internal details of their respective implementations.Main purpose of encapsulation is to\n",
    "              have loose coupling\n",
    "\n",
    "###  Design Patterns:\n",
    "        - Design patterns to address common problems\n",
    "        - Purpose is to \n",
    "            1. Solving algorithm design problems \n",
    "            2. Solving software engineering problem\n",
    "\n",
    "        Algo Design Patterns:\n",
    "            1. Recursion\n",
    "            2. Amortization\n",
    "            3. Prunch and search\n",
    "            4. Brute Force\n",
    "            5. Dynamic Programming\n",
    "            6. Greedy method\n",
    "\n",
    "        Software engineering Design Pattern:\n",
    "            1. Itearator \n",
    "            2. Adapter\n",
    "            3. Position\n",
    "            4. Compostion\n",
    "            5. Template method\n",
    "            6. Locator\n",
    "            7. Factor Method \n",
    "\n",
    "        Software Development Phases:\n",
    "            1. Design\n",
    "                - very important phase\n",
    "                - dividing the programming into modules/classes\n",
    "                - interactions of each classes\n",
    "                - data each will store\n",
    "                - actions each class will perform\n",
    "                \n",
    "                Rules for Design:\n",
    "                    1. Responsiblities - describe the actors responsibilities. Use action verbs \n",
    "                    2. Independence - define the work for each class to be as independent from other classes as possible. \n",
    "                       Give data to the class that has juridiction over the action that requires access to this data\n",
    "                    3. Behavior - define the behaiors for each class carefully and precisely, so consequences of each action performed by a class will\n",
    "                       be understood\n",
    "\n",
    "                UML\n",
    "                    - uml diagrams are standard visual notation to express object-oriented software designs\n",
    "                        - class diagram - \n",
    "                            defines the fields \n",
    "                                1. name of the class\n",
    "                                2. variables\n",
    "                                3. methods\n",
    "                PEP8 \n",
    "                    - standard coding for python\n",
    "                    - url: https://peps.python.org/pep-0008/\n",
    "                    - 4 space or indentation\n",
    "                    - using meaniful name for indentifier \n",
    "                    -  Class\n",
    "                        - should be a noun\n",
    "                        - Capitalized first letter or Camel Case if multiple word\n",
    "                    - Function\n",
    "                        - should be lower case\n",
    "                        - multiple words underscore and still lowercase eg. do_something\n",
    "                        - typically a verb\n",
    "                    - instances\n",
    "                        - lowercase \n",
    "                        - name that described the object\n",
    "                    - comments\n",
    "                        - \"\"\" block comments\"\"\"\n",
    "                        - # this is a comment \n",
    "                        - use comments sparingly, functions should describe the intended action of what is expected\n",
    "                        - if comments are needed try add docstring\n",
    "                            url: https://peps.python.org/pep-0257/\n",
    "                \n",
    "            2. Implementation\n",
    "            3. Testing and debugging\n",
    "                    Testing:\n",
    "                        - Is the process of experimentally checking the correctness of a program\n",
    "                        - A careful test plan is estential part of writing a program\n",
    "                        - Programs tend to fail on special cases of input\n",
    "                        - consider min,max, dependency,impact,worst and best case sceanrios\n",
    "                        - testing strategies:\n",
    "                            1. Top down\n",
    "                                - processed from the top to the bottom of the application/program\n",
    "                                - typically used with stubbing - replacing low level components with stub\n",
    "                                - stub is a replacement of a component the simulate the functionally of the original\n",
    "                            2. Bottom up\n",
    "                                - testing from lower level components to high level compenents\n",
    "                                - utilized unit testing\n",
    "                                    - isolate errors and determine root cause\n",
    "                                - utilizing the unittest module\n",
    "                                - regression testing is used, whereby all previous tests are re-executed to ensure that changes to the software do \n",
    "                                  not introduct new bugs in previously tested compnent \n",
    "                    Debugging:\n",
    "                        - Is the process of tracking the execution of a program and diverying the error in it\n",
    "                        - Simplest form of debugging is print statement. This is a bad approach. Instead of littering the program with \n",
    "                          print. Only use debug level. \n",
    "                        - Using a debugger as well to identify the break point and inspect the variable\n",
    "                    Testing and debugging is the most time consuming task in development\n",
    "        \n",
    "###     Class Definition:\n",
    "            - Composes of attributes(data) and methods(functions/behavior)\n",
    "            - classes act a blueprint for instances\n",
    "            - self keyword:\n",
    "                - refer to the instance it self\n",
    "            - constructor:\n",
    "                - creation of an object using the __init__(self,) function\n",
    "            - data members:\n",
    "                _variable_name or _function is used to describe a non public attribute or method\n",
    "                __varible_name or __function_name is used to describe a private attibute or method \n",
    "                - generale rule to treat all data members as non public \n",
    "            - polymorphism \n",
    "                - taking on many forms with functions using overloaded\n",
    "            \n",
    "                    Overloaded operations:\n",
    "                        Common Syntax Special Method Form or magic methods \n",
    "                        \n",
    "                        a+b a.add(b);alternatively b.radd(a)\n",
    "                        a−b a.sub(b); alternatively b.rsub(a)\n",
    "                        a*b a.mul(b); alternativelyb.rmul(a)\n",
    "                        a/b a.truediv(b);alternatively b.rtruediv(a)\n",
    "                        a//b a.floordiv(b);alternatively b.rfloordiv(a)\n",
    "                        a%b a.mod(b);alternatively b.rmod(a)\n",
    "                        a**b a.pow(b);alternatively b.rpow(a)\n",
    "                        a<<b a.lshift(b); alternativelyb.rlshift(a)\n",
    "                        a>>b a.rshift(b); alternativelyb.rrshift(a)\n",
    "                        a&b a.and(b);alternatively b.rand(a)\n",
    "                        aˆb a.xor(b);alternatively b.rxor(a)\n",
    "                        a|b a.or(b);alternatively b.ror(a)\n",
    "                        a+=b a.iadd(b)\n",
    "                        a−=b a.isub(b)\n",
    "                        a=b a.imul(b)\n",
    "                        +a a. pos ( )\n",
    "                        −a a. neg ( )\n",
    "                        ˜a a. invert ( )\n",
    "                        abs(a) a.abs()\n",
    "                        a<b a.lt(b)\n",
    "                        a<=b a.le(b)\n",
    "                        a>b a.gt(b)\n",
    "                        a>=b a.ge(b)\n",
    "                        a==b a.eq(b)\n",
    "                        a!=b a.ne(b)\n",
    "                        vina a.contains(v)\n",
    "                        a[k] a.getitem(k)\n",
    "                        a[k]=v a.setitem(k,v)\n",
    "                        del a[k] a.delitem(k)\n",
    "                        a(arg1,arg2,...) a.call(arg1,arg2,...)\n",
    "                        len(a) a.len()\n",
    "                        hash(a) a.hash()\n",
    "                        iter(a) a.iter()\n",
    "                        next(a) a.next()\n",
    "                        bool(a) a.bool()\n",
    "                        float(a) a.float()\n",
    "                        int(a) a.int()\n",
    "                        repr(a) a.repr()\n",
    "                        reversed(a) a.reversed()\n",
    "                        str(a) a.str()\n",
    "                        \n",
    "            \n",
    "###     Iterators\n",
    "            - Iteration - is an imporatant concept in design of data structure\n",
    "            - an iterator for a collection provides one key behavior. The __next__() that returns the next eleemnt of the collection\n",
    "                until a StopIteration exception has been tossed\n",
    "            - use generator over implementing an iterator class\n",
    "            - Python helps by providing an automatice iterator\n",
    "            - an Example is SequenceIterator to go under the hood of an Iterator class\n",
    "\n",
    "###     Range\n",
    "            - range used to be an expensive function creating a list of number specified\n",
    "            - current implementation of range is now using lazy evaulation\n",
    "            - recommend create a r= range(8,140,5)\n",
    "\n",
    "###     Inheritence\n",
    "            - Using hierachal method to structure a software package\n",
    "            - in mathematical notation of subset to define set is a part of superset\n",
    "            - is a relationship - between the superset and the subset\n",
    "            - inheritence is a mechanism for a modular and hierachial orgnization\n",
    "            - there is a \n",
    "                1. base class, parent class, or super class \n",
    "                2. Subclass or child class\n",
    "                    - differs in behavior by 2 ways\n",
    "                        1. new implemntation that overrides the existing method\n",
    "                        2. subclass extends it superclass by providing a new method\n",
    "            - Overriding means having two methods with the same method name and parameters but different class(i.e., method signature).\n",
    "              Different implementation\n",
    "                - eg. class B inherits from Class A, both have method called foo, but have different behavior\n",
    "            - Overloading occurs when two or more methods in one class have the same method name but different parameters.\n",
    "                - eg. class a has two methods call foo, but  one foo has a arguement of 2 while ther other has 1\n",
    "            - super() method - inheritence constructor\n",
    "\n",
    "\n",
    "### Protected Members\n",
    "            - _ is considered protected\n",
    "            - __ is considered private\n",
    "\n",
    "### Abstract Base Class\n",
    "            - A class is abstract base class, if its only purpose is to serve as base class through inheritance\n",
    "            - Abstract Bass Class can not be instantiated \n",
    "            - Concrete classes can be instatiated\n",
    "            - Template method pattern - when an abstract base class provides concrete behavior that rely upon class to other behavior\n",
    "\n",
    "### Name spaces and Object Orientation\n",
    "            - Namespace - is an abstraction that manages all of the indentifiers that are defined in a particular scope, mapping each name to its \n",
    "              assocated\n",
    "            - Class and modules are first class objects and so the value assocaited with an identifier in a namespace may in fact be a function, class\n",
    "              or module\n",
    "            - instance namespace - manages attributes specific to an individual object or instance\n",
    "            - class namespace - each class that has been defined, this namespace is used to manage members that are to be shared by all nstances of a \n",
    "                                class\n",
    "\n",
    "### Shallow and deep copying\n",
    "            - shallow copy - when instantiated a object or create a new instance. This is known as shallow copy. \n",
    "                - this is referential\n",
    "            - deep copy - the new copy reference it own copies of those objects "
   ]
  },
  {
   "cell_type": "code",
   "execution_count": 215,
   "id": "40748b9a-d607-41e0-83df-c849c5f52198",
   "metadata": {},
   "outputs": [],
   "source": [
    "# Define a class call credit card\n",
    "class CreditCard:\n",
    "    _currency_symbol = {\n",
    "        'DOLLAR': '$',\n",
    "        'EURO': '€'\n",
    "    }\n",
    "    \n",
    "    def __init__(self,customer,bank,acnt,limit,_currency='DOLLAR'):\n",
    "        self._customer = customer\n",
    "        self._bank = bank\n",
    "        self._account = acnt\n",
    "        self._limit = float(limit)\n",
    "        self.__balance = 0.00\n",
    "        self._currency = self._currency_symbol[_currency]\n",
    "\n",
    "    def get_customer(self):\n",
    "        return self._customer\n",
    "\n",
    "    def get_bank(self,):\n",
    "        return self._bank\n",
    "\n",
    "    def get_account(self,):\n",
    "        return self._account\n",
    "\n",
    "    def get_limit(self,):\n",
    "        return self._limit\n",
    "\n",
    "    def get_balance(self,is_currency=False):\n",
    "        if is_currency:\n",
    "            return f'{self.get_currency()} {self.__balance}'\n",
    "        return self.__balance\n",
    "        \n",
    "\n",
    "    def get_currency(self):\n",
    "        return self._currency\n",
    "\n",
    "    def set_currency(self,currency):\n",
    "        if self._currency_symbol.get(currency):\n",
    "            self.currency = self._currency_symbol.get(currency)\n",
    "    \n",
    "    def charge(self,price):\n",
    "        if price + self.__balance > self._limit:\n",
    "            return False\n",
    "        else:\n",
    "            self.__balance+=price\n",
    "            return True\n",
    "\n",
    "    def make_payment(self,amount):\n",
    "        self.__balance-=amount\n",
    "    "
   ]
  },
  {
   "cell_type": "code",
   "execution_count": 216,
   "id": "72d5f761-c7b9-465a-983d-584c7b8c4495",
   "metadata": {},
   "outputs": [],
   "source": [
    "cc = CreditCard('Fanny Reguieg', 'Societe Generale', '5112-1224-7845-1','100000','EURO')"
   ]
  },
  {
   "cell_type": "code",
   "execution_count": 217,
   "id": "481fb35c-3af2-4a78-9259-908ee6f23c7d",
   "metadata": {},
   "outputs": [
    {
     "data": {
      "text/plain": [
       "0.0"
      ]
     },
     "execution_count": 217,
     "metadata": {},
     "output_type": "execute_result"
    }
   ],
   "source": [
    "cc.get_balance()"
   ]
  },
  {
   "cell_type": "code",
   "execution_count": 218,
   "id": "b3a459e7-c15e-4245-98b6-8c51192ea2db",
   "metadata": {},
   "outputs": [
    {
     "ename": "AttributeError",
     "evalue": "'CreditCard' object has no attribute '__balance'",
     "output_type": "error",
     "traceback": [
      "\u001b[1;31m---------------------------------------------------------------------------\u001b[0m",
      "\u001b[1;31mAttributeError\u001b[0m                            Traceback (most recent call last)",
      "Cell \u001b[1;32mIn[218], line 1\u001b[0m\n\u001b[1;32m----> 1\u001b[0m \u001b[43mcc\u001b[49m\u001b[38;5;241;43m.\u001b[39;49m\u001b[43m__balance\u001b[49m\n",
      "\u001b[1;31mAttributeError\u001b[0m: 'CreditCard' object has no attribute '__balance'"
     ]
    }
   ],
   "source": [
    "cc.__balance"
   ]
  },
  {
   "cell_type": "code",
   "execution_count": 219,
   "id": "458365bc-28c3-4198-88b7-1505afc061a9",
   "metadata": {},
   "outputs": [
    {
     "data": {
      "text/plain": [
       "'€ 0.0'"
      ]
     },
     "execution_count": 219,
     "metadata": {},
     "output_type": "execute_result"
    }
   ],
   "source": [
    "cc.get_balance(True)"
   ]
  },
  {
   "cell_type": "code",
   "execution_count": 220,
   "id": "61caa1b1-bafc-4c4f-81a6-fc01ad51d239",
   "metadata": {},
   "outputs": [
    {
     "data": {
      "text/plain": [
       "100000.0"
      ]
     },
     "execution_count": 220,
     "metadata": {},
     "output_type": "execute_result"
    }
   ],
   "source": [
    "cc.get_limit()"
   ]
  },
  {
   "cell_type": "code",
   "execution_count": 221,
   "id": "6f9ef6c7-c91c-4f9e-9987-bb3b6b56badd",
   "metadata": {},
   "outputs": [
    {
     "name": "stdout",
     "output_type": "stream",
     "text": [
      "Customer is Fanny Reguieg\n",
      "Bank is Societe Generale\n",
      "Account is 5112-1224-7845-1\n",
      "Credit Card Limit is 100000.0\n",
      "Credit Card Balance is € 1496.0\n",
      "Credit Card new balance is € 1396.0\n",
      "Credit Card new balance is € 1296.0\n",
      "Credit Card new balance is € 1196.0\n",
      "Credit Card new balance is € 1096.0\n",
      "Credit Card new balance is € 996.0\n",
      "Credit Card new balance is € 896.0\n",
      "Credit Card new balance is € 796.0\n",
      "Credit Card new balance is € 696.0\n",
      "Credit Card new balance is € 596.0\n",
      "Credit Card new balance is € 496.0\n",
      "Credit Card new balance is € 396.0\n",
      "Credit Card new balance is € 296.0\n",
      "Credit Card new balance is € 196.0\n",
      "Credit Card new balance is € 96.0\n",
      "\n",
      "Customer is Fanny Reguieg\n",
      "Bank is BNP Paribas\n",
      "Account is 1425-8597-4457-2\n",
      "Credit Card Limit is 10000.0\n",
      "Credit Card Balance is € 816.0\n",
      "Credit Card new balance is € 716.0\n",
      "Credit Card new balance is € 616.0\n",
      "Credit Card new balance is € 516.0\n",
      "Credit Card new balance is € 416.0\n",
      "Credit Card new balance is € 316.0\n",
      "Credit Card new balance is € 216.0\n",
      "Credit Card new balance is € 116.0\n",
      "Credit Card new balance is € 16.0\n",
      "\n",
      "Customer is Fanny Reguieg\n",
      "Bank is Credit Agricole CIB\n",
      "Account is 7477-5779-9998-3\n",
      "Credit Card Limit is 1000000.0\n",
      "Credit Card Balance is € 1496.0\n",
      "Credit Card new balance is € 1396.0\n",
      "Credit Card new balance is € 1296.0\n",
      "Credit Card new balance is € 1196.0\n",
      "Credit Card new balance is € 1096.0\n",
      "Credit Card new balance is € 996.0\n",
      "Credit Card new balance is € 896.0\n",
      "Credit Card new balance is € 796.0\n",
      "Credit Card new balance is € 696.0\n",
      "Credit Card new balance is € 596.0\n",
      "Credit Card new balance is € 496.0\n",
      "Credit Card new balance is € 396.0\n",
      "Credit Card new balance is € 296.0\n",
      "Credit Card new balance is € 196.0\n",
      "Credit Card new balance is € 96.0\n",
      "\n"
     ]
    }
   ],
   "source": [
    "wallet = []\n",
    "wallet.append(cc)\n",
    "wallet.append(CreditCard('Fanny Reguieg', 'BNP Paribas', '1425-8597-4457-2','10000','EURO'))\n",
    "wallet.append(CreditCard('Fanny Reguieg', 'Credit Agricole CIB', '7477-5779-9998-3','1000000','EURO'))\n",
    "\n",
    "for val in range(1,17):\n",
    "    for cc in wallet:\n",
    "        cc.charge(val)\n",
    "        if cc.get_bank() == 'BNP Paribas':\n",
    "            cc.charge(val*5)\n",
    "        else:\n",
    "            cc.charge(val*10)\n",
    "for cc in wallet:\n",
    "    print(f'Customer is {cc.get_customer()}')\n",
    "    print(f'Bank is {cc.get_bank()}')\n",
    "    print(f'Account is {cc.get_account()}')\n",
    "    print(f'Credit Card Limit is {cc.get_limit()}')\n",
    "    print(f'Credit Card Balance is {cc.get_balance(True)}')\n",
    "    while cc.get_balance() > 100:\n",
    "        cc.make_payment(100)\n",
    "        print(f'Credit Card new balance is {cc.get_balance(True)}')\n",
    "    print()\n",
    "        "
   ]
  },
  {
   "cell_type": "code",
   "execution_count": 222,
   "id": "abc3a9e3-0915-4453-a42a-bb7241a459e7",
   "metadata": {},
   "outputs": [],
   "source": [
    "### Over loaded operations with a list as the object\n",
    "class Vector:\n",
    "    \"\"\"Represent a multidimension space\"\"\"\n",
    "    def __init__(self,dimension:int):\n",
    "        self._coords = [0] * dimension\n",
    "\n",
    "    def __len__(self):\n",
    "        \"\"\"Return the demsion of the ventor\"\"\"\n",
    "        return len(self._coords)\n",
    "\n",
    "    def __getitem__(self,j):\n",
    "        \"\"\"Return jth coordinate of vector\"\"\"\n",
    "        return self._coords[j]\n",
    "\n",
    "    def __setitem__(self,j,val):\n",
    "        \"\"\"Set jth coordinate of vector to given value\"\"\"\n",
    "        self._coords[j] = val\n",
    "\n",
    "    def __add__(self,other):\n",
    "        \"\"\"return sum of two vectors\n",
    "            vector must be same length in order to get the sum\n",
    "        \"\"\"\n",
    "        if len(self) != len(other):\n",
    "            raise ValueError('dimensions must agree')\n",
    "        result = Vector(len(self))\n",
    "        for j in range(len(self)):\n",
    "            result[j] = self[j] + other[j]\n",
    "        return result\n",
    "\n",
    "    def __eq__(self,other):\n",
    "        \"\"\"Return True if vector has same coordinates as other\"\"\"\n",
    "        return self._coords == other._coords\n",
    "\n",
    "    def __ne__(self,other):\n",
    "        \"\"\"Return True if vector differ from other\"\"\"\n",
    "        return not self == other\n",
    "\n",
    "    def __str__(self,):\n",
    "        \"\"\"Produce string representation of vector\"\"\"\n",
    "        return f'< {str(self._coords)[1:-1]} >'\n",
    "        \n",
    "        \n"
   ]
  },
  {
   "cell_type": "code",
   "execution_count": 223,
   "id": "f56f943a-742a-41b1-b340-df63a083e77d",
   "metadata": {},
   "outputs": [],
   "source": [
    "v= Vector(5)"
   ]
  },
  {
   "cell_type": "code",
   "execution_count": 224,
   "id": "b176a7fe-ec90-496b-aaee-c15bc91c7243",
   "metadata": {},
   "outputs": [
    {
     "data": {
      "text/plain": [
       "5"
      ]
     },
     "execution_count": 224,
     "metadata": {},
     "output_type": "execute_result"
    }
   ],
   "source": [
    "len(v)"
   ]
  },
  {
   "cell_type": "code",
   "execution_count": 225,
   "id": "602f8d45-8e14-4102-9215-fd393dd4157a",
   "metadata": {},
   "outputs": [],
   "source": [
    "for i in range(0,4):\n",
    "    v[i] = i"
   ]
  },
  {
   "cell_type": "code",
   "execution_count": 226,
   "id": "0ddece0c-781b-4bfa-a735-4a58bc3b0a3d",
   "metadata": {},
   "outputs": [
    {
     "name": "stdout",
     "output_type": "stream",
     "text": [
      "0\n",
      "1\n",
      "2\n",
      "3\n"
     ]
    }
   ],
   "source": [
    "for i in range(0,4):\n",
    "    print(v[i])"
   ]
  },
  {
   "cell_type": "code",
   "execution_count": 227,
   "id": "b03ad913-e9be-48a2-8a0b-1ef8c83b7a9a",
   "metadata": {},
   "outputs": [
    {
     "data": {
      "text/plain": [
       "0"
      ]
     },
     "execution_count": 227,
     "metadata": {},
     "output_type": "execute_result"
    }
   ],
   "source": [
    "v[4]"
   ]
  },
  {
   "cell_type": "code",
   "execution_count": 228,
   "id": "d8740d48-3c7f-44b6-81f2-fc56c5704196",
   "metadata": {},
   "outputs": [
    {
     "data": {
      "text/plain": [
       "'< 0, 1, 2, 3, 0 >'"
      ]
     },
     "execution_count": 228,
     "metadata": {},
     "output_type": "execute_result"
    }
   ],
   "source": [
    "str(v)"
   ]
  },
  {
   "cell_type": "code",
   "execution_count": 229,
   "id": "9f3e8b28-73f7-4ded-8441-55a405d0bfff",
   "metadata": {},
   "outputs": [],
   "source": [
    "other = Vector(5)"
   ]
  },
  {
   "cell_type": "code",
   "execution_count": 230,
   "id": "6360c3c7-495a-4235-96af-5a2e37f04942",
   "metadata": {},
   "outputs": [
    {
     "data": {
      "text/plain": [
       "False"
      ]
     },
     "execution_count": 230,
     "metadata": {},
     "output_type": "execute_result"
    }
   ],
   "source": [
    "v == other"
   ]
  },
  {
   "cell_type": "code",
   "execution_count": 231,
   "id": "c0c600c7-1418-438e-acbb-a90069834b51",
   "metadata": {},
   "outputs": [
    {
     "data": {
      "text/plain": [
       "True"
      ]
     },
     "execution_count": 231,
     "metadata": {},
     "output_type": "execute_result"
    }
   ],
   "source": [
    "v != other"
   ]
  },
  {
   "cell_type": "code",
   "execution_count": 232,
   "id": "d68972c4-b438-48f6-886f-9035c8b3e1ba",
   "metadata": {},
   "outputs": [],
   "source": [
    "for i in range(len(other)):\n",
    "    other[i] = (i+5)**2"
   ]
  },
  {
   "cell_type": "code",
   "execution_count": 233,
   "id": "f6309945-485e-4046-ae2e-4366aa4f0b12",
   "metadata": {},
   "outputs": [
    {
     "data": {
      "text/plain": [
       "'< 25, 36, 49, 64, 81 >'"
      ]
     },
     "execution_count": 233,
     "metadata": {},
     "output_type": "execute_result"
    }
   ],
   "source": [
    "str(other)"
   ]
  },
  {
   "cell_type": "code",
   "execution_count": 234,
   "id": "0464245c-f101-4f08-9e8c-391783196d45",
   "metadata": {},
   "outputs": [],
   "source": [
    "combo_vector = other + v"
   ]
  },
  {
   "cell_type": "code",
   "execution_count": 235,
   "id": "9c604b67-43b0-4edd-bf35-75d5b751fd94",
   "metadata": {},
   "outputs": [
    {
     "data": {
      "text/plain": [
       "<__main__.Vector at 0x1d45cc3a7c0>"
      ]
     },
     "execution_count": 235,
     "metadata": {},
     "output_type": "execute_result"
    }
   ],
   "source": [
    "combo_vector"
   ]
  },
  {
   "cell_type": "code",
   "execution_count": 236,
   "id": "1458db13-edf0-4c7c-8874-fdcf7fa9c9c1",
   "metadata": {},
   "outputs": [
    {
     "data": {
      "text/plain": [
       "'< 25, 37, 51, 67, 81 >'"
      ]
     },
     "execution_count": 236,
     "metadata": {},
     "output_type": "execute_result"
    }
   ],
   "source": [
    "str(combo_vector)"
   ]
  },
  {
   "cell_type": "code",
   "execution_count": 237,
   "id": "f00e2e6d-44cf-4d01-aed0-db0bca7558e5",
   "metadata": {},
   "outputs": [],
   "source": [
    "class SequenceIterator:\n",
    "\n",
    "    def __init__(self,sequence):\n",
    "        # create an iterator for a given sequence \n",
    "        self._seq = sequence # keep a reference of the underlying data\n",
    "        self._k = -1 # will increment to 0 on the first call to next \n",
    "\n",
    "    def __len__(self,):\n",
    "        return len(self._seq)\n",
    "    \n",
    "    def __next__(self,):\n",
    "        \"\"\" Return the next element, or else raise StopIteration error.\"\"\"\n",
    "        self._k +=1\n",
    "        if self._k < len(self._seq):\n",
    "            return(self._seq[self._k])\n",
    "        else:\n",
    "            raise StopIteration()\n",
    "\n",
    "    def __iter__(self):\n",
    "        \"\"\"By convention, an iterator must return iteself as an iterator\"\"\"\n",
    "        return self"
   ]
  },
  {
   "cell_type": "code",
   "execution_count": 238,
   "id": "0f211d31-ddb9-4f1b-bc91-1792b9bf6f93",
   "metadata": {},
   "outputs": [],
   "source": [
    "si = SequenceIterator([1,2,3])"
   ]
  },
  {
   "cell_type": "code",
   "execution_count": 239,
   "id": "579fc378-ff9d-47ca-b95f-d80fb04d3123",
   "metadata": {},
   "outputs": [
    {
     "data": {
      "text/plain": [
       "3"
      ]
     },
     "execution_count": 239,
     "metadata": {},
     "output_type": "execute_result"
    }
   ],
   "source": [
    "len(si)"
   ]
  },
  {
   "cell_type": "code",
   "execution_count": 240,
   "id": "622f82df-c7d3-42a6-b257-1103c11c7622",
   "metadata": {},
   "outputs": [
    {
     "name": "stdout",
     "output_type": "stream",
     "text": [
      "1\n",
      "2\n",
      "3\n"
     ]
    }
   ],
   "source": [
    "for _ in range(len(si)):\n",
    "    print(next(si))"
   ]
  },
  {
   "cell_type": "code",
   "execution_count": 241,
   "id": "8670e1e3-5dc2-4523-9bc0-218ac326dc7b",
   "metadata": {},
   "outputs": [
    {
     "ename": "StopIteration",
     "evalue": "",
     "output_type": "error",
     "traceback": [
      "\u001b[1;31m---------------------------------------------------------------------------\u001b[0m",
      "\u001b[1;31mStopIteration\u001b[0m                             Traceback (most recent call last)",
      "Cell \u001b[1;32mIn[241], line 1\u001b[0m\n\u001b[1;32m----> 1\u001b[0m \u001b[38;5;28;43mnext\u001b[39;49m\u001b[43m(\u001b[49m\u001b[43msi\u001b[49m\u001b[43m)\u001b[49m\n",
      "Cell \u001b[1;32mIn[237], line 17\u001b[0m, in \u001b[0;36mSequenceIterator.__next__\u001b[1;34m(self)\u001b[0m\n\u001b[0;32m     15\u001b[0m     \u001b[38;5;28;01mreturn\u001b[39;00m(\u001b[38;5;28mself\u001b[39m\u001b[38;5;241m.\u001b[39m_seq[\u001b[38;5;28mself\u001b[39m\u001b[38;5;241m.\u001b[39m_k])\n\u001b[0;32m     16\u001b[0m \u001b[38;5;28;01melse\u001b[39;00m:\n\u001b[1;32m---> 17\u001b[0m     \u001b[38;5;28;01mraise\u001b[39;00m \u001b[38;5;167;01mStopIteration\u001b[39;00m()\n",
      "\u001b[1;31mStopIteration\u001b[0m: "
     ]
    }
   ],
   "source": [
    "next(si)"
   ]
  },
  {
   "cell_type": "code",
   "execution_count": 242,
   "id": "0ee1d51d-8e07-4fc8-af97-1eec61bd5624",
   "metadata": {},
   "outputs": [],
   "source": [
    "r = range(8,140,5)"
   ]
  },
  {
   "cell_type": "code",
   "execution_count": 243,
   "id": "a8d279b5-9659-4064-8256-0c0a62f45e3a",
   "metadata": {},
   "outputs": [
    {
     "data": {
      "text/plain": [
       "27"
      ]
     },
     "execution_count": 243,
     "metadata": {},
     "output_type": "execute_result"
    }
   ],
   "source": [
    "len(r)"
   ]
  },
  {
   "cell_type": "code",
   "execution_count": 244,
   "id": "98852eb3-8990-40b5-a348-dd4a19da53d0",
   "metadata": {},
   "outputs": [
    {
     "data": {
      "text/plain": [
       "83"
      ]
     },
     "execution_count": 244,
     "metadata": {},
     "output_type": "execute_result"
    }
   ],
   "source": [
    "r[15] # use the __getitem__() function "
   ]
  },
  {
   "cell_type": "code",
   "execution_count": 245,
   "id": "99cd02d8-1438-4251-9549-52aaa796e46e",
   "metadata": {},
   "outputs": [
    {
     "data": {
      "text/plain": [
       "8"
      ]
     },
     "execution_count": 245,
     "metadata": {},
     "output_type": "execute_result"
    }
   ],
   "source": [
    "r[0]"
   ]
  },
  {
   "cell_type": "code",
   "execution_count": 246,
   "id": "9c47d4b5-9de7-486f-b913-8473802279d2",
   "metadata": {},
   "outputs": [],
   "source": [
    "class Range:\n",
    "    \"\"\" A class that mimics the built-in range class\"\"\"\n",
    "    def __init__(self,start,stop=None, step=1):\n",
    "        if step == 0:\n",
    "            raise ValueError(\"Step cannot be 0\")\n",
    "\n",
    "        if stop is None:\n",
    "            start,stop = 0, start\n",
    "\n",
    "        self._length = max(0,(stop - start + step -1) // step)\n",
    "        self._start = start\n",
    "        self._step = step\n",
    "\n",
    "    def __len__(self,):\n",
    "        return self._length\n",
    "\n",
    "    def __getitem__(self,k):\n",
    "        if k < 0:\n",
    "            k += len(self)\n",
    "        \n",
    "        if not 0 <= k < self._length:\n",
    "            raise IndexError('index out of range')\n",
    "\n",
    "        return self._start + k *self._step"
   ]
  },
  {
   "cell_type": "code",
   "execution_count": 247,
   "id": "85854aef-607b-4ba8-84d1-8ac2dabfedcc",
   "metadata": {},
   "outputs": [
    {
     "name": "stdout",
     "output_type": "stream",
     "text": [
      "stop is None\n",
      "0 10\n"
     ]
    }
   ],
   "source": [
    "start = 10\n",
    "stop = None\n",
    "if stop is None:\n",
    "    print(f'stop is None')\n",
    "    start,stop = 0,start \n",
    "print(start,stop)"
   ]
  },
  {
   "cell_type": "code",
   "execution_count": 248,
   "id": "7ac11383-b6cb-4c35-8429-89592af4899c",
   "metadata": {},
   "outputs": [],
   "source": [
    "r1 = Range(10)"
   ]
  },
  {
   "cell_type": "code",
   "execution_count": 249,
   "id": "23a1b04c-dfc1-49de-a547-b0df19d30bfa",
   "metadata": {},
   "outputs": [
    {
     "data": {
      "text/plain": [
       "[0, 1, 2, 3, 4, 5, 6, 7, 8, 9]"
      ]
     },
     "execution_count": 249,
     "metadata": {},
     "output_type": "execute_result"
    }
   ],
   "source": [
    "list(r1)"
   ]
  },
  {
   "cell_type": "code",
   "execution_count": 250,
   "id": "e63423bb-7b03-4932-a596-0a9184a96072",
   "metadata": {},
   "outputs": [
    {
     "data": {
      "text/plain": [
       "0"
      ]
     },
     "execution_count": 250,
     "metadata": {},
     "output_type": "execute_result"
    }
   ],
   "source": [
    "r1[0]"
   ]
  },
  {
   "cell_type": "code",
   "execution_count": 251,
   "id": "5fec7f9c-d015-4e2c-ac8e-cf5e4440cc8e",
   "metadata": {},
   "outputs": [
    {
     "data": {
      "text/plain": [
       "9"
      ]
     },
     "execution_count": 251,
     "metadata": {},
     "output_type": "execute_result"
    }
   ],
   "source": [
    "r1[-1]"
   ]
  },
  {
   "cell_type": "code",
   "execution_count": 252,
   "id": "693c71b7-31b3-4864-b50b-599850932bc0",
   "metadata": {},
   "outputs": [
    {
     "data": {
      "text/plain": [
       "0"
      ]
     },
     "execution_count": 252,
     "metadata": {},
     "output_type": "execute_result"
    }
   ],
   "source": [
    "r1[-10]"
   ]
  },
  {
   "cell_type": "code",
   "execution_count": 256,
   "id": "9a51f215-bfba-48a9-84d8-b1fc48217db8",
   "metadata": {},
   "outputs": [],
   "source": [
    "class PredatoryCreditCard(CreditCard):\n",
    "    def __init__(self,customer,bank,acnt,limit,apr,_currency='DOLLAR'):\n",
    "        super().__init__(customer,bank,acnt,limit) # call super on the constructor\n",
    "        self._apr = apr\n",
    "\n",
    "    def charge(self,price):\n",
    "        success = super().charge(price)\n",
    "        if not sucess:\n",
    "            self._balance +=5\n",
    "        return sucess\n",
    "\n",
    "    def process_month(self):\n",
    "        if self._balance > 0:\n",
    "            monthly_factor = pow(1 + self._apr, 1/12)\n",
    "            self._balance *= monthly_factor"
   ]
  },
  {
   "cell_type": "code",
   "execution_count": 257,
   "id": "5766ac2e-5afd-4cb4-bd9d-e82192222f24",
   "metadata": {},
   "outputs": [],
   "source": [
    "pcc = PredatoryCreditCard('Fanny Reguieg', 'Societe Generale', '5112-1224-7845-1','100000','EURO')"
   ]
  },
  {
   "cell_type": "code",
   "execution_count": 275,
   "id": "8a8c5dad-a67f-41c7-8269-f7d230ee9e5e",
   "metadata": {},
   "outputs": [],
   "source": [
    "class Progression:\n",
    "    def __init__(self,start=0):\n",
    "        self._current = start\n",
    "\n",
    "    def _advance(self,):\n",
    "        self._current+=1\n",
    "\n",
    "    def __next__(self):\n",
    "        if self._current is None:\n",
    "            raise StopIteration()\n",
    "        else:\n",
    "            answer = self._current\n",
    "            self._advance()\n",
    "            return answer\n",
    "\n",
    "    def __iter__(self):\n",
    "        return self\n",
    "\n",
    "    def print_progression(self,n):\n",
    "        print( ' '.join(str(next(self)) for j in range(n)))"
   ]
  },
  {
   "cell_type": "code",
   "execution_count": 277,
   "id": "68f61ab3-200c-4a1b-bd71-90a6bf5ac089",
   "metadata": {},
   "outputs": [
    {
     "name": "stdout",
     "output_type": "stream",
     "text": [
      "0\n",
      "1\n",
      "2 3\n",
      "4\n",
      "4\n"
     ]
    }
   ],
   "source": [
    "progression = Progression()\n",
    "print(next(progression))\n",
    "print(next(progression))\n",
    "progression.print_progression(2)\n",
    "print(progression._current)\n",
    "print(next(progression))"
   ]
  },
  {
   "cell_type": "code",
   "execution_count": 294,
   "id": "fcdacfd4-94ca-4d4b-aa13-a6f17fdfee22",
   "metadata": {},
   "outputs": [],
   "source": [
    "class ArithmeticProgression(Progression):\n",
    "    def __init__(self,start=0,increment=1):\n",
    "        super().__init__(start)\n",
    "        self._increment = increment\n",
    "\n",
    "    def _advance(self):\n",
    "        self._current += self._increment\n",
    "        "
   ]
  },
  {
   "cell_type": "code",
   "execution_count": 309,
   "id": "de029ffe-08f6-4e23-b571-7c5f80138dea",
   "metadata": {},
   "outputs": [],
   "source": [
    "arithmetic_progression = ArithmeticProgression(4,8)"
   ]
  },
  {
   "cell_type": "code",
   "execution_count": 310,
   "id": "654d506e-9b13-439b-9189-b48c7a6c2654",
   "metadata": {},
   "outputs": [
    {
     "data": {
      "text/plain": [
       "12"
      ]
     },
     "execution_count": 310,
     "metadata": {},
     "output_type": "execute_result"
    }
   ],
   "source": [
    "assert 4  ==  arithmetic_progression._current\n",
    "next(arithmetic_progression)\n",
    "arithmetic_progression._current\n",
    "next(arithmetic_progression)"
   ]
  },
  {
   "cell_type": "code",
   "execution_count": 312,
   "id": "e5f871cc-1fbd-4d5d-82a9-a78b2a394342",
   "metadata": {},
   "outputs": [],
   "source": [
    "class GeometricProgression(Progression):\n",
    "    def __init__(self,base=2,start=1):\n",
    "        super().__init__(start)\n",
    "        self._base = base\n",
    "\n",
    "    def _advance(self):\n",
    "        self._current *= self._base"
   ]
  },
  {
   "cell_type": "code",
   "execution_count": 316,
   "id": "fb8a3dde-39c0-403a-832e-2183fd72be46",
   "metadata": {},
   "outputs": [
    {
     "data": {
      "text/plain": [
       "4"
      ]
     },
     "execution_count": 316,
     "metadata": {},
     "output_type": "execute_result"
    }
   ],
   "source": [
    "gm = GeometricProgression()\n",
    "next(gm)\n",
    "next(gm)\n",
    "next(gm)"
   ]
  },
  {
   "cell_type": "code",
   "execution_count": 320,
   "id": "791dc23d-c65b-4a73-98b5-76c20240fef7",
   "metadata": {},
   "outputs": [],
   "source": [
    "class FibonacciProgression(Progression):\n",
    "    def __init__(self,first=0,second=1):\n",
    "        super().__init__(first)\n",
    "        self._prev = second - first\n",
    "\n",
    "    def _advance(self):\n",
    "        self._prev, self._current = self._current, self._prev + self._current"
   ]
  },
  {
   "cell_type": "code",
   "execution_count": 322,
   "id": "932a324d-7e19-4750-a0f1-882b0ae7fb13",
   "metadata": {},
   "outputs": [
    {
     "name": "stdout",
     "output_type": "stream",
     "text": [
      "0\n",
      "1\n",
      "1\n",
      "2\n",
      "3\n",
      "5\n",
      "8\n",
      "13\n",
      "21\n",
      "34\n"
     ]
    }
   ],
   "source": [
    "fp = FibonacciProgression()\n",
    "for i in range(10):\n",
    "    print(next(fp))"
   ]
  },
  {
   "cell_type": "code",
   "execution_count": 323,
   "id": "4e881ce2-60fb-40f5-bde3-210a914e41d7",
   "metadata": {},
   "outputs": [
    {
     "name": "stdout",
     "output_type": "stream",
     "text": [
      "5 6 7 8 9 10 11 12 13 14\n"
     ]
    }
   ],
   "source": [
    "progression.print_progression(10)"
   ]
  },
  {
   "cell_type": "code",
   "execution_count": 324,
   "id": "2c6dad64-7d45-4eed-8a87-480d081f5855",
   "metadata": {},
   "outputs": [
    {
     "name": "stdout",
     "output_type": "stream",
     "text": [
      "20 28 36 44 52 60 68 76 84 92\n"
     ]
    }
   ],
   "source": [
    "arithmetic_progression.print_progression(10)"
   ]
  },
  {
   "cell_type": "code",
   "execution_count": 325,
   "id": "267a19fe-e458-480b-b85e-2a6c1473809e",
   "metadata": {},
   "outputs": [
    {
     "name": "stdout",
     "output_type": "stream",
     "text": [
      "8 16 32 64 128 256 512 1024 2048 4096\n"
     ]
    }
   ],
   "source": [
    "gm.print_progression(10)"
   ]
  },
  {
   "cell_type": "code",
   "execution_count": 327,
   "id": "9115f460-7dce-49da-b74c-d99765d0904a",
   "metadata": {},
   "outputs": [
    {
     "name": "stdout",
     "output_type": "stream",
     "text": [
      "55 89 144 233 377 610 987 1597 2584 4181\n"
     ]
    }
   ],
   "source": [
    "fp.print_progression(10)"
   ]
  },
  {
   "cell_type": "code",
   "execution_count": 4,
   "id": "01c49483-ffe7-401e-b17a-c89a165a49df",
   "metadata": {},
   "outputs": [],
   "source": [
    "from abc import ABCMeta, abstractmethod\n",
    "\n",
    "class Sequence(metaclass=ABCMeta):\n",
    "\n",
    "    @abstractmethod\n",
    "    def __len__(self):\n",
    "        \"\"\"Return length of a sequence\"\"\"\n",
    "\n",
    "    @abstractmethod\n",
    "    def __getitem__(self,j):\n",
    "        \"\"\"Return the element at index j of sequence\"\"\"\n",
    "\n",
    "    def __contains__(self,val):\n",
    "        \"\"\"Returns True if val found else False \"\"\"\n",
    "        for j in range(len(self)):\n",
    "            if self[j] == val:\n",
    "                return True\n",
    "        return False\n",
    "\n",
    "    def index(self,val):\n",
    "        \"\"\" Return leftmost index at which val is found (or raise ValueError)\"\"\"\n",
    "        for j in range(len(self)):\n",
    "            if self[j] == val:\n",
    "                return j\n",
    "        raise ValueError('Value not in sequence')\n",
    "\n",
    "    def count(self,val):\n",
    "        count = 0 \n",
    "        for i in range(len(self)):\n",
    "            if self[i] == val:\n",
    "                count+=1\n",
    "        return count\n",
    "        \n",
    "            \n",
    "    "
   ]
  },
  {
   "cell_type": "code",
   "execution_count": 14,
   "id": "7339af92-580d-404a-a2ec-6afff9a7c6d4",
   "metadata": {},
   "outputs": [
    {
     "name": "stdout",
     "output_type": "stream",
     "text": [
      "[0, 1, 2, 3, 4, 5, 6, 7, 8, 9]\n",
      "2207031366592 2207031116352 2207031117952\n",
      "[0, 1, 2, 3, 4, 5, 6, 7, 8, 9, 100]\n",
      "[0, 1, 2, 3, 4, 5, 6, 7, 8, 9, 100]\n",
      "[0, 1, 2, 3, 4, 5, 6, 7, 8]\n",
      "[0, 1, 2, 3, 4, 5, 6, 7, 8, 9, 11]\n"
     ]
    }
   ],
   "source": [
    "# Deep vs shallow copy\n",
    "import copy\n",
    "nums = list(range(10))\n",
    "nums2 = nums\n",
    "print(nums)\n",
    "nums_shallow_copy = copy.copy(nums)\n",
    "nums_deep_copy = copy.deepcopy(nums)\n",
    "print(id(nums),id(nums_shallow_copy),id(nums_deep_copy))\n",
    "[{'original':id(orginal), 'shallow':id(shallow),'deep':id(deep)} for orginal,shallow,deep in zip(nums,nums_shallow_copy,nums_deep_copy)]\n",
    "nums2.append(100)\n",
    "nums_shallow_copy.pop()\n",
    "nums_deep_copy.append(11)\n",
    "print(nums)\n",
    "print(nums2)\n",
    "print(nums_shallow_copy)\n",
    "print(nums_deep_copy)"
   ]
  },
  {
   "cell_type": "markdown",
   "id": "0a7cefd4-f6f7-40fd-b7f5-16a28db16bd8",
   "metadata": {},
   "source": [
    "### R-2.4 \n",
    "Write a Python class, Flower, that has three instance variables of type str,\n",
    "int, and float, that respectively represent the name of the flower, its number of petals, and its price. Your class must include a constructor method\n",
    "that initializes each variable to an appropriate value, and your class should\n",
    "include methods for setting the value of each type, and retrieving the value\n",
    "of each type."
   ]
  },
  {
   "cell_type": "code",
   "execution_count": 16,
   "id": "a024d3ef-397a-4793-9595-bd2e4cbf7d9a",
   "metadata": {},
   "outputs": [],
   "source": [
    "class Flower:\n",
    "    def __init__(self,name,num_of_petals,price):\n",
    "        self._name = name\n",
    "        self._petals = num_of_petals\n",
    "        self._price = price\n",
    "\n",
    "    def get_name(self,):\n",
    "        return self._name\n",
    "\n",
    "    def set_name(self,name):\n",
    "        if type(name) == str:\n",
    "            self._name = name\n",
    "        else:\n",
    "            raise TypeError(\"name arg not type of str\")\n",
    "\n",
    "    def get_petals(self,):\n",
    "        return self._petals\n",
    "\n",
    "    def set_petals(self,petals):\n",
    "        if type(petals) == int:\n",
    "            selt._petals = petals\n",
    "        else:\n",
    "            raise TypeError(\"petals arg not type of int\")\n",
    "\n",
    "    def get_price(self,):\n",
    "        return self._price\n",
    "\n",
    "    def set_price(self,price):\n",
    "        if type(price) == float:\n",
    "            self._price = price\n",
    "        else:\n",
    "            raise TypeError(\"price arg not type of float\")\n",
    "    \n",
    "    "
   ]
  },
  {
   "cell_type": "code",
   "execution_count": 18,
   "id": "b81ed2a7-7392-4a08-bce7-132734684af9",
   "metadata": {},
   "outputs": [],
   "source": [
    "rose = Flower(\"rose\",20,2.00)"
   ]
  },
  {
   "cell_type": "code",
   "execution_count": 19,
   "id": "fb5f9e4f-5b93-443e-b880-e7bdd46b51c5",
   "metadata": {},
   "outputs": [
    {
     "data": {
      "text/plain": [
       "'rose'"
      ]
     },
     "execution_count": 19,
     "metadata": {},
     "output_type": "execute_result"
    }
   ],
   "source": [
    "rose.get_name()"
   ]
  },
  {
   "cell_type": "code",
   "execution_count": 20,
   "id": "a96cec26-8589-474f-a991-46dc07611ec5",
   "metadata": {},
   "outputs": [
    {
     "data": {
      "text/plain": [
       "2.0"
      ]
     },
     "execution_count": 20,
     "metadata": {},
     "output_type": "execute_result"
    }
   ],
   "source": [
    "rose.get_price()"
   ]
  },
  {
   "cell_type": "code",
   "execution_count": 21,
   "id": "611e5829-f192-4793-bef1-de3f806187ff",
   "metadata": {},
   "outputs": [
    {
     "data": {
      "text/plain": [
       "20"
      ]
     },
     "execution_count": 21,
     "metadata": {},
     "output_type": "execute_result"
    }
   ],
   "source": [
    "rose.get_petals()"
   ]
  },
  {
   "cell_type": "code",
   "execution_count": 22,
   "id": "3e8563bd-bc85-463b-a0ee-f459f5d2f9ee",
   "metadata": {},
   "outputs": [],
   "source": [
    "rose.set_price(11.00)"
   ]
  },
  {
   "cell_type": "code",
   "execution_count": 24,
   "id": "54a833a0-ccdd-4081-8a08-e336d843b07d",
   "metadata": {},
   "outputs": [
    {
     "data": {
      "text/plain": [
       "11.0"
      ]
     },
     "execution_count": 24,
     "metadata": {},
     "output_type": "execute_result"
    }
   ],
   "source": [
    "rose.get_price()"
   ]
  },
  {
   "cell_type": "code",
   "execution_count": 25,
   "id": "2fd38c87-0ec3-4ebc-bb42-76c9b71ff08e",
   "metadata": {},
   "outputs": [],
   "source": [
    "rose.set_name('Tulip')"
   ]
  },
  {
   "cell_type": "code",
   "execution_count": 26,
   "id": "da4fb284-3884-456a-a919-755460e12b95",
   "metadata": {},
   "outputs": [
    {
     "data": {
      "text/plain": [
       "'Tulip'"
      ]
     },
     "execution_count": 26,
     "metadata": {},
     "output_type": "execute_result"
    }
   ],
   "source": [
    "rose.get_name()"
   ]
  },
  {
   "cell_type": "code",
   "execution_count": 27,
   "id": "84d88f13-c836-44a2-a7bd-a33ea6df0fc1",
   "metadata": {},
   "outputs": [
    {
     "ename": "TypeError",
     "evalue": "petals arg not type of int",
     "output_type": "error",
     "traceback": [
      "\u001b[1;31m---------------------------------------------------------------------------\u001b[0m",
      "\u001b[1;31mTypeError\u001b[0m                                 Traceback (most recent call last)",
      "Cell \u001b[1;32mIn[27], line 1\u001b[0m\n\u001b[1;32m----> 1\u001b[0m \u001b[43mrose\u001b[49m\u001b[38;5;241;43m.\u001b[39;49m\u001b[43mset_petals\u001b[49m\u001b[43m(\u001b[49m\u001b[38;5;124;43m'\u001b[39;49m\u001b[38;5;124;43mhello\u001b[39;49m\u001b[38;5;124;43m'\u001b[39;49m\u001b[43m)\u001b[49m\n",
      "Cell \u001b[1;32mIn[16], line 23\u001b[0m, in \u001b[0;36mFlower.set_petals\u001b[1;34m(self, petals)\u001b[0m\n\u001b[0;32m     21\u001b[0m     selt\u001b[38;5;241m.\u001b[39m_petals \u001b[38;5;241m=\u001b[39m petals\n\u001b[0;32m     22\u001b[0m \u001b[38;5;28;01melse\u001b[39;00m:\n\u001b[1;32m---> 23\u001b[0m     \u001b[38;5;28;01mraise\u001b[39;00m \u001b[38;5;167;01mTypeError\u001b[39;00m(\u001b[38;5;124m\"\u001b[39m\u001b[38;5;124mpetals arg not type of int\u001b[39m\u001b[38;5;124m\"\u001b[39m)\n",
      "\u001b[1;31mTypeError\u001b[0m: petals arg not type of int"
     ]
    }
   ],
   "source": [
    "rose.set_petals('hello')"
   ]
  },
  {
   "cell_type": "markdown",
   "id": "7ac9e07b-ae92-4275-ac0c-652725acde65",
   "metadata": {},
   "source": [
    "### R-2.5\n",
    "Use the techniques of Section 1.7 to revise the charge and make payment\n",
    "methods of the CreditCard class to ensure that the caller sends a number\n",
    "as a parameter\n"
   ]
  },
  {
   "cell_type": "markdown",
   "id": "e32f7d39-62b9-4d42-97c5-0264a16feb80",
   "metadata": {},
   "source": [
    "### R-2.6 \n",
    "If the parameter to the make payment method of the CreditCard class\n",
    "were a negative number, that would have the effect of raising the balance\n",
    "on the account. Revise the implementation so that it raises a ValueError if\n",
    "a negative value is sent."
   ]
  },
  {
   "cell_type": "markdown",
   "id": "d7865d7a-364c-41b6-aa25-900cb7d8dd2f",
   "metadata": {},
   "source": [
    "### R-2.7 \n",
    "The CreditCard class of Section 2.3 initializes the balance of a new account to zero. Modify that class so that a new account can be given a\n",
    "nonzero balance using an optional fifth parameter to the constructor. The\n",
    "four-parameter constructor syntax should continue to produce an account\n",
    "with zero balance."
   ]
  },
  {
   "cell_type": "markdown",
   "id": "2f752a19-dd7a-4173-abf0-107375065cde",
   "metadata": {},
   "source": [
    "### R-2.8 \n",
    "Modify the declaration of the first for loop in the CreditCard tests, from\n",
    "Code Fragment 2.3, so that it will eventually cause exactly one of the three\n",
    "credit cards to go over its credit limit. Which credit card is it?"
   ]
  },
  {
   "cell_type": "code",
   "execution_count": 65,
   "id": "5a7729cd-d973-47ff-b07a-a8fb61bc1097",
   "metadata": {},
   "outputs": [],
   "source": [
    "# Define a class call credit card\n",
    "class CreditCard:\n",
    "    _currency_symbol = {\n",
    "        'DOLLAR': '$',\n",
    "        'EURO': '€'\n",
    "    }\n",
    "    \n",
    "    def __init__(self,customer,bank,acnt,limit,balance=0.00, _currency='DOLLAR'):\n",
    "        self._customer = customer\n",
    "        self._bank = bank\n",
    "        self._account = acnt\n",
    "        self._limit = float(limit)\n",
    "        self.__balance = balance\n",
    "        self._currency = self._currency_symbol[_currency]\n",
    "\n",
    "    def check_type(type_to_check):\n",
    "        def decorator(func):\n",
    "            def wrapper(*args, **kwargs):\n",
    "                if not isinstance(args[1], type_to_check):\n",
    "                    raise TypeError(f\"Argument {args[1]} is not of type {type_to_check}\")\n",
    "                return func(*args, **kwargs)\n",
    "            return wrapper\n",
    "        return decorator\n",
    "    \n",
    "    def get_customer(self):\n",
    "        return self._customer\n",
    "\n",
    "    def get_bank(self,):\n",
    "        return self._bank\n",
    "\n",
    "    def get_account(self,):\n",
    "        return self._account\n",
    "\n",
    "    def get_limit(self,):\n",
    "        return self._limit\n",
    "\n",
    "    def get_balance(self,is_currency=False):\n",
    "        if is_currency:\n",
    "            return f'{self.get_currency()} {self.__balance}'\n",
    "        return self.__balance\n",
    "\n",
    "    def get_currency(self):\n",
    "        return self._currency\n",
    "\n",
    "    def set_currency(self,currency):\n",
    "        if self._currency_symbol.get(currency):\n",
    "            self.currency = self._currency_symbol.get(currency)\n",
    "\n",
    "    def __str__(self,):\n",
    "        return f\"{self._customer},{self._bank},{self._account},{self._limit},{self.get_balance()},{self._currency}\"\n",
    "    \n",
    "    @check_type(float)\n",
    "    def charge(self,price):\n",
    "        if price + self.__balance > self._limit:\n",
    "            return False\n",
    "        else:\n",
    "            self.__balance+=price\n",
    "            return True\n",
    "\n",
    "    def make_payment(self,amount):\n",
    "        if amount > 0:\n",
    "            self.__balance-=amount\n",
    "        else:\n",
    "            raise ValueError(f'Ammount {amount} is a negative')\n",
    "    "
   ]
  },
  {
   "cell_type": "code",
   "execution_count": 88,
   "id": "20b701ac-1431-4289-87ff-be5c0af78a13",
   "metadata": {},
   "outputs": [],
   "source": [
    "cc = CreditCard('Fanny Reguieg', 'JPM Chase', '1234-123-1222',100000)"
   ]
  },
  {
   "cell_type": "code",
   "execution_count": 89,
   "id": "d501b2c0-60c1-4725-817a-c99eb9259026",
   "metadata": {},
   "outputs": [
    {
     "data": {
      "text/plain": [
       "True"
      ]
     },
     "execution_count": 89,
     "metadata": {},
     "output_type": "execute_result"
    }
   ],
   "source": [
    "cc.charge(float(10))"
   ]
  },
  {
   "cell_type": "code",
   "execution_count": 90,
   "id": "73457f18-993f-497b-a996-ab68017252a7",
   "metadata": {},
   "outputs": [
    {
     "name": "stdout",
     "output_type": "stream",
     "text": [
      "Fanny Reguieg,JPM Chase,1234-123-1222,100000.0,10.0,$\n",
      "Fanny Reguieg,Wells Fargo,4132-123-1122,100000.0,0.0,$\n",
      "Fanny Reguieg,Bank Of America,1211-123-1342,100000.0,0.0,$\n",
      "Fanny Reguieg,JPM Chase,1234-123-1222,100000.0,9010.0,$\n",
      "Fanny Reguieg,Wells Fargo,4132-123-1122,100000.0,3000.0,$\n",
      "Fanny Reguieg,Bank Of America,1211-123-1342,100000.0,1000.0,$\n",
      "Fanny Reguieg,JPM Chase,1234-123-1222,100000.0,15010.0,$\n",
      "Fanny Reguieg,Wells Fargo,4132-123-1122,100000.0,11000.0,$\n",
      "Fanny Reguieg,Bank Of America,1211-123-1342,100000.0,2000.0,$\n",
      "Fanny Reguieg,JPM Chase,1234-123-1222,100000.0,19010.0,$\n",
      "Fanny Reguieg,Wells Fargo,4132-123-1122,100000.0,18000.0,$\n",
      "Fanny Reguieg,Bank Of America,1211-123-1342,100000.0,9000.0,$\n",
      "Fanny Reguieg,JPM Chase,1234-123-1222,100000.0,28010.0,$\n",
      "Fanny Reguieg,Wells Fargo,4132-123-1122,100000.0,25000.0,$\n",
      "Fanny Reguieg,Bank Of America,1211-123-1342,100000.0,15000.0,$\n",
      "Fanny Reguieg,JPM Chase,1234-123-1222,100000.0,36010.0,$\n",
      "Fanny Reguieg,Wells Fargo,4132-123-1122,100000.0,28000.0,$\n",
      "Fanny Reguieg,Bank Of America,1211-123-1342,100000.0,21000.0,$\n",
      "Fanny Reguieg,JPM Chase,1234-123-1222,100000.0,44010.0,$\n",
      "Fanny Reguieg,Wells Fargo,4132-123-1122,100000.0,34000.0,$\n",
      "Fanny Reguieg,Bank Of America,1211-123-1342,100000.0,30000.0,$\n",
      "Fanny Reguieg,JPM Chase,1234-123-1222,100000.0,46010.0,$\n",
      "Fanny Reguieg,Wells Fargo,4132-123-1122,100000.0,35000.0,$\n",
      "Fanny Reguieg,Bank Of America,1211-123-1342,100000.0,34000.0,$\n",
      "Fanny Reguieg,JPM Chase,1234-123-1222,100000.0,50010.0,$\n",
      "Fanny Reguieg,Wells Fargo,4132-123-1122,100000.0,39000.0,$\n",
      "Fanny Reguieg,Bank Of America,1211-123-1342,100000.0,39000.0,$\n",
      "Fanny Reguieg,JPM Chase,1234-123-1222,100000.0,57010.0,$\n",
      "Fanny Reguieg,Wells Fargo,4132-123-1122,100000.0,43000.0,$\n",
      "Fanny Reguieg,Bank Of America,1211-123-1342,100000.0,44000.0,$\n",
      "Fanny Reguieg,JPM Chase,1234-123-1222,100000.0,61010.0,$\n",
      "Fanny Reguieg,Wells Fargo,4132-123-1122,100000.0,47000.0,$\n",
      "Fanny Reguieg,Bank Of America,1211-123-1342,100000.0,49000.0,$\n",
      "Fanny Reguieg,JPM Chase,1234-123-1222,100000.0,65010.0,$\n",
      "Fanny Reguieg,Wells Fargo,4132-123-1122,100000.0,56000.0,$\n",
      "Fanny Reguieg,Bank Of America,1211-123-1342,100000.0,52000.0,$\n",
      "Fanny Reguieg,JPM Chase,1234-123-1222,100000.0,70010.0,$\n",
      "Fanny Reguieg,Wells Fargo,4132-123-1122,100000.0,59000.0,$\n",
      "Fanny Reguieg,Bank Of America,1211-123-1342,100000.0,57000.0,$\n",
      "Fanny Reguieg,JPM Chase,1234-123-1222,100000.0,78010.0,$\n",
      "Fanny Reguieg,Wells Fargo,4132-123-1122,100000.0,63000.0,$\n",
      "Fanny Reguieg,Bank Of America,1211-123-1342,100000.0,65000.0,$\n",
      "Fanny Reguieg,JPM Chase,1234-123-1222,100000.0,84010.0,$\n",
      "Fanny Reguieg,Wells Fargo,4132-123-1122,100000.0,72000.0,$\n",
      "Fanny Reguieg,Bank Of America,1211-123-1342,100000.0,67000.0,$\n",
      "Fanny Reguieg,JPM Chase,1234-123-1222,100000.0,89010.0,$\n",
      "Fanny Reguieg,Wells Fargo,4132-123-1122,100000.0,77000.0,$\n",
      "Fanny Reguieg,Bank Of America,1211-123-1342,100000.0,70000.0,$\n",
      "Fanny Reguieg,JPM Chase,1234-123-1222,100000.0,96010.0,$\n",
      "Fanny Reguieg,Wells Fargo,4132-123-1122,100000.0,82000.0,$\n",
      "Fanny Reguieg,Bank Of America,1211-123-1342,100000.0,78000.0,$\n",
      "Fanny Reguieg,JPM Chase,1234-123-1222,100000.0,97010.0,$\n",
      "Fanny Reguieg,JPM Chase,1234-123-1222,100000.0,97010.0,$\n"
     ]
    }
   ],
   "source": [
    "import random\n",
    "wallet = [cc, CreditCard('Fanny Reguieg', 'Wells Fargo', '4132-123-1122',100000),CreditCard('Fanny Reguieg', 'Bank Of America', '1211-123-1342',100000)]\n",
    "\n",
    "is_over_limit = False\n",
    "while not is_over_limit:\n",
    "    for c,multiplier in zip(wallet,[random.randrange(1,10),random.randrange(1,10),random.randrange(1,10)]):\n",
    "        print(c)\n",
    "        if not c.charge(1000.00*multiplier):\n",
    "            is_over_limit = (True,cc)\n",
    "            break\n",
    "print(is_over_limit[1])\n",
    "\n",
    "    "
   ]
  },
  {
   "cell_type": "raw",
   "id": "9a387dec-706f-4fdc-9e61-47f33bc57494",
   "metadata": {},
   "source": [
    "## Magic method\n",
    "__init__(self[, ...]): Initialize an object (constructor).\n",
    "__del__(self): Clean up an object before it's destroyed (destructor).\n",
    "__repr__(self): Return the canonical string representation of an object.\n",
    "__str__(self): Return the informal string representation of an object.\n",
    "__len__(self): Return the length of an object.\n",
    "__getitem__(self, key): Get an item from an object using square bracket notation.\n",
    "__setitem__(self, key, value): Set an item in an object using square bracket notation.\n",
    "__delitem__(self, key): Delete an item from an object using square bracket notation.\n",
    "__iter__(self): Return an iterator object.\n",
    "__next__(self): Return the next item from the iterator.\n",
    "__contains__(self, item): Check if an item is contained in an object.\n",
    "__eq__(self, other): Implement equality comparison (==).\n",
    "__ne__(self, other): Implement non-equality comparison (!=).\n",
    "__lt__(self, other): Implement less-than comparison (<).\n",
    "__le__(self, other): Implement less-than or equal to comparison (<=).\n",
    "__gt__(self, other): Implement greater-than comparison (>).\n",
    "__ge__(self, other): Implement greater-than or equal to comparison (>=).\n",
    "__add__(self, other): Implement addition (+).\n",
    "__sub__(self, other): Implement subtraction (-).\n",
    "__mul__(self, other): Implement multiplication (*).\n",
    "__truediv__(self, other): Implement true division (/).\n",
    "__floordiv__(self, other): Implement floor division (//).\n",
    "__mod__(self, other): Implement modulus (%).\n",
    "__pow__(self, other[, modulo]): Implement exponentiation (**).\n",
    "__iadd__(self, other): Implement in-place addition (+=).\n",
    "__isub__(self, other): Implement in-place subtraction (-=).\n",
    "__imul__(self, other): Implement in-place multiplication (*=).\n",
    "__itruediv__(self, other): Implement in-place true division (/=).\n",
    "__ifloordiv__(self, other): Implement in-place floor division (//=).\n",
    "__imod__(self, other): Implement in-place modulus (%=).\n",
    "__ipow__(self, other[, modulo]): Implement in-place exponentiation (**=).\n",
    "__abs__(self): Implement absolute value (abs()).\n",
    "__round__(self[, n]): Implement rounding (round()).\n",
    "__enter__(self): Enter a runtime context (with statement).\n",
    "__exit__(self, exc_type, exc_value, traceback): Exit a runtime context (with statement).\n",
    "__call__(self[, args...]): Make an instance callable.\n",
    "__getattr__(self, name): Retrieve an attribute that doesn't exist.\n",
    "__setattr__(self, name, value): Set an attribute.\n",
    "__delattr__(self, name): Delete an attribute.\n",
    "__dir__(self): List the attributes of an object.\n",
    "__hash__(self): Return the hash value of an object.\n",
    "__enter__(self): Enter a runtime context (context manager).\n",
    "__exit__(self, exc_type, exc_value, traceback): Exit a runtime context (context manager)."
   ]
  },
  {
   "cell_type": "markdown",
   "id": "3bf72b4f-d2dd-43bd-914c-3783856e2876",
   "metadata": {},
   "source": [
    "### R-2.9 \n",
    "Implement the sub method for the Vector class of Section 2.3.3, so\n",
    "that the expression u−v returns a new vector instance representing the\n",
    "difference between two vectors."
   ]
  },
  {
   "cell_type": "code",
   "execution_count": 299,
   "id": "4438fcd6-756e-4b6f-8a0b-416c96132001",
   "metadata": {},
   "outputs": [],
   "source": [
    "### Over loaded operations with a list as the object\n",
    "class Vector:\n",
    "    \"\"\"Represent a multidimension space\"\"\"\n",
    "    def __init__(self,dimension):\n",
    "        if isinstance(dimension,(tuple,list,set)):\n",
    "            self._coords = dimension\n",
    "        else:\n",
    "            self._coords = [0] * dimension\n",
    "\n",
    "    def __len__(self):\n",
    "        \"\"\"Return the demsion of the ventor\"\"\"\n",
    "        return len(self._coords)\n",
    "\n",
    "    def __getitem__(self,j):\n",
    "        \"\"\"Return jth coordinate of vector\"\"\"\n",
    "        return self._coords[j]\n",
    "\n",
    "    def __setitem__(self,j,val):\n",
    "        \"\"\"Set jth coordinate of vector to given value\"\"\"\n",
    "        self._coords[j] = val\n",
    "\n",
    "    def __add__(self,other):\n",
    "        \"\"\"return sum of two vectors\n",
    "            vector must be same length in order to get the sum\n",
    "        \"\"\"\n",
    "        if len(self) != len(other):\n",
    "            raise ValueError('dimensions must agree')\n",
    "        result = Vector(len(self))\n",
    "        if isinstance(other, Vector):\n",
    "            for j in range(len(self)):\n",
    "                result._coords[j] = self._coords[j] + other._coords[j]\n",
    "        elif isinstance(other, list):\n",
    "            for j in range(len(self)):\n",
    "                result._coords[j] = other[j] + self._coords[j]\n",
    "        return result\n",
    "\n",
    "    def __radd__(self,other):\n",
    "        \"\"\"return sum of two vectors\n",
    "            using the right hand syntax\n",
    "        \"\"\"\n",
    "        return self.__add__(other)\n",
    "\n",
    "    def __eq__(self,other):\n",
    "        \"\"\"Return True if vector has same coordinates as other\"\"\"\n",
    "        return self._coords == other._coords\n",
    "\n",
    "    def __ne__(self,other):\n",
    "        \"\"\"Return True if vector differ from other\"\"\"\n",
    "        return not self == other\n",
    "\n",
    "    def __str__(self,):\n",
    "        \"\"\"Produce string representation of vector\"\"\"\n",
    "        return f'< {str(self._coords)[1:-1]} >'\n",
    "\n",
    "\n",
    "    def __sub__(self,other):\n",
    "        \"\"\"return diff of two vectors\n",
    "            vector must be same length in order to get the sum\n",
    "        \"\"\"\n",
    "        if len(self) != len(other):\n",
    "            raise ValueError('dimensions must agree')\n",
    "        result = Vector(len(self))\n",
    "        for j in range(len(self)):\n",
    "            result[j] = self[j] - other[j]\n",
    "        return result\n",
    "\n",
    "    def __mul__(self,multiplier):\n",
    "        results = Vector(len(self))\n",
    "        for i in range(len(self._coords)):\n",
    "            results._coords[i] = self._coords[i] *multiplier\n",
    "        return results\n",
    "\n",
    "    def __rmul__(self,multiplier):\n",
    "        return self.__mul__(multiplier)\n",
    "\n",
    "    def __neg__(self,):\n",
    "        if len(self._coords) > 0: \n",
    "            for i in range(len(self._coords)):\n",
    "                self._coords[i] *= -1 \n",
    "        else:\n",
    "            raise ValueError(\"Dimension of vector is less than 1\")\n",
    "\n",
    "    def get_coords(self):\n",
    "        return self._coords\n",
    "    "
   ]
  },
  {
   "cell_type": "code",
   "execution_count": 300,
   "id": "f6b6d95c-a05d-492d-95f0-a0d77b39079c",
   "metadata": {},
   "outputs": [
    {
     "name": "stdout",
     "output_type": "stream",
     "text": [
      "< 0, 2, 8, 18, 32 > < 0, 1, 2, 3, 4 >\n"
     ]
    }
   ],
   "source": [
    "v = Vector(5)\n",
    "v2 = Vector(5)\n",
    "for i in range(5):\n",
    "    v[i] = i\n",
    "    v2[i] = i*2*i\n",
    "print(str(v2),str(v))"
   ]
  },
  {
   "cell_type": "code",
   "execution_count": 301,
   "id": "c6ac763e-fad6-4d4c-bc3b-e320312ac4a3",
   "metadata": {},
   "outputs": [],
   "source": [
    "v3 = v - v2"
   ]
  },
  {
   "cell_type": "code",
   "execution_count": 302,
   "id": "7d93e632-aba7-42ae-b000-d2aba9567ee0",
   "metadata": {},
   "outputs": [
    {
     "name": "stdout",
     "output_type": "stream",
     "text": [
      "< 0, -1, -6, -15, -28 >\n"
     ]
    }
   ],
   "source": [
    "print(str(v3))"
   ]
  },
  {
   "cell_type": "markdown",
   "id": "6e707ae2-5af3-4266-aa42-496b6bb33a91",
   "metadata": {},
   "source": [
    "### R-2.10 \n",
    "Implement the neg method for the Vector class of Section 2.3.3, so\n",
    "that the expression −v returns a new vector instance whose coordinates\n",
    "are all the negated values of the respective coordinates of v."
   ]
  },
  {
   "cell_type": "code",
   "execution_count": 303,
   "id": "2f89802b-122a-4b15-adb3-8dbae2dc5da4",
   "metadata": {},
   "outputs": [],
   "source": [
    "-v3"
   ]
  },
  {
   "cell_type": "code",
   "execution_count": 304,
   "id": "e33e6c7e-87b5-4002-b6ed-3582e4ce79a5",
   "metadata": {},
   "outputs": [
    {
     "name": "stdout",
     "output_type": "stream",
     "text": [
      "< 0, 1, 6, 15, 28 >\n"
     ]
    }
   ],
   "source": [
    "\n",
    "print(v3)"
   ]
  },
  {
   "cell_type": "markdown",
   "id": "716c91be-4193-42c5-8fa1-ee79524aad5a",
   "metadata": {},
   "source": [
    "### R-2.11\n",
    "In Section 2.3.3, we note that our Vector class supports a syntax such as\n",
    "v = u + [5, 3, 10, −2, 1], in which the sum of a vector and list returns\n",
    "a new vector. However, the syntax v = [5, 3, 10, −2, 1] + u is illegal.\n",
    "Explain how the Vector class definition can be revised so that this syntax\n",
    "generates a new vector"
   ]
  },
  {
   "cell_type": "code",
   "execution_count": 305,
   "id": "c16f43ea-e264-4ba6-bb9f-cb7b92281597",
   "metadata": {},
   "outputs": [
    {
     "data": {
      "text/plain": [
       "'< 0, 3, 10, 21, 36 >'"
      ]
     },
     "execution_count": 305,
     "metadata": {},
     "output_type": "execute_result"
    }
   ],
   "source": [
    "str(v + v2) "
   ]
  },
  {
   "cell_type": "code",
   "execution_count": 306,
   "id": "7970db53-b53b-43a0-a458-73fe7d9b5eb9",
   "metadata": {},
   "outputs": [
    {
     "data": {
      "text/plain": [
       "'< 1, 3, 5, 7, 9 >'"
      ]
     },
     "execution_count": 306,
     "metadata": {},
     "output_type": "execute_result"
    }
   ],
   "source": [
    "str(v + [1,2,3,4,5])"
   ]
  },
  {
   "cell_type": "code",
   "execution_count": 307,
   "id": "7d5c7990-9b25-4aa2-a8b5-8cac1473db2f",
   "metadata": {},
   "outputs": [
    {
     "data": {
      "text/plain": [
       "'< 1, 3, 5, 7, 9 >'"
      ]
     },
     "execution_count": 307,
     "metadata": {},
     "output_type": "execute_result"
    }
   ],
   "source": [
    "str([1,2,3,4,5] + v)"
   ]
  },
  {
   "cell_type": "code",
   "execution_count": 308,
   "id": "5e572b4a-b365-45bf-9aeb-581a6eb3ee10",
   "metadata": {},
   "outputs": [
    {
     "data": {
      "text/plain": [
       "[1, 2, 3, 4, 5, 0, 1, 2, 3, 4]"
      ]
     },
     "execution_count": 308,
     "metadata": {},
     "output_type": "execute_result"
    }
   ],
   "source": [
    "[1,2,3,4,5] + v.get_coords()"
   ]
  },
  {
   "cell_type": "markdown",
   "id": "e4c3d10f-309f-4b8f-921a-19e487ed84fd",
   "metadata": {},
   "source": [
    "### R-2.12 \n",
    "Implement the mul method for the Vector class of Section 2.3.3, so\n",
    "that the expression v*3 returns a new vector with coordinates that are 3\n",
    "times the respective coordinates of v"
   ]
  },
  {
   "cell_type": "code",
   "execution_count": 309,
   "id": "2139df01-c52f-4266-90ec-dd0b4fbb01aa",
   "metadata": {},
   "outputs": [
    {
     "data": {
      "text/plain": [
       "'< 0, 3, 18, 45, 84 >'"
      ]
     },
     "execution_count": 309,
     "metadata": {},
     "output_type": "execute_result"
    }
   ],
   "source": [
    "str(v3*3)"
   ]
  },
  {
   "cell_type": "markdown",
   "id": "b1f9feb7-2441-4539-a39f-7d7ef7857443",
   "metadata": {},
   "source": [
    "### R-2.13\n",
    "Exercise R-2.12 asks for an implementation of mul , for the Vector\n",
    "class of Section 2.3.3, to provide support for the syntax v * 3. Implement\n",
    "the rmul method, to provide additional support for syntax 3 * v"
   ]
  },
  {
   "cell_type": "code",
   "execution_count": 310,
   "id": "e249ae21-75cb-4b14-9b88-2810989fb2ef",
   "metadata": {},
   "outputs": [
    {
     "data": {
      "text/plain": [
       "'< 0, 3, 18, 45, 84 >'"
      ]
     },
     "execution_count": 310,
     "metadata": {},
     "output_type": "execute_result"
    }
   ],
   "source": [
    "str(3*v3)"
   ]
  },
  {
   "cell_type": "markdown",
   "id": "710d6e28-161d-4c1f-9e87-1664ed202f43",
   "metadata": {},
   "source": [
    "### R-2.15\n",
    "The Vector class of Section 2.3.3 provides a constructor that takes an integer d, and produces a d-dimensional vector with all coordinates equal to\n",
    "0. Another convenient form for creating a new vector would be to send the\n",
    "constructor a parameter that is some iterable type representing a sequence\n",
    "of numbers, and to create a vector with dimension equal to the length of\n",
    "that sequence and coordinates equal to the sequence values. For example,\n",
    "Vector([4, 7, 5]) would produce a three-dimensional vector with coordinates <4, 7, 5>. Modify the constructor so that either of these forms is\n",
    "acceptable; that is, if a single integer is sent, it produces a vector of that\n",
    "dimension with all zeros, but if a sequence of numbers is provided, it produces a vector with coordinates based on that sequence."
   ]
  },
  {
   "cell_type": "code",
   "execution_count": 311,
   "id": "39990595-79f0-417a-802f-752a4d847ab5",
   "metadata": {},
   "outputs": [],
   "source": [
    "v4 = Vector([4,7,5])\n",
    "v5 = Vector([1,2,3])"
   ]
  },
  {
   "cell_type": "code",
   "execution_count": 312,
   "id": "b969f341-fa24-40da-819e-acf5b7cddc53",
   "metadata": {},
   "outputs": [
    {
     "data": {
      "text/plain": [
       "'< 4, 7, 5 >'"
      ]
     },
     "execution_count": 312,
     "metadata": {},
     "output_type": "execute_result"
    }
   ],
   "source": [
    "str(v4)"
   ]
  },
  {
   "cell_type": "code",
   "execution_count": 313,
   "id": "7c4ae768-b72e-4fd9-906d-5e72e92f4ec8",
   "metadata": {},
   "outputs": [
    {
     "data": {
      "text/plain": [
       "'< 5, 9, 8 >'"
      ]
     },
     "execution_count": 313,
     "metadata": {},
     "output_type": "execute_result"
    }
   ],
   "source": [
    "str(v4+v5)"
   ]
  },
  {
   "cell_type": "markdown",
   "id": "807e9fef-cd7e-4ee6-8de6-029960e349d0",
   "metadata": {},
   "source": [
    "## Ch3 Recursion:\n",
    "\n",
    "\n",
    "### Recursion\n",
    "        1. Recursion is a technique by which a function makes one or more calls to itself during execution\n",
    "        2. Examples of recursion:\n",
    "                1. Factorial function - classical mathemaical function has a natural recursive defintion\n",
    "                2. English Ruler - fractal structure\n",
    "                3. Binary Search - locate a desired value in data \n",
    "                4. File sys - computer file system of directories\n",
    "\n",
    "        Binary Search\n",
    "            - locate a target value within a sorted sequence of n elements \n",
    "            - standard apprach to seaech for a value in an unsorted sequence is to loop through each element. This is ineffective due to o(n) or  \n",
    "              linear search\n",
    "            - when a sequence is sorted and indexable, there is more effient alog or o(log(n))\n",
    "            - mid calculation\n",
    "                mid = (high+low)/2\n",
    "            - cases:\n",
    "                - if the target equals data[mid], then we have found the item we are looking for, search terminate\n",
    "                - if target < data[mid], then we recur on the fight half of the sequence that is on the interval of indices from low to mid-1\n",
    "                - if target > data[mid], then we recur on the second hald the sequence that is, on the interval of indidevs mid +1 to hig\n",
    "\n",
    "### Designing Recursive Algorithms:\n",
    "\n",
    "        Characteristics of Recurisive Algos:\n",
    "            1. Test for base cases\n",
    "                - We begin by testing for a set of base cases \n",
    "                - These base cases should be definded so that every\n",
    "            2. Recur - if not basze case, we perform one or more recursive calls. \n",
    "\n",
    "        - using stack data structure as an option to recursion\n",
    "        \n",
    "        Tail recursion:\n",
    "            A recursion is a tail recursion if any recursive call that is made from one context is the very last operation in that conext, with the \n",
    "            return value of the recurive call\n",
    "                eg return recursive_call(n-1) * n\n",
    "\n",
    "        \n",
    "                \n",
    "                "
   ]
  },
  {
   "cell_type": "code",
   "execution_count": null,
   "id": "0c550c0b-80f8-47ff-9a19-34f83e90a7f0",
   "metadata": {},
   "outputs": [],
   "source": [
    "def factorial(n):\n",
    "    if n == 0:\n",
    "        return 1\n",
    "    else:\n",
    "        return factorial(n-1)*n"
   ]
  },
  {
   "cell_type": "code",
   "execution_count": null,
   "id": "4ed77a54-324e-4a43-9dd4-619d7b0b395e",
   "metadata": {},
   "outputs": [],
   "source": [
    "assert factorial(5) == 120 # return 120 "
   ]
  },
  {
   "cell_type": "code",
   "execution_count": null,
   "id": "5cdb9032-ee14-4c42-8594-01358c92458d",
   "metadata": {},
   "outputs": [],
   "source": [
    "## binary search\n",
    "def binary_search(data, target,low,high):\n",
    "    if low>high:\n",
    "        return False\n",
    "    else:\n",
    "        print(f'{low} {high}')\n",
    "        mid = (low +  high)//2\n",
    "        if target == data[mid]:\n",
    "            return True\n",
    "        elif target < data[mid]:\n",
    "            return binary_search(data,target,low,mid-1)\n",
    "        else:\n",
    "            return binary_search(data,target,mid+1,high)"
   ]
  },
  {
   "cell_type": "code",
   "execution_count": null,
   "id": "04c69e26-88d0-4a41-8772-527f24344626",
   "metadata": {},
   "outputs": [],
   "source": [
    "l1 = [2,4,5,7,8,12,14,17,19,22,25,27,28,33,37]\n",
    "binary_search(l1,22,0,15)"
   ]
  },
  {
   "cell_type": "code",
   "execution_count": null,
   "id": "c85bd8a0-5150-45db-8c37-d99c398e836f",
   "metadata": {},
   "outputs": [],
   "source": [
    "binary_search(l1,37,0,15)"
   ]
  },
  {
   "cell_type": "code",
   "execution_count": null,
   "id": "51033ab4-c720-4167-b2ca-6e283761ffed",
   "metadata": {},
   "outputs": [],
   "source": [
    "binary_search(l1,5,0,15)"
   ]
  },
  {
   "cell_type": "markdown",
   "id": "4642431b-425d-4b24-b855-e3015f7606b1",
   "metadata": {},
   "source": [
    "### Linear sum\n",
    "    - sequenece is sequence \n",
    "    - lenght_of_sequence is lenght of sequence"
   ]
  },
  {
   "cell_type": "code",
   "execution_count": null,
   "id": "bd234dc4-5f45-49e9-9060-ada41f788b2e",
   "metadata": {},
   "outputs": [],
   "source": [
    "# linear sum\n",
    "def linear_sum(sequenece, lenght_of_sequence):\n",
    "    if lenght_of_sequence == 0:\n",
    "        return 0\n",
    "    else:\n",
    "        return linear_sum(sequenece,lenght_of_sequence-1) + sequenece[lenght_of_sequence-1]"
   ]
  },
  {
   "cell_type": "code",
   "execution_count": null,
   "id": "d6db0014-842f-444d-8059-44c2719b51a9",
   "metadata": {},
   "outputs": [],
   "source": [
    "linear_sum([1,2,3],3)"
   ]
  },
  {
   "cell_type": "markdown",
   "id": "f7173e0e-85b6-4ab7-8285-3969228084cc",
   "metadata": {},
   "source": [
    "### Reverse a sequence\n",
    "    - s = sequence\n",
    "    - start - start of the string\n",
    "    - stop - stop of the string "
   ]
  },
  {
   "cell_type": "code",
   "execution_count": null,
   "id": "c204c5eb-00f2-49e1-849e-b4d8ee43fe75",
   "metadata": {},
   "outputs": [],
   "source": [
    "def reverse(sequence, start, stop):\n",
    "    if start < stop -1:\n",
    "        print(f'{start},{stop}')\n",
    "        sequence[start],sequence[stop-1] = sequence[stop-1],sequence[start]\n",
    "        reverse(sequence,start+1,stop-1)\n"
   ]
  },
  {
   "cell_type": "code",
   "execution_count": null,
   "id": "6c930db2-107a-4d69-a2dd-05ed98977006",
   "metadata": {},
   "outputs": [],
   "source": [
    "l1 = [i for i in range(0,100)]\n",
    "reverse(l1,0,len(l1))"
   ]
  },
  {
   "cell_type": "code",
   "execution_count": null,
   "id": "cd8da1a2-b105-4e2b-b928-fc13acab4ce3",
   "metadata": {},
   "outputs": [],
   "source": [
    "l1"
   ]
  },
  {
   "cell_type": "code",
   "execution_count": null,
   "id": "ea90d4cd-0307-468e-a80e-056db77f92a1",
   "metadata": {},
   "outputs": [],
   "source": [
    "def linear_reverse(sequence):\n",
    "    return [i for i in range(len(sequence)-1,-1,-1)]"
   ]
  },
  {
   "cell_type": "code",
   "execution_count": null,
   "id": "adb7d2e6-8406-4923-827e-31aa908efa6c",
   "metadata": {},
   "outputs": [],
   "source": [
    "l2 = [i for i in range(0,10)]\n",
    "linear_reverse(l2)"
   ]
  },
  {
   "cell_type": "code",
   "execution_count": null,
   "id": "46b8be64-32a5-4d5a-9ccc-bac0968658bb",
   "metadata": {},
   "outputs": [],
   "source": [
    "def linear_reverse(sequence):\n",
    "    return [i for i in range(len(sequence)-1,-1,-1)]"
   ]
  },
  {
   "cell_type": "code",
   "execution_count": null,
   "id": "676e5f4e-238b-402c-ac40-e37522ea8acf",
   "metadata": {},
   "outputs": [],
   "source": [
    "l2"
   ]
  },
  {
   "cell_type": "code",
   "execution_count": null,
   "id": "a18d264a-952e-44d4-bf01-581506bacfb7",
   "metadata": {},
   "outputs": [],
   "source": [
    "def org_linear_reverse(sequence):\n",
    "    for i in range(0,len(sequence)):\n",
    "        sequence.insert(i,sequence.pop())"
   ]
  },
  {
   "cell_type": "code",
   "execution_count": null,
   "id": "3c9a191b-3f43-4b5a-9164-2a6cdd8b0054",
   "metadata": {},
   "outputs": [],
   "source": [
    "org_linear_reverse(l2)"
   ]
  },
  {
   "cell_type": "code",
   "execution_count": null,
   "id": "7cad43a9-db73-400a-bbf3-637fa7d196f0",
   "metadata": {},
   "outputs": [],
   "source": [
    "l2"
   ]
  },
  {
   "cell_type": "markdown",
   "id": "e6440288-2f5f-42a8-9f4d-95c23def5e01",
   "metadata": {},
   "source": [
    "### C-4.9 \n",
    "### Write a short recursive Python function that finds the minimum and maximum values in a sequence without using any loops."
   ]
  },
  {
   "cell_type": "code",
   "execution_count": null,
   "id": "87c92faa-ee07-4c92-8b14-93a31f6df744",
   "metadata": {},
   "outputs": [],
   "source": [
    "def minmax(sequence,count=0,min=None,max=None):\n",
    "    if len(sequence) == 0:\n",
    "        return min,max\n",
    "    if not min or not max:\n",
    "        min,max = sequence[0],sequence[0]\n",
    "\n",
    "    if min > sequence[count]:\n",
    "        min = sequence[count]\n",
    "    if max < sequence[count]:\n",
    "        max = sequence[count]\n",
    "    return minmax(sequence[count+1:],count+1,min,max)"
   ]
  },
  {
   "cell_type": "code",
   "execution_count": null,
   "id": "2e1d9061-980c-4ebc-adb8-a9f5e7bc717f",
   "metadata": {},
   "outputs": [],
   "source": [
    "l1"
   ]
  },
  {
   "cell_type": "code",
   "execution_count": null,
   "id": "2df495e6-d096-41e6-bb92-948f90a60e37",
   "metadata": {},
   "outputs": [],
   "source": [
    "minmax(l1)"
   ]
  },
  {
   "cell_type": "code",
   "execution_count": null,
   "id": "13565b27-48d6-4f06-bf59-f9ae7a0d8073",
   "metadata": {},
   "outputs": [],
   "source": [
    "minmax(l2)"
   ]
  },
  {
   "cell_type": "markdown",
   "id": "9aa3e845-9ebd-45f3-97b3-17356433896f",
   "metadata": {},
   "source": [
    "### C-4.12 \n",
    "### Give a recursive algorithm to compute the product of two positive integers, m and n, using only addition and subtraction."
   ]
  },
  {
   "cell_type": "code",
   "execution_count": null,
   "id": "caf0f9aa-180b-447a-aef4-5cc93a8471b4",
   "metadata": {},
   "outputs": [],
   "source": [
    "def product(m,n):\n",
    "    if n == 0:\n",
    "        return 0\n",
    "    else:\n",
    "        return product(m,n-1) + m"
   ]
  },
  {
   "cell_type": "code",
   "execution_count": null,
   "id": "8518f7ce-e4e1-4c46-a076-666e8374f8b3",
   "metadata": {},
   "outputs": [],
   "source": [
    "product(2,5)"
   ]
  },
  {
   "cell_type": "markdown",
   "id": "ab5dfff1-7bc0-4c29-9401-414e08dbc40d",
   "metadata": {},
   "source": [
    "### C-4.15\n",
    "### Write a recursive function that will output all the subsets of a set of n elements (without repeating any subsets)."
   ]
  },
  {
   "cell_type": "code",
   "execution_count": null,
   "id": "fa2c79c3-3b52-410d-82ec-3d7eb7ac3ca8",
   "metadata": {},
   "outputs": [],
   "source": [
    "def subset(seq,n,ss=[]):\n",
    "    if not seq:\n",
    "        return ss\n",
    "    else:\n",
    "        rs = seq[0:n]\n",
    "        if not  rs in ss:\n",
    "            ss.append(seq[0:n])\n",
    "        remain = seq[n:]\n",
    "        return subset(remain,n,ss)"
   ]
  },
  {
   "cell_type": "code",
   "execution_count": null,
   "id": "e25bc2e5-e758-4798-81e1-cc1052d7eb6a",
   "metadata": {},
   "outputs": [],
   "source": [
    "subset(l2,1)"
   ]
  },
  {
   "cell_type": "code",
   "execution_count": null,
   "id": "3baf765f-8c06-4d7e-9457-ea629260899f",
   "metadata": {},
   "outputs": [],
   "source": [
    "l3 = [1,2,1,2,3,4,5,6]"
   ]
  },
  {
   "cell_type": "code",
   "execution_count": null,
   "id": "2cc1bcff-a86f-468f-be41-84c5ed3a6e47",
   "metadata": {},
   "outputs": [],
   "source": [
    "subset(l3,2,[])"
   ]
  },
  {
   "cell_type": "markdown",
   "id": "3077db16-7010-4f91-8b83-6f0c6f16f185",
   "metadata": {},
   "source": [
    "### C-4.16 \n",
    "Write a short recursive Python function that takes a character string s and\n",
    "outputs its reverse. For example, the reverse of pots&pans would be\n",
    "snap&stop ."
   ]
  },
  {
   "cell_type": "code",
   "execution_count": null,
   "id": "22837b92-6292-4a70-8d78-984381d776d9",
   "metadata": {},
   "outputs": [],
   "source": [
    "def reverse_str(s):\n",
    "    if s == '':\n",
    "        return s\n",
    "    return reverse_str(s[1:]) + s[0]"
   ]
  },
  {
   "cell_type": "code",
   "execution_count": null,
   "id": "060af02f-8782-4481-9e0b-22923e0897c2",
   "metadata": {},
   "outputs": [],
   "source": [
    "reverse_str('hello')"
   ]
  },
  {
   "cell_type": "markdown",
   "id": "8d488e0e-1435-41cd-844c-5b1ec53c6c10",
   "metadata": {},
   "source": [
    "### C-4.17 \n",
    "Write a short recursive Python function that determines if a string s is a\n",
    "palindrome, that is, it is equal to its reverse. For example, racecar and\n",
    "gohangasalamiimalasagnahog are palindromes."
   ]
  },
  {
   "cell_type": "code",
   "execution_count": 314,
   "id": "6d49814d-9bec-4160-8591-1943fa2a5c5e",
   "metadata": {},
   "outputs": [],
   "source": [
    "def is_palindrome(s):\n",
    "    if len(s) <= 1:\n",
    "        return True\n",
    "\n",
    "    if s[0] == s[-1]:\n",
    "        return is_palindrome(s[1:-1])\n",
    "    return False"
   ]
  },
  {
   "cell_type": "code",
   "execution_count": 315,
   "id": "c251a88a-d91b-4e6a-8ad8-58c25389c066",
   "metadata": {},
   "outputs": [
    {
     "data": {
      "text/plain": [
       "True"
      ]
     },
     "execution_count": 315,
     "metadata": {},
     "output_type": "execute_result"
    }
   ],
   "source": [
    "is_palindrome('radar')"
   ]
  },
  {
   "cell_type": "code",
   "execution_count": 316,
   "id": "17892e46-6e21-426b-a28a-f1686eddad13",
   "metadata": {},
   "outputs": [
    {
     "data": {
      "text/plain": [
       "False"
      ]
     },
     "execution_count": 316,
     "metadata": {},
     "output_type": "execute_result"
    }
   ],
   "source": [
    "is_palindrome('hello')"
   ]
  },
  {
   "cell_type": "markdown",
   "id": "16a7395a-b908-4cf9-a3e8-5549d3e602f8",
   "metadata": {},
   "source": [
    "### C-4.18 \n",
    "Use recursion to write a Python function for determining if a string s has\n",
    "more vowels than consonants."
   ]
  },
  {
   "cell_type": "code",
   "execution_count": 59,
   "id": "426e1f97-df27-4a56-93f8-a4f6f903b7ea",
   "metadata": {},
   "outputs": [],
   "source": [
    "def has_more_vowels(string):\n",
    "    string = string.lower()\n",
    "    def count_vowels(string,count=0):\n",
    "        vowels = ['a','e','i','o','u']\n",
    "        if not string:\n",
    "            return count\n",
    "        if string[0] in vowels:\n",
    "            count+=1\n",
    "        if string[-1] in vowels and len(string)>1:\n",
    "            count+=1\n",
    "        return count_vowels(string[1:-1],count)\n",
    "\n",
    "    count = count_vowels(string)\n",
    "    return count > (len(string) - count)"
   ]
  },
  {
   "cell_type": "code",
   "execution_count": 60,
   "id": "0afaf494-820b-4f9b-bb97-b33c7e4fdd02",
   "metadata": {},
   "outputs": [
    {
     "data": {
      "text/plain": [
       "True"
      ]
     },
     "execution_count": 60,
     "metadata": {},
     "output_type": "execute_result"
    }
   ],
   "source": [
    "has_more_vowels('AUDIO')"
   ]
  },
  {
   "cell_type": "code",
   "execution_count": 61,
   "id": "14a06a3c-0ce0-40aa-b1c0-5b4c70658bcd",
   "metadata": {},
   "outputs": [
    {
     "data": {
      "text/plain": [
       "False"
      ]
     },
     "execution_count": 61,
     "metadata": {},
     "output_type": "execute_result"
    }
   ],
   "source": [
    "has_more_vowels('Hello')"
   ]
  },
  {
   "cell_type": "markdown",
   "id": "bf3d0710-c8ba-4cb2-90ce-811e5bcce989",
   "metadata": {},
   "source": [
    "### C-4.19\n",
    "Write a short recursive Python function that rearranges a sequence of integer values so that all the even values appear before all the odd values."
   ]
  },
  {
   "cell_type": "code",
   "execution_count": 67,
   "id": "c596d12d-d83e-4df3-a088-0d6a240f1fda",
   "metadata": {},
   "outputs": [
    {
     "data": {
      "text/plain": [
       "-2"
      ]
     },
     "execution_count": 67,
     "metadata": {},
     "output_type": "execute_result"
    }
   ],
   "source": [
    "-1 + -1"
   ]
  },
  {
   "cell_type": "code",
   "execution_count": 5,
   "id": "e10041c5-4092-417c-89ff-f097f6e13fce",
   "metadata": {},
   "outputs": [
    {
     "data": {
      "text/plain": [
       "[5, 6]"
      ]
     },
     "execution_count": 5,
     "metadata": {},
     "output_type": "execute_result"
    }
   ],
   "source": [
    "nums = [2,4,5,6,1,3]\n",
    "nums[2:-2]"
   ]
  },
  {
   "cell_type": "code",
   "execution_count": 16,
   "id": "fb41ebfa-36ef-47ba-922f-6a6b5f8f0f51",
   "metadata": {},
   "outputs": [],
   "source": [
    "def rearrange_even_odd(seq):\n",
    "\n",
    "    def even_odds_sort(seq,count=0,sorted_arr=[]):\n",
    "        if count != len(seq):\n",
    "            if seq[count] % 2 == 0:\n",
    "                sorted_arr.insert(0,seq[count])\n",
    "                return even_odds_sort(seq,count+1,sorted_arr)\n",
    "            else:\n",
    "                sorted_arr.append(seq[count])\n",
    "                return even_odds_sort(seq,count+1,sorted_arr)\n",
    "        else:\n",
    "            return sorted_arr\n",
    "\n",
    "    return even_odds_sort(seq)\n",
    "    "
   ]
  },
  {
   "cell_type": "code",
   "execution_count": 17,
   "id": "b9f5ebcb-2021-474f-ab86-2a76bb0908e0",
   "metadata": {},
   "outputs": [],
   "source": [
    "nums = [i for i in range(0,10)]"
   ]
  },
  {
   "cell_type": "code",
   "execution_count": 18,
   "id": "7e207747-ea3a-4ced-b4b7-9cd7f2618905",
   "metadata": {},
   "outputs": [
    {
     "data": {
      "text/plain": [
       "[8, 6, 4, 2, 0, 1, 3, 5, 7, 9]"
      ]
     },
     "execution_count": 18,
     "metadata": {},
     "output_type": "execute_result"
    }
   ],
   "source": [
    "rearrange_even_odd(nums)"
   ]
  },
  {
   "cell_type": "code",
   "execution_count": 24,
   "id": "5cc7252a-c97a-469b-a4cd-39f7bb634f38",
   "metadata": {},
   "outputs": [],
   "source": [
    "## true answer here cause original sequence sorted\n",
    "\n",
    "def rearrange_e_o(seq):\n",
    "    def even_odds_sort(seq,index=0,count=0):\n",
    "        if len(seq) != count:\n",
    "            if seq[index] % 2 == 0:\n",
    "                seq.insert(0,seq.pop(index))\n",
    "                index+=1\n",
    "            else:\n",
    "                seq.append(seq.pop(index))\n",
    "            count+=1\n",
    "            return even_odds_sort(seq,index,count)\n",
    "        else:\n",
    "            return seq\n",
    "    return even_odds_sort(seq)"
   ]
  },
  {
   "cell_type": "code",
   "execution_count": 22,
   "id": "59eec10e-f79f-4ade-955c-2e0789b197d6",
   "metadata": {},
   "outputs": [],
   "source": [
    "nums = [i for i in range(1,5)]"
   ]
  },
  {
   "cell_type": "code",
   "execution_count": 23,
   "id": "84d49815-c0ba-40f9-bdeb-8d4c69dfe056",
   "metadata": {},
   "outputs": [
    {
     "data": {
      "text/plain": [
       "[4, 2, 1, 3]"
      ]
     },
     "execution_count": 23,
     "metadata": {},
     "output_type": "execute_result"
    }
   ],
   "source": [
    "rearrange_e_o(nums)"
   ]
  },
  {
   "cell_type": "markdown",
   "id": "31af9f39-5013-4674-973d-afa6ccc3d1b5",
   "metadata": {},
   "source": [
    "### C-4.20 \n",
    "Given an unsorted sequence, S, of integers and an integer k, describe a\n",
    "recursive algorithm for rearranging the elements in S so that all elements\n",
    "less than or equal to k come before any elements larger than k. What is\n",
    "the running time of your algorithm on a sequence of n values?"
   ]
  },
  {
   "cell_type": "code",
   "execution_count": 10,
   "id": "241cb05c-bb6f-46b0-ae4f-51800b4aa11d",
   "metadata": {},
   "outputs": [],
   "source": [
    "# this is o(n), reason it has to go through each item to determin if its less than or equal to k\n",
    "\n",
    "def sort_before_k(seq,k):\n",
    "\n",
    "    def sort_k(seq,k,count=0):\n",
    "        if count != len(seq):\n",
    "            if seq[count] <= k:\n",
    "                seq.insert(0,seq.pop(count))\n",
    "            count+=1\n",
    "            return sort_k(seq,k,count)\n",
    "        else:\n",
    "            return seq\n",
    "    return sort_k(seq,k)\n",
    "            "
   ]
  },
  {
   "cell_type": "code",
   "execution_count": 11,
   "id": "007957e9-e223-4272-9bc6-af644fc8e16e",
   "metadata": {},
   "outputs": [
    {
     "name": "stdout",
     "output_type": "stream",
     "text": [
      "[1, 46, 14, 80, 65, 57, 13, 39, 65, 69]\n"
     ]
    },
    {
     "data": {
      "text/plain": [
       "[13, 14, 1, 46, 80, 65, 57, 39, 65, 69]"
      ]
     },
     "execution_count": 11,
     "metadata": {},
     "output_type": "execute_result"
    }
   ],
   "source": [
    "import random\n",
    "\n",
    "l1 = [random.randrange(1,100) for _ in range(0,10)]\n",
    "print(l1)\n",
    "sort_before_k(l1,20)"
   ]
  },
  {
   "cell_type": "code",
   "execution_count": 91,
   "id": "37f16f09-2faa-440c-a2ce-6bbaaca271e0",
   "metadata": {},
   "outputs": [
    {
     "name": "stdout",
     "output_type": "stream",
     "text": [
      "[1, 2, 3, 4, 5, 6, 7, 8, 9]\n"
     ]
    }
   ],
   "source": [
    "\"\"\"\n",
    "Strategy here take list \n",
    "left sort - left to right append  without mid \n",
    "right sort - right to left insert without mid\n",
    "\"\"\"\n",
    "\n",
    "def sort_even_odds(nums):\n",
    "    mid = (len(nums)//2)\n",
    "    def left_sort(nums,mid,count=0):\n",
    "        if mid == count:\n",
    "            return nums\n",
    "        if nums[count]%2 != 0:\n",
    "            nums.append(nums.pop(count))\n",
    "        \n",
    "    def right_sort(nums,mid,count=0):\n",
    "        pass\n",
    "    \n",
    "l1 = [i for i in range(1,10)]\n",
    "print(l1)\n",
    "sort_even_odds(nums)"
   ]
  },
  {
   "cell_type": "markdown",
   "id": "b833b859-d65e-4833-97ba-c163a36fb63a",
   "metadata": {},
   "source": [
    "### C-4.21\n",
    "Suppose you are given an n-element sequence, S, containing distinct integers that are listed in increasing order. Given a number k, describe a\n",
    "recursive algorithm to find two integers in S that sum to k, if such a pair\n",
    "exists. What is the running time of your algorithm?"
   ]
  },
  {
   "cell_type": "code",
   "execution_count": 45,
   "id": "c933fe38-52f1-4cef-9b75-3ebb95d619bc",
   "metadata": {},
   "outputs": [],
   "source": [
    "\"\"\"\n",
    "o notation for this at: o(n)\n",
    "\"\"\"\n",
    "\n",
    "def two_sum(iterable,k):\n",
    "\n",
    "    def find_k_index(iterable):\n",
    "        try:\n",
    "            return iterable.index(k)\n",
    "        except ValueError as e:\n",
    "            mid = iterable[len(iterable)//2]\n",
    "            index = None\n",
    "            if mid < k:\n",
    "                for i in range(len(iterable[mid:])):\n",
    "                    if iterable[i] < k:\n",
    "                        index = i\n",
    "            else:\n",
    "                for i in range(len(iterable[:mid])):\n",
    "                    if iterable[i] < k:\n",
    "                        index = i\n",
    "            return index\n",
    "    \n",
    "    def find_sum(iterable,k,k_index=find_k_index(iterable),count=0):\n",
    "        if not iterable:\n",
    "            return None\n",
    "        \n",
    "        diff = k-iterable[count]\n",
    "        \n",
    "        if diff in iterable[count+1:k_index]:\n",
    "            return iterable[count],diff\n",
    "        else:\n",
    "            count+=1\n",
    "            return find_sum(iterable[count:k_index],k,k_index,count)\n",
    "\n",
    "\n",
    "    return  find_sum(iterable,k)\n",
    "        "
   ]
  },
  {
   "cell_type": "code",
   "execution_count": 44,
   "id": "04970ac2-9a26-4a8e-83da-86c1264796a1",
   "metadata": {},
   "outputs": [
    {
     "data": {
      "text/plain": [
       "(2, 4)"
      ]
     },
     "execution_count": 44,
     "metadata": {},
     "output_type": "execute_result"
    }
   ],
   "source": [
    "l1 = [2,4,5,8]\n",
    "two_sum(l1,6)"
   ]
  },
  {
   "cell_type": "markdown",
   "id": "a88fb40e-32f1-4804-8a05-0f89234f2293",
   "metadata": {},
   "source": [
    "### C-4.22\n",
    "Develop a nonrecursive implementation of the version of power from\n",
    "Code Fragment 4.12 that uses repeated squaring."
   ]
  },
  {
   "cell_type": "code",
   "execution_count": 47,
   "id": "46de6392-81eb-4db9-b17c-0c4e3f57c5f9",
   "metadata": {},
   "outputs": [],
   "source": [
    "def power(base,exp):\n",
    "    return base**exp"
   ]
  },
  {
   "cell_type": "code",
   "execution_count": 48,
   "id": "fb2ac34f-98a5-4d56-962f-40bfe02b04ff",
   "metadata": {},
   "outputs": [
    {
     "data": {
      "text/plain": [
       "8"
      ]
     },
     "execution_count": 48,
     "metadata": {},
     "output_type": "execute_result"
    }
   ],
   "source": [
    "power(2,3)"
   ]
  },
  {
   "cell_type": "code",
   "execution_count": 49,
   "id": "50287186-2fb3-4080-a242-99eb3e8c3fbe",
   "metadata": {},
   "outputs": [
    {
     "data": {
      "text/plain": [
       "16"
      ]
     },
     "execution_count": 49,
     "metadata": {},
     "output_type": "execute_result"
    }
   ],
   "source": [
    "power(4,2)"
   ]
  },
  {
   "cell_type": "code",
   "execution_count": 2,
   "id": "36239111-6dbe-4b0f-8b4c-4005d868f5a7",
   "metadata": {},
   "outputs": [
    {
     "name": "stdout",
     "output_type": "stream",
     "text": [
      "500000.0   1\n",
      "250000.0   2\n",
      "125000.0   3\n",
      "62500.0   4\n",
      "31250.0   5\n",
      "15625.0   6\n",
      "7812.5   7\n",
      "3906.25   8\n",
      "1953.125   9\n",
      "976.5625   10\n",
      "488.28125   11\n",
      "244.140625   12\n",
      "122.0703125   13\n",
      "61.03515625   14\n",
      "30.517578125   15\n",
      "15.2587890625   16\n",
      "7.62939453125   17\n",
      "3.814697265625   18\n",
      "1.9073486328125   19\n",
      "0.95367431640625   20\n"
     ]
    }
   ],
   "source": [
    "count = 0\n",
    "items = 1000000\n",
    "while items >= 1:\n",
    "    items /=2 \n",
    "    count+=1\n",
    "    print(items,' ',count)"
   ]
  },
  {
   "cell_type": "code",
   "execution_count": 25,
   "id": "e8a7cc9c-f8b8-4290-9c0c-90beeaf963ab",
   "metadata": {},
   "outputs": [
    {
     "name": "stdout",
     "output_type": "stream",
     "text": [
      "\n",
      " 0 Test\n",
      "500000 453335\n",
      "250000 453335\n",
      "125000 453335\n",
      "62500 453335\n",
      "31250 453335\n",
      "15625 453335\n",
      "7812 453335\n",
      "3906 453335\n",
      "1953 453335\n",
      "976 453335\n",
      "488 453335\n",
      "244 453335\n",
      "122 453335\n",
      "61 453335\n",
      "30 453335\n",
      "15 453335\n",
      "7 453335\n",
      "(453335, 18)\n",
      "\n",
      " 1 Test\n",
      "500000 414830\n",
      "250000 414830\n",
      "125000 414830\n",
      "62500 414830\n",
      "31250 414830\n",
      "15625 414830\n",
      "7812 414830\n",
      "3906 414830\n",
      "1953 414830\n",
      "976 414830\n",
      "488 414830\n",
      "244 414830\n",
      "122 414830\n",
      "61 414830\n",
      "30 414830\n",
      "15 414830\n",
      "7 414830\n",
      "3 414830\n",
      "(414830, 19)\n",
      "\n",
      " 2 Test\n",
      "500000 666285\n",
      "250000 666285\n",
      "125000 666285\n",
      "62500 666285\n",
      "31250 666285\n",
      "15625 666285\n",
      "7812 666285\n",
      "3906 666285\n",
      "1953 666285\n",
      "976 666285\n",
      "488 666285\n",
      "244 666285\n",
      "122 666285\n",
      "61 666285\n",
      "30 666285\n",
      "15 666285\n",
      "7 666285\n",
      "4 666285\n",
      "2 666285\n",
      "(666285, 20)\n",
      "\n",
      " 3 Test\n",
      "500000 497540\n",
      "250000 497540\n",
      "125000 497540\n",
      "62500 497540\n",
      "31250 497540\n",
      "15625 497540\n",
      "7812 497540\n",
      "3906 497540\n",
      "1953 497540\n",
      "976 497540\n",
      "488 497540\n",
      "244 497540\n",
      "122 497540\n",
      "61 497540\n",
      "30 497540\n",
      "15 497540\n",
      "7 497540\n",
      "4 497540\n",
      "(497540, 19)\n",
      "\n",
      " 4 Test\n",
      "500000 238460\n",
      "250000 238460\n",
      "125000 238460\n",
      "62500 238460\n",
      "31250 238460\n",
      "15625 238460\n",
      "7812 238460\n",
      "3906 238460\n",
      "1953 238460\n",
      "976 238460\n",
      "488 238460\n",
      "244 238460\n",
      "122 238460\n",
      "61 238460\n",
      "30 238460\n",
      "15 238460\n",
      "8 238460\n",
      "4 238460\n",
      "2 238460\n",
      "(238460, 20)\n",
      "\n",
      " 5 Test\n",
      "500000 371957\n",
      "250000 371957\n",
      "125000 371957\n",
      "62500 371957\n",
      "31250 371957\n",
      "15625 371957\n",
      "7812 371957\n",
      "3906 371957\n",
      "1953 371957\n",
      "976 371957\n",
      "488 371957\n",
      "244 371957\n",
      "122 371957\n",
      "61 371957\n",
      "30 371957\n",
      "15 371957\n",
      "7 371957\n",
      "4 371957\n",
      "(371957, 19)\n",
      "\n",
      " 6 Test\n",
      "500000 395787\n",
      "250000 395787\n",
      "125000 395787\n",
      "62500 395787\n",
      "31250 395787\n",
      "15625 395787\n",
      "7812 395787\n",
      "3906 395787\n",
      "1953 395787\n",
      "976 395787\n",
      "488 395787\n",
      "244 395787\n",
      "122 395787\n",
      "61 395787\n",
      "30 395787\n",
      "15 395787\n",
      "7 395787\n",
      "3 395787\n",
      "(395787, 19)\n",
      "\n",
      " 7 Test\n",
      "500000 850034\n",
      "250000 850034\n",
      "125000 850034\n",
      "62500 850034\n",
      "31250 850034\n",
      "15625 850034\n",
      "7812 850034\n",
      "3906 850034\n",
      "1953 850034\n",
      "976 850034\n",
      "488 850034\n",
      "244 850034\n",
      "122 850034\n",
      "61 850034\n",
      "30 850034\n",
      "15 850034\n",
      "8 850034\n",
      "4 850034\n",
      "2 850034\n",
      "(850034, 20)\n",
      "\n",
      " 8 Test\n",
      "500000 570590\n",
      "250000 570590\n",
      "125000 570590\n",
      "62500 570590\n",
      "31250 570590\n",
      "15625 570590\n",
      "7812 570590\n",
      "3906 570590\n",
      "1953 570590\n",
      "976 570590\n",
      "488 570590\n",
      "244 570590\n",
      "122 570590\n",
      "61 570590\n",
      "30 570590\n",
      "15 570590\n",
      "7 570590\n",
      "(570590, 18)\n",
      "\n",
      " 9 Test\n",
      "500000 394186\n",
      "250000 394186\n",
      "125000 394186\n",
      "62500 394186\n",
      "31250 394186\n",
      "15625 394186\n",
      "7812 394186\n",
      "3906 394186\n",
      "1953 394186\n",
      "976 394186\n",
      "488 394186\n",
      "244 394186\n",
      "122 394186\n",
      "61 394186\n",
      "30 394186\n",
      "15 394186\n",
      "7 394186\n",
      "3 394186\n",
      "2 394186\n",
      "(394186, 20)\n"
     ]
    }
   ],
   "source": [
    "# Binary search with recursion with sorted array\n",
    "import random\n",
    "count = 1\n",
    "items = 1000000\n",
    "items = [i for i in range(1,1000001)]\n",
    "def find_item(iterable,target,count=0):\n",
    "    count+=1\n",
    "    mid = len(iterable)//2\n",
    "    if  target < iterable[0] or target > iterable[-1]:\n",
    "        return None, count\n",
    "    elif target > iterable[mid]:\n",
    "        print(mid,target)\n",
    "        return find_item(iterable[mid:],target,count)\n",
    "    elif target < iterable[mid]:\n",
    "        print(mid,target)\n",
    "        return find_item(iterable[:mid],target,count)\n",
    "    return target,count\n",
    "\n",
    "for i in range(0,10):\n",
    "    print('\\n',f'{i} Test',)\n",
    "    print(find_item(items,random.randrange(1,1000000)))"
   ]
  },
  {
   "cell_type": "code",
   "execution_count": 42,
   "id": "f59aff0c-bc1f-48cf-8f0d-1d67d646b98d",
   "metadata": {},
   "outputs": [
    {
     "data": {
      "image/png": "[encoded data removed]",
      "text/plain": [
       "<Figure size 1000x600 with 1 Axes>"
      ]
     },
     "metadata": {},
     "output_type": "display_data"
    }
   ],
   "source": [
    "import numpy as np\n",
    "import matplotlib.pyplot as plt\n",
    "\n",
    "# Define the range of values for x (size of input data)\n",
    "x = np.arange(1, 10)\n",
    "\n",
    "# Define the functions\n",
    "y_n_log_n = x * np.log(x)\n",
    "y_log_n = np.log(x)\n",
    "y_n = x\n",
    "y_n_squared = x**2\n",
    "\n",
    "# Plot the functions\n",
    "plt.figure(figsize=(10, 6))\n",
    "plt.plot(x, y_n_log_n, label='n log n')\n",
    "plt.plot(x, y_log_n, label='log n')\n",
    "plt.plot(x, y_n, label='n')\n",
    "plt.plot(x, y_n_squared, label='n^2')\n",
    "\n",
    "# Add labels and legend\n",
    "plt.xlabel('Size of Input Data (n)')\n",
    "plt.ylabel('Time Complexity')\n",
    "plt.title('Comparison of Time Complexities')\n",
    "plt.legend()\n",
    "\n",
    "# Show the plot\n",
    "plt.grid(True)\n",
    "plt.show()\n"
   ]
  },
  {
   "attachments": {
    "befc6f79-97f3-4db5-b3c6-4f833bedce65.png": {
     "image/png": "[encoded data removed]"
    }
   },
   "cell_type": "markdown",
   "id": "d4d3ad26-c8eb-4323-b1ff-754e24bca38e",
   "metadata": {},
   "source": [
    "### Sorting Algo O notation\n",
    "\n",
    "![image.png](attachment:befc6f79-97f3-4db5-b3c6-4f833bedce65.png)"
   ]
  },
  {
   "cell_type": "code",
   "execution_count": null,
   "id": "f0f399cf-8de9-4777-9e0b-f0a16a8fa951",
   "metadata": {},
   "outputs": [],
   "source": []
  },
  {
   "cell_type": "code",
   "execution_count": null,
   "id": "ecefb1d2-aa89-44a1-b99f-56ff800d5ab1",
   "metadata": {},
   "outputs": [],
   "source": []
  },
  {
   "cell_type": "markdown",
   "id": "3984aae3-21f2-4433-a8da-528be613c511",
   "metadata": {},
   "source": [
    "## Ch3 Array-Based Sequences:\n",
    "### Sequence Types\n",
    "    - The list, tuple, str class are built type within python for sequence based\n",
    "    - These types are innately built in but can be expanded to other classes to override behaviors\n",
    "### Array:\n",
    "    - reference in memory is using an array is example\n",
    "    - array are sequence type and of the same data type\n",
    "    - arrays in python are dynamic in size or known as dynnamic arrays\n",
    "### Dynamic Array:\n",
    "    - Even tho array can increase it size, there is limitation in terms of the size of the array. Therefore resize is needed\n",
    "    - Implementation of dynamic array:\n",
    "        1. Allocate a new array B with larger capacity\n",
    "        2. Set B[i] = A[i], for i = 0 ... n -1 where n denotes the current number of items\n",
    "        3. Set A = B, that is, we henceforth use B as the array supporting the list\n",
    "        4. Insert the new alement in the new array\n",
    "### Tuple vs List Class\n",
    "    - tuples are immutable and much memory efficient\n",
    "    - list are mutable and expensive for memory\n",
    "\n",
    "        Operation             Running Time\n",
    "            len(data)             O(1)\n",
    "            data[j]               O(1)\n",
    "            data.count(value)     O(n)\n",
    "            data.index(value)     O(k+1)\n",
    "            value in data         O(k+1)\n",
    "            data1 == data2        O(k+1) (similarly !=, <, <=, >, >=)\n",
    "            data[j:k]             O(k− j +1)\n",
    "            data1 + data2         O(n1 +n2)\n",
    "            c * data              O(cn)\n",
    "            data[j] = val         O(1)\n",
    "            data.append(value)    O(1)∗\n",
    "            data.insert(k, value) O(n−k+1)∗\n",
    "            data.pop( )           O(1)∗\n",
    "            data.pop(k)           O(n−k)∗\n",
    "            del data[k]\n",
    "            data.remove(value)     O(n)∗\n",
    "            data1.extend(data2)    O(n2)∗\n",
    "            data1 += data2\n",
    "            data.reverse( )        O(n)\n",
    "            data.sort( )           O(nlog n)\n",
    "\n",
    "### Insertation Sort Algo\n",
    "    - Start with sequeunce array \n",
    "    - Then as items are added, we compare the last with the previous item, if there the item is less than the current we swap the items \n",
    "\n",
    "    Algo insertationSort(A):\n",
    "        Input is a A as array \n",
    "        Output is an Array with elements with nondecreating order\n",
    "        for k from 1 to n -1 do\n",
    "            Insert A[k] at its proper location within A[0], A[1], ... A[K]\n",
    "        "
   ]
  },
  {
   "cell_type": "markdown",
   "id": "8f2d798a-86ea-4e96-a70d-c073810dd4b5",
   "metadata": {},
   "source": [
    "### R-5.1 \n",
    "Execute the experiment from Code Fragment 5.1 and compare the results\n",
    "on your system to those we report in Code Fragment 5.2."
   ]
  },
  {
   "cell_type": "code",
   "execution_count": 50,
   "id": "a76d0332-35a0-453a-96f0-ef7cdb7d0fe5",
   "metadata": {},
   "outputs": [
    {
     "name": "stdout",
     "output_type": "stream",
     "text": [
      "2531519850768 2531519850768 2531519850800\n",
      "24 24 28 28\n",
      "8448728 8000040 4000112\n"
     ]
    }
   ],
   "source": [
    "# memory analysis and reference of the variabels in memory\n",
    "import sys\n",
    "import numpy\n",
    "array = [i for i in range(1000000)]\n",
    "tup = tuple(array)\n",
    "nparry = numpy.array([i for i in range(1000000)])\n",
    "num = 1\n",
    "print(id(array[0]),id(tup[0]),id(num))\n",
    "print(sys.getsizeof(array[0]),sys.getsizeof(tup[0]),sys.getsizeof(nparry[0]),sys.getsizeof(num))\n",
    "print(sys.getsizeof(array),sys.getsizeof(tup),sys.getsizeof(nparry))"
   ]
  },
  {
   "cell_type": "code",
   "execution_count": 51,
   "id": "0fe19320-7c06-43f1-b8ca-a654563cc3aa",
   "metadata": {},
   "outputs": [
    {
     "name": "stdout",
     "output_type": "stream",
     "text": [
      "Length: 0; Size in bytes: 56\n",
      "Length: 1; Size in bytes: 88\n",
      "Length: 2; Size in bytes: 88\n",
      "Length: 3; Size in bytes: 88\n",
      "Length: 4; Size in bytes: 88\n",
      "Length: 5; Size in bytes: 120\n",
      "Length: 6; Size in bytes: 120\n",
      "Length: 7; Size in bytes: 120\n",
      "Length: 8; Size in bytes: 120\n",
      "Length: 9; Size in bytes: 184\n",
      "Length: 10; Size in bytes: 184\n",
      "Length: 11; Size in bytes: 184\n",
      "Length: 12; Size in bytes: 184\n",
      "Length: 13; Size in bytes: 184\n",
      "Length: 14; Size in bytes: 184\n",
      "Length: 15; Size in bytes: 184\n",
      "Length: 16; Size in bytes: 184\n",
      "Length: 17; Size in bytes: 248\n",
      "Length: 18; Size in bytes: 248\n",
      "Length: 19; Size in bytes: 248\n",
      "Length: 20; Size in bytes: 248\n",
      "Length: 21; Size in bytes: 248\n",
      "Length: 22; Size in bytes: 248\n",
      "Length: 23; Size in bytes: 248\n",
      "Length: 24; Size in bytes: 248\n",
      "Length: 25; Size in bytes: 312\n",
      "Length: 26; Size in bytes: 312\n"
     ]
    }
   ],
   "source": [
    "data = []\n",
    "for k in range(27):\n",
    "    a = len(data)\n",
    "    b = sys.getsizeof(data)\n",
    "    print(f'Length: {a}; Size in bytes: {b}')\n",
    "    data.append(None)"
   ]
  },
  {
   "cell_type": "markdown",
   "id": "51e2f7ef-90d6-4efa-88c0-b95c881dbae4",
   "metadata": {},
   "source": [
    "### R-5.3 \n",
    "Modify the experiment from Code Fragment 5.1 in order to demonstrate\n",
    "that Python’s list class occasionally shrinks the size of its underlying array\n",
    "when elements are popped from a list."
   ]
  },
  {
   "cell_type": "code",
   "execution_count": 52,
   "id": "b9662a44-3e23-4a27-9fa4-27bc303a8328",
   "metadata": {},
   "outputs": [
    {
     "name": "stdout",
     "output_type": "stream",
     "text": [
      "Length: 27; Size in bytes: 312\n",
      "Length: 26; Size in bytes: 312\n",
      "Length: 25; Size in bytes: 312\n",
      "Length: 24; Size in bytes: 312\n",
      "Length: 23; Size in bytes: 312\n",
      "Length: 22; Size in bytes: 312\n",
      "Length: 21; Size in bytes: 312\n",
      "Length: 20; Size in bytes: 312\n",
      "Length: 19; Size in bytes: 312\n",
      "Length: 18; Size in bytes: 312\n",
      "Length: 17; Size in bytes: 312\n",
      "Length: 16; Size in bytes: 312\n",
      "Length: 15; Size in bytes: 216\n",
      "Length: 14; Size in bytes: 216\n",
      "Length: 13; Size in bytes: 216\n",
      "Length: 12; Size in bytes: 216\n",
      "Length: 11; Size in bytes: 216\n",
      "Length: 10; Size in bytes: 216\n",
      "Length: 9; Size in bytes: 184\n",
      "Length: 8; Size in bytes: 184\n",
      "Length: 7; Size in bytes: 152\n",
      "Length: 6; Size in bytes: 152\n",
      "Length: 5; Size in bytes: 120\n",
      "Length: 4; Size in bytes: 120\n",
      "Length: 3; Size in bytes: 120\n",
      "Length: 2; Size in bytes: 120\n",
      "Length: 1; Size in bytes: 88\n"
     ]
    }
   ],
   "source": [
    "data = [None for _ in range(27)]\n",
    "for k in range(27):\n",
    "    a = len(data)\n",
    "    b = sys.getsizeof(data)\n",
    "    print(f'Length: {a}; Size in bytes: {b}')\n",
    "    data.pop()"
   ]
  },
  {
   "cell_type": "markdown",
   "id": "d3d0fed8-ac08-4530-90f7-b4ebd804ce82",
   "metadata": {},
   "source": [
    "#### R-5.4 \n",
    "Our DynamicArray class, as given in Code Fragment 5.3, does not support\n",
    "use of negative indices with getitem . Update that method to better\n",
    "match the semantics of a Python list."
   ]
  },
  {
   "cell_type": "markdown",
   "id": "7ecd28d0-af06-412a-b0b3-010d1cd1c553",
   "metadata": {},
   "source": [
    "### R-5.6\n",
    "Our implementation of insert for the DynamicArray class, as given in\n",
    "Code Fragment 5.5, has the following inefficiency. In the case when a resize occurs, the resize operation takes time to copy all the elements from\n",
    "an old array to a new array, and then the subsequent loop in the body of\n",
    "insert shifts many of those elements. Give an improved implementation\n",
    "of the insert method, so that, in the case of a resize, the elements are\n",
    "shifted into their final position during that operation, thereby avoiding the\n",
    "subsequent shifting."
   ]
  },
  {
   "cell_type": "code",
   "execution_count": 157,
   "id": "6ee6f6cf-1e01-4f87-adb8-97f7a30581c9",
   "metadata": {},
   "outputs": [],
   "source": [
    "import ctypes\n",
    "\n",
    "class DynamicArray:\n",
    "\n",
    "    def __init__(self):\n",
    "        self._n = 0\n",
    "        self._capacity = 1\n",
    "        self._A = self._make_array(self._capacity)\n",
    "\n",
    "    def __len__(self):\n",
    "        return self._n\n",
    "\n",
    "    def __getitem__(self,k):\n",
    "        if not k < self._n:\n",
    "            raise IndexError('invalid index')\n",
    "        if k < 0:\n",
    "            index = k + 3\n",
    "            if index > 0:\n",
    "                return self._A[index]\n",
    "            else: \n",
    "                raise IndexError('invalid index')\n",
    "        return self._A[k]\n",
    "\n",
    "    def append(self,obj):\n",
    "        if self._n == self._capacity:\n",
    "            self._resize(2 * self._capacity)\n",
    "        self._A[self._n] = obj\n",
    "        self._n += 1\n",
    "\n",
    "    def insert(self,k,value):\n",
    "        if self._n == self._capacity:\n",
    "            # self._resize(2*self._capacity)\n",
    "            B = self._make_array(2*self_capcity)\n",
    "            for i in range(len(b)):\n",
    "                if i == k:\n",
    "                    B[k] == value\n",
    "                elif i < k:\n",
    "                    B[i] = self._A[i]\n",
    "                else:\n",
    "                    B[i] = self._A[i-1]\n",
    "            self._A = B\n",
    "            self._n += 1\n",
    "            self._capacity = c*2\n",
    "        for j in range(self._n,k,-1):\n",
    "            self._A[j] = self._A[j-1]\n",
    "        self._A[k] = value\n",
    "        self._n += 1\n",
    "\n",
    "    def _resize(self,c):\n",
    "        B = self._make_array(c)\n",
    "        for k in range(self._n):\n",
    "            B[k] = self._A[k]\n",
    "        self._A = B\n",
    "        self._capacity = c\n",
    "\n",
    "    def _make_array(self,c):\n",
    "        return (c * ctypes.py_object)()\n",
    "\n",
    "    def __str__(self,):\n",
    "        return f\"{self._capacity}, {self._n}\""
   ]
  },
  {
   "cell_type": "code",
   "execution_count": 145,
   "id": "77042095-fd84-4984-b29f-860aeaf28a01",
   "metadata": {},
   "outputs": [],
   "source": [
    "da = DynamicArray()"
   ]
  },
  {
   "cell_type": "code",
   "execution_count": 146,
   "id": "b0039a78-9488-4d7a-9768-dd153ed23e3d",
   "metadata": {},
   "outputs": [],
   "source": [
    "for i in range(5):\n",
    "    da.append(i)"
   ]
  },
  {
   "cell_type": "code",
   "execution_count": 147,
   "id": "f0fc9dde-cfc3-4567-81a0-a1627aef0597",
   "metadata": {},
   "outputs": [
    {
     "data": {
      "text/plain": [
       "'8, 5'"
      ]
     },
     "execution_count": 147,
     "metadata": {},
     "output_type": "execute_result"
    }
   ],
   "source": [
    "str(da)"
   ]
  },
  {
   "cell_type": "code",
   "execution_count": 148,
   "id": "73fc5fa7-7b1e-4f30-98fd-08b79c6398ed",
   "metadata": {},
   "outputs": [
    {
     "data": {
      "text/plain": [
       "'128, 105'"
      ]
     },
     "execution_count": 148,
     "metadata": {},
     "output_type": "execute_result"
    }
   ],
   "source": [
    "for i in range(100):\n",
    "    da.append(i)\n",
    "str(da)"
   ]
  },
  {
   "cell_type": "code",
   "execution_count": 149,
   "id": "a0275761-241a-4a61-8730-efad6370dcaa",
   "metadata": {},
   "outputs": [
    {
     "data": {
      "text/plain": [
       "2"
      ]
     },
     "execution_count": 149,
     "metadata": {},
     "output_type": "execute_result"
    }
   ],
   "source": [
    "da[-1]"
   ]
  },
  {
   "cell_type": "code",
   "execution_count": 150,
   "id": "489a30a9-7155-4714-8288-eb991b8e2a71",
   "metadata": {},
   "outputs": [],
   "source": [
    "da.insert(1,10)"
   ]
  },
  {
   "cell_type": "code",
   "execution_count": 151,
   "id": "3edd90ba-b697-4af3-8e93-79127107629e",
   "metadata": {},
   "outputs": [
    {
     "data": {
      "text/plain": [
       "1"
      ]
     },
     "execution_count": 151,
     "metadata": {},
     "output_type": "execute_result"
    }
   ],
   "source": [
    "da[2]"
   ]
  },
  {
   "cell_type": "code",
   "execution_count": 152,
   "id": "05c15387-6e8c-42f8-b7e6-ddf09a0da63e",
   "metadata": {},
   "outputs": [
    {
     "name": "stdout",
     "output_type": "stream",
     "text": [
      "1\n"
     ]
    }
   ],
   "source": [
    "da2 = DynamicArray()\n",
    "print(da2._capacity)\n",
    "da2.append(1)\n",
    "da2.append(2)\n",
    "da2.append(3)"
   ]
  },
  {
   "cell_type": "code",
   "execution_count": 153,
   "id": "10e26e61-15ba-4834-baf9-040d7146f2ff",
   "metadata": {},
   "outputs": [
    {
     "data": {
      "text/plain": [
       "3"
      ]
     },
     "execution_count": 153,
     "metadata": {},
     "output_type": "execute_result"
    }
   ],
   "source": [
    "da2[2]"
   ]
  },
  {
   "cell_type": "code",
   "execution_count": 154,
   "id": "c6296af3-cf9c-42b0-92ba-834794441f73",
   "metadata": {},
   "outputs": [],
   "source": [
    "da2.insert(2,4)"
   ]
  },
  {
   "cell_type": "code",
   "execution_count": 155,
   "id": "51dd7a1f-752a-4465-94af-446d6283b22c",
   "metadata": {},
   "outputs": [
    {
     "data": {
      "text/plain": [
       "4"
      ]
     },
     "execution_count": 155,
     "metadata": {},
     "output_type": "execute_result"
    }
   ],
   "source": [
    "da2._n\n"
   ]
  },
  {
   "cell_type": "code",
   "execution_count": 156,
   "id": "f0b809f7-78fd-439b-a819-8a793fb15fbd",
   "metadata": {},
   "outputs": [
    {
     "data": {
      "text/plain": [
       "3"
      ]
     },
     "execution_count": 156,
     "metadata": {},
     "output_type": "execute_result"
    }
   ],
   "source": [
    "da2[3]"
   ]
  },
  {
   "cell_type": "code",
   "execution_count": null,
   "id": "60750ec4-85d4-4b44-b960-86755952926a",
   "metadata": {},
   "outputs": [],
   "source": [
    "class GameEntry:\n",
    "    def __init__(self,name,score):\n",
    "        self._name = name\n",
    "        self._score = score\n",
    "\n",
    "    def get_name(self,):\n",
    "        return self._name\n",
    "\n",
    "    def get_score(self,):\n",
    "        return self._score\n",
    "\n",
    "    def __str__(self):\n",
    "        return f\"{self._name} {self._score}\"\n"
   ]
  },
  {
   "cell_type": "code",
   "execution_count": null,
   "id": "fd679f08-179b-4c39-8690-67f76d704816",
   "metadata": {},
   "outputs": [],
   "source": [
    "class ScoreBoard:\n",
    "\n",
    "    def __init__(self,capacity=10):\n",
    "        self._board = [None] * capacity\n",
    "        self._n = 0 \n",
    "\n",
    "    def __getitem__(self,k):\n",
    "        return self._board[k]\n",
    "\n",
    "    def __str__(self,):\n",
    "        return ','.join(str(self._board[j]) for j in range(self._n))\n",
    "\n",
    "    def add(self,entry):\n",
    "        score = entry.get_score()\n",
    "        good = self._n < len(self._board) or score > self._board[-1].get_score()\n",
    "\n",
    "        if good:\n",
    "            if self._n < len(self._board):\n",
    "                self._n +=1\n",
    "\n",
    "            j = self._n -1\n",
    "            while j > 0 and self._board[j-1].get_score() < score:\n",
    "                print(j,self._board[j-1].get_score(), score)\n",
    "                self._board[j] = self._board[j-1]\n",
    "                print(str(self))\n",
    "                j -= 1\n",
    "            self._board[j] = entry \n",
    "    "
   ]
  },
  {
   "cell_type": "code",
   "execution_count": null,
   "id": "06a1ed2f-44ac-466f-8609-6a84e2bf2345",
   "metadata": {},
   "outputs": [],
   "source": [
    "player_scores = [('Fanny', 100),('Ray',10),('Caitlin',10),('Silvia',22),('Monika',10),('Fanny', 1000),('Ray',99),('Caitlin',12),('Silvia',22),('Monika',20),('Monika',55)]\n",
    "#print(len(player_scores))\n",
    "game_entries = [GameEntry(name,score) for name,score in player_scores]\n",
    "sb = ScoreBoard()\n",
    "for ge in game_entries:\n",
    "    sb.add(ge)\n"
   ]
  },
  {
   "cell_type": "code",
   "execution_count": null,
   "id": "54a6d347-c165-4350-aecd-e4dcc86fba28",
   "metadata": {},
   "outputs": [],
   "source": [
    "str(sb)"
   ]
  },
  {
   "cell_type": "markdown",
   "id": "8ff8cbe4-082d-42b9-bff7-85ddcd15a831",
   "metadata": {},
   "source": [
    "### R-5.7\n",
    "Let A be an array of size n ≥ 2 containing integers from 1 to n−1, inclusive, with exactly one repeated. Describe a fast algorithm for finding the\n",
    "integer in A that is repeated."
   ]
  },
  {
   "cell_type": "code",
   "execution_count": 163,
   "id": "4c6a03b9-e98a-4507-a629-8a615006eff2",
   "metadata": {},
   "outputs": [
    {
     "data": {
      "text/plain": [
       "3"
      ]
     },
     "execution_count": 163,
     "metadata": {},
     "output_type": "execute_result"
    }
   ],
   "source": [
    "### this is an o(n log n) which is worse than iterating over o(n)\n",
    "from collections import Counter \n",
    "def find_repeat(array):\n",
    "    item_counts = Counter(array)\n",
    "    sorted_counts = sorted(item_counts.items(), key=lambda x: x[1], reverse=True)\n",
    "    for k,v in sorted_counts:\n",
    "        if v == 2:\n",
    "            return k\n",
    "\n",
    "find_repeat([1,2,3,3,4])  "
   ]
  },
  {
   "cell_type": "code",
   "execution_count": 165,
   "id": "ae600fbf-ca0a-43b7-b804-6faaac8ab5b4",
   "metadata": {},
   "outputs": [
    {
     "data": {
      "text/plain": [
       "4"
      ]
     },
     "execution_count": 165,
     "metadata": {},
     "output_type": "execute_result"
    }
   ],
   "source": [
    "# This is o(n)\n",
    "def find_repeat(array):\n",
    "    for i in range(1,len(array)):\n",
    "        if array[i-1] == array[i]:\n",
    "            return array[i]\n",
    "\n",
    "find_repeat([1,2,3,4,4])"
   ]
  },
  {
   "cell_type": "markdown",
   "id": "fa12eb51-5631-4352-af6e-3c0fa4c3eb72",
   "metadata": {},
   "source": [
    "### R-5.8\n",
    "Experimentally evaluate the efficiency of the pop method of Python’s list\n",
    "class when using varying indices as a parameter, as we did for insert on\n",
    "page 205. Report your results akin to Table 5.5"
   ]
  },
  {
   "cell_type": "code",
   "execution_count": 63,
   "id": "3436f4ec-211b-48c5-859c-d7f728179429",
   "metadata": {},
   "outputs": [
    {
     "name": "stdout",
     "output_type": "stream",
     "text": [
      "              100           1000          10000         100000        1000000\n",
      "k = 0    2.200000e-06  1.000000e-06  8.000001e-06  7.610000e-05  1.191700e-03\n",
      "k= n//2  3.000005e-07  3.000005e-07  1.600001e-06  1.630000e-05  4.270000e-04\n",
      "k=n      5.000002e-07  3.000005e-07  3.000005e-07  1.999997e-07  8.000006e-07\n"
     ]
    },
    {
     "data": {
      "image/png": "[encoded data removed]",
      "text/plain": [
       "<Figure size 640x480 with 1 Axes>"
      ]
     },
     "metadata": {},
     "output_type": "display_data"
    }
   ],
   "source": [
    "import pandas as pd\n",
    "import numpy as np\n",
    "import time\n",
    "import matplotlib.pyplot as plt\n",
    "\n",
    "list_of_lists = []\n",
    "sizes = [100,1000,10000,100000,1000000]\n",
    "time_series_arrays = []\n",
    "def insert_k(k,array):\n",
    "    indices = [0,len(array)//2,len(array)-1]\n",
    "    lapse = []\n",
    "    for index in indices:\n",
    "        start = time.perf_counter()\n",
    "        array.insert(index,k)\n",
    "        end = time.perf_counter()\n",
    "        diff = end-start\n",
    "        lapse.append(diff)\n",
    "        array.pop(index)\n",
    "    return lapse\n",
    "    \n",
    "for size in sizes:\n",
    "    list_of_lists.append([i for i in range(0,size)])\n",
    "\n",
    "for i in list_of_lists:\n",
    "       time_series_arrays.append(insert_k(-1,i))\n",
    "\n",
    "insertations = [\"k = 0\", \"k= n//2\",\"k=n\"]\n",
    "\n",
    "df = pd.DataFrame(time_series_arrays,columns=insertations,index=sizes)\n",
    "df = df.transpose()\n",
    "\n",
    "print(df)\n",
    "for index,row in df.iterrows():\n",
    "    plt.plot(df.columns, row,label=index)\n",
    "\n",
    "plt.xlabel('ArraySize')\n",
    "plt.ylabel('Time(secs)')\n",
    "plt.title('Insert Time')\n",
    "plt.legend()\n",
    "plt.show()"
   ]
  },
  {
   "cell_type": "code",
   "execution_count": 67,
   "id": "0a1e0f96-48e6-4ab3-8cd7-73f5bfc4e32b",
   "metadata": {},
   "outputs": [
    {
     "name": "stdout",
     "output_type": "stream",
     "text": [
      "              100           1000          10000         100000        1000000\n",
      "k = 0    2.499999e-06  6.999999e-07  1.920000e-05  5.420000e-05  7.251000e-04\n",
      "k= n//2  3.999994e-07  1.000000e-06  1.099999e-06  1.260000e-05  2.636000e-04\n",
      "k=n      3.000005e-07  5.000002e-07  6.000009e-07  3.999994e-07  8.000006e-07\n"
     ]
    },
    {
     "data": {
      "image/png": "[encoded data removed]",
      "text/plain": [
       "<Figure size 640x480 with 1 Axes>"
      ]
     },
     "metadata": {},
     "output_type": "display_data"
    }
   ],
   "source": [
    "\"\"\"\n",
    "Popping the \n",
    "\"\"\"\n",
    "\n",
    "import pandas as pd\n",
    "import numpy as np\n",
    "import time\n",
    "import matplotlib.pyplot as plt\n",
    "\n",
    "list_of_lists = []\n",
    "sizes = [100,1000,10000,100000,1000000]\n",
    "time_series_arrays = []\n",
    "def pop_k(array):\n",
    "    indices = [0,(len(array)//2)-1,len(array)-3]\n",
    "    lapse = []\n",
    "    for index in indices:\n",
    "        start = time.perf_counter()\n",
    "        array.pop(index)\n",
    "        end = time.perf_counter()\n",
    "        diff = end-start\n",
    "        lapse.append(diff)\n",
    "    return lapse\n",
    "    \n",
    "for size in sizes:\n",
    "    list_of_lists.append([i for i in range(0,size)])\n",
    "\n",
    "for i in list_of_lists:\n",
    "       time_series_arrays.append(pop_k(i))\n",
    "\n",
    "removal = [\"k = 0\", \"k= n//2\",\"k=n\"]\n",
    "\n",
    "df = pd.DataFrame(time_series_arrays,columns=removal,index=sizes)\n",
    "df = df.transpose()\n",
    "\n",
    "print(df)\n",
    "for index,row in df.iterrows():\n",
    "    plt.plot(df.columns, row,label=index)\n",
    "\n",
    "plt.xlabel('ArraySize')\n",
    "plt.ylabel('Time(secs)')\n",
    "plt.title('K Pop Time')\n",
    "plt.legend()\n",
    "plt.show()"
   ]
  },
  {
   "cell_type": "code",
   "execution_count": 70,
   "id": "7d04ebe1-6651-4d6c-93ba-3200ede152b2",
   "metadata": {},
   "outputs": [
    {
     "data": {
      "image/png": "[encoded data removed]",
      "text/plain": [
       "<Figure size 640x480 with 1 Axes>"
      ]
     },
     "metadata": {},
     "output_type": "display_data"
    }
   ],
   "source": [
    "import matplotlib.pyplot as plt\n",
    "from mpl_toolkits.mplot3d import Axes3D\n",
    "import numpy as np\n",
    "\n",
    "# Enable interactive mode\n",
    "plt.ion()\n",
    "\n",
    "# Generate random data\n",
    "np.random.seed(0)\n",
    "n = 100\n",
    "x = np.random.standard_normal(n)\n",
    "y = np.random.standard_normal(n)\n",
    "z = np.random.standard_normal(n)\n",
    "\n",
    "# Create a 3D scatter plot\n",
    "fig = plt.figure()\n",
    "ax = fig.add_subplot(111, projection='3d')\n",
    "\n",
    "ax.scatter(x, y, z, c='b', marker='o')\n",
    "\n",
    "ax.set_xlabel('X Label')\n",
    "ax.set_ylabel('Y Label')\n",
    "ax.set_zlabel('Z Label')\n",
    "\n",
    "plt.title('3D Scatter Plot')\n",
    "\n",
    "plt.show()\n"
   ]
  },
  {
   "cell_type": "markdown",
   "id": "b7783990-f2a9-4c95-bec6-b847b63e9775",
   "metadata": {},
   "source": [
    "### R-5.9 \n",
    "Explain the changes that would have to be made to the program of Code\n",
    "Fragment 5.11 so that it could perform the Caesar cipher for messages\n",
    "that are written in an alphabet-based language other than English, such as\n",
    "Greek, Russian, or Hebrew\n",
    "\n",
    "Need to shift the order and find the encoder/decorder for the letters in their alphabets. As well shifting the ord('A') to accomdate the letters in those languages"
   ]
  },
  {
   "cell_type": "markdown",
   "id": "42fe8058-3085-42c5-9522-5965b121ce84",
   "metadata": {},
   "source": [
    "### R-5.10 \n",
    "The constructor for the CaesarCipher class in Code Fragment 5.11 can\n",
    "be implemented with a two-line body by building the forward and backward strings using a combination of the join method and an appropriate\n",
    "comprehension syntax. Give such an implementation."
   ]
  },
  {
   "cell_type": "code",
   "execution_count": 9,
   "id": "0d09fd83-a8e5-4869-a5c1-609ebf74c73a",
   "metadata": {},
   "outputs": [],
   "source": [
    "class CasarCipher:\n",
    "\n",
    "    def __init__(self,shift):\n",
    "        self._forward = ''.join([chr((k+shift) % 26 + ord('A')) for k  in range(26)])\n",
    "        self._backward = ''.join([chr((k-shift) % 26 + ord('A')) for k in range(26) ])\n",
    "\n",
    "    def encrypt(self,message):\n",
    "        return self._transform(message,self._forward)\n",
    "\n",
    "    def decrypt(self,secret):\n",
    "        return self._transform(secret,self._backward)\n",
    "\n",
    "    def _transform(self,original, code):\n",
    "        msg = list(original)\n",
    "        for k in range(len(msg)):\n",
    "            if msg[k].isupper():\n",
    "                j = ord(msg[k]) - ord('A')\n",
    "                msg[k] = code[j]\n",
    "        return ''.join(msg)"
   ]
  },
  {
   "cell_type": "code",
   "execution_count": 10,
   "id": "730e9f3b-2be0-4e8c-b691-1084832d9f01",
   "metadata": {},
   "outputs": [
    {
     "name": "stdout",
     "output_type": "stream",
     "text": [
      "Secret: WKH HDJOH LV LQ SODB; PHHW DW MRH'V\n",
      "Message: THE EAGLE IS IN PLAY; MEET AT JOE'S\n"
     ]
    }
   ],
   "source": [
    "cipher= CasarCipher(3)\n",
    "message = \"THE EAGLE IS IN PLAY; MEET AT JOE'S\"\n",
    "coded = cipher.encrypt(message)\n",
    "print(f'Secret: {coded}')\n",
    "answer = cipher.decrypt(coded)\n",
    "print(f'Message: {answer}') "
   ]
  },
  {
   "cell_type": "code",
   "execution_count": 18,
   "id": "7e97a3c3-11c2-448d-9427-d715f67ce32f",
   "metadata": {},
   "outputs": [
    {
     "data": {
      "text/plain": [
       "'X'"
      ]
     },
     "execution_count": 18,
     "metadata": {},
     "output_type": "execute_result"
    }
   ],
   "source": [
    "chr((0-3) % 26 + ord('A'))"
   ]
  },
  {
   "cell_type": "code",
   "execution_count": 17,
   "id": "59998f90-267f-45e8-883a-8a3d7ac9cc8a",
   "metadata": {},
   "outputs": [
    {
     "data": {
      "text/plain": [
       "65"
      ]
     },
     "execution_count": 17,
     "metadata": {},
     "output_type": "execute_result"
    }
   ],
   "source": [
    "ord('A')"
   ]
  },
  {
   "cell_type": "markdown",
   "id": "7b350881-71c4-4551-ba29-cca8b2119913",
   "metadata": {},
   "source": [
    "### R-5.11 \n",
    "Use standard control structures to compute the sum of all numbers in an\n",
    "n×n data set, represented as a list of lists."
   ]
  },
  {
   "cell_type": "code",
   "execution_count": 1,
   "id": "b5ed410c-4be3-4a70-abbd-f5e8aa65c214",
   "metadata": {},
   "outputs": [],
   "source": [
    "def sum_data(dataset):\n",
    "    total = 0\n",
    "    for array in dataset:\n",
    "        for i in array:\n",
    "            total+=i\n",
    "    return total"
   ]
  },
  {
   "cell_type": "code",
   "execution_count": 2,
   "id": "a6b0964b-d338-4aaf-8b5e-1c012287a6e3",
   "metadata": {},
   "outputs": [],
   "source": [
    "l1 = [[i for i in range(0,10)],[i for i in range(0,10)]]"
   ]
  },
  {
   "cell_type": "code",
   "execution_count": 3,
   "id": "b9a2df13-baaf-44d6-aee3-e05196a880bf",
   "metadata": {},
   "outputs": [
    {
     "data": {
      "text/plain": [
       "90"
      ]
     },
     "execution_count": 3,
     "metadata": {},
     "output_type": "execute_result"
    }
   ],
   "source": [
    "sum_data(l1)"
   ]
  },
  {
   "cell_type": "markdown",
   "id": "b235794c-14e6-4cd6-b5a9-9ad1e271e0b8",
   "metadata": {},
   "source": [
    "### R-5.12 \n",
    "Describe how the built-in sum function can be combined with Python’s\n",
    "comprehension syntax to compute the sum of all numbers in an n×n data\n",
    "set, represented as a list of lists."
   ]
  },
  {
   "cell_type": "code",
   "execution_count": 4,
   "id": "75f8cfd7-88fc-414e-bb3a-ab10110685e9",
   "metadata": {},
   "outputs": [],
   "source": [
    "def sum_list(dataset):\n",
    "    return [sum(array) for array in dataset] "
   ]
  },
  {
   "cell_type": "code",
   "execution_count": 5,
   "id": "095cd913-9a45-4ec9-a478-259b1b257732",
   "metadata": {},
   "outputs": [
    {
     "data": {
      "text/plain": [
       "[45, 45]"
      ]
     },
     "execution_count": 5,
     "metadata": {},
     "output_type": "execute_result"
    }
   ],
   "source": [
    "sum_list(l1)"
   ]
  },
  {
   "cell_type": "markdown",
   "id": "04ab1d0e-a3d7-42f7-b08b-00afbafc5dd1",
   "metadata": {},
   "source": [
    "### C-5.13 \n",
    "In the experiment of Code Fragment 5.1, we begin with an empty list. If\n",
    "data were initially constructed with nonempty length, does this affect the\n",
    "sequence of values at which the underlying array is expanded? Perform\n",
    "your own experiments, and comment on any relationship you see between\n",
    "the initial length and the expansion sequence."
   ]
  },
  {
   "cell_type": "code",
   "execution_count": 7,
   "id": "073c1422-8f2c-4511-94d2-14bf89683d04",
   "metadata": {},
   "outputs": [
    {
     "name": "stdout",
     "output_type": "stream",
     "text": [
      "Length 0; Size 56\n",
      "Length 1; Size 88\n",
      "Length 2; Size 88\n",
      "Length 3; Size 88\n",
      "Length 4; Size 88\n",
      "Length 5; Size 120\n",
      "Length 6; Size 120\n",
      "Length 7; Size 120\n",
      "Length 8; Size 120\n",
      "Length 9; Size 184\n",
      "Length 10; Size 184\n",
      "Length 11; Size 184\n",
      "Length 12; Size 184\n",
      "Length 13; Size 184\n",
      "Length 14; Size 184\n",
      "Length 15; Size 184\n",
      "Length 16; Size 184\n",
      "Length 17; Size 248\n",
      "Length 18; Size 248\n",
      "Length 19; Size 248\n",
      "Length 20; Size 248\n",
      "Length 21; Size 248\n",
      "Length 22; Size 248\n",
      "Length 23; Size 248\n",
      "Length 24; Size 248\n",
      "Length 25; Size 312\n",
      "Length 26; Size 312\n",
      "Length 27; Size 312\n",
      "Length 28; Size 312\n",
      "Length 29; Size 312\n",
      "Length 30; Size 312\n",
      "Length 31; Size 312\n",
      "Length 32; Size 312\n",
      "Length 33; Size 376\n",
      "Length 34; Size 376\n",
      "Length 35; Size 376\n",
      "Length 36; Size 376\n",
      "Length 37; Size 376\n",
      "Length 38; Size 376\n",
      "Length 39; Size 376\n",
      "Length 40; Size 376\n",
      "Length 41; Size 472\n",
      "Length 42; Size 472\n",
      "Length 43; Size 472\n",
      "Length 44; Size 472\n",
      "Length 45; Size 472\n",
      "Length 46; Size 472\n",
      "Length 47; Size 472\n",
      "Length 48; Size 472\n",
      "Length 49; Size 472\n",
      "Length 50; Size 472\n",
      "Length 51; Size 472\n",
      "Length 52; Size 472\n",
      "Length 53; Size 568\n",
      "Length 54; Size 568\n",
      "Length 55; Size 568\n",
      "Length 56; Size 568\n",
      "Length 57; Size 568\n",
      "Length 58; Size 568\n",
      "Length 59; Size 568\n",
      "Length 60; Size 568\n",
      "Length 61; Size 568\n",
      "Length 62; Size 568\n",
      "Length 63; Size 568\n",
      "Length 64; Size 568\n",
      "Length 65; Size 664\n",
      "Length 66; Size 664\n",
      "Length 67; Size 664\n",
      "Length 68; Size 664\n",
      "Length 69; Size 664\n",
      "Length 70; Size 664\n",
      "Length 71; Size 664\n",
      "Length 72; Size 664\n",
      "Length 73; Size 664\n",
      "Length 74; Size 664\n",
      "Length 75; Size 664\n",
      "Length 76; Size 664\n",
      "Length 77; Size 792\n",
      "Length 78; Size 792\n",
      "Length 79; Size 792\n",
      "Length 80; Size 792\n",
      "Length 81; Size 792\n",
      "Length 82; Size 792\n",
      "Length 83; Size 792\n",
      "Length 84; Size 792\n",
      "Length 85; Size 792\n",
      "Length 86; Size 792\n",
      "Length 87; Size 792\n",
      "Length 88; Size 792\n",
      "Length 89; Size 792\n",
      "Length 90; Size 792\n",
      "Length 91; Size 792\n",
      "Length 92; Size 792\n",
      "Length 93; Size 920\n",
      "Length 94; Size 920\n",
      "Length 95; Size 920\n",
      "Length 96; Size 920\n",
      "Length 97; Size 920\n",
      "Length 98; Size 920\n",
      "Length 99; Size 920\n",
      "Length 100; Size 920\n",
      "Length 101; Size 920\n",
      "Length 102; Size 920\n",
      "Length 103; Size 920\n",
      "Length 104; Size 920\n",
      "Length 105; Size 920\n",
      "Length 106; Size 920\n",
      "Length 107; Size 920\n",
      "Length 108; Size 920\n",
      "Length 109; Size 1080\n",
      "Length 110; Size 1080\n",
      "Length 111; Size 1080\n",
      "Length 112; Size 1080\n",
      "Length 113; Size 1080\n",
      "Length 114; Size 1080\n",
      "Length 115; Size 1080\n",
      "Length 116; Size 1080\n",
      "Length 117; Size 1080\n",
      "Length 118; Size 1080\n",
      "Length 119; Size 1080\n",
      "Length 120; Size 1080\n",
      "Length 121; Size 1080\n",
      "Length 122; Size 1080\n",
      "Length 123; Size 1080\n",
      "Length 124; Size 1080\n",
      "Length 125; Size 1080\n",
      "Length 126; Size 1080\n",
      "Length 127; Size 1080\n",
      "Length 128; Size 1080\n",
      "Length 129; Size 1240\n",
      "Length 130; Size 1240\n",
      "Length 131; Size 1240\n",
      "Length 132; Size 1240\n",
      "Length 133; Size 1240\n",
      "Length 134; Size 1240\n",
      "Length 135; Size 1240\n",
      "Length 136; Size 1240\n",
      "Length 137; Size 1240\n",
      "Length 138; Size 1240\n",
      "Length 139; Size 1240\n",
      "Length 140; Size 1240\n",
      "Length 141; Size 1240\n",
      "Length 142; Size 1240\n",
      "Length 143; Size 1240\n",
      "Length 144; Size 1240\n",
      "Length 145; Size 1240\n",
      "Length 146; Size 1240\n",
      "Length 147; Size 1240\n",
      "Length 148; Size 1240\n",
      "Length 149; Size 1432\n",
      "Length 150; Size 1432\n",
      "Length 151; Size 1432\n",
      "Length 152; Size 1432\n",
      "Length 153; Size 1432\n",
      "Length 154; Size 1432\n",
      "Length 155; Size 1432\n",
      "Length 156; Size 1432\n",
      "Length 157; Size 1432\n",
      "Length 158; Size 1432\n",
      "Length 159; Size 1432\n",
      "Length 160; Size 1432\n",
      "Length 161; Size 1432\n",
      "Length 162; Size 1432\n",
      "Length 163; Size 1432\n",
      "Length 164; Size 1432\n",
      "Length 165; Size 1432\n",
      "Length 166; Size 1432\n",
      "Length 167; Size 1432\n",
      "Length 168; Size 1432\n",
      "Length 169; Size 1432\n",
      "Length 170; Size 1432\n",
      "Length 171; Size 1432\n",
      "Length 172; Size 1432\n",
      "Length 173; Size 1656\n",
      "Length 174; Size 1656\n",
      "Length 175; Size 1656\n",
      "Length 176; Size 1656\n",
      "Length 177; Size 1656\n",
      "Length 178; Size 1656\n",
      "Length 179; Size 1656\n",
      "Length 180; Size 1656\n",
      "Length 181; Size 1656\n",
      "Length 182; Size 1656\n",
      "Length 183; Size 1656\n",
      "Length 184; Size 1656\n",
      "Length 185; Size 1656\n",
      "Length 186; Size 1656\n",
      "Length 187; Size 1656\n",
      "Length 188; Size 1656\n",
      "Length 189; Size 1656\n",
      "Length 190; Size 1656\n",
      "Length 191; Size 1656\n",
      "Length 192; Size 1656\n",
      "Length 193; Size 1656\n",
      "Length 194; Size 1656\n",
      "Length 195; Size 1656\n",
      "Length 196; Size 1656\n",
      "Length 197; Size 1656\n",
      "Length 198; Size 1656\n",
      "Length 199; Size 1656\n",
      "Length 200; Size 1656\n",
      "Length 201; Size 1912\n",
      "Length 202; Size 1912\n",
      "Length 203; Size 1912\n",
      "Length 204; Size 1912\n",
      "Length 205; Size 1912\n",
      "Length 206; Size 1912\n",
      "Length 207; Size 1912\n",
      "Length 208; Size 1912\n",
      "Length 209; Size 1912\n",
      "Length 210; Size 1912\n",
      "Length 211; Size 1912\n",
      "Length 212; Size 1912\n",
      "Length 213; Size 1912\n",
      "Length 214; Size 1912\n",
      "Length 215; Size 1912\n",
      "Length 216; Size 1912\n",
      "Length 217; Size 1912\n",
      "Length 218; Size 1912\n",
      "Length 219; Size 1912\n",
      "Length 220; Size 1912\n",
      "Length 221; Size 1912\n",
      "Length 222; Size 1912\n",
      "Length 223; Size 1912\n",
      "Length 224; Size 1912\n",
      "Length 225; Size 1912\n",
      "Length 226; Size 1912\n",
      "Length 227; Size 1912\n",
      "Length 228; Size 1912\n",
      "Length 229; Size 1912\n",
      "Length 230; Size 1912\n",
      "Length 231; Size 1912\n",
      "Length 232; Size 1912\n",
      "Length 233; Size 2200\n",
      "Length 234; Size 2200\n",
      "Length 235; Size 2200\n",
      "Length 236; Size 2200\n",
      "Length 237; Size 2200\n",
      "Length 238; Size 2200\n",
      "Length 239; Size 2200\n",
      "Length 240; Size 2200\n",
      "Length 241; Size 2200\n",
      "Length 242; Size 2200\n",
      "Length 243; Size 2200\n",
      "Length 244; Size 2200\n",
      "Length 245; Size 2200\n",
      "Length 246; Size 2200\n",
      "Length 247; Size 2200\n",
      "Length 248; Size 2200\n",
      "Length 249; Size 2200\n",
      "Length 250; Size 2200\n",
      "Length 251; Size 2200\n",
      "Length 252; Size 2200\n",
      "Length 253; Size 2200\n",
      "Length 254; Size 2200\n",
      "Length 255; Size 2200\n",
      "Length 256; Size 2200\n",
      "Length 257; Size 2200\n",
      "Length 258; Size 2200\n",
      "Length 259; Size 2200\n",
      "Length 260; Size 2200\n",
      "Length 261; Size 2200\n",
      "Length 262; Size 2200\n",
      "Length 263; Size 2200\n",
      "Length 264; Size 2200\n",
      "Length 265; Size 2200\n",
      "Length 266; Size 2200\n",
      "Length 267; Size 2200\n",
      "Length 268; Size 2200\n",
      "Length 269; Size 2520\n",
      "Length 270; Size 2520\n",
      "Length 271; Size 2520\n",
      "Length 272; Size 2520\n",
      "Length 273; Size 2520\n",
      "Length 274; Size 2520\n",
      "Length 275; Size 2520\n",
      "Length 276; Size 2520\n",
      "Length 277; Size 2520\n",
      "Length 278; Size 2520\n",
      "Length 279; Size 2520\n",
      "Length 280; Size 2520\n",
      "Length 281; Size 2520\n",
      "Length 282; Size 2520\n",
      "Length 283; Size 2520\n",
      "Length 284; Size 2520\n",
      "Length 285; Size 2520\n",
      "Length 286; Size 2520\n",
      "Length 287; Size 2520\n",
      "Length 288; Size 2520\n",
      "Length 289; Size 2520\n",
      "Length 290; Size 2520\n",
      "Length 291; Size 2520\n",
      "Length 292; Size 2520\n",
      "Length 293; Size 2520\n",
      "Length 294; Size 2520\n",
      "Length 295; Size 2520\n",
      "Length 296; Size 2520\n",
      "Length 297; Size 2520\n",
      "Length 298; Size 2520\n",
      "Length 299; Size 2520\n",
      "Length 300; Size 2520\n",
      "Length 301; Size 2520\n",
      "Length 302; Size 2520\n",
      "Length 303; Size 2520\n",
      "Length 304; Size 2520\n",
      "Length 305; Size 2520\n",
      "Length 306; Size 2520\n",
      "Length 307; Size 2520\n",
      "Length 308; Size 2520\n",
      "Length 309; Size 2872\n",
      "Length 310; Size 2872\n",
      "Length 311; Size 2872\n",
      "Length 312; Size 2872\n",
      "Length 313; Size 2872\n",
      "Length 314; Size 2872\n",
      "Length 315; Size 2872\n",
      "Length 316; Size 2872\n",
      "Length 317; Size 2872\n",
      "Length 318; Size 2872\n",
      "Length 319; Size 2872\n",
      "Length 320; Size 2872\n",
      "Length 321; Size 2872\n",
      "Length 322; Size 2872\n",
      "Length 323; Size 2872\n",
      "Length 324; Size 2872\n",
      "Length 325; Size 2872\n",
      "Length 326; Size 2872\n",
      "Length 327; Size 2872\n",
      "Length 328; Size 2872\n",
      "Length 329; Size 2872\n",
      "Length 330; Size 2872\n",
      "Length 331; Size 2872\n",
      "Length 332; Size 2872\n",
      "Length 333; Size 2872\n",
      "Length 334; Size 2872\n",
      "Length 335; Size 2872\n",
      "Length 336; Size 2872\n",
      "Length 337; Size 2872\n",
      "Length 338; Size 2872\n",
      "Length 339; Size 2872\n",
      "Length 340; Size 2872\n",
      "Length 341; Size 2872\n",
      "Length 342; Size 2872\n",
      "Length 343; Size 2872\n",
      "Length 344; Size 2872\n",
      "Length 345; Size 2872\n",
      "Length 346; Size 2872\n",
      "Length 347; Size 2872\n",
      "Length 348; Size 2872\n",
      "Length 349; Size 2872\n",
      "Length 350; Size 2872\n",
      "Length 351; Size 2872\n",
      "Length 352; Size 2872\n",
      "Length 353; Size 3256\n",
      "Length 354; Size 3256\n",
      "Length 355; Size 3256\n",
      "Length 356; Size 3256\n",
      "Length 357; Size 3256\n",
      "Length 358; Size 3256\n",
      "Length 359; Size 3256\n",
      "Length 360; Size 3256\n",
      "Length 361; Size 3256\n",
      "Length 362; Size 3256\n",
      "Length 363; Size 3256\n",
      "Length 364; Size 3256\n",
      "Length 365; Size 3256\n",
      "Length 366; Size 3256\n",
      "Length 367; Size 3256\n",
      "Length 368; Size 3256\n",
      "Length 369; Size 3256\n",
      "Length 370; Size 3256\n",
      "Length 371; Size 3256\n",
      "Length 372; Size 3256\n",
      "Length 373; Size 3256\n",
      "Length 374; Size 3256\n",
      "Length 375; Size 3256\n",
      "Length 376; Size 3256\n",
      "Length 377; Size 3256\n",
      "Length 378; Size 3256\n",
      "Length 379; Size 3256\n",
      "Length 380; Size 3256\n",
      "Length 381; Size 3256\n",
      "Length 382; Size 3256\n",
      "Length 383; Size 3256\n",
      "Length 384; Size 3256\n",
      "Length 385; Size 3256\n",
      "Length 386; Size 3256\n",
      "Length 387; Size 3256\n",
      "Length 388; Size 3256\n",
      "Length 389; Size 3256\n",
      "Length 390; Size 3256\n",
      "Length 391; Size 3256\n",
      "Length 392; Size 3256\n",
      "Length 393; Size 3256\n",
      "Length 394; Size 3256\n",
      "Length 395; Size 3256\n",
      "Length 396; Size 3256\n",
      "Length 397; Size 3256\n",
      "Length 398; Size 3256\n",
      "Length 399; Size 3256\n",
      "Length 400; Size 3256\n",
      "Length 401; Size 3704\n",
      "Length 402; Size 3704\n",
      "Length 403; Size 3704\n",
      "Length 404; Size 3704\n",
      "Length 405; Size 3704\n",
      "Length 406; Size 3704\n",
      "Length 407; Size 3704\n",
      "Length 408; Size 3704\n",
      "Length 409; Size 3704\n",
      "Length 410; Size 3704\n",
      "Length 411; Size 3704\n",
      "Length 412; Size 3704\n",
      "Length 413; Size 3704\n",
      "Length 414; Size 3704\n",
      "Length 415; Size 3704\n",
      "Length 416; Size 3704\n",
      "Length 417; Size 3704\n",
      "Length 418; Size 3704\n",
      "Length 419; Size 3704\n",
      "Length 420; Size 3704\n",
      "Length 421; Size 3704\n",
      "Length 422; Size 3704\n",
      "Length 423; Size 3704\n",
      "Length 424; Size 3704\n",
      "Length 425; Size 3704\n",
      "Length 426; Size 3704\n",
      "Length 427; Size 3704\n",
      "Length 428; Size 3704\n",
      "Length 429; Size 3704\n",
      "Length 430; Size 3704\n",
      "Length 431; Size 3704\n",
      "Length 432; Size 3704\n",
      "Length 433; Size 3704\n",
      "Length 434; Size 3704\n",
      "Length 435; Size 3704\n",
      "Length 436; Size 3704\n",
      "Length 437; Size 3704\n",
      "Length 438; Size 3704\n",
      "Length 439; Size 3704\n",
      "Length 440; Size 3704\n",
      "Length 441; Size 3704\n",
      "Length 442; Size 3704\n",
      "Length 443; Size 3704\n",
      "Length 444; Size 3704\n",
      "Length 445; Size 3704\n",
      "Length 446; Size 3704\n",
      "Length 447; Size 3704\n",
      "Length 448; Size 3704\n",
      "Length 449; Size 3704\n",
      "Length 450; Size 3704\n",
      "Length 451; Size 3704\n",
      "Length 452; Size 3704\n",
      "Length 453; Size 3704\n",
      "Length 454; Size 3704\n",
      "Length 455; Size 3704\n",
      "Length 456; Size 3704\n",
      "Length 457; Size 4216\n",
      "Length 458; Size 4216\n",
      "Length 459; Size 4216\n",
      "Length 460; Size 4216\n",
      "Length 461; Size 4216\n",
      "Length 462; Size 4216\n",
      "Length 463; Size 4216\n",
      "Length 464; Size 4216\n",
      "Length 465; Size 4216\n",
      "Length 466; Size 4216\n",
      "Length 467; Size 4216\n",
      "Length 468; Size 4216\n",
      "Length 469; Size 4216\n",
      "Length 470; Size 4216\n",
      "Length 471; Size 4216\n",
      "Length 472; Size 4216\n",
      "Length 473; Size 4216\n",
      "Length 474; Size 4216\n",
      "Length 475; Size 4216\n",
      "Length 476; Size 4216\n",
      "Length 477; Size 4216\n",
      "Length 478; Size 4216\n",
      "Length 479; Size 4216\n",
      "Length 480; Size 4216\n",
      "Length 481; Size 4216\n",
      "Length 482; Size 4216\n",
      "Length 483; Size 4216\n",
      "Length 484; Size 4216\n",
      "Length 485; Size 4216\n",
      "Length 486; Size 4216\n",
      "Length 487; Size 4216\n",
      "Length 488; Size 4216\n",
      "Length 489; Size 4216\n",
      "Length 490; Size 4216\n",
      "Length 491; Size 4216\n",
      "Length 492; Size 4216\n",
      "Length 493; Size 4216\n",
      "Length 494; Size 4216\n",
      "Length 495; Size 4216\n",
      "Length 496; Size 4216\n",
      "Length 497; Size 4216\n",
      "Length 498; Size 4216\n",
      "Length 499; Size 4216\n",
      "Length 500; Size 4216\n",
      "Length 501; Size 4216\n",
      "Length 502; Size 4216\n",
      "Length 503; Size 4216\n",
      "Length 504; Size 4216\n",
      "Length 505; Size 4216\n",
      "Length 506; Size 4216\n",
      "Length 507; Size 4216\n",
      "Length 508; Size 4216\n",
      "Length 509; Size 4216\n",
      "Length 510; Size 4216\n",
      "Length 511; Size 4216\n",
      "Length 512; Size 4216\n",
      "Length 513; Size 4216\n",
      "Length 514; Size 4216\n",
      "Length 515; Size 4216\n",
      "Length 516; Size 4216\n",
      "Length 517; Size 4216\n",
      "Length 518; Size 4216\n",
      "Length 519; Size 4216\n",
      "Length 520; Size 4216\n",
      "Length 521; Size 4792\n",
      "Length 522; Size 4792\n",
      "Length 523; Size 4792\n",
      "Length 524; Size 4792\n",
      "Length 525; Size 4792\n",
      "Length 526; Size 4792\n",
      "Length 527; Size 4792\n",
      "Length 528; Size 4792\n",
      "Length 529; Size 4792\n",
      "Length 530; Size 4792\n",
      "Length 531; Size 4792\n",
      "Length 532; Size 4792\n",
      "Length 533; Size 4792\n",
      "Length 534; Size 4792\n",
      "Length 535; Size 4792\n",
      "Length 536; Size 4792\n",
      "Length 537; Size 4792\n",
      "Length 538; Size 4792\n",
      "Length 539; Size 4792\n",
      "Length 540; Size 4792\n",
      "Length 541; Size 4792\n",
      "Length 542; Size 4792\n",
      "Length 543; Size 4792\n",
      "Length 544; Size 4792\n",
      "Length 545; Size 4792\n",
      "Length 546; Size 4792\n",
      "Length 547; Size 4792\n",
      "Length 548; Size 4792\n",
      "Length 549; Size 4792\n",
      "Length 550; Size 4792\n",
      "Length 551; Size 4792\n",
      "Length 552; Size 4792\n",
      "Length 553; Size 4792\n",
      "Length 554; Size 4792\n",
      "Length 555; Size 4792\n",
      "Length 556; Size 4792\n",
      "Length 557; Size 4792\n",
      "Length 558; Size 4792\n",
      "Length 559; Size 4792\n",
      "Length 560; Size 4792\n",
      "Length 561; Size 4792\n",
      "Length 562; Size 4792\n",
      "Length 563; Size 4792\n",
      "Length 564; Size 4792\n",
      "Length 565; Size 4792\n",
      "Length 566; Size 4792\n",
      "Length 567; Size 4792\n",
      "Length 568; Size 4792\n",
      "Length 569; Size 4792\n",
      "Length 570; Size 4792\n",
      "Length 571; Size 4792\n",
      "Length 572; Size 4792\n",
      "Length 573; Size 4792\n",
      "Length 574; Size 4792\n",
      "Length 575; Size 4792\n",
      "Length 576; Size 4792\n",
      "Length 577; Size 4792\n",
      "Length 578; Size 4792\n",
      "Length 579; Size 4792\n",
      "Length 580; Size 4792\n",
      "Length 581; Size 4792\n",
      "Length 582; Size 4792\n",
      "Length 583; Size 4792\n",
      "Length 584; Size 4792\n",
      "Length 585; Size 4792\n",
      "Length 586; Size 4792\n",
      "Length 587; Size 4792\n",
      "Length 588; Size 4792\n",
      "Length 589; Size 4792\n",
      "Length 590; Size 4792\n",
      "Length 591; Size 4792\n",
      "Length 592; Size 4792\n",
      "Length 593; Size 5432\n",
      "Length 594; Size 5432\n",
      "Length 595; Size 5432\n",
      "Length 596; Size 5432\n",
      "Length 597; Size 5432\n",
      "Length 598; Size 5432\n",
      "Length 599; Size 5432\n",
      "Length 600; Size 5432\n",
      "Length 601; Size 5432\n",
      "Length 602; Size 5432\n",
      "Length 603; Size 5432\n",
      "Length 604; Size 5432\n",
      "Length 605; Size 5432\n",
      "Length 606; Size 5432\n",
      "Length 607; Size 5432\n",
      "Length 608; Size 5432\n",
      "Length 609; Size 5432\n",
      "Length 610; Size 5432\n",
      "Length 611; Size 5432\n",
      "Length 612; Size 5432\n",
      "Length 613; Size 5432\n",
      "Length 614; Size 5432\n",
      "Length 615; Size 5432\n",
      "Length 616; Size 5432\n",
      "Length 617; Size 5432\n",
      "Length 618; Size 5432\n",
      "Length 619; Size 5432\n",
      "Length 620; Size 5432\n",
      "Length 621; Size 5432\n",
      "Length 622; Size 5432\n",
      "Length 623; Size 5432\n",
      "Length 624; Size 5432\n",
      "Length 625; Size 5432\n",
      "Length 626; Size 5432\n",
      "Length 627; Size 5432\n",
      "Length 628; Size 5432\n",
      "Length 629; Size 5432\n",
      "Length 630; Size 5432\n",
      "Length 631; Size 5432\n",
      "Length 632; Size 5432\n",
      "Length 633; Size 5432\n",
      "Length 634; Size 5432\n",
      "Length 635; Size 5432\n",
      "Length 636; Size 5432\n",
      "Length 637; Size 5432\n",
      "Length 638; Size 5432\n",
      "Length 639; Size 5432\n",
      "Length 640; Size 5432\n",
      "Length 641; Size 5432\n",
      "Length 642; Size 5432\n",
      "Length 643; Size 5432\n",
      "Length 644; Size 5432\n",
      "Length 645; Size 5432\n",
      "Length 646; Size 5432\n",
      "Length 647; Size 5432\n",
      "Length 648; Size 5432\n",
      "Length 649; Size 5432\n",
      "Length 650; Size 5432\n",
      "Length 651; Size 5432\n",
      "Length 652; Size 5432\n",
      "Length 653; Size 5432\n",
      "Length 654; Size 5432\n",
      "Length 655; Size 5432\n",
      "Length 656; Size 5432\n",
      "Length 657; Size 5432\n",
      "Length 658; Size 5432\n",
      "Length 659; Size 5432\n",
      "Length 660; Size 5432\n",
      "Length 661; Size 5432\n",
      "Length 662; Size 5432\n",
      "Length 663; Size 5432\n",
      "Length 664; Size 5432\n",
      "Length 665; Size 5432\n",
      "Length 666; Size 5432\n",
      "Length 667; Size 5432\n",
      "Length 668; Size 5432\n",
      "Length 669; Size 5432\n",
      "Length 670; Size 5432\n",
      "Length 671; Size 5432\n",
      "Length 672; Size 5432\n",
      "Length 673; Size 6136\n",
      "Length 674; Size 6136\n",
      "Length 675; Size 6136\n",
      "Length 676; Size 6136\n",
      "Length 677; Size 6136\n",
      "Length 678; Size 6136\n",
      "Length 679; Size 6136\n",
      "Length 680; Size 6136\n",
      "Length 681; Size 6136\n",
      "Length 682; Size 6136\n",
      "Length 683; Size 6136\n",
      "Length 684; Size 6136\n",
      "Length 685; Size 6136\n",
      "Length 686; Size 6136\n",
      "Length 687; Size 6136\n",
      "Length 688; Size 6136\n",
      "Length 689; Size 6136\n",
      "Length 690; Size 6136\n",
      "Length 691; Size 6136\n",
      "Length 692; Size 6136\n",
      "Length 693; Size 6136\n",
      "Length 694; Size 6136\n",
      "Length 695; Size 6136\n",
      "Length 696; Size 6136\n",
      "Length 697; Size 6136\n",
      "Length 698; Size 6136\n",
      "Length 699; Size 6136\n",
      "Length 700; Size 6136\n",
      "Length 701; Size 6136\n",
      "Length 702; Size 6136\n",
      "Length 703; Size 6136\n",
      "Length 704; Size 6136\n",
      "Length 705; Size 6136\n",
      "Length 706; Size 6136\n",
      "Length 707; Size 6136\n",
      "Length 708; Size 6136\n",
      "Length 709; Size 6136\n",
      "Length 710; Size 6136\n",
      "Length 711; Size 6136\n",
      "Length 712; Size 6136\n",
      "Length 713; Size 6136\n",
      "Length 714; Size 6136\n",
      "Length 715; Size 6136\n",
      "Length 716; Size 6136\n",
      "Length 717; Size 6136\n",
      "Length 718; Size 6136\n",
      "Length 719; Size 6136\n",
      "Length 720; Size 6136\n",
      "Length 721; Size 6136\n",
      "Length 722; Size 6136\n",
      "Length 723; Size 6136\n",
      "Length 724; Size 6136\n",
      "Length 725; Size 6136\n",
      "Length 726; Size 6136\n",
      "Length 727; Size 6136\n",
      "Length 728; Size 6136\n",
      "Length 729; Size 6136\n",
      "Length 730; Size 6136\n",
      "Length 731; Size 6136\n",
      "Length 732; Size 6136\n",
      "Length 733; Size 6136\n",
      "Length 734; Size 6136\n",
      "Length 735; Size 6136\n",
      "Length 736; Size 6136\n",
      "Length 737; Size 6136\n",
      "Length 738; Size 6136\n",
      "Length 739; Size 6136\n",
      "Length 740; Size 6136\n",
      "Length 741; Size 6136\n",
      "Length 742; Size 6136\n",
      "Length 743; Size 6136\n",
      "Length 744; Size 6136\n",
      "Length 745; Size 6136\n",
      "Length 746; Size 6136\n",
      "Length 747; Size 6136\n",
      "Length 748; Size 6136\n",
      "Length 749; Size 6136\n",
      "Length 750; Size 6136\n",
      "Length 751; Size 6136\n",
      "Length 752; Size 6136\n",
      "Length 753; Size 6136\n",
      "Length 754; Size 6136\n",
      "Length 755; Size 6136\n",
      "Length 756; Size 6136\n",
      "Length 757; Size 6136\n",
      "Length 758; Size 6136\n",
      "Length 759; Size 6136\n",
      "Length 760; Size 6136\n",
      "Length 761; Size 6936\n",
      "Length 762; Size 6936\n",
      "Length 763; Size 6936\n",
      "Length 764; Size 6936\n",
      "Length 765; Size 6936\n",
      "Length 766; Size 6936\n",
      "Length 767; Size 6936\n",
      "Length 768; Size 6936\n",
      "Length 769; Size 6936\n",
      "Length 770; Size 6936\n",
      "Length 771; Size 6936\n",
      "Length 772; Size 6936\n",
      "Length 773; Size 6936\n",
      "Length 774; Size 6936\n",
      "Length 775; Size 6936\n",
      "Length 776; Size 6936\n",
      "Length 777; Size 6936\n",
      "Length 778; Size 6936\n",
      "Length 779; Size 6936\n",
      "Length 780; Size 6936\n",
      "Length 781; Size 6936\n",
      "Length 782; Size 6936\n",
      "Length 783; Size 6936\n",
      "Length 784; Size 6936\n",
      "Length 785; Size 6936\n",
      "Length 786; Size 6936\n",
      "Length 787; Size 6936\n",
      "Length 788; Size 6936\n",
      "Length 789; Size 6936\n",
      "Length 790; Size 6936\n",
      "Length 791; Size 6936\n",
      "Length 792; Size 6936\n",
      "Length 793; Size 6936\n",
      "Length 794; Size 6936\n",
      "Length 795; Size 6936\n",
      "Length 796; Size 6936\n",
      "Length 797; Size 6936\n",
      "Length 798; Size 6936\n",
      "Length 799; Size 6936\n",
      "Length 800; Size 6936\n",
      "Length 801; Size 6936\n",
      "Length 802; Size 6936\n",
      "Length 803; Size 6936\n",
      "Length 804; Size 6936\n",
      "Length 805; Size 6936\n",
      "Length 806; Size 6936\n",
      "Length 807; Size 6936\n",
      "Length 808; Size 6936\n",
      "Length 809; Size 6936\n",
      "Length 810; Size 6936\n",
      "Length 811; Size 6936\n",
      "Length 812; Size 6936\n",
      "Length 813; Size 6936\n",
      "Length 814; Size 6936\n",
      "Length 815; Size 6936\n",
      "Length 816; Size 6936\n",
      "Length 817; Size 6936\n",
      "Length 818; Size 6936\n",
      "Length 819; Size 6936\n",
      "Length 820; Size 6936\n",
      "Length 821; Size 6936\n",
      "Length 822; Size 6936\n",
      "Length 823; Size 6936\n",
      "Length 824; Size 6936\n",
      "Length 825; Size 6936\n",
      "Length 826; Size 6936\n",
      "Length 827; Size 6936\n",
      "Length 828; Size 6936\n",
      "Length 829; Size 6936\n",
      "Length 830; Size 6936\n",
      "Length 831; Size 6936\n",
      "Length 832; Size 6936\n",
      "Length 833; Size 6936\n",
      "Length 834; Size 6936\n",
      "Length 835; Size 6936\n",
      "Length 836; Size 6936\n",
      "Length 837; Size 6936\n",
      "Length 838; Size 6936\n",
      "Length 839; Size 6936\n",
      "Length 840; Size 6936\n",
      "Length 841; Size 6936\n",
      "Length 842; Size 6936\n",
      "Length 843; Size 6936\n",
      "Length 844; Size 6936\n",
      "Length 845; Size 6936\n",
      "Length 846; Size 6936\n",
      "Length 847; Size 6936\n",
      "Length 848; Size 6936\n",
      "Length 849; Size 6936\n",
      "Length 850; Size 6936\n",
      "Length 851; Size 6936\n",
      "Length 852; Size 6936\n",
      "Length 853; Size 6936\n",
      "Length 854; Size 6936\n",
      "Length 855; Size 6936\n",
      "Length 856; Size 6936\n",
      "Length 857; Size 6936\n",
      "Length 858; Size 6936\n",
      "Length 859; Size 6936\n",
      "Length 860; Size 6936\n",
      "Length 861; Size 7832\n",
      "Length 862; Size 7832\n",
      "Length 863; Size 7832\n",
      "Length 864; Size 7832\n",
      "Length 865; Size 7832\n",
      "Length 866; Size 7832\n",
      "Length 867; Size 7832\n",
      "Length 868; Size 7832\n",
      "Length 869; Size 7832\n",
      "Length 870; Size 7832\n",
      "Length 871; Size 7832\n",
      "Length 872; Size 7832\n",
      "Length 873; Size 7832\n",
      "Length 874; Size 7832\n",
      "Length 875; Size 7832\n",
      "Length 876; Size 7832\n",
      "Length 877; Size 7832\n",
      "Length 878; Size 7832\n",
      "Length 879; Size 7832\n",
      "Length 880; Size 7832\n",
      "Length 881; Size 7832\n",
      "Length 882; Size 7832\n",
      "Length 883; Size 7832\n",
      "Length 884; Size 7832\n",
      "Length 885; Size 7832\n",
      "Length 886; Size 7832\n",
      "Length 887; Size 7832\n",
      "Length 888; Size 7832\n",
      "Length 889; Size 7832\n",
      "Length 890; Size 7832\n",
      "Length 891; Size 7832\n",
      "Length 892; Size 7832\n",
      "Length 893; Size 7832\n",
      "Length 894; Size 7832\n",
      "Length 895; Size 7832\n",
      "Length 896; Size 7832\n",
      "Length 897; Size 7832\n",
      "Length 898; Size 7832\n",
      "Length 899; Size 7832\n",
      "Length 900; Size 7832\n",
      "Length 901; Size 7832\n",
      "Length 902; Size 7832\n",
      "Length 903; Size 7832\n",
      "Length 904; Size 7832\n",
      "Length 905; Size 7832\n",
      "Length 906; Size 7832\n",
      "Length 907; Size 7832\n",
      "Length 908; Size 7832\n",
      "Length 909; Size 7832\n",
      "Length 910; Size 7832\n",
      "Length 911; Size 7832\n",
      "Length 912; Size 7832\n",
      "Length 913; Size 7832\n",
      "Length 914; Size 7832\n",
      "Length 915; Size 7832\n",
      "Length 916; Size 7832\n",
      "Length 917; Size 7832\n",
      "Length 918; Size 7832\n",
      "Length 919; Size 7832\n",
      "Length 920; Size 7832\n",
      "Length 921; Size 7832\n",
      "Length 922; Size 7832\n",
      "Length 923; Size 7832\n",
      "Length 924; Size 7832\n",
      "Length 925; Size 7832\n",
      "Length 926; Size 7832\n",
      "Length 927; Size 7832\n",
      "Length 928; Size 7832\n",
      "Length 929; Size 7832\n",
      "Length 930; Size 7832\n",
      "Length 931; Size 7832\n",
      "Length 932; Size 7832\n",
      "Length 933; Size 7832\n",
      "Length 934; Size 7832\n",
      "Length 935; Size 7832\n",
      "Length 936; Size 7832\n",
      "Length 937; Size 7832\n",
      "Length 938; Size 7832\n",
      "Length 939; Size 7832\n",
      "Length 940; Size 7832\n",
      "Length 941; Size 7832\n",
      "Length 942; Size 7832\n",
      "Length 943; Size 7832\n",
      "Length 944; Size 7832\n",
      "Length 945; Size 7832\n",
      "Length 946; Size 7832\n",
      "Length 947; Size 7832\n",
      "Length 948; Size 7832\n",
      "Length 949; Size 7832\n",
      "Length 950; Size 7832\n",
      "Length 951; Size 7832\n",
      "Length 952; Size 7832\n",
      "Length 953; Size 7832\n",
      "Length 954; Size 7832\n",
      "Length 955; Size 7832\n",
      "Length 956; Size 7832\n",
      "Length 957; Size 7832\n",
      "Length 958; Size 7832\n",
      "Length 959; Size 7832\n",
      "Length 960; Size 7832\n",
      "Length 961; Size 7832\n",
      "Length 962; Size 7832\n",
      "Length 963; Size 7832\n",
      "Length 964; Size 7832\n",
      "Length 965; Size 7832\n",
      "Length 966; Size 7832\n",
      "Length 967; Size 7832\n",
      "Length 968; Size 7832\n",
      "Length 969; Size 7832\n",
      "Length 970; Size 7832\n",
      "Length 971; Size 7832\n",
      "Length 972; Size 7832\n",
      "Length 973; Size 8856\n",
      "Length 974; Size 8856\n",
      "Length 975; Size 8856\n",
      "Length 976; Size 8856\n",
      "Length 977; Size 8856\n",
      "Length 978; Size 8856\n",
      "Length 979; Size 8856\n",
      "Length 980; Size 8856\n",
      "Length 981; Size 8856\n",
      "Length 982; Size 8856\n",
      "Length 983; Size 8856\n",
      "Length 984; Size 8856\n",
      "Length 985; Size 8856\n",
      "Length 986; Size 8856\n",
      "Length 987; Size 8856\n",
      "Length 988; Size 8856\n",
      "Length 989; Size 8856\n",
      "Length 990; Size 8856\n",
      "Length 991; Size 8856\n",
      "Length 992; Size 8856\n",
      "Length 993; Size 8856\n",
      "Length 994; Size 8856\n",
      "Length 995; Size 8856\n",
      "Length 996; Size 8856\n",
      "Length 997; Size 8856\n",
      "Length 998; Size 8856\n",
      "Length 999; Size 8856\n"
     ]
    }
   ],
   "source": [
    "import sys\n",
    "data = [] \n",
    "for k in range(10*100):\n",
    "    a = len(data)\n",
    "    b = sys.getsizeof(data)\n",
    "    print(f'Length {a}; Size {b}')\n",
    "    data.append(None)"
   ]
  },
  {
   "cell_type": "markdown",
   "id": "b9d6b811-79de-4bff-86b1-ef518cabfe58",
   "metadata": {},
   "source": [
    "### C-5.14 \n",
    "The shuffle method, supported by the random module, takes a Python\n",
    "list and rearranges it so that every possible ordering is equally likely.\n",
    "Implement your own version of such a function. You may rely on the\n",
    "randrange(n) function of the random module, which returns a random\n",
    "number between 0 and n−1 inclusive"
   ]
  },
  {
   "cell_type": "code",
   "execution_count": 24,
   "id": "57d5ea06-8753-4d71-8a89-90bc336de0cf",
   "metadata": {},
   "outputs": [],
   "source": [
    "import random\n",
    "def okie_dokie_shuffle(iterable):\n",
    "    new_iter = iterable.copy()\n",
    "    random_iter = []\n",
    "    while new_iter:\n",
    "        index = random.randrange(len(new_iter))\n",
    "        random_iter.append(new_iter.pop(index))\n",
    "    return random_iter\n",
    "    \n",
    "iterable = [i for i in range(10)]"
   ]
  },
  {
   "cell_type": "code",
   "execution_count": 25,
   "id": "38a7656a-b6fc-420c-8f86-d5c91dc95461",
   "metadata": {},
   "outputs": [
    {
     "data": {
      "text/plain": [
       "[9, 5, 0, 1, 8, 2, 7, 6, 3, 4]"
      ]
     },
     "execution_count": 25,
     "metadata": {},
     "output_type": "execute_result"
    }
   ],
   "source": [
    "okie_dokie_shuffle(iterable)"
   ]
  },
  {
   "cell_type": "markdown",
   "id": "c3ce723e-b1cf-4c02-85ff-349637ed9700",
   "metadata": {},
   "source": [
    "### C-5.15 \n",
    "Consider an implementation of a dynamic array, but instead of copying\n",
    "the elements into an array of double the size (that is, from N to 2N) when\n",
    "its capacity is reached, we copy the elements into an array with \n",
    "[N/4]\n",
    "additional cells, going from capacity N to capacity N +\n",
    "[N/4]. Prove that\n",
    "performing a sequence of n append operations still runs in O(n) time in\n",
    "this case.\n",
    "\n",
    "This is O(n)"
   ]
  },
  {
   "cell_type": "code",
   "execution_count": 133,
   "id": "add933be-3ea0-4a54-b413-b5ddf1956b27",
   "metadata": {},
   "outputs": [],
   "source": [
    "import ctypes\n",
    "import pandas as pd\n",
    "import numpy as np\n",
    "import time\n",
    "import matplotlib.pyplot as plt\n",
    "\n",
    "class DynamicArray:\n",
    "\n",
    "    def __init__(self):\n",
    "        self._n = 0\n",
    "        self._capacity = 1\n",
    "        self._A = self._make_array(self._capacity)\n",
    "\n",
    "    def __len__(self):\n",
    "        return self._n\n",
    "\n",
    "    def __getitem__(self,k):\n",
    "        if not k < self._n:\n",
    "            raise IndexError('invalid index')\n",
    "        return self._A[k]\n",
    "\n",
    "    def append(self,obj):\n",
    "        if self._n == self._capacity:\n",
    "            self._resize(self._capacity//4)\n",
    "        self._A[self._n] = obj\n",
    "        self._n += 1\n",
    "\n",
    "    def _resize(self,c):\n",
    "        if int(c) == 0:\n",
    "            c = 1\n",
    "        c = self._capacity + c\n",
    "        B = self._make_array(c)\n",
    "        for k in range(self._n):\n",
    "            B[k] = self._A[k]\n",
    "        self._A = B\n",
    "        self._capacity = c\n",
    "\n",
    "    def _make_array(self,c):\n",
    "        return (c * ctypes.py_object)()\n",
    "\n",
    "    def __str__(self,):\n",
    "        return f\"Array  {[self._A[i] for i in range(self._n)] }, Number of items {self._n}, Capacity {self._capacity}\""
   ]
  },
  {
   "cell_type": "code",
   "execution_count": 134,
   "id": "4a8eebb7-a448-4abb-94f1-6640f56f263b",
   "metadata": {},
   "outputs": [],
   "source": [
    "da_list = [DynamicArray() for i in range(0,6)]"
   ]
  },
  {
   "cell_type": "code",
   "execution_count": 135,
   "id": "03e68da6-4cf6-477f-9418-19db3bffbf01",
   "metadata": {},
   "outputs": [
    {
     "data": {
      "text/plain": [
       "'Array  [], Number of items 0, Capacity 1'"
      ]
     },
     "execution_count": 135,
     "metadata": {},
     "output_type": "execute_result"
    }
   ],
   "source": [
    "str(da_list[0])"
   ]
  },
  {
   "cell_type": "code",
   "execution_count": 136,
   "id": "93f5c62c-191c-46db-8c59-2512f26d2203",
   "metadata": {},
   "outputs": [],
   "source": [
    "array_sizes = [1,10,100,10000,100000,1000000]"
   ]
  },
  {
   "cell_type": "code",
   "execution_count": 137,
   "id": "0ac0afbb-d7bc-460c-b3f4-5a8e310432be",
   "metadata": {},
   "outputs": [],
   "source": [
    "durations = []\n",
    "for size,da in zip(array_sizes,da_list):\n",
    "    start = time.perf_counter()\n",
    "    for i in range(0,size):\n",
    "        da.append(i)\n",
    "    end = time.perf_counter()\n",
    "    durations.append(end-start)"
   ]
  },
  {
   "cell_type": "code",
   "execution_count": 138,
   "id": "c6b97bc7-1298-4428-8aaa-327d59bc849e",
   "metadata": {},
   "outputs": [
    {
     "data": {
      "text/plain": [
       "[2.0899999071843922e-05,\n",
       " 0.00013949999993201345,\n",
       " 0.00030250000418163836,\n",
       " 0.021457499999087304,\n",
       " 0.2377972999966005,\n",
       " 2.35065370000666]"
      ]
     },
     "execution_count": 138,
     "metadata": {},
     "output_type": "execute_result"
    }
   ],
   "source": [
    "durations"
   ]
  },
  {
   "cell_type": "code",
   "execution_count": 140,
   "id": "646a6c78-04a7-4177-a26c-5d720754d8e4",
   "metadata": {},
   "outputs": [],
   "source": [
    "index = ['append to last item']"
   ]
  },
  {
   "cell_type": "code",
   "execution_count": 143,
   "id": "2e402828-d3c0-45c5-81c0-cbf898f8ecfa",
   "metadata": {},
   "outputs": [
    {
     "name": "stdout",
     "output_type": "stream",
     "text": [
      "   Array Size  Duration in Secs\n",
      "0           1          0.000021\n",
      "1          10          0.000139\n",
      "2         100          0.000303\n",
      "3       10000          0.021457\n",
      "4      100000          0.237797\n",
      "5     1000000          2.350654\n"
     ]
    }
   ],
   "source": [
    "df = pd.DataFrame({'Array Size': array_sizes, 'Duration in Secs': durations })\n",
    "print(df)"
   ]
  },
  {
   "cell_type": "code",
   "execution_count": 144,
   "id": "3823620d-f131-42e7-87a1-55158d3eb52f",
   "metadata": {},
   "outputs": [
    {
     "data": {
      "image/png": "[encoded data removed]",
      "text/plain": [
       "<Figure size 640x480 with 1 Axes>"
      ]
     },
     "metadata": {},
     "output_type": "display_data"
    }
   ],
   "source": [
    "plt.plot(array_sizes, durations, marker='o', linestyle='-')\n",
    "\n",
    "# Labeling\n",
    "plt.title('Array Size vs Duration')\n",
    "plt.xlabel('Array Size')\n",
    "plt.ylabel('Duration (seconds)')\n",
    "plt.xscale('log')  # Use logarithmic scale for better visualization of the large range of array sizes\n",
    "plt.yscale('log')  # Use logarithmic scale for better visualization of the range of durations\n",
    "plt.grid(True)\n",
    "\n",
    "# Show plot\n",
    "plt.show()"
   ]
  },
  {
   "cell_type": "markdown",
   "id": "b8fe4339-852f-44c1-9214-73e160a3a01f",
   "metadata": {},
   "source": [
    "### C-5.16\n",
    "Implement a pop method for the DynamicArray class, given in Code Fragment 5.3, that removes the last element of the array, and that shrinks the\n",
    "capacity, N, of the array by half any time the number of elements in the\n",
    "array goes below N/4."
   ]
  },
  {
   "cell_type": "code",
   "execution_count": 219,
   "id": "e58859dc-8ad9-4a33-a6ac-2faa99adad1c",
   "metadata": {},
   "outputs": [],
   "source": [
    "class DynamicArray:\n",
    "\n",
    "    def __init__(self):\n",
    "        self._n = 0\n",
    "        self._capacity = 1\n",
    "        self._A = self._make_array(self._capacity)\n",
    "\n",
    "    def __len__(self):\n",
    "        return self._n\n",
    "\n",
    "    def __getitem__(self,k):\n",
    "        if not k < self._n:\n",
    "            raise IndexError('invalid index')\n",
    "        return self._A[k]\n",
    "\n",
    "    def append(self,obj):\n",
    "        if self._n == self._capacity:\n",
    "            self._resize(self._capacity//4)\n",
    "        self._A[self._n] = obj\n",
    "        self._n += 1\n",
    "\n",
    "    def pop(self):\n",
    "        value = None\n",
    "        if not self._n > 0:\n",
    "            return value\n",
    "        end_split = (len(self._A)//4)\n",
    "        if end_split > 0:\n",
    "            removal_indices = end_split*-1\n",
    "            value = self._A[removal_indices:self._n-1]\n",
    "            self._A = self._A[:removal_indices]\n",
    "            self._n -= removal_indices\n",
    "            self._capacity -= removal_indices\n",
    "        else:\n",
    "            self._A = self._A[:-1]\n",
    "            self._n -= 1\n",
    "            self._capacity -= 1\n",
    "            value = self._A[:self._n-1]\n",
    "        return value\n",
    "        \n",
    "    def _resize(self,c):\n",
    "        if int(c) == 0:\n",
    "            c = 1\n",
    "        c = self._capacity + c\n",
    "        B = self._make_array(c)\n",
    "        for k in range(self._n):\n",
    "            B[k] = self._A[k]\n",
    "        self._A = B\n",
    "        self._capacity = c\n",
    "\n",
    "    def _make_array(self,c):\n",
    "        return (c * ctypes.py_object)()\n",
    "\n",
    "    def __str__(self,):\n",
    "        print(self._n,self._capacity)\n",
    "        return f\"Array  {[self._A[i] for i in range(self._n)] }, Number of items {self._n}, Capacity {self._capacity}\""
   ]
  },
  {
   "cell_type": "code",
   "execution_count": 221,
   "id": "aab9f81c-2bc3-4546-a904-3e157a32a0be",
   "metadata": {},
   "outputs": [
    {
     "name": "stdout",
     "output_type": "stream",
     "text": [
      "   Array Size  Duration in Secs\n",
      "0           1          0.000006\n",
      "1          10          0.000002\n",
      "2         100          0.000006\n",
      "3       10000          0.000243\n",
      "4      100000          0.002885\n",
      "5     1000000          0.036664\n"
     ]
    },
    {
     "data": {
      "image/png": "[encoded data removed]",
      "text/plain": [
       "<Figure size 640x480 with 1 Axes>"
      ]
     },
     "metadata": {},
     "output_type": "display_data"
    }
   ],
   "source": [
    "da_list = [DynamicArray() for i in range(0,6)]\n",
    "array_sizes = [1,10,100,10000,100000,1000000]\n",
    "\n",
    "durations = []\n",
    "for size,da in zip(array_sizes,da_list):\n",
    "    for i in range(0,size):\n",
    "        da.append(i)\n",
    "    start = time.perf_counter()\n",
    "    da.pop()\n",
    "    end = time.perf_counter()\n",
    "    durations.append(end-start)\n",
    "\t\n",
    "index = ['append to last item']\n",
    "\n",
    "df = pd.DataFrame({'Array Size': array_sizes, 'Duration in Secs': durations })\n",
    "print(df)\n",
    "\n",
    "plt.plot(array_sizes, durations, marker='o', linestyle='-')\n",
    "\n",
    "# Labeling\n",
    "plt.title('Array Size vs Pop Method')\n",
    "plt.xlabel('Array Size')\n",
    "plt.ylabel('Duration (seconds)')\n",
    "plt.xscale('log')  # Use logarithmic scale for better visualization of the large range of array sizes\n",
    "plt.yscale('log')  # Use logarithmic scale for better visualization of the range of durations\n",
    "plt.grid(True)\n",
    "\n",
    "# Show plot\n",
    "plt.show()"
   ]
  },
  {
   "cell_type": "markdown",
   "id": "64d1f9ae-1f23-429f-8f8c-08a0d3aa7f93",
   "metadata": {},
   "source": [
    "### C-5.21 \n",
    "In Section 5.4.2, we described four different ways to compose a long\n",
    "string: \n",
    "(1) repeated concatenation\n",
    "(2) appending to a temporary list and then joining\n",
    "(3) using list comprehension with join\n",
    "(4) using generator comprehension with join. Develop an experiment to test the efficiency\n",
    "of all four of these approaches and report your findings."
   ]
  },
  {
   "cell_type": "code",
   "execution_count": 1,
   "id": "6a0e1a76-b2e9-4cc5-bf39-306c358dc082",
   "metadata": {},
   "outputs": [],
   "source": [
    "import pandas as pd\n",
    "import numpy as np\n",
    "import time\n",
    "import matplotlib.pyplot as plt\n",
    "import sys\n",
    "\n",
    "def time_mem_analysis(func):\n",
    "\n",
    "    def wrapper(*args,**kwargs):\n",
    "        start = time.perf_counter()\n",
    "        rs = func(*args,**kwargs)\n",
    "        end = time.perf_counter()\n",
    "        size_in_mb = sys.getsizeof(rs)/(1024**2)\n",
    "        return {'data':rs, 'secs':end-start, 'mem in mb':size_in_mb}\n",
    "\n",
    "    return wrapper\n",
    "    "
   ]
  },
  {
   "cell_type": "code",
   "execution_count": 2,
   "id": "2a68bceb-634b-4efe-843d-3dfcd48f6549",
   "metadata": {},
   "outputs": [],
   "source": [
    "@time_mem_analysis\n",
    "def concat_1(strings):\n",
    "    output = \"\"\n",
    "    for string in strings:\n",
    "        output = output + string +\" \"\n",
    "    return output\n",
    "\n",
    "@time_mem_analysis\n",
    "def concat_2(strings):\n",
    "    return \" \".join(strings,)\n"
   ]
  },
  {
   "cell_type": "code",
   "execution_count": 3,
   "id": "6b7ea35a-3604-4b0c-b20b-f14371597fa5",
   "metadata": {},
   "outputs": [
    {
     "name": "stdout",
     "output_type": "stream",
     "text": [
      "{'data': 'hello fanny reguieg from RayRay ', 'secs': 3.7000000006059963e-06, 'mem in mb': 7.724761962890625e-05}\n"
     ]
    }
   ],
   "source": [
    "hfr = [\"hello\", \"fanny\", \"reguieg\", \"from\", \"RayRay\"]\n",
    "print(concat_1(hfr))"
   ]
  },
  {
   "cell_type": "code",
   "execution_count": 4,
   "id": "e8fd3899-1f3f-4ecc-9042-0eb11612294c",
   "metadata": {},
   "outputs": [
    {
     "data": {
      "text/plain": [
       "{'data': 'hello fanny reguieg from RayRay',\n",
       " 'secs': 2.0000000020559128e-06,\n",
       " 'mem in mb': 7.62939453125e-05}"
      ]
     },
     "execution_count": 4,
     "metadata": {},
     "output_type": "execute_result"
    }
   ],
   "source": [
    "concat_2(hfr)"
   ]
  },
  {
   "cell_type": "code",
   "execution_count": 5,
   "id": "f7303fdb-6b5a-42a5-87e9-8e44126a780e",
   "metadata": {},
   "outputs": [
    {
     "data": {
      "text/plain": [
       "{'data': 'hello fanny reguieg from RayRay',\n",
       " 'secs': 2.9000000019152594e-06,\n",
       " 'mem in mb': 7.62939453125e-05}"
      ]
     },
     "execution_count": 5,
     "metadata": {},
     "output_type": "execute_result"
    }
   ],
   "source": [
    "concat_2(string for string in hfr)"
   ]
  },
  {
   "cell_type": "markdown",
   "id": "30c1cc1d-e06a-4b1a-9dc6-393f3d6fb0d1",
   "metadata": {},
   "source": [
    "### C-5.22 \n",
    "Develop an experiment to compare the relative efficiency of the extend\n",
    "method of Python’s list class versus using repeated calls to append to\n",
    "accomplish the equivalent task"
   ]
  },
  {
   "cell_type": "code",
   "execution_count": 6,
   "id": "a6ec112a-ec11-47dd-a03d-4be7b9fd190c",
   "metadata": {},
   "outputs": [],
   "source": [
    "l1 = [i for i in range(1000000)]\n",
    "l2 = [i*2 for i in range(1000000)]"
   ]
  },
  {
   "cell_type": "code",
   "execution_count": 7,
   "id": "f36ebd7e-a35c-482a-aed8-770289e62cab",
   "metadata": {},
   "outputs": [],
   "source": [
    "@time_mem_analysis\n",
    "def append_iter(target,iterable):\n",
    "    for i in iterable:\n",
    "        target.append(i)\n",
    "    return target\n",
    "\n",
    "@time_mem_analysis\n",
    "def extend_iter(target,iterable):\n",
    "    target.extend(iterable)\n",
    "    return target\n",
    "    "
   ]
  },
  {
   "cell_type": "code",
   "execution_count": 8,
   "id": "26474f27-7bd8-4385-a61c-d4f376110d18",
   "metadata": {},
   "outputs": [
    {
     "name": "stdout",
     "output_type": "stream",
     "text": [
      "0.05140159999999838 ,  16.334800720214844\n"
     ]
    }
   ],
   "source": [
    "rs = append_iter(l1,l2)\n",
    "print(rs['secs'],', ',rs['mem in mb'])"
   ]
  },
  {
   "cell_type": "code",
   "execution_count": 9,
   "id": "f916a27d-7bb0-40ad-aa63-4ff289c19e16",
   "metadata": {},
   "outputs": [
    {
     "name": "stdout",
     "output_type": "stream",
     "text": [
      "0.006606499999996629 ,  15.258842468261719\n"
     ]
    }
   ],
   "source": [
    "l1 = [i for i in range(1000000)]\n",
    "l2 = [i*2 for i in range(1000000)]\n",
    "rs =extend_iter(l1,l2)\n",
    "print(rs['secs'],', ',rs['mem in mb'])"
   ]
  },
  {
   "cell_type": "markdown",
   "id": "40cdc717-1ea8-4410-adb0-24b27619f60c",
   "metadata": {},
   "source": [
    "### C-5.23 \n",
    "Based on the discussion of page 207, develop an experiment to compare\n",
    "the efficiency of Python’s list comprehension syntax versus the construction of a list by means of repeated calls to append."
   ]
  },
  {
   "cell_type": "code",
   "execution_count": 10,
   "id": "66ba9c64-af21-42ef-a11f-cc96c82bd812",
   "metadata": {},
   "outputs": [],
   "source": [
    "@time_mem_analysis\n",
    "def append_to_list(iterable,start,end):\n",
    "    for i in range(start,end):\n",
    "        iterable.append(i)\n",
    "    return iterable"
   ]
  },
  {
   "cell_type": "code",
   "execution_count": 11,
   "id": "404aa920-0bbe-42a6-8099-7eb1223c59d9",
   "metadata": {},
   "outputs": [],
   "source": [
    "@time_mem_analysis\n",
    "def create_list_comp(start,end):\n",
    "    return [i for i in range(start,end)]"
   ]
  },
  {
   "cell_type": "code",
   "execution_count": 12,
   "id": "bcb9966d-7b65-4f17-a68a-eeae21b1352d",
   "metadata": {},
   "outputs": [
    {
     "data": {
      "text/plain": [
       "[5.000000001587068e-06, 0.00017547607421875]"
      ]
     },
     "execution_count": 12,
     "metadata": {},
     "output_type": "execute_result"
    }
   ],
   "source": [
    "list(append_to_list([],0,10).values())[1:]"
   ]
  },
  {
   "cell_type": "code",
   "execution_count": 13,
   "id": "aef5e1c3-e468-4dc3-a94a-3d7a6f8626fc",
   "metadata": {},
   "outputs": [
    {
     "data": {
      "text/plain": [
       "[4.300000000512227e-06, 0.00017547607421875]"
      ]
     },
     "execution_count": 13,
     "metadata": {},
     "output_type": "execute_result"
    }
   ],
   "source": [
    "list(create_list_comp(0,10).values())[1:]"
   ]
  },
  {
   "cell_type": "markdown",
   "id": "52f6f41d-1e0a-485a-8531-81a31713506e",
   "metadata": {},
   "source": [
    "### C-5.24 \n",
    "Perform experiments to evaluate the efficiency of the remove method of\n",
    "Python’s list class, as we did for insert on page 205. Use known values so\n",
    "that all removals occur either at the beginning, middle, or end of the list.\n",
    "Report your results akin to Table 5.5"
   ]
  },
  {
   "cell_type": "code",
   "execution_count": 14,
   "id": "68cdf79e-2301-4bc9-be58-4b8bba6590e7",
   "metadata": {},
   "outputs": [],
   "source": [
    "arrays_size = [1,10,100,1000,10000, 100000, 1000000]\n",
    "index_loc_names = ['k==0','k==n//2', 'k=n']\n",
    "\n",
    "@time_mem_analysis\n",
    "def pop_index(index,iterable):\n",
    "    if index < len(iterable):\n",
    "        return iterable.pop(index)\n",
    "\n",
    "def analyze_pop(arrays_size):\n",
    "    data = []\n",
    "    for size in arrays_size:\n",
    "        array_size_data = []\n",
    "        indices_loc = [0,len(arrays_size)//2,len(arrays_size)-1]\n",
    "        for index in indices_loc:\n",
    "            temp = [i for i in range(size)]\n",
    "            array_size_data.append(pop_index(index,temp)['secs'])\n",
    "        data.append(array_size_data)\n",
    "    return data\n",
    "        "
   ]
  },
  {
   "cell_type": "code",
   "execution_count": 15,
   "id": "25a11bb6-f377-4445-a7ad-d934f5352cf8",
   "metadata": {},
   "outputs": [
    {
     "name": "stdout",
     "output_type": "stream",
     "text": [
      "[[2.2999999984563146e-06, 4.999999987376214e-07, 2.0000000233721948e-07], [3.999999975690116e-07, 3.999999975690116e-07, 3.0000000350582923e-07], [3.999999975690116e-07, 2.9999999640040187e-07, 2.9999999640040187e-07], [9.000000034120603e-07, 7.999999951380232e-07, 7.999999951380232e-07], [4.599999996912629e-06, 4.0000000041118255e-06, 3.7000000006059963e-06], [5.2900000000022374e-05, 5.230000000011614e-05, 4.909999999824777e-05], [0.00115780000000143, 0.0005632000000019843, 0.0005666999999931477]]\n",
      "<class 'float'>\n"
     ]
    }
   ],
   "source": [
    "data = analyze_pop(arrays_size)\n",
    "print(data)\n",
    "print(type(data[0][0]))"
   ]
  },
  {
   "cell_type": "code",
   "execution_count": 16,
   "id": "a9f26741-f46a-4613-955e-92b7eac3cfdc",
   "metadata": {},
   "outputs": [],
   "source": [
    "df = pd.DataFrame(data, columns=index_loc_names, index=arrays_size)"
   ]
  },
  {
   "cell_type": "code",
   "execution_count": 17,
   "id": "612f0117-387c-47ec-abfb-b2bbd206ce5d",
   "metadata": {},
   "outputs": [
    {
     "data": {
      "text/html": [
       "<div>\n",
       "<style scoped>\n",
       "    .dataframe tbody tr th:only-of-type {\n",
       "        vertical-align: middle;\n",
       "    }\n",
       "\n",
       "    .dataframe tbody tr th {\n",
       "        vertical-align: top;\n",
       "    }\n",
       "\n",
       "    .dataframe thead th {\n",
       "        text-align: right;\n",
       "    }\n",
       "</style>\n",
       "<table border=\"1\" class=\"dataframe\">\n",
       "  <thead>\n",
       "    <tr style=\"text-align: right;\">\n",
       "      <th></th>\n",
       "      <th>k==0</th>\n",
       "      <th>k==n//2</th>\n",
       "      <th>k=n</th>\n",
       "    </tr>\n",
       "  </thead>\n",
       "  <tbody>\n",
       "    <tr>\n",
       "      <th>1</th>\n",
       "      <td>2.300000e-06</td>\n",
       "      <td>5.000000e-07</td>\n",
       "      <td>2.000000e-07</td>\n",
       "    </tr>\n",
       "    <tr>\n",
       "      <th>10</th>\n",
       "      <td>4.000000e-07</td>\n",
       "      <td>4.000000e-07</td>\n",
       "      <td>3.000000e-07</td>\n",
       "    </tr>\n",
       "    <tr>\n",
       "      <th>100</th>\n",
       "      <td>4.000000e-07</td>\n",
       "      <td>3.000000e-07</td>\n",
       "      <td>3.000000e-07</td>\n",
       "    </tr>\n",
       "    <tr>\n",
       "      <th>1000</th>\n",
       "      <td>9.000000e-07</td>\n",
       "      <td>8.000000e-07</td>\n",
       "      <td>8.000000e-07</td>\n",
       "    </tr>\n",
       "    <tr>\n",
       "      <th>10000</th>\n",
       "      <td>4.600000e-06</td>\n",
       "      <td>4.000000e-06</td>\n",
       "      <td>3.700000e-06</td>\n",
       "    </tr>\n",
       "    <tr>\n",
       "      <th>100000</th>\n",
       "      <td>5.290000e-05</td>\n",
       "      <td>5.230000e-05</td>\n",
       "      <td>4.910000e-05</td>\n",
       "    </tr>\n",
       "    <tr>\n",
       "      <th>1000000</th>\n",
       "      <td>1.157800e-03</td>\n",
       "      <td>5.632000e-04</td>\n",
       "      <td>5.667000e-04</td>\n",
       "    </tr>\n",
       "  </tbody>\n",
       "</table>\n",
       "</div>"
      ],
      "text/plain": [
       "                 k==0       k==n//2           k=n\n",
       "1        2.300000e-06  5.000000e-07  2.000000e-07\n",
       "10       4.000000e-07  4.000000e-07  3.000000e-07\n",
       "100      4.000000e-07  3.000000e-07  3.000000e-07\n",
       "1000     9.000000e-07  8.000000e-07  8.000000e-07\n",
       "10000    4.600000e-06  4.000000e-06  3.700000e-06\n",
       "100000   5.290000e-05  5.230000e-05  4.910000e-05\n",
       "1000000  1.157800e-03  5.632000e-04  5.667000e-04"
      ]
     },
     "execution_count": 17,
     "metadata": {},
     "output_type": "execute_result"
    }
   ],
   "source": [
    "df"
   ]
  },
  {
   "cell_type": "code",
   "execution_count": 18,
   "id": "2999bb46-a4b4-4f87-9c1d-a0b53520829a",
   "metadata": {},
   "outputs": [
    {
     "data": {
      "image/png": "[encoded data removed]",
      "text/plain": [
       "<Figure size 1000x600 with 1 Axes>"
      ]
     },
     "metadata": {},
     "output_type": "display_data"
    }
   ],
   "source": [
    "plt.figure(figsize=(10, 6))\n",
    "for column in df.columns:\n",
    "    plt.plot(df.index, df[column], marker='o', label=column)\n",
    "plt.xscale('log')\n",
    "plt.yscale('log')\n",
    "plt.xlabel('Array Size')\n",
    "plt.ylabel('Time (secs)')\n",
    "plt.title('Time to Pop an Index in an Array')\n",
    "plt.legend()\n",
    "plt.grid(True)\n",
    "plt.show()"
   ]
  },
  {
   "cell_type": "markdown",
   "id": "faa97d7d-43ca-4560-979e-238983d3266c",
   "metadata": {},
   "source": [
    "### C-5.25\n",
    "The syntax data.remove(value) for Python list data removes only the first\n",
    "occurrence of element value from the list. Give an implementation of a\n",
    "function, with signature remove all(data, value), that removes all occurrences of value from the given list, such that the worst-case running time\n",
    "of the function is O(n) on a list with n elements. Not that it is not efficient\n",
    "enough in general to rely on repeated calls to remove."
   ]
  },
  {
   "cell_type": "code",
   "execution_count": 19,
   "id": "988d0f62-7157-4832-9c82-0b6afe34622b",
   "metadata": {},
   "outputs": [],
   "source": [
    "@time_mem_analysis\n",
    "def remove_all(iterable,value):\n",
    "    count = 0\n",
    "    for i in range(len(iterable)):\n",
    "        if iterable[count] == value:\n",
    "            iterable.pop(count)\n",
    "            count-=1\n",
    "        count+=1 "
   ]
  },
  {
   "cell_type": "code",
   "execution_count": 20,
   "id": "2bab4cfe-4baf-4b0f-bfd1-3e3a18364949",
   "metadata": {},
   "outputs": [
    {
     "data": {
      "text/plain": [
       "{'data': None, 'secs': 35.5994458, 'mem in mb': 1.52587890625e-05}"
      ]
     },
     "execution_count": 20,
     "metadata": {},
     "output_type": "execute_result"
    }
   ],
   "source": [
    "iterable = [1,2,3,4,4,5,7,8,4,10]*100000\n",
    "remove_all(iterable,4)"
   ]
  },
  {
   "cell_type": "code",
   "execution_count": 21,
   "id": "29196aa3-ad2c-4968-97e0-ea331f4ea867",
   "metadata": {},
   "outputs": [
    {
     "data": {
      "text/plain": [
       "[1,\n",
       " 2,\n",
       " 3,\n",
       " 5,\n",
       " 7,\n",
       " 8,\n",
       " 10,\n",
       " 1,\n",
       " 2,\n",
       " 3,\n",
       " 5,\n",
       " 7,\n",
       " 8,\n",
       " 10,\n",
       " 1,\n",
       " 2,\n",
       " 3,\n",
       " 5,\n",
       " 7,\n",
       " 8,\n",
       " 10,\n",
       " 1,\n",
       " 2,\n",
       " 3,\n",
       " 5,\n",
       " 7,\n",
       " 8,\n",
       " 10,\n",
       " 1,\n",
       " 2,\n",
       " 3,\n",
       " 5,\n",
       " 7,\n",
       " 8,\n",
       " 10,\n",
       " 1,\n",
       " 2,\n",
       " 3,\n",
       " 5,\n",
       " 7,\n",
       " 8,\n",
       " 10,\n",
       " 1,\n",
       " 2,\n",
       " 3,\n",
       " 5,\n",
       " 7,\n",
       " 8,\n",
       " 10,\n",
       " 1,\n",
       " 2,\n",
       " 3,\n",
       " 5,\n",
       " 7,\n",
       " 8,\n",
       " 10,\n",
       " 1,\n",
       " 2,\n",
       " 3,\n",
       " 5,\n",
       " 7,\n",
       " 8,\n",
       " 10,\n",
       " 1,\n",
       " 2,\n",
       " 3,\n",
       " 5,\n",
       " 7,\n",
       " 8,\n",
       " 10,\n",
       " 1,\n",
       " 2,\n",
       " 3,\n",
       " 5,\n",
       " 7,\n",
       " 8,\n",
       " 10,\n",
       " 1,\n",
       " 2,\n",
       " 3,\n",
       " 5,\n",
       " 7,\n",
       " 8,\n",
       " 10,\n",
       " 1,\n",
       " 2,\n",
       " 3,\n",
       " 5,\n",
       " 7,\n",
       " 8,\n",
       " 10,\n",
       " 1,\n",
       " 2,\n",
       " 3,\n",
       " 5,\n",
       " 7,\n",
       " 8,\n",
       " 10,\n",
       " 1,\n",
       " 2,\n",
       " 3,\n",
       " 5,\n",
       " 7,\n",
       " 8,\n",
       " 10,\n",
       " 1,\n",
       " 2,\n",
       " 3,\n",
       " 5,\n",
       " 7,\n",
       " 8,\n",
       " 10,\n",
       " 1,\n",
       " 2,\n",
       " 3,\n",
       " 5,\n",
       " 7,\n",
       " 8,\n",
       " 10,\n",
       " 1,\n",
       " 2,\n",
       " 3,\n",
       " 5,\n",
       " 7,\n",
       " 8,\n",
       " 10,\n",
       " 1,\n",
       " 2,\n",
       " 3,\n",
       " 5,\n",
       " 7,\n",
       " 8,\n",
       " 10,\n",
       " 1,\n",
       " 2,\n",
       " 3,\n",
       " 5,\n",
       " 7,\n",
       " 8,\n",
       " 10,\n",
       " 1,\n",
       " 2,\n",
       " 3,\n",
       " 5,\n",
       " 7,\n",
       " 8,\n",
       " 10,\n",
       " 1,\n",
       " 2,\n",
       " 3,\n",
       " 5,\n",
       " 7,\n",
       " 8,\n",
       " 10,\n",
       " 1,\n",
       " 2,\n",
       " 3,\n",
       " 5,\n",
       " 7,\n",
       " 8,\n",
       " 10,\n",
       " 1,\n",
       " 2,\n",
       " 3,\n",
       " 5,\n",
       " 7,\n",
       " 8,\n",
       " 10,\n",
       " 1,\n",
       " 2,\n",
       " 3,\n",
       " 5,\n",
       " 7,\n",
       " 8,\n",
       " 10,\n",
       " 1,\n",
       " 2,\n",
       " 3,\n",
       " 5,\n",
       " 7,\n",
       " 8,\n",
       " 10,\n",
       " 1,\n",
       " 2,\n",
       " 3,\n",
       " 5,\n",
       " 7,\n",
       " 8,\n",
       " 10,\n",
       " 1,\n",
       " 2,\n",
       " 3,\n",
       " 5,\n",
       " 7,\n",
       " 8,\n",
       " 10,\n",
       " 1,\n",
       " 2,\n",
       " 3,\n",
       " 5,\n",
       " 7,\n",
       " 8,\n",
       " 10,\n",
       " 1,\n",
       " 2,\n",
       " 3,\n",
       " 5,\n",
       " 7,\n",
       " 8,\n",
       " 10,\n",
       " 1,\n",
       " 2,\n",
       " 3,\n",
       " 5,\n",
       " 7,\n",
       " 8,\n",
       " 10,\n",
       " 1,\n",
       " 2,\n",
       " 3,\n",
       " 5,\n",
       " 7,\n",
       " 8,\n",
       " 10,\n",
       " 1,\n",
       " 2,\n",
       " 3,\n",
       " 5,\n",
       " 7,\n",
       " 8,\n",
       " 10,\n",
       " 1,\n",
       " 2,\n",
       " 3,\n",
       " 5,\n",
       " 7,\n",
       " 8,\n",
       " 10,\n",
       " 1,\n",
       " 2,\n",
       " 3,\n",
       " 5,\n",
       " 7,\n",
       " 8,\n",
       " 10,\n",
       " 1,\n",
       " 2,\n",
       " 3,\n",
       " 5,\n",
       " 7,\n",
       " 8,\n",
       " 10,\n",
       " 1,\n",
       " 2,\n",
       " 3,\n",
       " 5,\n",
       " 7,\n",
       " 8,\n",
       " 10,\n",
       " 1,\n",
       " 2,\n",
       " 3,\n",
       " 5,\n",
       " 7,\n",
       " 8,\n",
       " 10,\n",
       " 1,\n",
       " 2,\n",
       " 3,\n",
       " 5,\n",
       " 7,\n",
       " 8,\n",
       " 10,\n",
       " 1,\n",
       " 2,\n",
       " 3,\n",
       " 5,\n",
       " 7,\n",
       " 8,\n",
       " 10,\n",
       " 1,\n",
       " 2,\n",
       " 3,\n",
       " 5,\n",
       " 7,\n",
       " 8,\n",
       " 10,\n",
       " 1,\n",
       " 2,\n",
       " 3,\n",
       " 5,\n",
       " 7,\n",
       " 8,\n",
       " 10,\n",
       " 1,\n",
       " 2,\n",
       " 3,\n",
       " 5,\n",
       " 7,\n",
       " 8,\n",
       " 10,\n",
       " 1,\n",
       " 2,\n",
       " 3,\n",
       " 5,\n",
       " 7,\n",
       " 8,\n",
       " 10,\n",
       " 1,\n",
       " 2,\n",
       " 3,\n",
       " 5,\n",
       " 7,\n",
       " 8,\n",
       " 10,\n",
       " 1,\n",
       " 2,\n",
       " 3,\n",
       " 5,\n",
       " 7,\n",
       " 8,\n",
       " 10,\n",
       " 1,\n",
       " 2,\n",
       " 3,\n",
       " 5,\n",
       " 7,\n",
       " 8,\n",
       " 10,\n",
       " 1,\n",
       " 2,\n",
       " 3,\n",
       " 5,\n",
       " 7,\n",
       " 8,\n",
       " 10,\n",
       " 1,\n",
       " 2,\n",
       " 3,\n",
       " 5,\n",
       " 7,\n",
       " 8,\n",
       " 10,\n",
       " 1,\n",
       " 2,\n",
       " 3,\n",
       " 5,\n",
       " 7,\n",
       " 8,\n",
       " 10,\n",
       " 1,\n",
       " 2,\n",
       " 3,\n",
       " 5,\n",
       " 7,\n",
       " 8,\n",
       " 10,\n",
       " 1,\n",
       " 2,\n",
       " 3,\n",
       " 5,\n",
       " 7,\n",
       " 8,\n",
       " 10,\n",
       " 1,\n",
       " 2,\n",
       " 3,\n",
       " 5,\n",
       " 7,\n",
       " 8,\n",
       " 10,\n",
       " 1,\n",
       " 2,\n",
       " 3,\n",
       " 5,\n",
       " 7,\n",
       " 8,\n",
       " 10,\n",
       " 1,\n",
       " 2,\n",
       " 3,\n",
       " 5,\n",
       " 7,\n",
       " 8,\n",
       " 10,\n",
       " 1,\n",
       " 2,\n",
       " 3,\n",
       " 5,\n",
       " 7,\n",
       " 8,\n",
       " 10,\n",
       " 1,\n",
       " 2,\n",
       " 3,\n",
       " 5,\n",
       " 7,\n",
       " 8,\n",
       " 10,\n",
       " 1,\n",
       " 2,\n",
       " 3,\n",
       " 5,\n",
       " 7,\n",
       " 8,\n",
       " 10,\n",
       " 1,\n",
       " 2,\n",
       " 3,\n",
       " 5,\n",
       " 7,\n",
       " 8,\n",
       " 10,\n",
       " 1,\n",
       " 2,\n",
       " 3,\n",
       " 5,\n",
       " 7,\n",
       " 8,\n",
       " 10,\n",
       " 1,\n",
       " 2,\n",
       " 3,\n",
       " 5,\n",
       " 7,\n",
       " 8,\n",
       " 10,\n",
       " 1,\n",
       " 2,\n",
       " 3,\n",
       " 5,\n",
       " 7,\n",
       " 8,\n",
       " 10,\n",
       " 1,\n",
       " 2,\n",
       " 3,\n",
       " 5,\n",
       " 7,\n",
       " 8,\n",
       " 10,\n",
       " 1,\n",
       " 2,\n",
       " 3,\n",
       " 5,\n",
       " 7,\n",
       " 8,\n",
       " 10,\n",
       " 1,\n",
       " 2,\n",
       " 3,\n",
       " 5,\n",
       " 7,\n",
       " 8,\n",
       " 10,\n",
       " 1,\n",
       " 2,\n",
       " 3,\n",
       " 5,\n",
       " 7,\n",
       " 8,\n",
       " 10,\n",
       " 1,\n",
       " 2,\n",
       " 3,\n",
       " 5,\n",
       " 7,\n",
       " 8,\n",
       " 10,\n",
       " 1,\n",
       " 2,\n",
       " 3,\n",
       " 5,\n",
       " 7,\n",
       " 8,\n",
       " 10,\n",
       " 1,\n",
       " 2,\n",
       " 3,\n",
       " 5,\n",
       " 7,\n",
       " 8,\n",
       " 10,\n",
       " 1,\n",
       " 2,\n",
       " 3,\n",
       " 5,\n",
       " 7,\n",
       " 8,\n",
       " 10,\n",
       " 1,\n",
       " 2,\n",
       " 3,\n",
       " 5,\n",
       " 7,\n",
       " 8,\n",
       " 10,\n",
       " 1,\n",
       " 2,\n",
       " 3,\n",
       " 5,\n",
       " 7,\n",
       " 8,\n",
       " 10,\n",
       " 1,\n",
       " 2,\n",
       " 3,\n",
       " 5,\n",
       " 7,\n",
       " 8,\n",
       " 10,\n",
       " 1,\n",
       " 2,\n",
       " 3,\n",
       " 5,\n",
       " 7,\n",
       " 8,\n",
       " 10,\n",
       " 1,\n",
       " 2,\n",
       " 3,\n",
       " 5,\n",
       " 7,\n",
       " 8,\n",
       " 10,\n",
       " 1,\n",
       " 2,\n",
       " 3,\n",
       " 5,\n",
       " 7,\n",
       " 8,\n",
       " 10,\n",
       " 1,\n",
       " 2,\n",
       " 3,\n",
       " 5,\n",
       " 7,\n",
       " 8,\n",
       " 10,\n",
       " 1,\n",
       " 2,\n",
       " 3,\n",
       " 5,\n",
       " 7,\n",
       " 8,\n",
       " 10,\n",
       " 1,\n",
       " 2,\n",
       " 3,\n",
       " 5,\n",
       " 7,\n",
       " 8,\n",
       " 10,\n",
       " 1,\n",
       " 2,\n",
       " 3,\n",
       " 5,\n",
       " 7,\n",
       " 8,\n",
       " 10,\n",
       " 1,\n",
       " 2,\n",
       " 3,\n",
       " 5,\n",
       " 7,\n",
       " 8,\n",
       " 10,\n",
       " 1,\n",
       " 2,\n",
       " 3,\n",
       " 5,\n",
       " 7,\n",
       " 8,\n",
       " 10,\n",
       " 1,\n",
       " 2,\n",
       " 3,\n",
       " 5,\n",
       " 7,\n",
       " 8,\n",
       " 10,\n",
       " 1,\n",
       " 2,\n",
       " 3,\n",
       " 5,\n",
       " 7,\n",
       " 8,\n",
       " 10,\n",
       " 1,\n",
       " 2,\n",
       " 3,\n",
       " 5,\n",
       " 7,\n",
       " 8,\n",
       " 10,\n",
       " 1,\n",
       " 2,\n",
       " 3,\n",
       " 5,\n",
       " 7,\n",
       " 8,\n",
       " 10,\n",
       " 1,\n",
       " 2,\n",
       " 3,\n",
       " 5,\n",
       " 7,\n",
       " 8,\n",
       " 10,\n",
       " 1,\n",
       " 2,\n",
       " 3,\n",
       " 5,\n",
       " 7,\n",
       " 8,\n",
       " 10,\n",
       " 1,\n",
       " 2,\n",
       " 3,\n",
       " 5,\n",
       " 7,\n",
       " 8,\n",
       " 10,\n",
       " 1,\n",
       " 2,\n",
       " 3,\n",
       " 5,\n",
       " 7,\n",
       " 8,\n",
       " 10,\n",
       " 1,\n",
       " 2,\n",
       " 3,\n",
       " 5,\n",
       " 7,\n",
       " 8,\n",
       " 10,\n",
       " 1,\n",
       " 2,\n",
       " 3,\n",
       " 5,\n",
       " 7,\n",
       " 8,\n",
       " 10,\n",
       " 1,\n",
       " 2,\n",
       " 3,\n",
       " 5,\n",
       " 7,\n",
       " 8,\n",
       " 10,\n",
       " 1,\n",
       " 2,\n",
       " 3,\n",
       " 5,\n",
       " 7,\n",
       " 8,\n",
       " 10,\n",
       " 1,\n",
       " 2,\n",
       " 3,\n",
       " 5,\n",
       " 7,\n",
       " 8,\n",
       " 10,\n",
       " 1,\n",
       " 2,\n",
       " 3,\n",
       " 5,\n",
       " 7,\n",
       " 8,\n",
       " 10,\n",
       " 1,\n",
       " 2,\n",
       " 3,\n",
       " 5,\n",
       " 7,\n",
       " 8,\n",
       " 10,\n",
       " 1,\n",
       " 2,\n",
       " 3,\n",
       " 5,\n",
       " 7,\n",
       " 8,\n",
       " 10,\n",
       " 1,\n",
       " 2,\n",
       " 3,\n",
       " 5,\n",
       " 7,\n",
       " 8,\n",
       " 10,\n",
       " 1,\n",
       " 2,\n",
       " 3,\n",
       " 5,\n",
       " 7,\n",
       " 8,\n",
       " 10,\n",
       " 1,\n",
       " 2,\n",
       " 3,\n",
       " 5,\n",
       " 7,\n",
       " 8,\n",
       " 10,\n",
       " 1,\n",
       " 2,\n",
       " 3,\n",
       " 5,\n",
       " 7,\n",
       " 8,\n",
       " 10,\n",
       " 1,\n",
       " 2,\n",
       " 3,\n",
       " 5,\n",
       " 7,\n",
       " 8,\n",
       " 10,\n",
       " 1,\n",
       " 2,\n",
       " 3,\n",
       " 5,\n",
       " 7,\n",
       " 8,\n",
       " 10,\n",
       " 1,\n",
       " 2,\n",
       " 3,\n",
       " 5,\n",
       " 7,\n",
       " 8,\n",
       " 10,\n",
       " 1,\n",
       " 2,\n",
       " 3,\n",
       " 5,\n",
       " 7,\n",
       " 8,\n",
       " 10,\n",
       " 1,\n",
       " 2,\n",
       " 3,\n",
       " 5,\n",
       " 7,\n",
       " 8,\n",
       " 10,\n",
       " 1,\n",
       " 2,\n",
       " 3,\n",
       " 5,\n",
       " 7,\n",
       " 8,\n",
       " 10,\n",
       " 1,\n",
       " 2,\n",
       " 3,\n",
       " 5,\n",
       " 7,\n",
       " 8,\n",
       " 10,\n",
       " 1,\n",
       " 2,\n",
       " 3,\n",
       " 5,\n",
       " 7,\n",
       " 8,\n",
       " 10,\n",
       " 1,\n",
       " 2,\n",
       " 3,\n",
       " 5,\n",
       " 7,\n",
       " 8,\n",
       " 10,\n",
       " 1,\n",
       " 2,\n",
       " 3,\n",
       " 5,\n",
       " 7,\n",
       " 8,\n",
       " 10,\n",
       " 1,\n",
       " 2,\n",
       " 3,\n",
       " 5,\n",
       " 7,\n",
       " 8,\n",
       " 10,\n",
       " 1,\n",
       " 2,\n",
       " 3,\n",
       " 5,\n",
       " 7,\n",
       " 8,\n",
       " 10,\n",
       " 1,\n",
       " 2,\n",
       " 3,\n",
       " 5,\n",
       " 7,\n",
       " 8,\n",
       " 10,\n",
       " 1,\n",
       " 2,\n",
       " 3,\n",
       " 5,\n",
       " 7,\n",
       " 8,\n",
       " 10,\n",
       " 1,\n",
       " 2,\n",
       " 3,\n",
       " 5,\n",
       " 7,\n",
       " 8,\n",
       " 10,\n",
       " 1,\n",
       " 2,\n",
       " 3,\n",
       " 5,\n",
       " 7,\n",
       " 8,\n",
       " 10,\n",
       " 1,\n",
       " 2,\n",
       " 3,\n",
       " 5,\n",
       " 7,\n",
       " 8,\n",
       " 10,\n",
       " 1,\n",
       " 2,\n",
       " 3,\n",
       " 5,\n",
       " 7,\n",
       " 8,\n",
       " 10,\n",
       " 1,\n",
       " 2,\n",
       " 3,\n",
       " 5,\n",
       " 7,\n",
       " 8,\n",
       " 10,\n",
       " 1,\n",
       " 2,\n",
       " 3,\n",
       " 5,\n",
       " 7,\n",
       " 8,\n",
       " 10,\n",
       " 1,\n",
       " 2,\n",
       " 3,\n",
       " 5,\n",
       " 7,\n",
       " 8,\n",
       " 10,\n",
       " 1,\n",
       " 2,\n",
       " 3,\n",
       " 5,\n",
       " 7,\n",
       " 8,\n",
       " 10,\n",
       " 1,\n",
       " 2,\n",
       " 3,\n",
       " 5,\n",
       " 7,\n",
       " 8,\n",
       " 10,\n",
       " 1,\n",
       " 2,\n",
       " 3,\n",
       " 5,\n",
       " 7,\n",
       " 8,\n",
       " 10,\n",
       " 1,\n",
       " 2,\n",
       " 3,\n",
       " 5,\n",
       " 7,\n",
       " 8,\n",
       " 10,\n",
       " 1,\n",
       " 2,\n",
       " 3,\n",
       " 5,\n",
       " 7,\n",
       " 8,\n",
       " 10,\n",
       " 1,\n",
       " 2,\n",
       " 3,\n",
       " 5,\n",
       " 7,\n",
       " 8,\n",
       " 10,\n",
       " 1,\n",
       " 2,\n",
       " 3,\n",
       " 5,\n",
       " 7,\n",
       " 8,\n",
       " 10,\n",
       " 1,\n",
       " 2,\n",
       " 3,\n",
       " 5,\n",
       " 7,\n",
       " 8,\n",
       " 10,\n",
       " 1,\n",
       " 2,\n",
       " 3,\n",
       " 5,\n",
       " 7,\n",
       " 8,\n",
       " 10,\n",
       " 1,\n",
       " 2,\n",
       " 3,\n",
       " 5,\n",
       " 7,\n",
       " 8,\n",
       " 10,\n",
       " 1,\n",
       " 2,\n",
       " 3,\n",
       " 5,\n",
       " 7,\n",
       " 8,\n",
       " 10,\n",
       " 1,\n",
       " 2,\n",
       " 3,\n",
       " 5,\n",
       " 7,\n",
       " 8,\n",
       " 10,\n",
       " 1,\n",
       " 2,\n",
       " 3,\n",
       " 5,\n",
       " 7,\n",
       " 8,\n",
       " 10,\n",
       " 1,\n",
       " 2,\n",
       " 3,\n",
       " 5,\n",
       " 7,\n",
       " 8,\n",
       " 10,\n",
       " 1,\n",
       " 2,\n",
       " 3,\n",
       " 5,\n",
       " 7,\n",
       " 8,\n",
       " 10,\n",
       " 1,\n",
       " 2,\n",
       " 3,\n",
       " 5,\n",
       " 7,\n",
       " 8,\n",
       " 10,\n",
       " 1,\n",
       " 2,\n",
       " 3,\n",
       " 5,\n",
       " 7,\n",
       " 8,\n",
       " 10,\n",
       " 1,\n",
       " 2,\n",
       " 3,\n",
       " 5,\n",
       " 7,\n",
       " 8,\n",
       " 10,\n",
       " 1,\n",
       " 2,\n",
       " 3,\n",
       " 5,\n",
       " 7,\n",
       " 8,\n",
       " 10,\n",
       " 1,\n",
       " 2,\n",
       " 3,\n",
       " 5,\n",
       " 7,\n",
       " 8,\n",
       " ...]"
      ]
     },
     "execution_count": 21,
     "metadata": {},
     "output_type": "execute_result"
    }
   ],
   "source": [
    "iterable"
   ]
  },
  {
   "cell_type": "code",
   "execution_count": 350,
   "id": "9a030ab2-e92d-4a96-9159-7459969214de",
   "metadata": {},
   "outputs": [],
   "source": [
    "l = [1,2,3]\n"
   ]
  },
  {
   "cell_type": "code",
   "execution_count": 351,
   "id": "995d2bed-0cab-4314-925a-7b90e881324b",
   "metadata": {},
   "outputs": [
    {
     "data": {
      "text/plain": [
       "[1, 2]"
      ]
     },
     "execution_count": 351,
     "metadata": {},
     "output_type": "execute_result"
    }
   ],
   "source": [
    "l[:(len(l)//2)+1]"
   ]
  },
  {
   "cell_type": "code",
   "execution_count": 352,
   "id": "4e861444-b958-46da-8db4-f6f5ebaa424d",
   "metadata": {},
   "outputs": [
    {
     "data": {
      "text/plain": [
       "[3]"
      ]
     },
     "execution_count": 352,
     "metadata": {},
     "output_type": "execute_result"
    }
   ],
   "source": [
    "l[((len(l)//2))*-1:]"
   ]
  },
  {
   "cell_type": "code",
   "execution_count": 327,
   "id": "4580d20b-5157-40f3-bbe6-e3fd8f70da12",
   "metadata": {},
   "outputs": [
    {
     "data": {
      "text/plain": [
       "3"
      ]
     },
     "execution_count": 327,
     "metadata": {},
     "output_type": "execute_result"
    }
   ],
   "source": [
    "l.pop(-1)"
   ]
  },
  {
   "cell_type": "code",
   "execution_count": 328,
   "id": "c17f8d9b-73e0-48c5-a0ba-5c86383db46d",
   "metadata": {},
   "outputs": [
    {
     "data": {
      "text/plain": [
       "[1, 2]"
      ]
     },
     "execution_count": 328,
     "metadata": {},
     "output_type": "execute_result"
    }
   ],
   "source": [
    "l"
   ]
  },
  {
   "cell_type": "code",
   "execution_count": 22,
   "id": "29900980-422d-4b9c-856d-f17e67ea0626",
   "metadata": {},
   "outputs": [],
   "source": [
    "@time_mem_analysis\n",
    "def remove_all_mid(iterable,value):\n",
    "    l_count = 0\n",
    "    r_count = -1\n",
    "    for i in range(((len(iterable)//2))):\n",
    "        if iterable[l_count] == value:\n",
    "            iterable.pop(l_count)\n",
    "            l_count-=1\n",
    "        else:\n",
    "            l_count+=1\n",
    "\n",
    "        if iterable[r_count] == value:\n",
    "            iterable.pop(r_count)\n",
    "            r_count+=1\n",
    "        else:\n",
    "            r_count-=1\n",
    "    mid = len(iterable)//2\n",
    "    if iterable[mid] == value and len(iterable)%2 != 0:\n",
    "        iterable.pop(mid)"
   ]
  },
  {
   "cell_type": "code",
   "execution_count": 23,
   "id": "0ac0e9d5-2181-47d0-8009-997a843cc330",
   "metadata": {},
   "outputs": [
    {
     "data": {
      "text/plain": [
       "{'data': None, 'secs': 25.352128100000016, 'mem in mb': 1.52587890625e-05}"
      ]
     },
     "execution_count": 23,
     "metadata": {},
     "output_type": "execute_result"
    }
   ],
   "source": [
    "iterable2 = [1,2,3,4,4,5,7,8,4,10]*100000\n",
    "remove_all_mid(iterable2,4)"
   ]
  },
  {
   "cell_type": "code",
   "execution_count": 355,
   "id": "753c0ce8-9f11-4720-a08b-f6285f126b7e",
   "metadata": {},
   "outputs": [
    {
     "data": {
      "text/plain": [
       "[1,\n",
       " 2,\n",
       " 3,\n",
       " 5,\n",
       " 7,\n",
       " 8,\n",
       " 10,\n",
       " 1,\n",
       " 2,\n",
       " 3,\n",
       " 5,\n",
       " 7,\n",
       " 8,\n",
       " 10,\n",
       " 1,\n",
       " 2,\n",
       " 3,\n",
       " 5,\n",
       " 7,\n",
       " 8,\n",
       " 10,\n",
       " 1,\n",
       " 2,\n",
       " 3,\n",
       " 5,\n",
       " 7,\n",
       " 8,\n",
       " 10,\n",
       " 1,\n",
       " 2,\n",
       " 3,\n",
       " 5,\n",
       " 7,\n",
       " 8,\n",
       " 10,\n",
       " 1,\n",
       " 2,\n",
       " 3,\n",
       " 5,\n",
       " 7,\n",
       " 8,\n",
       " 10,\n",
       " 1,\n",
       " 2,\n",
       " 3,\n",
       " 5,\n",
       " 7,\n",
       " 8,\n",
       " 10,\n",
       " 1,\n",
       " 2,\n",
       " 3,\n",
       " 5,\n",
       " 7,\n",
       " 8,\n",
       " 10,\n",
       " 1,\n",
       " 2,\n",
       " 3,\n",
       " 5,\n",
       " 7,\n",
       " 8,\n",
       " 10,\n",
       " 1,\n",
       " 2,\n",
       " 3,\n",
       " 5,\n",
       " 7,\n",
       " 8,\n",
       " 10,\n",
       " 1,\n",
       " 2,\n",
       " 3,\n",
       " 5,\n",
       " 7,\n",
       " 8,\n",
       " 10,\n",
       " 1,\n",
       " 2,\n",
       " 3,\n",
       " 5,\n",
       " 7,\n",
       " 8,\n",
       " 10,\n",
       " 1,\n",
       " 2,\n",
       " 3,\n",
       " 5,\n",
       " 7,\n",
       " 8,\n",
       " 10,\n",
       " 1,\n",
       " 2,\n",
       " 3,\n",
       " 5,\n",
       " 7,\n",
       " 8,\n",
       " 10,\n",
       " 1,\n",
       " 2,\n",
       " 3,\n",
       " 5,\n",
       " 7,\n",
       " 8,\n",
       " 10,\n",
       " 1,\n",
       " 2,\n",
       " 3,\n",
       " 5,\n",
       " 7,\n",
       " 8,\n",
       " 10,\n",
       " 1,\n",
       " 2,\n",
       " 3,\n",
       " 5,\n",
       " 7,\n",
       " 8,\n",
       " 10,\n",
       " 1,\n",
       " 2,\n",
       " 3,\n",
       " 5,\n",
       " 7,\n",
       " 8,\n",
       " 10,\n",
       " 1,\n",
       " 2,\n",
       " 3,\n",
       " 5,\n",
       " 7,\n",
       " 8,\n",
       " 10,\n",
       " 1,\n",
       " 2,\n",
       " 3,\n",
       " 5,\n",
       " 7,\n",
       " 8,\n",
       " 10,\n",
       " 1,\n",
       " 2,\n",
       " 3,\n",
       " 5,\n",
       " 7,\n",
       " 8,\n",
       " 10,\n",
       " 1,\n",
       " 2,\n",
       " 3,\n",
       " 5,\n",
       " 7,\n",
       " 8,\n",
       " 10,\n",
       " 1,\n",
       " 2,\n",
       " 3,\n",
       " 5,\n",
       " 7,\n",
       " 8,\n",
       " 10,\n",
       " 1,\n",
       " 2,\n",
       " 3,\n",
       " 5,\n",
       " 7,\n",
       " 8,\n",
       " 10,\n",
       " 1,\n",
       " 2,\n",
       " 3,\n",
       " 5,\n",
       " 7,\n",
       " 8,\n",
       " 10,\n",
       " 1,\n",
       " 2,\n",
       " 3,\n",
       " 5,\n",
       " 7,\n",
       " 8,\n",
       " 10,\n",
       " 1,\n",
       " 2,\n",
       " 3,\n",
       " 5,\n",
       " 7,\n",
       " 8,\n",
       " 10,\n",
       " 1,\n",
       " 2,\n",
       " 3,\n",
       " 5,\n",
       " 7,\n",
       " 8,\n",
       " 10,\n",
       " 1,\n",
       " 2,\n",
       " 3,\n",
       " 5,\n",
       " 7,\n",
       " 8,\n",
       " 10,\n",
       " 1,\n",
       " 2,\n",
       " 3,\n",
       " 5,\n",
       " 7,\n",
       " 8,\n",
       " 10,\n",
       " 1,\n",
       " 2,\n",
       " 3,\n",
       " 5,\n",
       " 7,\n",
       " 8,\n",
       " 10,\n",
       " 1,\n",
       " 2,\n",
       " 3,\n",
       " 5,\n",
       " 7,\n",
       " 8,\n",
       " 10,\n",
       " 1,\n",
       " 2,\n",
       " 3,\n",
       " 5,\n",
       " 7,\n",
       " 8,\n",
       " 10,\n",
       " 1,\n",
       " 2,\n",
       " 3,\n",
       " 5,\n",
       " 7,\n",
       " 8,\n",
       " 10,\n",
       " 1,\n",
       " 2,\n",
       " 3,\n",
       " 5,\n",
       " 7,\n",
       " 8,\n",
       " 10,\n",
       " 1,\n",
       " 2,\n",
       " 3,\n",
       " 5,\n",
       " 7,\n",
       " 8,\n",
       " 10,\n",
       " 1,\n",
       " 2,\n",
       " 3,\n",
       " 5,\n",
       " 7,\n",
       " 8,\n",
       " 10,\n",
       " 1,\n",
       " 2,\n",
       " 3,\n",
       " 5,\n",
       " 7,\n",
       " 8,\n",
       " 10,\n",
       " 1,\n",
       " 2,\n",
       " 3,\n",
       " 5,\n",
       " 7,\n",
       " 8,\n",
       " 4,\n",
       " 10,\n",
       " 1,\n",
       " 2,\n",
       " 3,\n",
       " 4,\n",
       " 4,\n",
       " 5,\n",
       " 7,\n",
       " 8,\n",
       " 4,\n",
       " 10,\n",
       " 1,\n",
       " 2,\n",
       " 3,\n",
       " 4,\n",
       " 4,\n",
       " 5,\n",
       " 7,\n",
       " 8,\n",
       " 4,\n",
       " 10,\n",
       " 1,\n",
       " 2,\n",
       " 3,\n",
       " 4,\n",
       " 4,\n",
       " 5,\n",
       " 7,\n",
       " 8,\n",
       " 4,\n",
       " 10,\n",
       " 1,\n",
       " 2,\n",
       " 3,\n",
       " 4,\n",
       " 4,\n",
       " 5,\n",
       " 7,\n",
       " 8,\n",
       " 4,\n",
       " 10,\n",
       " 1,\n",
       " 2,\n",
       " 3,\n",
       " 4,\n",
       " 4,\n",
       " 5,\n",
       " 7,\n",
       " 8,\n",
       " 4,\n",
       " 10,\n",
       " 1,\n",
       " 2,\n",
       " 3,\n",
       " 4,\n",
       " 4,\n",
       " 5,\n",
       " 7,\n",
       " 8,\n",
       " 4,\n",
       " 10,\n",
       " 1,\n",
       " 2,\n",
       " 3,\n",
       " 4,\n",
       " 4,\n",
       " 5,\n",
       " 7,\n",
       " 8,\n",
       " 4,\n",
       " 10,\n",
       " 1,\n",
       " 2,\n",
       " 3,\n",
       " 4,\n",
       " 4,\n",
       " 5,\n",
       " 7,\n",
       " 8,\n",
       " 4,\n",
       " 10,\n",
       " 1,\n",
       " 2,\n",
       " 3,\n",
       " 4,\n",
       " 4,\n",
       " 5,\n",
       " 7,\n",
       " 8,\n",
       " 4,\n",
       " 10,\n",
       " 1,\n",
       " 2,\n",
       " 3,\n",
       " 4,\n",
       " 4,\n",
       " 5,\n",
       " 7,\n",
       " 8,\n",
       " 4,\n",
       " 10,\n",
       " 1,\n",
       " 2,\n",
       " 3,\n",
       " 4,\n",
       " 4,\n",
       " 5,\n",
       " 7,\n",
       " 8,\n",
       " 4,\n",
       " 10,\n",
       " 1,\n",
       " 2,\n",
       " 3,\n",
       " 4,\n",
       " 4,\n",
       " 5,\n",
       " 7,\n",
       " 8,\n",
       " 4,\n",
       " 10,\n",
       " 1,\n",
       " 2,\n",
       " 3,\n",
       " 4,\n",
       " 4,\n",
       " 5,\n",
       " 7,\n",
       " 8,\n",
       " 4,\n",
       " 10,\n",
       " 1,\n",
       " 2,\n",
       " 3,\n",
       " 4,\n",
       " 4,\n",
       " 5,\n",
       " 7,\n",
       " 8,\n",
       " 4,\n",
       " 10,\n",
       " 1,\n",
       " 2,\n",
       " 3,\n",
       " 4,\n",
       " 4,\n",
       " 5,\n",
       " 7,\n",
       " 8,\n",
       " 4,\n",
       " 10,\n",
       " 1,\n",
       " 2,\n",
       " 3,\n",
       " 4,\n",
       " 4,\n",
       " 5,\n",
       " 7,\n",
       " 8,\n",
       " 4,\n",
       " 10,\n",
       " 1,\n",
       " 2,\n",
       " 3,\n",
       " 4,\n",
       " 4,\n",
       " 5,\n",
       " 7,\n",
       " 8,\n",
       " 4,\n",
       " 10,\n",
       " 1,\n",
       " 2,\n",
       " 3,\n",
       " 4,\n",
       " 4,\n",
       " 5,\n",
       " 7,\n",
       " 8,\n",
       " 4,\n",
       " 10,\n",
       " 1,\n",
       " 2,\n",
       " 3,\n",
       " 4,\n",
       " 4,\n",
       " 5,\n",
       " 7,\n",
       " 8,\n",
       " 4,\n",
       " 10,\n",
       " 1,\n",
       " 2,\n",
       " 3,\n",
       " 4,\n",
       " 4,\n",
       " 5,\n",
       " 7,\n",
       " 8,\n",
       " 4,\n",
       " 10,\n",
       " 1,\n",
       " 2,\n",
       " 3,\n",
       " 4,\n",
       " 4,\n",
       " 5,\n",
       " 7,\n",
       " 8,\n",
       " 4,\n",
       " 10,\n",
       " 1,\n",
       " 2,\n",
       " 3,\n",
       " 4,\n",
       " 4,\n",
       " 5,\n",
       " 7,\n",
       " 8,\n",
       " 4,\n",
       " 10,\n",
       " 1,\n",
       " 2,\n",
       " 3,\n",
       " 4,\n",
       " 4,\n",
       " 5,\n",
       " 7,\n",
       " 8,\n",
       " 10,\n",
       " 1,\n",
       " 2,\n",
       " 3,\n",
       " 5,\n",
       " 7,\n",
       " 8,\n",
       " 10,\n",
       " 1,\n",
       " 2,\n",
       " 3,\n",
       " 5,\n",
       " 7,\n",
       " 8,\n",
       " 10,\n",
       " 1,\n",
       " 2,\n",
       " 3,\n",
       " 5,\n",
       " 7,\n",
       " 8,\n",
       " 10,\n",
       " 1,\n",
       " 2,\n",
       " 3,\n",
       " 5,\n",
       " 7,\n",
       " 8,\n",
       " 10,\n",
       " 1,\n",
       " 2,\n",
       " 3,\n",
       " 5,\n",
       " 7,\n",
       " 8,\n",
       " 10,\n",
       " 1,\n",
       " 2,\n",
       " 3,\n",
       " 5,\n",
       " 7,\n",
       " 8,\n",
       " 10,\n",
       " 1,\n",
       " 2,\n",
       " 3,\n",
       " 5,\n",
       " 7,\n",
       " 8,\n",
       " 10,\n",
       " 1,\n",
       " 2,\n",
       " 3,\n",
       " 5,\n",
       " 7,\n",
       " 8,\n",
       " 10,\n",
       " 1,\n",
       " 2,\n",
       " 3,\n",
       " 5,\n",
       " 7,\n",
       " 8,\n",
       " 10,\n",
       " 1,\n",
       " 2,\n",
       " 3,\n",
       " 5,\n",
       " 7,\n",
       " 8,\n",
       " 10,\n",
       " 1,\n",
       " 2,\n",
       " 3,\n",
       " 5,\n",
       " 7,\n",
       " 8,\n",
       " 10,\n",
       " 1,\n",
       " 2,\n",
       " 3,\n",
       " 5,\n",
       " 7,\n",
       " 8,\n",
       " 10,\n",
       " 1,\n",
       " 2,\n",
       " 3,\n",
       " 5,\n",
       " 7,\n",
       " 8,\n",
       " 10,\n",
       " 1,\n",
       " 2,\n",
       " 3,\n",
       " 5,\n",
       " 7,\n",
       " 8,\n",
       " 10,\n",
       " 1,\n",
       " 2,\n",
       " 3,\n",
       " 5,\n",
       " 7,\n",
       " 8,\n",
       " 10,\n",
       " 1,\n",
       " 2,\n",
       " 3,\n",
       " 5,\n",
       " 7,\n",
       " 8,\n",
       " 10,\n",
       " 1,\n",
       " 2,\n",
       " 3,\n",
       " 5,\n",
       " 7,\n",
       " 8,\n",
       " 10,\n",
       " 1,\n",
       " 2,\n",
       " 3,\n",
       " 5,\n",
       " 7,\n",
       " 8,\n",
       " 10,\n",
       " 1,\n",
       " 2,\n",
       " 3,\n",
       " 5,\n",
       " 7,\n",
       " 8,\n",
       " 10,\n",
       " 1,\n",
       " 2,\n",
       " 3,\n",
       " 5,\n",
       " 7,\n",
       " 8,\n",
       " 10,\n",
       " 1,\n",
       " 2,\n",
       " 3,\n",
       " 5,\n",
       " 7,\n",
       " 8,\n",
       " 10,\n",
       " 1,\n",
       " 2,\n",
       " 3,\n",
       " 5,\n",
       " 7,\n",
       " 8,\n",
       " 10,\n",
       " 1,\n",
       " 2,\n",
       " 3,\n",
       " 5,\n",
       " 7,\n",
       " 8,\n",
       " 10,\n",
       " 1,\n",
       " 2,\n",
       " 3,\n",
       " 5,\n",
       " 7,\n",
       " 8,\n",
       " 10,\n",
       " 1,\n",
       " 2,\n",
       " 3,\n",
       " 5,\n",
       " 7,\n",
       " 8,\n",
       " 10,\n",
       " 1,\n",
       " 2,\n",
       " 3,\n",
       " 5,\n",
       " 7,\n",
       " 8,\n",
       " 10,\n",
       " 1,\n",
       " 2,\n",
       " 3,\n",
       " 5,\n",
       " 7,\n",
       " 8,\n",
       " 10,\n",
       " 1,\n",
       " 2,\n",
       " 3,\n",
       " 5,\n",
       " 7,\n",
       " 8,\n",
       " 10,\n",
       " 1,\n",
       " 2,\n",
       " 3,\n",
       " 5,\n",
       " 7,\n",
       " 8,\n",
       " 10,\n",
       " 1,\n",
       " 2,\n",
       " 3,\n",
       " 5,\n",
       " 7,\n",
       " 8,\n",
       " 10,\n",
       " 1,\n",
       " 2,\n",
       " 3,\n",
       " 5,\n",
       " 7,\n",
       " 8,\n",
       " 10,\n",
       " 1,\n",
       " 2,\n",
       " 3,\n",
       " 5,\n",
       " 7,\n",
       " 8,\n",
       " 10,\n",
       " 1,\n",
       " 2,\n",
       " 3,\n",
       " 5,\n",
       " 7,\n",
       " 8,\n",
       " 10,\n",
       " 1,\n",
       " 2,\n",
       " 3,\n",
       " 5,\n",
       " 7,\n",
       " 8,\n",
       " 10,\n",
       " 1,\n",
       " 2,\n",
       " 3,\n",
       " 5,\n",
       " 7,\n",
       " 8,\n",
       " 10,\n",
       " 1,\n",
       " 2,\n",
       " 3,\n",
       " 5,\n",
       " 7,\n",
       " 8,\n",
       " 10,\n",
       " 1,\n",
       " 2,\n",
       " 3,\n",
       " 5,\n",
       " 7,\n",
       " 8,\n",
       " 10,\n",
       " 1,\n",
       " 2,\n",
       " 3,\n",
       " 5,\n",
       " 7,\n",
       " 8,\n",
       " 10]"
      ]
     },
     "execution_count": 355,
     "metadata": {},
     "output_type": "execute_result"
    }
   ],
   "source": [
    "iterable2"
   ]
  },
  {
   "cell_type": "markdown",
   "id": "5267f46c-df4e-4702-b62f-ec99ffe25b43",
   "metadata": {},
   "source": [
    "### C-5.26 \n",
    "Let B be an \n",
    "- array of size n ≥ 6 \n",
    "containing integers from 1 to n−5, inclusive, with exactly five repeated.\n",
    "Describe a good algorithm for finding the five integers in B that are repeated"
   ]
  },
  {
   "cell_type": "code",
   "execution_count": 38,
   "id": "a34f2af1-6d90-44de-b03f-ca4e080a9ea3",
   "metadata": {},
   "outputs": [],
   "source": [
    "def find_5n(iterable):\n",
    "    counter_map = dict()\n",
    "    for i in iterable:\n",
    "        if counter_map.get(i):\n",
    "            counter_map[i] = counter_map[i]+1\n",
    "        else:\n",
    "            counter_map[i] = 1\n",
    "\n",
    "    for k,v in counter_map.items():\n",
    "        if v == 5:\n",
    "            return k"
   ]
  },
  {
   "cell_type": "code",
   "execution_count": 39,
   "id": "26e4f907-b3e0-4915-aa98-0642ad83de15",
   "metadata": {},
   "outputs": [
    {
     "data": {
      "text/plain": [
       "1"
      ]
     },
     "execution_count": 39,
     "metadata": {},
     "output_type": "execute_result"
    }
   ],
   "source": [
    "x = [1,1,1,1,1,3]\n",
    "find_5n(x)"
   ]
  },
  {
   "cell_type": "code",
   "execution_count": 40,
   "id": "9042ef0c-c11d-491f-a926-8ce992b689c2",
   "metadata": {},
   "outputs": [
    {
     "data": {
      "text/plain": [
       "5"
      ]
     },
     "execution_count": 40,
     "metadata": {},
     "output_type": "execute_result"
    }
   ],
   "source": [
    "x = [1,2,3,4,5,5,5,5,2,5]\n",
    "find_5n(x)"
   ]
  },
  {
   "cell_type": "markdown",
   "id": "c4351abe-7bd5-41e4-9965-43a2dc8c537b",
   "metadata": {},
   "source": [
    "### C-5.31\n",
    "Describe a way to use recursion to add all the numbers in an n × n data\n",
    "set, represented as a list of lists."
   ]
  },
  {
   "cell_type": "code",
   "execution_count": 42,
   "id": "964df46a-694b-41f4-900b-b1e2c7da8eea",
   "metadata": {},
   "outputs": [
    {
     "data": {
      "text/plain": [
       "63"
      ]
     },
     "execution_count": 42,
     "metadata": {},
     "output_type": "execute_result"
    }
   ],
   "source": [
    "def add_items(iterables):\n",
    "    total = 0\n",
    "    for iterable in iterables:\n",
    "        for i in iterable:\n",
    "            total+=i\n",
    "    return total\n",
    "\n",
    "add_items([ [i for i in range(3)], [i for i in range(10)], [i for i in range(6)] ])\n"
   ]
  },
  {
   "attachments": {},
   "cell_type": "markdown",
   "id": "ece8f398-ce1a-44c1-9605-147d78c75891",
   "metadata": {},
   "source": [
    "# CH 6: Stacks, Queues, and Deques\n",
    "\n",
    "    Stack\n",
    "        - A stack is a collection of objects that are inserted and removed according to the last-in, first-out (LIFO) principle.\n",
    "        - Loading/Inserting from the top of the stack\n",
    "        - Ops\n",
    "            - Push - pushing down or loading down item on top of a stack\n",
    "            - Pop - pops item from the top of the stack\n",
    "        - Amortization:\n",
    "            Operation    | Running Time:\n",
    "            s.push(e)    | o(1)\n",
    "            s.pop()      | o(1)\n",
    "            s.top()      | o(1)\n",
    "            s.is_empty() | o(1)\n",
    "            len(s)       | o(1)\n",
    "            \n",
    "    Adapter Design Pattern:\n",
    "        - Applies to any context where we effectively want to modify an existing class so that its method match those of a related, but different\n",
    "          class or interface"
   ]
  },
  {
   "cell_type": "code",
   "execution_count": 155,
   "id": "55f2896b-a309-432e-be21-6d025e07cb34",
   "metadata": {},
   "outputs": [],
   "source": [
    "class ArrayStack:\n",
    "    \n",
    "    def check_is_empty(self):\n",
    "        if self.is_empty():\n",
    "                raise Exception('Stack is Empty')\n",
    "    \n",
    "    def __init__(self,):\n",
    "        self._data = []\n",
    "\n",
    "    def __len__(self,):\n",
    "        return len(self._data)\n",
    "\n",
    "    def is_empty(self,):\n",
    "        return len(self._data) == 0\n",
    "\n",
    "    def push(self,element):\n",
    "        self._data.append(element)\n",
    "\n",
    "    def top(self,):\n",
    "        self.check_is_empty()\n",
    "        return self._data[-1]\n",
    "\n",
    "    def pop(self,):\n",
    "        self.check_is_empty()\n",
    "        return self._data.pop()\n",
    "\n",
    "    def __str__(self):\n",
    "        return f'Stack: {self._data}'\n",
    "        "
   ]
  },
  {
   "cell_type": "code",
   "execution_count": 156,
   "id": "efe45260-f14c-4218-8c16-a9bf7f306083",
   "metadata": {},
   "outputs": [],
   "source": [
    "stack = ArrayStack()"
   ]
  },
  {
   "cell_type": "code",
   "execution_count": 157,
   "id": "717c1588-4a43-4a99-8535-6f843671f427",
   "metadata": {},
   "outputs": [],
   "source": [
    "for i in range(10):\n",
    "    stack.push(i)"
   ]
  },
  {
   "cell_type": "code",
   "execution_count": 158,
   "id": "00073770-9663-42e4-96a2-d321d959e4ca",
   "metadata": {},
   "outputs": [
    {
     "data": {
      "text/plain": [
       "10"
      ]
     },
     "execution_count": 158,
     "metadata": {},
     "output_type": "execute_result"
    }
   ],
   "source": [
    "len(stack)"
   ]
  },
  {
   "cell_type": "code",
   "execution_count": 159,
   "id": "6a58db5c-3b86-4e00-b63b-4b123bce6793",
   "metadata": {},
   "outputs": [
    {
     "data": {
      "text/plain": [
       "'Stack: [0, 1, 2, 3, 4, 5, 6, 7, 8, 9]'"
      ]
     },
     "execution_count": 159,
     "metadata": {},
     "output_type": "execute_result"
    }
   ],
   "source": [
    "str(stack)"
   ]
  },
  {
   "cell_type": "code",
   "execution_count": 160,
   "id": "ad5ed901-3113-4331-99b2-48d75457bb72",
   "metadata": {},
   "outputs": [
    {
     "data": {
      "text/plain": [
       "False"
      ]
     },
     "execution_count": 160,
     "metadata": {},
     "output_type": "execute_result"
    }
   ],
   "source": [
    "stack.is_empty()"
   ]
  },
  {
   "cell_type": "code",
   "execution_count": 161,
   "id": "b9f4af5a-5334-4a20-a6e5-9f6d1584fbca",
   "metadata": {},
   "outputs": [
    {
     "data": {
      "text/plain": [
       "9"
      ]
     },
     "execution_count": 161,
     "metadata": {},
     "output_type": "execute_result"
    }
   ],
   "source": [
    "stack.top()"
   ]
  },
  {
   "cell_type": "code",
   "execution_count": 163,
   "id": "00576bd6-e380-402e-9f80-9e8e730a3363",
   "metadata": {},
   "outputs": [
    {
     "data": {
      "text/plain": [
       "8"
      ]
     },
     "execution_count": 163,
     "metadata": {},
     "output_type": "execute_result"
    }
   ],
   "source": [
    "stack.pop()"
   ]
  },
  {
   "cell_type": "code",
   "execution_count": 164,
   "id": "e2fc81a5-e905-48d0-8119-4295c0d47ed3",
   "metadata": {
    "scrolled": true
   },
   "outputs": [
    {
     "ename": "Exception",
     "evalue": "Stack is Empty",
     "output_type": "error",
     "traceback": [
      "\u001b[1;31m---------------------------------------------------------------------------\u001b[0m",
      "\u001b[1;31mException\u001b[0m                                 Traceback (most recent call last)",
      "Cell \u001b[1;32mIn[164], line 2\u001b[0m\n\u001b[0;32m      1\u001b[0m stack2 \u001b[38;5;241m=\u001b[39m ArrayStack()\n\u001b[1;32m----> 2\u001b[0m \u001b[43mstack2\u001b[49m\u001b[38;5;241;43m.\u001b[39;49m\u001b[43mcheck_is_empty\u001b[49m\u001b[43m(\u001b[49m\u001b[43m)\u001b[49m\n",
      "Cell \u001b[1;32mIn[155], line 5\u001b[0m, in \u001b[0;36mArrayStack.check_is_empty\u001b[1;34m(self)\u001b[0m\n\u001b[0;32m      3\u001b[0m \u001b[38;5;28;01mdef\u001b[39;00m \u001b[38;5;21mcheck_is_empty\u001b[39m(\u001b[38;5;28mself\u001b[39m):\n\u001b[0;32m      4\u001b[0m     \u001b[38;5;28;01mif\u001b[39;00m \u001b[38;5;28mself\u001b[39m\u001b[38;5;241m.\u001b[39mis_empty():\n\u001b[1;32m----> 5\u001b[0m             \u001b[38;5;28;01mraise\u001b[39;00m \u001b[38;5;167;01mException\u001b[39;00m(\u001b[38;5;124m'\u001b[39m\u001b[38;5;124mStack is Empty\u001b[39m\u001b[38;5;124m'\u001b[39m)\n",
      "\u001b[1;31mException\u001b[0m: Stack is Empty"
     ]
    }
   ],
   "source": [
    "stack2 = ArrayStack()\n",
    "stack2.check_is_empty()"
   ]
  },
  {
   "cell_type": "code",
   "execution_count": 174,
   "id": "27fc6ef5-7a5f-4713-8844-8ba9952479be",
   "metadata": {},
   "outputs": [],
   "source": [
    "### Reverse Data using Stack\n",
    "# o(n) solution to reverse a list\n",
    "\n",
    "def reversal(data):\n",
    "    stack = ArrayStack()\n",
    "    for i in data:\n",
    "        stack.push(i)\n",
    "    return stack"
   ]
  },
  {
   "cell_type": "code",
   "execution_count": 175,
   "id": "eb1afdac-825b-43a7-b43a-efdd4c2d3914",
   "metadata": {},
   "outputs": [],
   "source": [
    "iterable = list(range(10))"
   ]
  },
  {
   "cell_type": "code",
   "execution_count": 176,
   "id": "d8d4c1fc-0fb1-4965-bfcc-7e17f648c05b",
   "metadata": {},
   "outputs": [],
   "source": [
    "stack = reversal(iterable)"
   ]
  },
  {
   "cell_type": "code",
   "execution_count": 177,
   "id": "765b4e08-8436-4d2c-9ded-c07010d89d10",
   "metadata": {},
   "outputs": [
    {
     "data": {
      "text/plain": [
       "9"
      ]
     },
     "execution_count": 177,
     "metadata": {},
     "output_type": "execute_result"
    }
   ],
   "source": [
    "stack.pop()"
   ]
  },
  {
   "cell_type": "markdown",
   "id": "b25c7a29-fd0d-477f-b4f8-fd2368960807",
   "metadata": {},
   "source": [
    "### Matching Parentheses and HTML Tag\n",
    "    - This is a common easy coding challenge, where you have to find matching left and right parenthese () or hard bracket []\n",
    "    "
   ]
  },
  {
   "cell_type": "code",
   "execution_count": 204,
   "id": "04c48b42-4483-4602-b1b2-9e0f4764f884",
   "metadata": {},
   "outputs": [],
   "source": [
    "def is_matched(expr):\n",
    "\n",
    "    lefty = '([{<'\n",
    "    righty = ')]}>'\n",
    "    s = ArrayStack()\n",
    "    for characters in expr:\n",
    "        if characters in lefty:\n",
    "            s.push(characters)\n",
    "        elif characters in righty:\n",
    "            if s.is_empty():\n",
    "                return False\n",
    "            if righty.index(characters) != lefty.index(s.pop()):\n",
    "                return False\n",
    "    return s.is_empty()              "
   ]
  },
  {
   "cell_type": "code",
   "execution_count": 205,
   "id": "d99dcc16-1096-4356-9f81-1466d171d882",
   "metadata": {},
   "outputs": [
    {
     "data": {
      "text/plain": [
       "True"
      ]
     },
     "execution_count": 205,
     "metadata": {},
     "output_type": "execute_result"
    }
   ],
   "source": [
    "expr = \"( )(( )){([( )])}\"\n",
    "is_matched(expr)"
   ]
  },
  {
   "cell_type": "code",
   "execution_count": 206,
   "id": "7edb79d7-206f-4b13-8159-922f6fc0aac6",
   "metadata": {},
   "outputs": [
    {
     "data": {
      "text/plain": [
       "False"
      ]
     },
     "execution_count": 206,
     "metadata": {},
     "output_type": "execute_result"
    }
   ],
   "source": [
    "expr2 = ')(( )){([( )])}'\n",
    "is_matched(expr2)"
   ]
  },
  {
   "cell_type": "code",
   "execution_count": 207,
   "id": "7d9067b3-30b8-4666-b9a1-9f95100bed71",
   "metadata": {},
   "outputs": [
    {
     "data": {
      "text/plain": [
       "True"
      ]
     },
     "execution_count": 207,
     "metadata": {},
     "output_type": "execute_result"
    }
   ],
   "source": [
    "expr3 = '[(5+x)-(y+z)]'\n",
    "is_matched(expr3)"
   ]
  },
  {
   "cell_type": "code",
   "execution_count": 208,
   "id": "611f58b8-9280-4fb5-9170-be701b617171",
   "metadata": {},
   "outputs": [
    {
     "data": {
      "text/plain": [
       "True"
      ]
     },
     "execution_count": 208,
     "metadata": {},
     "output_type": "execute_result"
    }
   ],
   "source": [
    "html_data = \"\"\"\n",
    "<body>\n",
    "    <center>\n",
    "        <h1> The Little Boat </h1>\n",
    "    </center>\n",
    "    <p> \n",
    "        The storm tossed the little\n",
    "        boat like a cheap sneaker in an\n",
    "        old washing machine. The three\n",
    "        drunken fishermen were used to\n",
    "        such treatment, of course, but\n",
    "        not the tree salesman, who even as\n",
    "        a stowaway now felt that he\n",
    "        had overpaid for the voyage.\n",
    "    </p>\n",
    "    <ol>\n",
    "        <li>\n",
    "            Will the salesman die?\n",
    "        </li>\n",
    "        <li> \n",
    "            What color is the boat?\n",
    "        </li>\n",
    "        <li>\n",
    "            And what about Naomi? \n",
    "        </li>\n",
    "    </ol>\n",
    "</body>\n",
    "\"\"\"\n",
    "is_matched(html_data)"
   ]
  },
  {
   "cell_type": "code",
   "execution_count": null,
   "id": "9267ff13-9e19-4ce6-afcb-ad95dbbac612",
   "metadata": {},
   "outputs": [],
   "source": []
  }
 ],
 "metadata": {
  "kernelspec": {
   "display_name": "Python 3 (ipykernel)",
   "language": "python",
   "name": "python3"
  },
  "language_info": {
   "codemirror_mode": {
    "name": "ipython",
    "version": 3
   },
   "file_extension": ".py",
   "mimetype": "text/x-python",
   "name": "python",
   "nbconvert_exporter": "python",
   "pygments_lexer": "ipython3",
   "version": "3.9.0"
  }
 },
 "nbformat": 4,
 "nbformat_minor": 5
}
