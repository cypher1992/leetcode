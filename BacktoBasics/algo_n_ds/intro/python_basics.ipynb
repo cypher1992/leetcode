{
 "cells": [
  {
   "attachments": {},
   "cell_type": "markdown",
   "id": "75181bec-4c02-4db8-aa4b-a39d9e99432a",
   "metadata": {},
   "source": [
    "Python Resource:\n",
    "    https://medium.com/@-TutortAcademy/choosing-the-best-books-for-mastering-python-algorithms-c7d0b5a64057\n",
    "\n",
    "Python Book:\n",
    "    Data Structures and Algorithms in Python by Michael T. Goodrich and Roberto Tamassia\n",
    "    https://nibmehub.com/opac-service/pdf/read/Data%20Structures%20and%20Algorithms%20in%20Python.pdf\n",
    "\n",
    "Chapter 1:\n",
    "    Class|Description|Immutable?\n",
    "    bool|Boolean value|Yes\n",
    "    int|integer (arbitrary magnitude)|Yes\n",
    "    float|floating-point number| Yes\n",
    "    list|mutable sequence of objects|No\n",
    "    tuple| immutable sequence of objects|Yes\n",
    "    str|character string|Yes\n",
    "    set |unordered set of distinct objects| No\n",
    "    frozenset|immutable form of set class| Yes\n",
    "    dict|associative mapping (aka dictionary)| No\n",
    "\n",
    "    Sequence Types\n",
    "        are list, tuple, and str.\n",
    "        list = []\n",
    "            - list are zero index are similar to an array\n",
    "        Tuple = ()\n",
    "            - tuples are immutable version of a sequence\n",
    "        str = \"\" or '' or \"\"\"\"\"\" or ''''''\n",
    "            - str is specifically designed to represent an immutable sequence of\n",
    "            characters\n",
    "    Set and Frozenset\n",
    "        set = {}\n",
    "            - set class represent the mathamatical notion of a set, namely\n",
    "            a collection of elements, without a duplicate\n",
    "            - No order\n",
    "        frozenset =\n",
    "            - is a immutable form of a set type, so it is legal to have set of frozenset\n",
    "            - frozenset()\n",
    "    Dict\n",
    "        dict represents a dictionary or mapping from a set of dictinct keys to associated values\n",
    "            - key value pair\n",
    "                dictionary = {'k':'V','k1':'V1'}\n",
    "            - access value\n",
    "                dictionary['K'] or dictionary.get('k')\n",
    "    Operators:\n",
    "        Python provides the following bitwise operators for integers:\n",
    "            ∼ bitwise complement (prefix unary operator)\n",
    "            & bitwise and\n",
    "            | bitwise or\n",
    "            ˆ bitwise exclusive-or\n",
    "            << shift bits left, filling in with zeros\n",
    "            >> shift bits right, filling in with sign bit\n",
    "\n",
    "        Each of Python’s built-in sequence types (str, tuple, and list) support the following\n",
    "            operator syntaxes:\n",
    "            s[j] element at index j\n",
    "            s[start:stop] slice including indices [start,stop)\n",
    "            s[start:stop:step] slice including indices start, start + step,\n",
    "            start + 2 step, . . . , up to but not equalling or stop\n",
    "            s+t concatenation of sequences\n",
    "            k s shorthand for s + s + s + ... (k times)\n",
    "            val in s containment check\n",
    "            val not in s non-containment check\n",
    "\n",
    "        Operators for Sets and Dictionaries\n",
    "            Sets and frozensets support the following operators:\n",
    "            key in s containment check\n",
    "            key not in s non-containment check\n",
    "            s1 == s2 s1 is equivalent to s2\n",
    "            s1 != s2 s1 is not equivalent to s2\n",
    "            s1 <= s2 s1 is subset of s2\n",
    "            s1 < s2 s1 is proper subset of s2\n",
    "            s1 >= s2 s1 is superset of s2\n",
    "            s1 > s2 s1 is proper superset of s2\n",
    "            s1 | s2 the union of s1 and s2\n",
    "            s1 & s2 the intersection of s1 and s2\n",
    "            s1 − s2 the set of elements in s1 but not s2\n",
    "            s1 ˆ s2 the set of elements in precisely one of s1 or s2\n",
    "\n",
    "\n",
    "        Control Flow\n",
    "            \n",
    "            if first condition:\n",
    "                first body\n",
    "            elif second condition:\n",
    "                second body\n",
    "            elif third condition:\n",
    "                third body\n",
    "            else:\n",
    "                fourth body\n",
    "\n",
    "\n",
    "        Loops:\n",
    "            while statement:\n",
    "                while condition:\n",
    "                    body\n",
    "            - condition statement needs to be false to exit\n",
    "\n",
    "        Calling Syntax Description\n",
    "            Calling_Syntax Description\n",
    "            abs(x) Return the absolute value of a number.\n",
    "            all(iterable) Return True if bool(e) is True for each element e.\n",
    "            any(iterable) Return True if bool(e) is True for at least one element e.\n",
    "            chr(integer) Return a one-character string with the given Unicode code point.\n",
    "            divmod(x, y) Return (x // y, x % y) as tuple, if x and y are integers.\n",
    "            hash(obj) Return an integer hash value for the object (see Chapter 10).\n",
    "            id(obj) Return the unique integer serving as an “identity” for the object.\n",
    "            input(prompt) Return a string from standard input; the prompt is optional.\n",
    "            isinstance(obj, cls) Determine if obj is an instance of the class (or a subclass).\n",
    "            iter(iterable) Return a new iterator object for the parameter (see Section 1.8).\n",
    "            len(iterable) Return the number of elements in the given iteration.\n",
    "            map(f, iter1, iter2, ...) Return an iterator yielding the result of function calls f(e1, e2, ...)\n",
    "            for respective elements e1 ∈ iter1,e2 ∈ iter2,...\n",
    "            max(iterable) Return the largest element of the given iteration.\n",
    "            max(a, b, c, ...) Return the largest of the arguments.\n",
    "            min(iterable) Return the smallest element of the given iteration.\n",
    "            min(a, b, c, ...) Return the smallest of the arguments.\n",
    "            next(iterator) Return the next element reported by the iterator (see Section 1.8).\n",
    "            open(filename, mode) Open a file with the given name and access mode.\n",
    "            ord(char) Return the Unicode code point of the given character.\n",
    "            pow(x, y) Return the value xy (as an integer if x and y are integers);\n",
    "            equivalent to x y.\n",
    "            pow(x, y, z) Return the value (xy mod z) as an integer.\n",
    "            print(obj1, obj2, ...) Print the arguments, with separating spaces and trailing newline.\n",
    "            range(stop) Construct an iteration of values 0, 1,..., stop−1.\n",
    "            range(start, stop) Construct an iteration of values start, start+1,..., stop−1.\n",
    "            range(start, stop, step) Construct an iteration of values start, start+step, start+2 step,...\n",
    "            reversed(sequence) Return an iteration of the sequence in reverse.\n",
    "            round(x) Return the nearest int value (a tie is broken toward the even value).\n",
    "            round(x, k) Return the value rounded to the nearest 10−k (return-type matches x).\n",
    "            sorted(iterable) Return a list containing elements of the iterable in sorted order.\n",
    "            sum(iterable) Return the sum of the elements in the iterable (must be numeric).\n",
    "            type(obj) Return the class to which the instance obj belongs.\n",
    "\n",
    "        Error Handling\n",
    "            \n",
    "            Class Description\n",
    "            Exception A base class for most error types\n",
    "            AttributeError Raised by syntax obj.foo, if obj has no member named foo\n",
    "            EOFError Raised if “end of file” reached for console or file input\n",
    "            IOError Raised upon failure of I/O operation (e.g., opening file)\n",
    "            IndexError Raised if index to sequence is out of bounds\n",
    "            KeyError Raised if nonexistent key requested for set or dictionary\n",
    "            KeyboardInterrupt Raised if user types ctrl-C while program is executing\n",
    "            NameError Raised if nonexistent identifier used\n",
    "            StopIteration Raised by next(iterator) if no element; see Section 1.8\n",
    "            TypeError Raised when wrong type of parameter is sent to a function\n",
    "            ValueError Raised when parameter has invalid value (e.g., sqrt(−5))\n",
    "            ZeroDivisionError Raised when any division operator used with 0 as divison\n",
    "\n",
    "\n",
    "        Modules\n",
    "            Module Name Description\n",
    "                array Provides compact array storage for primitive types.\n",
    "                collections Defines additional data structures and abstract base classes\n",
    "                involving collections of objects.\n",
    "                copy Defines general functions for making copies of objects.\n",
    "                heapq Provides heap-based priority queue functions (see Section 9.3.7).\n",
    "                math Defines common mathematical constants and functions.\n",
    "                os Provides support for interactions with the operating system.\n",
    "                random Provides random number generation.\n",
    "                re Provides support for processing regular expressions.\n",
    "                sys Provides additional level of interaction with the Python interpreter.\n",
    "                time Provides support for measuring time, or delaying a program.\n",
    "\n",
    "        Generators:\n",
    "            - Generators are most convient ways to create iterators\n",
    "            - A function that uses the yield instead of return keyword\n",
    "            - Yield statement is executed to indicate each element of the series\n",
    "                # list that produces everything\n",
    "                def factor(n):\n",
    "                    results = []\n",
    "                    for k in range(1,n+1):\n",
    "                        if n%k == 0:\n",
    "                            results.append(k)\n",
    "                    return results\n",
    "\n",
    "                # yield implementation\n",
    "                def factor(n):\n",
    "                    for k in range(1,n+1):\n",
    "                        if n%k == 0:\n",
    "                            yield k\n",
    "                \n",
    "\n",
    "            \n",
    "            \n",
    "        \n",
    "         \n",
    "            "
   ]
  },
  {
   "cell_type": "markdown",
   "id": "68d41fb3-a562-4e1e-802d-5bd9ba9a3043",
   "metadata": {},
   "source": [
    "### Write a short Python function, is multiple(n, m), that takes two integer\n",
    "### values and returns True if n is a multiple of m, that is, n = mi for some\n",
    "### integer i, and False otherwise.\n"
   ]
  },
  {
   "cell_type": "code",
   "execution_count": 190,
   "id": "b1b5f202-3425-4266-9935-40e3d12304fc",
   "metadata": {},
   "outputs": [],
   "source": [
    "def is_multiple(n,m):\n",
    "    if n%m == 0:\n",
    "        return True\n",
    "    return False"
   ]
  },
  {
   "cell_type": "code",
   "execution_count": 191,
   "id": "4e2fb741-c104-4dd5-b5ee-689b1bbbe4da",
   "metadata": {},
   "outputs": [
    {
     "data": {
      "text/plain": [
       "True"
      ]
     },
     "execution_count": 191,
     "metadata": {},
     "output_type": "execute_result"
    }
   ],
   "source": [
    "is_multiple(16,8)"
   ]
  },
  {
   "cell_type": "code",
   "execution_count": 192,
   "id": "c04e6ee0-58fb-4860-b3aa-3fcb48d71f48",
   "metadata": {},
   "outputs": [
    {
     "data": {
      "text/plain": [
       "False"
      ]
     },
     "execution_count": 192,
     "metadata": {},
     "output_type": "execute_result"
    }
   ],
   "source": [
    "is_multiple(16,3)"
   ]
  },
  {
   "cell_type": "markdown",
   "id": "8b4ac594-c7a0-4238-abd0-6908d39c2c4f",
   "metadata": {},
   "source": [
    "### R-1.2 Write a short Python function, is even(k), that takes an integer value and\n",
    "### returns True if k is even, and False otherwise. However, your function\n",
    "### cannot use the multiplication, modulo, or division operators."
   ]
  },
  {
   "cell_type": "code",
   "execution_count": 193,
   "id": "ed5dd03b-b2fd-45ce-89aa-7129b5c159df",
   "metadata": {},
   "outputs": [],
   "source": [
    "def is_even(k):\n",
    "    if (k & 1) == 0:\n",
    "        return True\n",
    "    return False"
   ]
  },
  {
   "cell_type": "code",
   "execution_count": 194,
   "id": "ec2a0598-d9f4-4979-8f54-8534123137d9",
   "metadata": {},
   "outputs": [
    {
     "data": {
      "text/plain": [
       "False"
      ]
     },
     "execution_count": 194,
     "metadata": {},
     "output_type": "execute_result"
    }
   ],
   "source": [
    "is_even(1)"
   ]
  },
  {
   "cell_type": "code",
   "execution_count": 195,
   "id": "4cbf0548-cc4a-4c83-bf80-26d9da4f8ceb",
   "metadata": {},
   "outputs": [
    {
     "data": {
      "text/plain": [
       "True"
      ]
     },
     "execution_count": 195,
     "metadata": {},
     "output_type": "execute_result"
    }
   ],
   "source": [
    "is_even(10)"
   ]
  },
  {
   "cell_type": "code",
   "execution_count": 196,
   "id": "264e1a04-e3af-4f7b-ad17-27b3e4d62539",
   "metadata": {},
   "outputs": [
    {
     "name": "stdout",
     "output_type": "stream",
     "text": [
      "L1 [0, 1, 2, 3, 4, 5, 6, 7, 8, 9]\n",
      "l2 [0, 100, 200, 300, 400, 500, 600, 700, 800, 900]\n"
     ]
    },
    {
     "data": {
      "text/plain": [
       "[0, 101, 202, 303, 404, 505, 606, 707, 808, 909]"
      ]
     },
     "execution_count": 196,
     "metadata": {},
     "output_type": "execute_result"
    }
   ],
   "source": [
    "# Test Map Function\n",
    "\n",
    "def add(a,b):\n",
    "    return a+b\n",
    "\n",
    "def iter_lists(func,list1,list2):\n",
    "    return map(func,list1,list2)\n",
    "\n",
    "l1 = [i for i in range(0,10,)] \n",
    "l2 = [i*100 for i in range(0,10)]\n",
    "\n",
    "print('L1', l1)\n",
    "print('l2',l2)\n",
    "\n",
    "list(iter_lists(add,l1,l2))"
   ]
  },
  {
   "cell_type": "markdown",
   "id": "ffdfe873-cd9c-4cdc-96de-25bc70615ad7",
   "metadata": {},
   "source": [
    "### R-1.3 Write a short Python function, minmax(data), that takes a sequence of\n",
    "### one or more numbers, and returns the smallest and largest numbers, in the\n",
    "### form of a tuple of length two. Do not use the built-in functions min or\n",
    "### max in implementing your solution."
   ]
  },
  {
   "cell_type": "code",
   "execution_count": 197,
   "id": "f29e38d1-af04-4b1b-aa04-f6c942dec0a3",
   "metadata": {},
   "outputs": [],
   "source": [
    "def minmax(data):\n",
    "    minimum = maximum = data[0]\n",
    "    for i in data[1:]:\n",
    "        if i < minimum:\n",
    "            minimum = i\n",
    "        elif i > maximum:\n",
    "            maximum = i\n",
    "    return (minimum,maximum)        \n",
    "        "
   ]
  },
  {
   "cell_type": "code",
   "execution_count": 198,
   "id": "d57c6de6-aa5a-4d93-9aa4-dcd7345a31ee",
   "metadata": {},
   "outputs": [
    {
     "name": "stdout",
     "output_type": "stream",
     "text": [
      "[600, 200, 0, 400, 900, 700, 300, 100, 500, 800]\n"
     ]
    },
    {
     "data": {
      "text/plain": [
       "(0, 900)"
      ]
     },
     "execution_count": 198,
     "metadata": {},
     "output_type": "execute_result"
    }
   ],
   "source": [
    "import random\n",
    "shuffled_list = random.shuffle(l2)\n",
    "print(l2)\n",
    "minmax(l2)"
   ]
  },
  {
   "cell_type": "markdown",
   "id": "5b1cbae8-0d85-4880-9a18-9b918dc8144b",
   "metadata": {},
   "source": [
    "### R-1.5\n",
    "### Give a single command that computes the sum from Exercise R-1.4, relying on Python’s comprehension syntax and the built-in sum function."
   ]
  },
  {
   "cell_type": "code",
   "execution_count": 199,
   "id": "a52eb96c-5573-4d8e-912d-6507584e5ba8",
   "metadata": {},
   "outputs": [
    {
     "name": "stdout",
     "output_type": "stream",
     "text": [
      "900\n"
     ]
    }
   ],
   "source": [
    "l3 = [a for a in minmax(l2)]\n",
    "print(sum(l3))"
   ]
  },
  {
   "cell_type": "markdown",
   "id": "b96bfff2-f8ba-4105-8a98-031034e642d3",
   "metadata": {},
   "source": [
    "### R-1.6 \n",
    "### Write a short Python function that takes a positive integer n and returns the sum of the squares of all the odd positive integers smaller than n\n",
    "\n",
    "### R-1.7 Give a single command that computes the sum from Exercise R-1.6, relying on Python’s comprehension syntax and the built-in sum function.\n"
   ]
  },
  {
   "cell_type": "code",
   "execution_count": 200,
   "id": "05d14cb9-cf9c-49b0-bbf2-ac884b4d43e8",
   "metadata": {},
   "outputs": [],
   "source": [
    "def squared_odds(n):\n",
    "    if type(n) == int and n> 0:\n",
    "        return sum([pow(i,2) for i in range(1,n) if i%2 != 0])\n",
    "    else:\n",
    "        print(f'Not greater than 0 or argument is not type of int {n}')\n",
    "            \n",
    "                "
   ]
  },
  {
   "cell_type": "code",
   "execution_count": 201,
   "id": "ad073967-8935-4daf-9eb3-c7866b4dbd3f",
   "metadata": {},
   "outputs": [
    {
     "name": "stdout",
     "output_type": "stream",
     "text": [
      "Not greater than 0 or argument is not type of int A\n"
     ]
    }
   ],
   "source": [
    "squared_odds('A')\n",
    "assert squared_odds(4) == 10"
   ]
  },
  {
   "cell_type": "code",
   "execution_count": 202,
   "id": "bf98b1d0-7d5b-4ea1-bca7-72730236434c",
   "metadata": {},
   "outputs": [
    {
     "data": {
      "text/plain": [
       "10"
      ]
     },
     "execution_count": 202,
     "metadata": {},
     "output_type": "execute_result"
    }
   ],
   "source": [
    "squared_odds(4)"
   ]
  },
  {
   "cell_type": "markdown",
   "id": "090291ab-1de3-45e0-bc90-580261db151d",
   "metadata": {},
   "source": [
    "### R-1.8 \n",
    "### Python allows negative integers to be used as indices into a sequence, such as a string. If string s has length n, and expression s[k] is used for index −n ≤ k < 0, what is the equivalent index j ≥ 0 such that s[j] references the same element?"
   ]
  },
  {
   "cell_type": "code",
   "execution_count": 203,
   "id": "d964af08-654c-4edf-8f22-3269926e558b",
   "metadata": {},
   "outputs": [
    {
     "data": {
      "text/plain": [
       "'o'"
      ]
     },
     "execution_count": 203,
     "metadata": {},
     "output_type": "execute_result"
    }
   ],
   "source": [
    "string = \"Hello\"\n",
    "string[-1]\n",
    "index = len(string)-1\n",
    "string[index]"
   ]
  },
  {
   "cell_type": "markdown",
   "id": "f24f26d3-86f6-4cd3-a505-997af3678c4a",
   "metadata": {},
   "source": [
    "### R-1.9 What parameters should be sent to the range constructor, to produce a\n",
    "### range with values 50, 60, 70, 80?"
   ]
  },
  {
   "cell_type": "code",
   "execution_count": 204,
   "id": "057a5e05-5fd8-449e-8c34-226da6ad23f0",
   "metadata": {},
   "outputs": [
    {
     "data": {
      "text/plain": [
       "[50, 60, 70, 80]"
      ]
     },
     "execution_count": 204,
     "metadata": {},
     "output_type": "execute_result"
    }
   ],
   "source": [
    "list(range(50,81,10))"
   ]
  },
  {
   "cell_type": "markdown",
   "id": "89bbec42-d5bb-49ca-89dc-8c75827cdcb6",
   "metadata": {},
   "source": [
    "### R-1.10 \n",
    "### What parameters should be sent to the range constructor, to produce a range with values 8, 6, 4, 2, 0, −2, −4, −6, −8?"
   ]
  },
  {
   "cell_type": "code",
   "execution_count": 205,
   "id": "73ec2d7d-9fac-446d-bb50-c928e7840ee9",
   "metadata": {},
   "outputs": [
    {
     "data": {
      "text/plain": [
       "[8, 6, 4, 2, 0, -2, -4, -6, -8]"
      ]
     },
     "execution_count": 205,
     "metadata": {},
     "output_type": "execute_result"
    }
   ],
   "source": [
    "list(range(8,-9,-2))"
   ]
  },
  {
   "cell_type": "code",
   "execution_count": 206,
   "id": "2263996c-1d54-4658-a044-ffaa4ea207b1",
   "metadata": {},
   "outputs": [],
   "source": [
    "### R-1.11 \n",
    "### Demonstrate how to use Python’s list comprehension syntax to produce the list [1, 2, 4, 8, 16, 32, 64, 128, 256].\n"
   ]
  },
  {
   "cell_type": "code",
   "execution_count": 207,
   "id": "73fda77b-410f-4a85-a438-dd4ef78062bf",
   "metadata": {},
   "outputs": [
    {
     "data": {
      "text/plain": [
       "[1, 2, 4, 8, 16, 32, 64, 128, 256]"
      ]
     },
     "execution_count": 207,
     "metadata": {},
     "output_type": "execute_result"
    }
   ],
   "source": [
    "[pow(2,i) for i in range(0,9)] "
   ]
  },
  {
   "cell_type": "markdown",
   "id": "23400de6-d7dd-47c5-8bc6-e873ea827909",
   "metadata": {},
   "source": [
    "### R-1.12 \n",
    "### Python’s random module includes a function choice(data) that returns a\n",
    "### random element from a non-empty sequence. The random module includes a more basic function randrange, with parameterization similar to\n",
    "### the built-in range function, that return a random choice from the given\n",
    "### range. Using only the randrange function, implement your own version\n",
    "### of the choice function"
   ]
  },
  {
   "cell_type": "code",
   "execution_count": 208,
   "id": "83653a4b-4f5b-44ac-b900-86c40457e182",
   "metadata": {},
   "outputs": [],
   "source": [
    "def choice_rand(start,end):\n",
    "    return random.randrange(start,end)\n",
    "    "
   ]
  },
  {
   "cell_type": "code",
   "execution_count": 209,
   "id": "927bf1ab-62c5-455a-8b12-50763f8af276",
   "metadata": {},
   "outputs": [
    {
     "data": {
      "text/plain": [
       "6"
      ]
     },
     "execution_count": 209,
     "metadata": {},
     "output_type": "execute_result"
    }
   ],
   "source": [
    "choice_rand(1,10)"
   ]
  },
  {
   "cell_type": "markdown",
   "id": "75b516d2-4611-4a11-ada6-5b766f080142",
   "metadata": {},
   "source": [
    "### C-1.13\n",
    "### Write a pseudo-code description of a function that reverses a list of n\n",
    "### integers, so that the numbers are listed in the opposite order than they\n",
    "### were before, and compare this method to an equivalent Python function\n",
    "### for doing the same thing."
   ]
  },
  {
   "cell_type": "code",
   "execution_count": 210,
   "id": "92545f70-2184-4147-965d-f9090277ce0a",
   "metadata": {},
   "outputs": [],
   "source": [
    "def reverse_iter(iterable):\n",
    "    return iterable[::-1]"
   ]
  },
  {
   "cell_type": "code",
   "execution_count": 211,
   "id": "34bc0ba6-b956-46da-afac-05127b628485",
   "metadata": {},
   "outputs": [
    {
     "data": {
      "text/plain": [
       "[9, 8, 7, 6, 5, 4, 3, 2, 1, 0]"
      ]
     },
     "execution_count": 211,
     "metadata": {},
     "output_type": "execute_result"
    }
   ],
   "source": [
    "reverse_iter(l1)"
   ]
  },
  {
   "cell_type": "markdown",
   "id": "934f35ae-fe9c-4dea-9cef-b82f0c9583c0",
   "metadata": {},
   "source": [
    "### C-1.14 \n",
    "### Write a short Python function that takes a sequence of integer values and determines if there is a distinct pair of numbers in the sequence whose product is odd."
   ]
  },
  {
   "cell_type": "code",
   "execution_count": 215,
   "id": "26d3f07e-8838-4b60-b106-3ecc8abd93c2",
   "metadata": {},
   "outputs": [],
   "source": [
    "def distinct_pair(iterable):\n",
    "    \"\"\"\n",
    "    Used a queue as a strategy here, FIFO\n",
    "    This is O(n^2)\n",
    "    \"\"\"\n",
    "    products = set()\n",
    "    for _ in range(len(iterable)):\n",
    "        head = iterable.pop(0)\n",
    "        for i in iterable:\n",
    "            if (head * i)%2 != 0:\n",
    "                products.add((head,i))\n",
    "    return products"
   ]
  },
  {
   "cell_type": "code",
   "execution_count": 213,
   "id": "b8771e12-bd4f-46df-95ed-d73fb9fefb03",
   "metadata": {},
   "outputs": [
    {
     "data": {
      "text/plain": [
       "{(1, 3),\n",
       " (1, 5),\n",
       " (1, 7),\n",
       " (1, 9),\n",
       " (3, 5),\n",
       " (3, 7),\n",
       " (3, 9),\n",
       " (5, 7),\n",
       " (5, 9),\n",
       " (7, 9)}"
      ]
     },
     "execution_count": 213,
     "metadata": {},
     "output_type": "execute_result"
    }
   ],
   "source": [
    "distinct_pair(l1)"
   ]
  },
  {
   "cell_type": "code",
   "execution_count": 214,
   "id": "ee696f52-9fb0-41db-a0f9-a7fc85df8eb8",
   "metadata": {},
   "outputs": [
    {
     "data": {
      "text/plain": [
       "{(1, 3), (3, 3)}"
      ]
     },
     "execution_count": 214,
     "metadata": {},
     "output_type": "execute_result"
    }
   ],
   "source": [
    "distinct_pair([1,2,3,3,3,3])"
   ]
  },
  {
   "cell_type": "markdown",
   "id": "97f14817-34e3-433e-9129-2f716cb41f14",
   "metadata": {},
   "source": [
    "### C-1.15\n",
    "### Write a Python function that takes a sequence of numbers and determines if all the numbers are different from each other (that is, they are distinct)."
   ]
  },
  {
   "cell_type": "code",
   "execution_count": 216,
   "id": "9b0e43b0-cc26-4b10-9566-9d0c2347f38e",
   "metadata": {},
   "outputs": [],
   "source": [
    "def distinct_numbers(iterable):\n",
    "    if len(iterable) == len(set(iterable)):\n",
    "        return True\n",
    "    return False"
   ]
  },
  {
   "cell_type": "code",
   "execution_count": 225,
   "id": "1dc26c24-e298-4dda-aae8-02e53fb7c412",
   "metadata": {},
   "outputs": [],
   "source": [
    "l1 = [i for i in range(10)]\n",
    "l2 = [2] * 4"
   ]
  },
  {
   "cell_type": "code",
   "execution_count": 223,
   "id": "5b73317c-3e95-49e0-91ef-cec32329ad68",
   "metadata": {},
   "outputs": [
    {
     "data": {
      "text/plain": [
       "[0, 1, 2, 3, 4, 5, 6, 7, 8, 9]"
      ]
     },
     "execution_count": 223,
     "metadata": {},
     "output_type": "execute_result"
    }
   ],
   "source": [
    "l1"
   ]
  },
  {
   "cell_type": "code",
   "execution_count": 226,
   "id": "39cd8836-d5ed-471c-83cf-49bc2389d68e",
   "metadata": {},
   "outputs": [
    {
     "data": {
      "text/plain": [
       "[2, 2, 2, 2]"
      ]
     },
     "execution_count": 226,
     "metadata": {},
     "output_type": "execute_result"
    }
   ],
   "source": [
    "l2"
   ]
  },
  {
   "cell_type": "code",
   "execution_count": 228,
   "id": "d9927d8c-aa2a-4c11-8460-30185453fe47",
   "metadata": {},
   "outputs": [
    {
     "data": {
      "text/plain": [
       "True"
      ]
     },
     "execution_count": 228,
     "metadata": {},
     "output_type": "execute_result"
    }
   ],
   "source": [
    "distinct_numbers(l1)"
   ]
  },
  {
   "cell_type": "code",
   "execution_count": 227,
   "id": "2230be5c-9912-4d74-bf11-acd7e9367080",
   "metadata": {},
   "outputs": [
    {
     "data": {
      "text/plain": [
       "False"
      ]
     },
     "execution_count": 227,
     "metadata": {},
     "output_type": "execute_result"
    }
   ],
   "source": [
    "distinct_numbers(l2)"
   ]
  },
  {
   "cell_type": "markdown",
   "id": "6d2147bf-06b9-4f9f-9dd3-87cb94c8d2b2",
   "metadata": {},
   "source": [
    "### C-1.16\n",
    "### In our implementation of the scale function (page 25), the body of the loop executes the command data[j] = factor. We have discussed that numeric types are immutable, and that use of the = operator in this context causes the creation of a new instance (not the mutation of an existing instance). How is it still possible, then, that our implementation of scale changes the actual parameter sent by the caller?"
   ]
  },
  {
   "cell_type": "code",
   "execution_count": 229,
   "id": "513e7829-9307-4beb-863a-41eb0565a05f",
   "metadata": {},
   "outputs": [
    {
     "data": {
      "text/plain": [
       "[0, 1, 2, 3, 4, 5, 6, 7, 8, 9]"
      ]
     },
     "execution_count": 229,
     "metadata": {},
     "output_type": "execute_result"
    }
   ],
   "source": [
    "l1"
   ]
  },
  {
   "cell_type": "code",
   "execution_count": 230,
   "id": "1426d034-966c-4e86-a17a-4df0935784c7",
   "metadata": {},
   "outputs": [],
   "source": [
    "data = l1.copy()"
   ]
  },
  {
   "cell_type": "code",
   "execution_count": 231,
   "id": "aa368a1e-9d19-4308-9555-773bc49705ab",
   "metadata": {},
   "outputs": [
    {
     "data": {
      "text/plain": [
       "[0, 1, 2, 3, 4, 5, 6, 7, 8, 9]"
      ]
     },
     "execution_count": 231,
     "metadata": {},
     "output_type": "execute_result"
    }
   ],
   "source": [
    "data"
   ]
  },
  {
   "cell_type": "code",
   "execution_count": 233,
   "id": "96c391dd-8906-46d5-957c-59237d389a81",
   "metadata": {},
   "outputs": [],
   "source": [
    "def scale(data,factor):\n",
    "    for i in range(len(data)):\n",
    "        data[i] =data[i]*factor"
   ]
  },
  {
   "cell_type": "code",
   "execution_count": 234,
   "id": "5e004859-76ee-4bc2-be20-4c321a3a7431",
   "metadata": {},
   "outputs": [],
   "source": [
    "scale(data,2)"
   ]
  },
  {
   "cell_type": "code",
   "execution_count": 235,
   "id": "80960b46-3a13-4e42-a5ba-1e3ae5a48409",
   "metadata": {},
   "outputs": [
    {
     "data": {
      "text/plain": [
       "[0, 2, 4, 6, 8, 10, 12, 14, 16, 18]"
      ]
     },
     "execution_count": 235,
     "metadata": {},
     "output_type": "execute_result"
    }
   ],
   "source": [
    "data"
   ]
  },
  {
   "cell_type": "code",
   "execution_count": 236,
   "id": "7b580b6e-c2db-4497-9db8-41e63d4b0d8f",
   "metadata": {},
   "outputs": [],
   "source": [
    "immutable_data = set(data)"
   ]
  },
  {
   "cell_type": "code",
   "execution_count": 237,
   "id": "efb36e54-b3b2-4058-a5f1-b33f2f01544a",
   "metadata": {},
   "outputs": [
    {
     "data": {
      "text/plain": [
       "{0, 2, 4, 6, 8, 10, 12, 14, 16, 18}"
      ]
     },
     "execution_count": 237,
     "metadata": {},
     "output_type": "execute_result"
    }
   ],
   "source": [
    "immutable_data"
   ]
  },
  {
   "cell_type": "code",
   "execution_count": 238,
   "id": "80017977-9909-46d1-b29d-8965a24ff691",
   "metadata": {},
   "outputs": [
    {
     "ename": "TypeError",
     "evalue": "'set' object is not subscriptable",
     "output_type": "error",
     "traceback": [
      "\u001b[1;31m---------------------------------------------------------------------------\u001b[0m",
      "\u001b[1;31mTypeError\u001b[0m                                 Traceback (most recent call last)",
      "Cell \u001b[1;32mIn[238], line 1\u001b[0m\n\u001b[1;32m----> 1\u001b[0m \u001b[43mscale\u001b[49m\u001b[43m(\u001b[49m\u001b[43mimmutable_data\u001b[49m\u001b[43m,\u001b[49m\u001b[38;5;241;43m2\u001b[39;49m\u001b[43m)\u001b[49m\n",
      "Cell \u001b[1;32mIn[233], line 3\u001b[0m, in \u001b[0;36mscale\u001b[1;34m(data, factor)\u001b[0m\n\u001b[0;32m      1\u001b[0m \u001b[38;5;28;01mdef\u001b[39;00m \u001b[38;5;21mscale\u001b[39m(data,factor):\n\u001b[0;32m      2\u001b[0m     \u001b[38;5;28;01mfor\u001b[39;00m i \u001b[38;5;129;01min\u001b[39;00m \u001b[38;5;28mrange\u001b[39m(\u001b[38;5;28mlen\u001b[39m(data)):\n\u001b[1;32m----> 3\u001b[0m         data[i] \u001b[38;5;241m=\u001b[39m\u001b[43mdata\u001b[49m\u001b[43m[\u001b[49m\u001b[43mi\u001b[49m\u001b[43m]\u001b[49m\u001b[38;5;241m*\u001b[39mfactor\n",
      "\u001b[1;31mTypeError\u001b[0m: 'set' object is not subscriptable"
     ]
    }
   ],
   "source": [
    "scale(immutable_data,2)"
   ]
  },
  {
   "cell_type": "markdown",
   "id": "c41bf22d-c7c7-4fa7-9332-7501868067ea",
   "metadata": {},
   "source": [
    "### C-1.17 \n",
    "### Had we implemented the scale function (page 25) as follows, does it work properly? \n",
    "### def scale(data, factor):\n",
    "###    for val in data:\n",
    "###        val = factor\n",
    "\n",
    "#### This would not work cause we are only altering the value itself than the index of data. "
   ]
  },
  {
   "cell_type": "markdown",
   "id": "4efff463-a5f0-43b7-b168-b08d9f1de081",
   "metadata": {},
   "source": [
    "### C-1.18\n",
    "### Demonstrate how to use Python’s list comprehension syntax to producethe list [0, 2, 6, 12, 20, 30, 42, 56, 72, 90]."
   ]
  },
  {
   "cell_type": "code",
   "execution_count": 240,
   "id": "e8dcf1bf-a86e-4906-9381-e227587bf8a8",
   "metadata": {},
   "outputs": [
    {
     "data": {
      "text/plain": [
       "[0, 2, 6, 12, 20, 30, 42, 56, 72, 90]"
      ]
     },
     "execution_count": 240,
     "metadata": {},
     "output_type": "execute_result"
    }
   ],
   "source": [
    "[i*(i+1) for i in range(10)]"
   ]
  },
  {
   "cell_type": "markdown",
   "id": "9d25fe11-4ae1-4d80-bc4d-a1cfb8e85df4",
   "metadata": {},
   "source": [
    "### C-1.19\n",
    "### Demonstrate how to use Python’s list comprehension syntax to produce the list [ a , b , c , ..., z ], but without having to type all 26 such characters literally"
   ]
  },
  {
   "cell_type": "code",
   "execution_count": 249,
   "id": "1d653048-c1a8-42df-9695-aa4fd03a23b3",
   "metadata": {},
   "outputs": [
    {
     "data": {
      "text/plain": [
       "['a',\n",
       " 'b',\n",
       " 'c',\n",
       " 'd',\n",
       " 'e',\n",
       " 'f',\n",
       " 'g',\n",
       " 'h',\n",
       " 'i',\n",
       " 'j',\n",
       " 'k',\n",
       " 'l',\n",
       " 'm',\n",
       " 'n',\n",
       " 'o',\n",
       " 'p',\n",
       " 'q',\n",
       " 'r',\n",
       " 's',\n",
       " 't',\n",
       " 'u',\n",
       " 'v',\n",
       " 'w',\n",
       " 'x',\n",
       " 'y',\n",
       " 'z']"
      ]
     },
     "execution_count": 249,
     "metadata": {},
     "output_type": "execute_result"
    }
   ],
   "source": [
    "[chr(i) for i in range(97,123)]"
   ]
  },
  {
   "cell_type": "markdown",
   "id": "f9212a17-dcc0-49e5-b4d1-6c9f379fcc60",
   "metadata": {},
   "source": [
    "### C-20 \n",
    "### Python’s random module includes a function shuffle(data) that accepts a list of elements and randomly reorders the elements so that each possible order occurs with equal probability. The random module includes a more basic function randint(a, b) that returns a uniformly random integer from a to b (including both endpoints). Using only the randint function, implement your own version of the shuffle function"
   ]
  },
  {
   "cell_type": "code",
   "execution_count": 258,
   "id": "5a92ef7b-7881-436c-8b19-6908128fd8aa",
   "metadata": {},
   "outputs": [],
   "source": [
    "unordered_list = [1,1,4,5,4,6,6,4,7]\n",
    "random.shuffle(unordered_list)"
   ]
  },
  {
   "cell_type": "code",
   "execution_count": 260,
   "id": "84193591-1600-4d11-9157-fd99ebc0bbb3",
   "metadata": {},
   "outputs": [
    {
     "data": {
      "text/plain": [
       "[1, 4, 1, 4, 5, 7, 6, 4, 6]"
      ]
     },
     "execution_count": 260,
     "metadata": {},
     "output_type": "execute_result"
    }
   ],
   "source": [
    "unordered_list"
   ]
  },
  {
   "cell_type": "code",
   "execution_count": 270,
   "id": "4e968c88-9968-4bc4-8019-b6b506bff6bb",
   "metadata": {},
   "outputs": [],
   "source": [
    "def myshuffle(start,end,loops):\n",
    "    return [random.randint(start,end) for _ in range(loops)]"
   ]
  },
  {
   "cell_type": "code",
   "execution_count": 273,
   "id": "f6d45962-cab1-4117-bb14-c7a5f86aed65",
   "metadata": {},
   "outputs": [
    {
     "data": {
      "text/plain": [
       "[5, 1, 6, 1, 10, 1, 7, 4, 10, 6]"
      ]
     },
     "execution_count": 273,
     "metadata": {},
     "output_type": "execute_result"
    }
   ],
   "source": [
    "myshuffle(1,10,10)"
   ]
  },
  {
   "cell_type": "markdown",
   "id": "e80ae53e-6fd5-4857-97be-316e0c5177ea",
   "metadata": {},
   "source": [
    "### C-1.22 \n",
    "### Write a short Python program that takes two arrays a and b of length n storing int values, and returns the dot product of a and b. That is, it returns an array c of length n such that c[i] = a[i] · b[i], for i = 0,...,n−1."
   ]
  },
  {
   "cell_type": "code",
   "execution_count": 279,
   "id": "7dfef6fe-829c-4b35-b2a1-cde251e3da1d",
   "metadata": {},
   "outputs": [],
   "source": [
    "def product_list(a,b):\n",
    "    if len(a) == len(b):\n",
    "        return list(map(lambda x,y: x*y, a,b))"
   ]
  },
  {
   "cell_type": "code",
   "execution_count": 283,
   "id": "8276f75f-c5ee-4da5-b6b6-4cd8ae9ad9ca",
   "metadata": {},
   "outputs": [
    {
     "data": {
      "text/plain": [
       "[0, 2, 8, 18, 32, 50, 72, 98, 128, 162]"
      ]
     },
     "execution_count": 283,
     "metadata": {},
     "output_type": "execute_result"
    }
   ],
   "source": [
    "product_list([i for i in range(0,10)],[i*2 for i in range(0,10)])"
   ]
  },
  {
   "cell_type": "markdown",
   "id": "596e0db2-8a9d-4ca5-b58a-33701be1c439",
   "metadata": {},
   "source": [
    "### C-1.23 Give an example of a Python code fragment that attempts to write an element to a list based on an index that may be out of bounds. If that index is out of bounds, the program should catch the exception that results, and print the following error message: “Don’t try buffer overflow attacks in Python!”"
   ]
  },
  {
   "cell_type": "code",
   "execution_count": 285,
   "id": "cceefde9-ca98-46c6-a4dd-6e01f38f8486",
   "metadata": {},
   "outputs": [
    {
     "name": "stdout",
     "output_type": "stream",
     "text": [
      "Don’t try buffer overflow attacks in Python!\n"
     ]
    }
   ],
   "source": [
    "try:\n",
    "    unordered_list[100]\n",
    "except IndexError as ie:\n",
    "    print('Don’t try buffer overflow attacks in Python!')"
   ]
  },
  {
   "cell_type": "markdown",
   "id": "893fe087-7b0c-4a92-99b8-fe71a8acb923",
   "metadata": {},
   "source": [
    "### C-1.24 Write a short Python function that counts the number of vowels in a given character string."
   ]
  },
  {
   "cell_type": "code",
   "execution_count": 291,
   "id": "56c2428b-8d7e-4e63-a329-7c9374799753",
   "metadata": {},
   "outputs": [],
   "source": [
    "def count_vowels(string):\n",
    "    vowels = ['a','e','i','o','u']\n",
    "    count = 0\n",
    "    for char in string.lower():\n",
    "        if char in vowels:\n",
    "            count+=1\n",
    "    return count"
   ]
  },
  {
   "cell_type": "code",
   "execution_count": 292,
   "id": "ee1ef3a5-c5f8-4630-a7b8-be46f3966dc2",
   "metadata": {},
   "outputs": [
    {
     "data": {
      "text/plain": [
       "1"
      ]
     },
     "execution_count": 292,
     "metadata": {},
     "output_type": "execute_result"
    }
   ],
   "source": [
    "count_vowels(\"String\")"
   ]
  },
  {
   "cell_type": "code",
   "execution_count": 293,
   "id": "25a43581-e829-4723-be89-7f130af276b7",
   "metadata": {},
   "outputs": [
    {
     "data": {
      "text/plain": [
       "1"
      ]
     },
     "execution_count": 293,
     "metadata": {},
     "output_type": "execute_result"
    }
   ],
   "source": [
    "count_vowels(\"FANNY\")"
   ]
  },
  {
   "cell_type": "markdown",
   "id": "47652b72-a934-4231-8049-47666cb7a7e4",
   "metadata": {},
   "source": [
    "### C-1.25\n",
    "### Write a short Python function that takes a string s, representing a sentence, and returns a copy of the string with all punctuation removed. For example, if given the string \"Let's try, Mike.\", this function would return \"Lets try Mike\"."
   ]
  },
  {
   "cell_type": "code",
   "execution_count": 294,
   "id": "f9aa9980-0129-47dd-ab05-6fa5cb088933",
   "metadata": {},
   "outputs": [],
   "source": [
    "import re\n",
    "def remove_punctuation(string):\n",
    "    return re.sub(r'[^\\w\\s]','',string)"
   ]
  },
  {
   "cell_type": "code",
   "execution_count": 296,
   "id": "f1fcd806-fd9a-4122-819f-57216ed7841e",
   "metadata": {},
   "outputs": [
    {
     "data": {
      "text/plain": [
       "'Lets try Mike'"
      ]
     },
     "execution_count": 296,
     "metadata": {},
     "output_type": "execute_result"
    }
   ],
   "source": [
    "remove_punctuation(\"Let's try, Mike.\")"
   ]
  },
  {
   "cell_type": "markdown",
   "id": "866a67e5-d664-4fda-967e-0626eb3f7638",
   "metadata": {},
   "source": [
    "### C-1.26\n",
    "### Write a short program that takes as input three integers, a, b, and c, from the console and determines if they can be used in a correct arithmetic formula (in the given order), like “a+b = c,” “a = b−c,” or “a ∗ b = c.”"
   ]
  },
  {
   "cell_type": "code",
   "execution_count": 307,
   "id": "63616541-b714-409d-8af7-965c18a65a29",
   "metadata": {},
   "outputs": [],
   "source": [
    "def correct_arithmetic(a,b,c):\n",
    "    for t1,t2,t3 in [(a,b,c),(c,b,a)]:\n",
    "        if t1 + t2 == t3:\n",
    "            print(f'{t1} + {t2} = {t3}')\n",
    "        if t1 - t2 == t3:\n",
    "            print(f'{t1} - {t2} = {t3}')\n",
    "        if t1 * t2 == t3:\n",
    "            print(f'{t1} * {t2} = {t3}')\n",
    "        if t1 / t2 == t3:\n",
    "            print(f'{t1} / {t2} = {t3}')"
   ]
  },
  {
   "cell_type": "code",
   "execution_count": 308,
   "id": "f34bbfb6-3f00-448a-8a00-21a7a0edcadd",
   "metadata": {},
   "outputs": [
    {
     "name": "stdout",
     "output_type": "stream",
     "text": [
      "1 + 2 = 3\n",
      "3 - 2 = 1\n"
     ]
    }
   ],
   "source": [
    "correct_arithmetic(1,2,3)"
   ]
  },
  {
   "cell_type": "code",
   "execution_count": 309,
   "id": "5111d631-8e43-4e20-ac41-0a66ca60d2d7",
   "metadata": {},
   "outputs": [
    {
     "name": "stdout",
     "output_type": "stream",
     "text": [
      "2 + 2 = 4\n",
      "2 * 2 = 4\n",
      "4 - 2 = 2\n",
      "4 / 2 = 2\n"
     ]
    }
   ],
   "source": [
    "correct_arithmetic(2,2,4)"
   ]
  },
  {
   "cell_type": "markdown",
   "id": "ab14281a-54d5-413e-8094-671431067e17",
   "metadata": {},
   "source": [
    "### C-1.27 \n",
    "### In Section 1.8, we provided three different implementations of a generator that computes factors of a given integer. The third of those implementations, from page 41, was the most efficient, but we noted that it did not yield the factors in increasing order. Modify the generator so that it reports factors in increasing order, while maintaining its general performance advantages"
   ]
  },
  {
   "cell_type": "code",
   "execution_count": 5,
   "id": "7c4cd89a-0ff5-4c64-bab2-e0a12982ff0f",
   "metadata": {},
   "outputs": [],
   "source": [
    "def factors(n): # generator that computes factors\n",
    "    k=1\n",
    "    while k*k < n: # while k < sqrt(n)\n",
    "        if n % k == 0:\n",
    "            yield k\n",
    "            yield n // k\n",
    "        k += 1\n",
    "    if k *k == n: # special case if n is perfect square\n",
    "        yield k"
   ]
  },
  {
   "cell_type": "code",
   "execution_count": 34,
   "id": "30c186b3-dbc5-44cf-b098-51b61c548a93",
   "metadata": {},
   "outputs": [],
   "source": [
    "gen = factors(10)"
   ]
  },
  {
   "cell_type": "code",
   "execution_count": 35,
   "id": "b30f20fd-b8f8-46b5-866d-e7d6fa90a522",
   "metadata": {},
   "outputs": [
    {
     "data": {
      "text/plain": [
       "1"
      ]
     },
     "execution_count": 35,
     "metadata": {},
     "output_type": "execute_result"
    }
   ],
   "source": [
    "next(gen)"
   ]
  },
  {
   "cell_type": "code",
   "execution_count": 36,
   "id": "b1e5770d-89c4-42df-8d02-fd788c372494",
   "metadata": {},
   "outputs": [
    {
     "data": {
      "text/plain": [
       "10"
      ]
     },
     "execution_count": 36,
     "metadata": {},
     "output_type": "execute_result"
    }
   ],
   "source": [
    "next(gen)"
   ]
  },
  {
   "cell_type": "code",
   "execution_count": 37,
   "id": "a551e59b-7338-4219-b5e4-8f9d4347505e",
   "metadata": {},
   "outputs": [
    {
     "data": {
      "text/plain": [
       "[2, 5]"
      ]
     },
     "execution_count": 37,
     "metadata": {},
     "output_type": "execute_result"
    }
   ],
   "source": [
    "# list of generator\n",
    "list(gen)"
   ]
  },
  {
   "cell_type": "code",
   "execution_count": 38,
   "id": "bfaa7111-cd1e-4880-81d3-b05c0ac3a402",
   "metadata": {},
   "outputs": [
    {
     "ename": "StopIteration",
     "evalue": "",
     "output_type": "error",
     "traceback": [
      "\u001b[1;31m---------------------------------------------------------------------------\u001b[0m",
      "\u001b[1;31mStopIteration\u001b[0m                             Traceback (most recent call last)",
      "Cell \u001b[1;32mIn[38], line 1\u001b[0m\n\u001b[1;32m----> 1\u001b[0m \u001b[38;5;28;43mnext\u001b[39;49m\u001b[43m(\u001b[49m\u001b[43mgen\u001b[49m\u001b[43m)\u001b[49m\n",
      "\u001b[1;31mStopIteration\u001b[0m: "
     ]
    }
   ],
   "source": [
    "next(gen)"
   ]
  },
  {
   "cell_type": "code",
   "execution_count": 41,
   "id": "2306709e-ac9f-4c31-a553-b1e92f39e15f",
   "metadata": {},
   "outputs": [],
   "source": [
    "gen2 = factors(100)"
   ]
  },
  {
   "cell_type": "code",
   "execution_count": 42,
   "id": "dd45a29f-41f4-4c57-b702-d414b42720d9",
   "metadata": {},
   "outputs": [
    {
     "data": {
      "text/plain": [
       "[1, 100, 2, 50, 4, 25, 5, 20, 10]"
      ]
     },
     "execution_count": 42,
     "metadata": {},
     "output_type": "execute_result"
    }
   ],
   "source": [
    "list(gen2)"
   ]
  },
  {
   "cell_type": "code",
   "execution_count": 43,
   "id": "d31178e7-35dc-4b56-82f2-092c35d0a543",
   "metadata": {},
   "outputs": [],
   "source": [
    "gen3 = factors(3)"
   ]
  },
  {
   "cell_type": "code",
   "execution_count": 44,
   "id": "da313dc4-4ebe-4e3a-8369-2101e36e8ce0",
   "metadata": {},
   "outputs": [
    {
     "data": {
      "text/plain": [
       "[1, 3]"
      ]
     },
     "execution_count": 44,
     "metadata": {},
     "output_type": "execute_result"
    }
   ],
   "source": [
    "sorted(gen3)"
   ]
  },
  {
   "cell_type": "code",
   "execution_count": 45,
   "id": "af634a28-7d3e-4afd-b395-b9d67d58e9e9",
   "metadata": {},
   "outputs": [
    {
     "ename": "StopIteration",
     "evalue": "",
     "output_type": "error",
     "traceback": [
      "\u001b[1;31m---------------------------------------------------------------------------\u001b[0m",
      "\u001b[1;31mStopIteration\u001b[0m                             Traceback (most recent call last)",
      "Cell \u001b[1;32mIn[45], line 1\u001b[0m\n\u001b[1;32m----> 1\u001b[0m \u001b[38;5;28;43mnext\u001b[39;49m\u001b[43m(\u001b[49m\u001b[43mgen3\u001b[49m\u001b[43m)\u001b[49m\n",
      "\u001b[1;31mStopIteration\u001b[0m: "
     ]
    }
   ],
   "source": [
    "next(gen3)"
   ]
  },
  {
   "cell_type": "code",
   "execution_count": 46,
   "id": "333d5c54-b60c-4681-b296-46e83f1aa1eb",
   "metadata": {},
   "outputs": [],
   "source": [
    "def sorted_factors(n):\n",
    "    k=1\n",
    "    while k*k  < n:\n",
    "        if n % k == 0:\n",
    "            yield k\n",
    "        k+=1\n",
    "    if k*k == n:\n",
    "        yield k\n",
    "    \n",
    "    while k <= n//2:\n",
    "        k+=1\n",
    "        if n % k == 0:\n",
    "            yield k\n",
    "    yield n\n"
   ]
  },
  {
   "cell_type": "code",
   "execution_count": 48,
   "id": "0bace045-7a9d-41c9-ba17-f60ad5f0fad3",
   "metadata": {},
   "outputs": [
    {
     "data": {
      "text/plain": [
       "[1, 2, 4, 5, 10, 20, 25, 50, 100]"
      ]
     },
     "execution_count": 48,
     "metadata": {},
     "output_type": "execute_result"
    }
   ],
   "source": [
    "list(sorted_factors(100))"
   ]
  },
  {
   "cell_type": "code",
   "execution_count": 49,
   "id": "14e35d11-398b-459c-8013-affb85027a7f",
   "metadata": {},
   "outputs": [],
   "source": [
    "def loop_iterable(start,end):\n",
    "    for i in range(start,end):\n",
    "        yield i"
   ]
  },
  {
   "cell_type": "code",
   "execution_count": 52,
   "id": "72df3a2c-1409-44c9-aaaf-4c7e0844fa20",
   "metadata": {},
   "outputs": [],
   "source": [
    "gene4 = loop_iterable(0,10)"
   ]
  },
  {
   "cell_type": "code",
   "execution_count": 53,
   "id": "35ce3585-0885-4635-b0cf-d6097f2059f5",
   "metadata": {},
   "outputs": [
    {
     "data": {
      "text/plain": [
       "0"
      ]
     },
     "execution_count": 53,
     "metadata": {},
     "output_type": "execute_result"
    }
   ],
   "source": [
    "next(gene4)"
   ]
  },
  {
   "cell_type": "code",
   "execution_count": 54,
   "id": "e709cb4f-0818-402c-a09d-6f1fa6f1102b",
   "metadata": {},
   "outputs": [
    {
     "data": {
      "text/plain": [
       "[1, 2, 3, 4, 5, 6, 7, 8, 9]"
      ]
     },
     "execution_count": 54,
     "metadata": {},
     "output_type": "execute_result"
    }
   ],
   "source": [
    "list(gene4)"
   ]
  },
  {
   "cell_type": "code",
   "execution_count": 55,
   "id": "61c0ea1e-dd26-4ee5-b172-041229a3c8c2",
   "metadata": {},
   "outputs": [],
   "source": [
    "def loop_2x_iterable(start,end):\n",
    "    for i in range(start,end):\n",
    "        yield i\n",
    "        yield i*2"
   ]
  },
  {
   "cell_type": "code",
   "execution_count": 56,
   "id": "0de7f8ab-75ad-4585-a2e8-1f158c5dace2",
   "metadata": {},
   "outputs": [],
   "source": [
    "gene5 = loop_2x_iterable(0,10)"
   ]
  },
  {
   "cell_type": "code",
   "execution_count": 57,
   "id": "fa4aea23-9af4-495d-a085-ba2b6bad44e2",
   "metadata": {},
   "outputs": [
    {
     "data": {
      "text/plain": [
       "0"
      ]
     },
     "execution_count": 57,
     "metadata": {},
     "output_type": "execute_result"
    }
   ],
   "source": [
    "next(gene5)"
   ]
  },
  {
   "cell_type": "code",
   "execution_count": 58,
   "id": "cb8a0568-136a-45fa-9c09-a83042fa43fc",
   "metadata": {},
   "outputs": [
    {
     "data": {
      "text/plain": [
       "0"
      ]
     },
     "execution_count": 58,
     "metadata": {},
     "output_type": "execute_result"
    }
   ],
   "source": [
    "next(gene5)"
   ]
  },
  {
   "cell_type": "code",
   "execution_count": 59,
   "id": "e43fa2b8-85e8-4792-951c-7d47aa178217",
   "metadata": {},
   "outputs": [
    {
     "data": {
      "text/plain": [
       "1"
      ]
     },
     "execution_count": 59,
     "metadata": {},
     "output_type": "execute_result"
    }
   ],
   "source": [
    "next(gene5)"
   ]
  },
  {
   "cell_type": "code",
   "execution_count": 60,
   "id": "a49f8dfe-36ef-4a8a-b287-d8e3c8898a84",
   "metadata": {},
   "outputs": [
    {
     "data": {
      "text/plain": [
       "2"
      ]
     },
     "execution_count": 60,
     "metadata": {},
     "output_type": "execute_result"
    }
   ],
   "source": [
    "next(gene5)"
   ]
  },
  {
   "cell_type": "code",
   "execution_count": 61,
   "id": "2dfcf990-913f-4622-adbc-e8b442aeefc1",
   "metadata": {},
   "outputs": [
    {
     "data": {
      "text/plain": [
       "[2, 4, 3, 6, 4, 8, 5, 10, 6, 12, 7, 14, 8, 16, 9, 18]"
      ]
     },
     "execution_count": 61,
     "metadata": {},
     "output_type": "execute_result"
    }
   ],
   "source": [
    "list(gene5)"
   ]
  },
  {
   "cell_type": "markdown",
   "id": "ec9e41d2-ceb1-49c8-a58c-959733b8d033",
   "metadata": {},
   "source": [
    "### C-1.28 \n",
    "### The p-norm of a vector v = (v1,v2,...,vn) in n-dimensional space is defined as For the special case of p = 2, this results in the traditional Euclidean norm, which represents the length of the vector. For example, the Euclidean norm of a two-dimensional vector with coordinates (4,3) has a Euclidean norm of √ 42 +32 = √16+9 = √ 25 = 5. Give an implementation of a function named norm such that norm(v, p) returns the p-norm value of v and norm(v) returns the Euclidean norm of v. You may assume that v is a list of numbers."
   ]
  },
  {
   "cell_type": "code",
   "execution_count": 67,
   "id": "769a78b8-4aa2-4881-9513-e7217518ad21",
   "metadata": {},
   "outputs": [],
   "source": [
    "def norm(v:list, p:int):\n",
    "    return pow(sum([pow(i,p) for i in v]),(1/p))"
   ]
  },
  {
   "cell_type": "code",
   "execution_count": 68,
   "id": "f31ea04a-e38b-4302-9085-8c504a1874c1",
   "metadata": {},
   "outputs": [
    {
     "data": {
      "text/plain": [
       "5.0"
      ]
     },
     "execution_count": 68,
     "metadata": {},
     "output_type": "execute_result"
    }
   ],
   "source": [
    "norm([3,4],2)"
   ]
  },
  {
   "cell_type": "markdown",
   "id": "58a2d035-35b0-4127-8a97-93fc9e2ac01f",
   "metadata": {},
   "source": [
    "### P-1.29 \n",
    "### Write a Python program that outputs all possible strings formed by using the characters c , a , t , d , o , and g exactly once."
   ]
  },
  {
   "cell_type": "code",
   "execution_count": 34,
   "id": "2f8da67e-0c98-4039-a44c-f25f7658c0e3",
   "metadata": {},
   "outputs": [],
   "source": [
    "import itertools\n",
    "\n",
    "def get_words(characters):\n",
    "    permutation_set = []\n",
    "    for i in range(2,4): \n",
    "        permutation_set += list(itertools.permutations(characters,i))\n",
    "    return permutation_set"
   ]
  },
  {
   "cell_type": "code",
   "execution_count": 35,
   "id": "bfc95271-873e-4f0c-8747-77508562b1bf",
   "metadata": {},
   "outputs": [
    {
     "data": {
      "text/plain": [
       "[('c', 'a'),\n",
       " ('c', 't'),\n",
       " ('c', 'd'),\n",
       " ('c', 'o'),\n",
       " ('c', 'g'),\n",
       " ('a', 'c'),\n",
       " ('a', 't'),\n",
       " ('a', 'd'),\n",
       " ('a', 'o'),\n",
       " ('a', 'g'),\n",
       " ('t', 'c'),\n",
       " ('t', 'a'),\n",
       " ('t', 'd'),\n",
       " ('t', 'o'),\n",
       " ('t', 'g'),\n",
       " ('d', 'c'),\n",
       " ('d', 'a'),\n",
       " ('d', 't'),\n",
       " ('d', 'o'),\n",
       " ('d', 'g'),\n",
       " ('o', 'c'),\n",
       " ('o', 'a'),\n",
       " ('o', 't'),\n",
       " ('o', 'd'),\n",
       " ('o', 'g'),\n",
       " ('g', 'c'),\n",
       " ('g', 'a'),\n",
       " ('g', 't'),\n",
       " ('g', 'd'),\n",
       " ('g', 'o'),\n",
       " ('c', 'a', 't'),\n",
       " ('c', 'a', 'd'),\n",
       " ('c', 'a', 'o'),\n",
       " ('c', 'a', 'g'),\n",
       " ('c', 't', 'a'),\n",
       " ('c', 't', 'd'),\n",
       " ('c', 't', 'o'),\n",
       " ('c', 't', 'g'),\n",
       " ('c', 'd', 'a'),\n",
       " ('c', 'd', 't'),\n",
       " ('c', 'd', 'o'),\n",
       " ('c', 'd', 'g'),\n",
       " ('c', 'o', 'a'),\n",
       " ('c', 'o', 't'),\n",
       " ('c', 'o', 'd'),\n",
       " ('c', 'o', 'g'),\n",
       " ('c', 'g', 'a'),\n",
       " ('c', 'g', 't'),\n",
       " ('c', 'g', 'd'),\n",
       " ('c', 'g', 'o'),\n",
       " ('a', 'c', 't'),\n",
       " ('a', 'c', 'd'),\n",
       " ('a', 'c', 'o'),\n",
       " ('a', 'c', 'g'),\n",
       " ('a', 't', 'c'),\n",
       " ('a', 't', 'd'),\n",
       " ('a', 't', 'o'),\n",
       " ('a', 't', 'g'),\n",
       " ('a', 'd', 'c'),\n",
       " ('a', 'd', 't'),\n",
       " ('a', 'd', 'o'),\n",
       " ('a', 'd', 'g'),\n",
       " ('a', 'o', 'c'),\n",
       " ('a', 'o', 't'),\n",
       " ('a', 'o', 'd'),\n",
       " ('a', 'o', 'g'),\n",
       " ('a', 'g', 'c'),\n",
       " ('a', 'g', 't'),\n",
       " ('a', 'g', 'd'),\n",
       " ('a', 'g', 'o'),\n",
       " ('t', 'c', 'a'),\n",
       " ('t', 'c', 'd'),\n",
       " ('t', 'c', 'o'),\n",
       " ('t', 'c', 'g'),\n",
       " ('t', 'a', 'c'),\n",
       " ('t', 'a', 'd'),\n",
       " ('t', 'a', 'o'),\n",
       " ('t', 'a', 'g'),\n",
       " ('t', 'd', 'c'),\n",
       " ('t', 'd', 'a'),\n",
       " ('t', 'd', 'o'),\n",
       " ('t', 'd', 'g'),\n",
       " ('t', 'o', 'c'),\n",
       " ('t', 'o', 'a'),\n",
       " ('t', 'o', 'd'),\n",
       " ('t', 'o', 'g'),\n",
       " ('t', 'g', 'c'),\n",
       " ('t', 'g', 'a'),\n",
       " ('t', 'g', 'd'),\n",
       " ('t', 'g', 'o'),\n",
       " ('d', 'c', 'a'),\n",
       " ('d', 'c', 't'),\n",
       " ('d', 'c', 'o'),\n",
       " ('d', 'c', 'g'),\n",
       " ('d', 'a', 'c'),\n",
       " ('d', 'a', 't'),\n",
       " ('d', 'a', 'o'),\n",
       " ('d', 'a', 'g'),\n",
       " ('d', 't', 'c'),\n",
       " ('d', 't', 'a'),\n",
       " ('d', 't', 'o'),\n",
       " ('d', 't', 'g'),\n",
       " ('d', 'o', 'c'),\n",
       " ('d', 'o', 'a'),\n",
       " ('d', 'o', 't'),\n",
       " ('d', 'o', 'g'),\n",
       " ('d', 'g', 'c'),\n",
       " ('d', 'g', 'a'),\n",
       " ('d', 'g', 't'),\n",
       " ('d', 'g', 'o'),\n",
       " ('o', 'c', 'a'),\n",
       " ('o', 'c', 't'),\n",
       " ('o', 'c', 'd'),\n",
       " ('o', 'c', 'g'),\n",
       " ('o', 'a', 'c'),\n",
       " ('o', 'a', 't'),\n",
       " ('o', 'a', 'd'),\n",
       " ('o', 'a', 'g'),\n",
       " ('o', 't', 'c'),\n",
       " ('o', 't', 'a'),\n",
       " ('o', 't', 'd'),\n",
       " ('o', 't', 'g'),\n",
       " ('o', 'd', 'c'),\n",
       " ('o', 'd', 'a'),\n",
       " ('o', 'd', 't'),\n",
       " ('o', 'd', 'g'),\n",
       " ('o', 'g', 'c'),\n",
       " ('o', 'g', 'a'),\n",
       " ('o', 'g', 't'),\n",
       " ('o', 'g', 'd'),\n",
       " ('g', 'c', 'a'),\n",
       " ('g', 'c', 't'),\n",
       " ('g', 'c', 'd'),\n",
       " ('g', 'c', 'o'),\n",
       " ('g', 'a', 'c'),\n",
       " ('g', 'a', 't'),\n",
       " ('g', 'a', 'd'),\n",
       " ('g', 'a', 'o'),\n",
       " ('g', 't', 'c'),\n",
       " ('g', 't', 'a'),\n",
       " ('g', 't', 'd'),\n",
       " ('g', 't', 'o'),\n",
       " ('g', 'd', 'c'),\n",
       " ('g', 'd', 'a'),\n",
       " ('g', 'd', 't'),\n",
       " ('g', 'd', 'o'),\n",
       " ('g', 'o', 'c'),\n",
       " ('g', 'o', 'a'),\n",
       " ('g', 'o', 't'),\n",
       " ('g', 'o', 'd')]"
      ]
     },
     "execution_count": 35,
     "metadata": {},
     "output_type": "execute_result"
    }
   ],
   "source": [
    "characters = ['c','a','t','d','o','g']\n",
    "get_words(characters)"
   ]
  },
  {
   "cell_type": "code",
   "execution_count": null,
   "id": "8c1e1f57-5ba7-4e7e-9c72-578cf667e288",
   "metadata": {},
   "outputs": [],
   "source": []
  }
 ],
 "metadata": {
  "kernelspec": {
   "display_name": "Python 3 (ipykernel)",
   "language": "python",
   "name": "python3"
  },
  "language_info": {
   "codemirror_mode": {
    "name": "ipython",
    "version": 3
   },
   "file_extension": ".py",
   "mimetype": "text/x-python",
   "name": "python",
   "nbconvert_exporter": "python",
   "pygments_lexer": "ipython3",
   "version": "3.9.0"
  }
 },
 "nbformat": 4,
 "nbformat_minor": 5
}
