{
 "cells": [
  {
   "attachments": {},
   "cell_type": "markdown",
   "id": "75181bec-4c02-4db8-aa4b-a39d9e99432a",
   "metadata": {},
   "source": [
    "Python Resource:\n",
    "    https://medium.com/@-TutortAcademy/choosing-the-best-books-for-mastering-python-algorithms-c7d0b5a64057\n",
    "\n",
    "Python Book:\n",
    "    Data Structures and Algorithms in Python by Michael T. Goodrich and Roberto Tamassia\n",
    "    https://nibmehub.com/opac-service/pdf/read/Data%20Structures%20and%20Algorithms%20in%20Python.pdf\n",
    "\n",
    "Chapter 1:\n",
    "    Class|Description|Immutable?\n",
    "    bool|Boolean value|Yes\n",
    "    int|integer (arbitrary magnitude)|Yes\n",
    "    float|floating-point number| Yes\n",
    "    list|mutable sequence of objects|No\n",
    "    tuple| immutable sequence of objects|Yes\n",
    "    str|character string|Yes\n",
    "    set |unordered set of distinct objects| No\n",
    "    frozenset|immutable form of set class| Yes\n",
    "    dict|associative mapping (aka dictionary)| No\n",
    "\n",
    "    Sequence Types\n",
    "        are list, tuple, and str.\n",
    "        list = []\n",
    "            - list are zero index are similar to an array\n",
    "        Tuple = ()\n",
    "            - tuples are immutable version of a sequence\n",
    "        str = \"\" or '' or \"\"\"\"\"\" or ''''''\n",
    "            - str is specifically designed to represent an immutable sequence of\n",
    "            characters\n",
    "    Set and Frozenset\n",
    "        set = {}\n",
    "            - set class represent the mathamatical notion of a set, namely\n",
    "            a collection of elements, without a duplicate\n",
    "            - No order\n",
    "        frozenset =\n",
    "            - is a immutable form of a set type, so it is legal to have set of frozenset\n",
    "            - frozenset()\n",
    "    Dict\n",
    "        dict represents a dictionary or mapping from a set of dictinct keys to associated values\n",
    "            - key value pair\n",
    "                dictionary = {'k':'V','k1':'V1'}\n",
    "            - access value\n",
    "                dictionary['K'] or dictionary.get('k')\n",
    "    Operators:\n",
    "        Python provides the following bitwise operators for integers:\n",
    "            ∼ bitwise complement (prefix unary operator)\n",
    "            & bitwise and\n",
    "            | bitwise or\n",
    "            ˆ bitwise exclusive-or\n",
    "            << shift bits left, filling in with zeros\n",
    "            >> shift bits right, filling in with sign bit\n",
    "\n",
    "        Each of Python’s built-in sequence types (str, tuple, and list) support the following\n",
    "            operator syntaxes:\n",
    "            s[j] element at index j\n",
    "            s[start:stop] slice including indices [start,stop)\n",
    "            s[start:stop:step] slice including indices start, start + step,\n",
    "            start + 2 step, . . . , up to but not equalling or stop\n",
    "            s+t concatenation of sequences\n",
    "            k s shorthand for s + s + s + ... (k times)\n",
    "            val in s containment check\n",
    "            val not in s non-containment check\n",
    "\n",
    "        Operators for Sets and Dictionaries\n",
    "            Sets and frozensets support the following operators:\n",
    "            key in s containment check\n",
    "            key not in s non-containment check\n",
    "            s1 == s2 s1 is equivalent to s2\n",
    "            s1 != s2 s1 is not equivalent to s2\n",
    "            s1 <= s2 s1 is subset of s2\n",
    "            s1 < s2 s1 is proper subset of s2\n",
    "            s1 >= s2 s1 is superset of s2\n",
    "            s1 > s2 s1 is proper superset of s2\n",
    "            s1 | s2 the union of s1 and s2\n",
    "            s1 & s2 the intersection of s1 and s2\n",
    "            s1 − s2 the set of elements in s1 but not s2\n",
    "            s1 ˆ s2 the set of elements in precisely one of s1 or s2\n",
    "\n",
    "\n",
    "        Control Flow\n",
    "            \n",
    "            if first condition:\n",
    "                first body\n",
    "            elif second condition:\n",
    "                second body\n",
    "            elif third condition:\n",
    "                third body\n",
    "            else:\n",
    "                fourth body\n",
    "\n",
    "\n",
    "        Loops:\n",
    "            while statement:\n",
    "                while condition:\n",
    "                    body\n",
    "            - condition statement needs to be false to exit\n",
    "\n",
    "        Calling Syntax Description\n",
    "            Calling_Syntax Description\n",
    "            abs(x) Return the absolute value of a number.\n",
    "            all(iterable) Return True if bool(e) is True for each element e.\n",
    "            any(iterable) Return True if bool(e) is True for at least one element e.\n",
    "            chr(integer) Return a one-character string with the given Unicode code point.\n",
    "            divmod(x, y) Return (x // y, x % y) as tuple, if x and y are integers.\n",
    "            hash(obj) Return an integer hash value for the object (see Chapter 10).\n",
    "            id(obj) Return the unique integer serving as an “identity” for the object.\n",
    "            input(prompt) Return a string from standard input; the prompt is optional.\n",
    "            isinstance(obj, cls) Determine if obj is an instance of the class (or a subclass).\n",
    "            iter(iterable) Return a new iterator object for the parameter (see Section 1.8).\n",
    "            len(iterable) Return the number of elements in the given iteration.\n",
    "            map(f, iter1, iter2, ...) Return an iterator yielding the result of function calls f(e1, e2, ...)\n",
    "            for respective elements e1 ∈ iter1,e2 ∈ iter2,...\n",
    "            max(iterable) Return the largest element of the given iteration.\n",
    "            max(a, b, c, ...) Return the largest of the arguments.\n",
    "            min(iterable) Return the smallest element of the given iteration.\n",
    "            min(a, b, c, ...) Return the smallest of the arguments.\n",
    "            next(iterator) Return the next element reported by the iterator (see Section 1.8).\n",
    "            open(filename, mode) Open a file with the given name and access mode.\n",
    "            ord(char) Return the Unicode code point of the given character.\n",
    "            pow(x, y) Return the value xy (as an integer if x and y are integers);\n",
    "            equivalent to x y.\n",
    "            pow(x, y, z) Return the value (xy mod z) as an integer.\n",
    "            print(obj1, obj2, ...) Print the arguments, with separating spaces and trailing newline.\n",
    "            range(stop) Construct an iteration of values 0, 1,..., stop−1.\n",
    "            range(start, stop) Construct an iteration of values start, start+1,..., stop−1.\n",
    "            range(start, stop, step) Construct an iteration of values start, start+step, start+2 step,...\n",
    "            reversed(sequence) Return an iteration of the sequence in reverse.\n",
    "            round(x) Return the nearest int value (a tie is broken toward the even value).\n",
    "            round(x, k) Return the value rounded to the nearest 10−k (return-type matches x).\n",
    "            sorted(iterable) Return a list containing elements of the iterable in sorted order.\n",
    "            sum(iterable) Return the sum of the elements in the iterable (must be numeric).\n",
    "            type(obj) Return the class to which the instance obj belongs.\n",
    "\n",
    "        Error Handling\n",
    "            \n",
    "            Class Description\n",
    "            Exception A base class for most error types\n",
    "            AttributeError Raised by syntax obj.foo, if obj has no member named foo\n",
    "            EOFError Raised if “end of file” reached for console or file input\n",
    "            IOError Raised upon failure of I/O operation (e.g., opening file)\n",
    "            IndexError Raised if index to sequence is out of bounds\n",
    "            KeyError Raised if nonexistent key requested for set or dictionary\n",
    "            KeyboardInterrupt Raised if user types ctrl-C while program is executing\n",
    "            NameError Raised if nonexistent identifier used\n",
    "            StopIteration Raised by next(iterator) if no element; see Section 1.8\n",
    "            TypeError Raised when wrong type of parameter is sent to a function\n",
    "            ValueError Raised when parameter has invalid value (e.g., sqrt(−5))\n",
    "            ZeroDivisionError Raised when any division operator used with 0 as divison\n",
    "\n",
    "\n",
    "        Modules\n",
    "            Module Name Description\n",
    "                array Provides compact array storage for primitive types.\n",
    "                collections Defines additional data structures and abstract base classes\n",
    "                involving collections of objects.\n",
    "                copy Defines general functions for making copies of objects.\n",
    "                heapq Provides heap-based priority queue functions (see Section 9.3.7).\n",
    "                math Defines common mathematical constants and functions.\n",
    "                os Provides support for interactions with the operating system.\n",
    "                random Provides random number generation.\n",
    "                re Provides support for processing regular expressions.\n",
    "                sys Provides additional level of interaction with the Python interpreter.\n",
    "                time Provides support for measuring time, or delaying a program.\n",
    "\n",
    "\n",
    "        \n",
    "            \n",
    "        \n",
    "         \n",
    "            "
   ]
  },
  {
   "cell_type": "markdown",
   "id": "68d41fb3-a562-4e1e-802d-5bd9ba9a3043",
   "metadata": {},
   "source": [
    "### Write a short Python function, is multiple(n, m), that takes two integer\n",
    "### values and returns True if n is a multiple of m, that is, n = mi for some\n",
    "### integer i, and False otherwise.\n"
   ]
  },
  {
   "cell_type": "code",
   "execution_count": 98,
   "id": "b1b5f202-3425-4266-9935-40e3d12304fc",
   "metadata": {},
   "outputs": [],
   "source": [
    "def is_multiple(n,m):\n",
    "    if n%m == 0:\n",
    "        return True\n",
    "    return False"
   ]
  },
  {
   "cell_type": "code",
   "execution_count": 99,
   "id": "4e2fb741-c104-4dd5-b5ee-689b1bbbe4da",
   "metadata": {},
   "outputs": [
    {
     "data": {
      "text/plain": [
       "True"
      ]
     },
     "execution_count": 99,
     "metadata": {},
     "output_type": "execute_result"
    }
   ],
   "source": [
    "is_multiple(16,8)"
   ]
  },
  {
   "cell_type": "code",
   "execution_count": 100,
   "id": "c04e6ee0-58fb-4860-b3aa-3fcb48d71f48",
   "metadata": {},
   "outputs": [
    {
     "data": {
      "text/plain": [
       "False"
      ]
     },
     "execution_count": 100,
     "metadata": {},
     "output_type": "execute_result"
    }
   ],
   "source": [
    "is_multiple(16,3)"
   ]
  },
  {
   "cell_type": "markdown",
   "id": "8b4ac594-c7a0-4238-abd0-6908d39c2c4f",
   "metadata": {},
   "source": [
    "### R-1.2 Write a short Python function, is even(k), that takes an integer value and\n",
    "### returns True if k is even, and False otherwise. However, your function\n",
    "### cannot use the multiplication, modulo, or division operators."
   ]
  },
  {
   "cell_type": "code",
   "execution_count": 101,
   "id": "ed5dd03b-b2fd-45ce-89aa-7129b5c159df",
   "metadata": {},
   "outputs": [],
   "source": [
    "def is_even(k):\n",
    "    if (k & 1) == 0:\n",
    "        return True\n",
    "    return False"
   ]
  },
  {
   "cell_type": "code",
   "execution_count": 102,
   "id": "ec2a0598-d9f4-4979-8f54-8534123137d9",
   "metadata": {},
   "outputs": [
    {
     "data": {
      "text/plain": [
       "False"
      ]
     },
     "execution_count": 102,
     "metadata": {},
     "output_type": "execute_result"
    }
   ],
   "source": [
    "is_even(1)"
   ]
  },
  {
   "cell_type": "code",
   "execution_count": 103,
   "id": "4cbf0548-cc4a-4c83-bf80-26d9da4f8ceb",
   "metadata": {},
   "outputs": [
    {
     "data": {
      "text/plain": [
       "True"
      ]
     },
     "execution_count": 103,
     "metadata": {},
     "output_type": "execute_result"
    }
   ],
   "source": [
    "is_even(10)"
   ]
  },
  {
   "cell_type": "code",
   "execution_count": 104,
   "id": "264e1a04-e3af-4f7b-ad17-27b3e4d62539",
   "metadata": {},
   "outputs": [
    {
     "name": "stdout",
     "output_type": "stream",
     "text": [
      "L1 [0, 1, 2, 3, 4, 5, 6, 7, 8, 9]\n",
      "l2 [0, 100, 200, 300, 400, 500, 600, 700, 800, 900]\n"
     ]
    },
    {
     "data": {
      "text/plain": [
       "[0, 101, 202, 303, 404, 505, 606, 707, 808, 909]"
      ]
     },
     "execution_count": 104,
     "metadata": {},
     "output_type": "execute_result"
    }
   ],
   "source": [
    "# Test Map Function\n",
    "\n",
    "def add(a,b):\n",
    "    return a+b\n",
    "\n",
    "def iter_lists(func,list1,list2):\n",
    "    return map(func,list1,list2)\n",
    "\n",
    "l1 = [i for i in range(0,10,)] \n",
    "l2 = [i*100 for i in range(0,10)]\n",
    "\n",
    "print('L1', l1)\n",
    "print('l2',l2)\n",
    "\n",
    "list(iter_lists(add,l1,l2))"
   ]
  },
  {
   "cell_type": "markdown",
   "id": "ffdfe873-cd9c-4cdc-96de-25bc70615ad7",
   "metadata": {},
   "source": [
    "### R-1.3 Write a short Python function, minmax(data), that takes a sequence of\n",
    "### one or more numbers, and returns the smallest and largest numbers, in the\n",
    "### form of a tuple of length two. Do not use the built-in functions min or\n",
    "### max in implementing your solution."
   ]
  },
  {
   "cell_type": "code",
   "execution_count": 105,
   "id": "f29e38d1-af04-4b1b-aa04-f6c942dec0a3",
   "metadata": {},
   "outputs": [],
   "source": [
    "def minmax(data):\n",
    "    minimum = maximum = data[0]\n",
    "    for i in data[1:]:\n",
    "        if i < minimum:\n",
    "            minimum = i\n",
    "        elif i > maximum:\n",
    "            maximum = i\n",
    "    return (minimum,maximum)        \n",
    "        "
   ]
  },
  {
   "cell_type": "code",
   "execution_count": 106,
   "id": "d57c6de6-aa5a-4d93-9aa4-dcd7345a31ee",
   "metadata": {},
   "outputs": [
    {
     "name": "stdout",
     "output_type": "stream",
     "text": [
      "[400, 900, 0, 700, 500, 300, 800, 200, 100, 600]\n"
     ]
    },
    {
     "data": {
      "text/plain": [
       "(0, 900)"
      ]
     },
     "execution_count": 106,
     "metadata": {},
     "output_type": "execute_result"
    }
   ],
   "source": [
    "import random\n",
    "shuffled_list = random.shuffle(l2)\n",
    "print(l2)\n",
    "minmax(l2)"
   ]
  },
  {
   "cell_type": "markdown",
   "id": "5b1cbae8-0d85-4880-9a18-9b918dc8144b",
   "metadata": {},
   "source": [
    "### R-1.5\n",
    "### Give a single command that computes the sum from Exercise R-1.4, relying on Python’s comprehension syntax and the built-in sum function."
   ]
  },
  {
   "cell_type": "code",
   "execution_count": 107,
   "id": "a52eb96c-5573-4d8e-912d-6507584e5ba8",
   "metadata": {},
   "outputs": [
    {
     "name": "stdout",
     "output_type": "stream",
     "text": [
      "900\n"
     ]
    }
   ],
   "source": [
    "l3 = [a for a in minmax(l2)]\n",
    "print(sum(l3))"
   ]
  },
  {
   "cell_type": "markdown",
   "id": "b96bfff2-f8ba-4105-8a98-031034e642d3",
   "metadata": {},
   "source": [
    "### R-1.6 \n",
    "### Write a short Python function that takes a positive integer n and returns the sum of the squares of all the odd positive integers smaller than n\n",
    "\n",
    "### R-1.7 Give a single command that computes the sum from Exercise R-1.6, relying on Python’s comprehension syntax and the built-in sum function.\n"
   ]
  },
  {
   "cell_type": "code",
   "execution_count": 108,
   "id": "05d14cb9-cf9c-49b0-bbf2-ac884b4d43e8",
   "metadata": {},
   "outputs": [],
   "source": [
    "def squared_odds(n):\n",
    "    if type(n) == int and n> 0:\n",
    "        return sum([pow(i,2) for i in range(1,n) if i%2 != 0])\n",
    "    else:\n",
    "        print(f'Not greater than 0 or argument is not type of int {n}')\n",
    "            \n",
    "                "
   ]
  },
  {
   "cell_type": "code",
   "execution_count": 109,
   "id": "ad073967-8935-4daf-9eb3-c7866b4dbd3f",
   "metadata": {},
   "outputs": [
    {
     "name": "stdout",
     "output_type": "stream",
     "text": [
      "Not greater than 0 or argument is not type of int A\n"
     ]
    }
   ],
   "source": [
    "squared_odds('A')\n",
    "assert squared_odds(4) == 10"
   ]
  },
  {
   "cell_type": "code",
   "execution_count": 110,
   "id": "bf98b1d0-7d5b-4ea1-bca7-72730236434c",
   "metadata": {},
   "outputs": [
    {
     "data": {
      "text/plain": [
       "10"
      ]
     },
     "execution_count": 110,
     "metadata": {},
     "output_type": "execute_result"
    }
   ],
   "source": [
    "squared_odds(4)"
   ]
  },
  {
   "cell_type": "markdown",
   "id": "090291ab-1de3-45e0-bc90-580261db151d",
   "metadata": {},
   "source": [
    "### R-1.8 \n",
    "### Python allows negative integers to be used as indices into a sequence, such as a string. If string s has length n, and expression s[k] is used for index −n ≤ k < 0, what is the equivalent index j ≥ 0 such that s[j] references the same element?"
   ]
  },
  {
   "cell_type": "code",
   "execution_count": 111,
   "id": "d964af08-654c-4edf-8f22-3269926e558b",
   "metadata": {},
   "outputs": [
    {
     "data": {
      "text/plain": [
       "'o'"
      ]
     },
     "execution_count": 111,
     "metadata": {},
     "output_type": "execute_result"
    }
   ],
   "source": [
    "string = \"Hello\"\n",
    "string[-1]\n",
    "index = len(string)-1\n",
    "string[index]"
   ]
  },
  {
   "cell_type": "markdown",
   "id": "f24f26d3-86f6-4cd3-a505-997af3678c4a",
   "metadata": {},
   "source": [
    "### R-1.9 What parameters should be sent to the range constructor, to produce a\n",
    "### range with values 50, 60, 70, 80?"
   ]
  },
  {
   "cell_type": "code",
   "execution_count": 112,
   "id": "057a5e05-5fd8-449e-8c34-226da6ad23f0",
   "metadata": {},
   "outputs": [
    {
     "data": {
      "text/plain": [
       "[50, 60, 70, 80]"
      ]
     },
     "execution_count": 112,
     "metadata": {},
     "output_type": "execute_result"
    }
   ],
   "source": [
    "list(range(50,81,10))"
   ]
  },
  {
   "cell_type": "markdown",
   "id": "89bbec42-d5bb-49ca-89dc-8c75827cdcb6",
   "metadata": {},
   "source": [
    "### R-1.10 \n",
    "### What parameters should be sent to the range constructor, to produce a range with values 8, 6, 4, 2, 0, −2, −4, −6, −8?"
   ]
  },
  {
   "cell_type": "code",
   "execution_count": 113,
   "id": "73ec2d7d-9fac-446d-bb50-c928e7840ee9",
   "metadata": {},
   "outputs": [
    {
     "data": {
      "text/plain": [
       "[8, 6, 4, 2, 0, -2, -4, -6, -8]"
      ]
     },
     "execution_count": 113,
     "metadata": {},
     "output_type": "execute_result"
    }
   ],
   "source": [
    "list(range(8,-9,-2))"
   ]
  },
  {
   "cell_type": "code",
   "execution_count": 114,
   "id": "2263996c-1d54-4658-a044-ffaa4ea207b1",
   "metadata": {},
   "outputs": [],
   "source": [
    "### R-1.11 \n",
    "### Demonstrate how to use Python’s list comprehension syntax to produce the list [1, 2, 4, 8, 16, 32, 64, 128, 256].\n"
   ]
  },
  {
   "cell_type": "code",
   "execution_count": 115,
   "id": "73fda77b-410f-4a85-a438-dd4ef78062bf",
   "metadata": {},
   "outputs": [
    {
     "data": {
      "text/plain": [
       "[1, 2, 4, 8, 16, 32, 64, 128, 256]"
      ]
     },
     "execution_count": 115,
     "metadata": {},
     "output_type": "execute_result"
    }
   ],
   "source": [
    "[pow(2,i) for i in range(0,9)] "
   ]
  },
  {
   "cell_type": "markdown",
   "id": "23400de6-d7dd-47c5-8bc6-e873ea827909",
   "metadata": {},
   "source": [
    "### R-1.12 \n",
    "### Python’s random module includes a function choice(data) that returns a\n",
    "### random element from a non-empty sequence. The random module includes a more basic function randrange, with parameterization similar to\n",
    "### the built-in range function, that return a random choice from the given\n",
    "### range. Using only the randrange function, implement your own version\n",
    "### of the choice function"
   ]
  },
  {
   "cell_type": "code",
   "execution_count": 116,
   "id": "83653a4b-4f5b-44ac-b900-86c40457e182",
   "metadata": {},
   "outputs": [],
   "source": [
    "def choice_rand(start,end):\n",
    "    return random.randrange(start,end)\n",
    "    "
   ]
  },
  {
   "cell_type": "code",
   "execution_count": 117,
   "id": "927bf1ab-62c5-455a-8b12-50763f8af276",
   "metadata": {},
   "outputs": [
    {
     "data": {
      "text/plain": [
       "4"
      ]
     },
     "execution_count": 117,
     "metadata": {},
     "output_type": "execute_result"
    }
   ],
   "source": [
    "choice_rand(1,10)"
   ]
  },
  {
   "cell_type": "markdown",
   "id": "75b516d2-4611-4a11-ada6-5b766f080142",
   "metadata": {},
   "source": [
    "### C-1.13\n",
    "### Write a pseudo-code description of a function that reverses a list of n\n",
    "### integers, so that the numbers are listed in the opposite order than they\n",
    "### were before, and compare this method to an equivalent Python function\n",
    "### for doing the same thing."
   ]
  },
  {
   "cell_type": "code",
   "execution_count": 118,
   "id": "92545f70-2184-4147-965d-f9090277ce0a",
   "metadata": {},
   "outputs": [],
   "source": [
    "def reverse_iter(iterable):\n",
    "    return iterable[::-1]"
   ]
  },
  {
   "cell_type": "code",
   "execution_count": 119,
   "id": "34bc0ba6-b956-46da-afac-05127b628485",
   "metadata": {},
   "outputs": [
    {
     "data": {
      "text/plain": [
       "[9, 8, 7, 6, 5, 4, 3, 2, 1, 0]"
      ]
     },
     "execution_count": 119,
     "metadata": {},
     "output_type": "execute_result"
    }
   ],
   "source": [
    "reverse_iter(l1)"
   ]
  },
  {
   "cell_type": "markdown",
   "id": "934f35ae-fe9c-4dea-9cef-b82f0c9583c0",
   "metadata": {},
   "source": [
    "### C-1.14 \n",
    "### Write a short Python function that takes a sequence of integer values and determines if there is a distinct pair of numbers in the sequence whose product is odd."
   ]
  },
  {
   "cell_type": "code",
   "execution_count": 120,
   "id": "26d3f07e-8838-4b60-b106-3ecc8abd93c2",
   "metadata": {},
   "outputs": [],
   "source": [
    "def distinct_pair(iterable):\n",
    "    dp = {}\n",
    "    for i in iterable:\n",
    "        if dp.get(i):\n",
    "            dp[i] +=1\n",
    "        else:\n",
    "            dp[i] = 1\n",
    "    return [k for k,v in dp.items() if v == 1]"
   ]
  },
  {
   "cell_type": "code",
   "execution_count": 121,
   "id": "b8771e12-bd4f-46df-95ed-d73fb9fefb03",
   "metadata": {},
   "outputs": [
    {
     "data": {
      "text/plain": [
       "[0, 1, 2, 3, 4, 5, 6, 7, 8, 9]"
      ]
     },
     "execution_count": 121,
     "metadata": {},
     "output_type": "execute_result"
    }
   ],
   "source": [
    "distinct_pair(l1)"
   ]
  },
  {
   "cell_type": "code",
   "execution_count": 122,
   "id": "ee696f52-9fb0-41db-a0f9-a7fc85df8eb8",
   "metadata": {},
   "outputs": [
    {
     "data": {
      "text/plain": [
       "[1, 2]"
      ]
     },
     "execution_count": 122,
     "metadata": {},
     "output_type": "execute_result"
    }
   ],
   "source": [
    "distinct_pair([1,2,3,3,3,3])"
   ]
  }
 ],
 "metadata": {
  "kernelspec": {
   "display_name": "Python 3 (ipykernel)",
   "language": "python",
   "name": "python3"
  },
  "language_info": {
   "codemirror_mode": {
    "name": "ipython",
    "version": 3
   },
   "file_extension": ".py",
   "mimetype": "text/x-python",
   "name": "python",
   "nbconvert_exporter": "python",
   "pygments_lexer": "ipython3",
   "version": "3.9.0"
  }
 },
 "nbformat": 4,
 "nbformat_minor": 5
}
