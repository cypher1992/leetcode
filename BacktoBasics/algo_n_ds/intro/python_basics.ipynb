{
 "cells": [
  {
   "attachments": {},
   "cell_type": "markdown",
   "id": "75181bec-4c02-4db8-aa4b-a39d9e99432a",
   "metadata": {},
   "source": [
    "Python Resource:\n",
    "    https://medium.com/@-TutortAcademy/choosing-the-best-books-for-mastering-python-algorithms-c7d0b5a64057\n",
    "\n",
    "Python Book:\n",
    "    Data Structures and Algorithms in Python by Michael T. Goodrich and Roberto Tamassia\n",
    "    https://nibmehub.com/opac-service/pdf/read/Data%20Structures%20and%20Algorithms%20in%20Python.pdf\n",
    "\n",
    "Chapter 1:\n",
    "    Class|Description|Immutable?\n",
    "    bool|Boolean value|Yes\n",
    "    int|integer (arbitrary magnitude)|Yes\n",
    "    float|floating-point number| Yes\n",
    "    list|mutable sequence of objects|No\n",
    "    tuple| immutable sequence of objects|Yes\n",
    "    str|character string|Yes\n",
    "    set |unordered set of distinct objects| No\n",
    "    frozenset|immutable form of set class| Yes\n",
    "    dict|associative mapping (aka dictionary)| No\n",
    "\n",
    "    Sequence Types\n",
    "        are list, tuple, and str.\n",
    "        list = []\n",
    "            - list are zero index are similar to an array\n",
    "        Tuple = ()\n",
    "            - tuples are immutable version of a sequence\n",
    "        str = \"\" or '' or \"\"\"\"\"\" or ''''''\n",
    "            - str is specifically designed to represent an immutable sequence of\n",
    "            characters\n",
    "    Set and Frozenset\n",
    "        set = {}\n",
    "            - set class represent the mathamatical notion of a set, namely\n",
    "            a collection of elements, without a duplicate\n",
    "            - No order\n",
    "        frozenset =\n",
    "            - is a immutable form of a set type, so it is legal to have set of frozenset\n",
    "            - frozenset()\n",
    "    Dict\n",
    "        dict represents a dictionary or mapping from a set of dictinct keys to associated values\n",
    "            - key value pair\n",
    "                dictionary = {'k':'V','k1':'V1'}\n",
    "            - access value\n",
    "                dictionary['K'] or dictionary.get('k')\n",
    "    Operators:\n",
    "        Python provides the following bitwise operators for integers:\n",
    "            ∼ bitwise complement (prefix unary operator)\n",
    "            & bitwise and\n",
    "            | bitwise or\n",
    "            ˆ bitwise exclusive-or\n",
    "            << shift bits left, filling in with zeros\n",
    "            >> shift bits right, filling in with sign bit\n",
    "\n",
    "        Each of Python’s built-in sequence types (str, tuple, and list) support the following\n",
    "            operator syntaxes:\n",
    "            s[j] element at index j\n",
    "            s[start:stop] slice including indices [start,stop)\n",
    "            s[start:stop:step] slice including indices start, start + step,\n",
    "            start + 2 step, . . . , up to but not equalling or stop\n",
    "            s+t concatenation of sequences\n",
    "            k s shorthand for s + s + s + ... (k times)\n",
    "            val in s containment check\n",
    "            val not in s non-containment check\n",
    "\n",
    "        Operators for Sets and Dictionaries\n",
    "            Sets and frozensets support the following operators:\n",
    "            key in s containment check\n",
    "            key not in s non-containment check\n",
    "            s1 == s2 s1 is equivalent to s2\n",
    "            s1 != s2 s1 is not equivalent to s2\n",
    "            s1 <= s2 s1 is subset of s2\n",
    "            s1 < s2 s1 is proper subset of s2\n",
    "            s1 >= s2 s1 is superset of s2\n",
    "            s1 > s2 s1 is proper superset of s2\n",
    "            s1 | s2 the union of s1 and s2\n",
    "            s1 & s2 the intersection of s1 and s2\n",
    "            s1 − s2 the set of elements in s1 but not s2\n",
    "            s1 ˆ s2 the set of elements in precisely one of s1 or s2\n",
    "\n",
    "\n",
    "        Control Flow\n",
    "            \n",
    "            if first condition:\n",
    "                first body\n",
    "            elif second condition:\n",
    "                second body\n",
    "            elif third condition:\n",
    "                third body\n",
    "            else:\n",
    "                fourth body\n",
    "\n",
    "\n",
    "        Loops:\n",
    "            while statement:\n",
    "                while condition:\n",
    "                    body\n",
    "            - condition statement needs to be false to exit\n",
    "\n",
    "        Calling Syntax Description\n",
    "            Calling_Syntax Description\n",
    "            abs(x) Return the absolute value of a number.\n",
    "            all(iterable) Return True if bool(e) is True for each element e.\n",
    "            any(iterable) Return True if bool(e) is True for at least one element e.\n",
    "            chr(integer) Return a one-character string with the given Unicode code point.\n",
    "            divmod(x, y) Return (x // y, x % y) as tuple, if x and y are integers.\n",
    "            hash(obj) Return an integer hash value for the object (see Chapter 10).\n",
    "            id(obj) Return the unique integer serving as an “identity” for the object.\n",
    "            input(prompt) Return a string from standard input; the prompt is optional.\n",
    "            isinstance(obj, cls) Determine if obj is an instance of the class (or a subclass).\n",
    "            iter(iterable) Return a new iterator object for the parameter (see Section 1.8).\n",
    "            len(iterable) Return the number of elements in the given iteration.\n",
    "            map(f, iter1, iter2, ...) Return an iterator yielding the result of function calls f(e1, e2, ...)\n",
    "            for respective elements e1 ∈ iter1,e2 ∈ iter2,...\n",
    "            max(iterable) Return the largest element of the given iteration.\n",
    "            max(a, b, c, ...) Return the largest of the arguments.\n",
    "            min(iterable) Return the smallest element of the given iteration.\n",
    "            min(a, b, c, ...) Return the smallest of the arguments.\n",
    "            next(iterator) Return the next element reported by the iterator (see Section 1.8).\n",
    "            open(filename, mode) Open a file with the given name and access mode.\n",
    "            ord(char) Return the Unicode code point of the given character.\n",
    "            pow(x, y) Return the value xy (as an integer if x and y are integers);\n",
    "            equivalent to x y.\n",
    "            pow(x, y, z) Return the value (xy mod z) as an integer.\n",
    "            print(obj1, obj2, ...) Print the arguments, with separating spaces and trailing newline.\n",
    "            range(stop) Construct an iteration of values 0, 1,..., stop−1.\n",
    "            range(start, stop) Construct an iteration of values start, start+1,..., stop−1.\n",
    "            range(start, stop, step) Construct an iteration of values start, start+step, start+2 step,...\n",
    "            reversed(sequence) Return an iteration of the sequence in reverse.\n",
    "            round(x) Return the nearest int value (a tie is broken toward the even value).\n",
    "            round(x, k) Return the value rounded to the nearest 10−k (return-type matches x).\n",
    "            sorted(iterable) Return a list containing elements of the iterable in sorted order.\n",
    "            sum(iterable) Return the sum of the elements in the iterable (must be numeric).\n",
    "            type(obj) Return the class to which the instance obj belongs.\n",
    "\n",
    "        Error Handling\n",
    "            \n",
    "            Class Description\n",
    "            Exception A base class for most error types\n",
    "            AttributeError Raised by syntax obj.foo, if obj has no member named foo\n",
    "            EOFError Raised if “end of file” reached for console or file input\n",
    "            IOError Raised upon failure of I/O operation (e.g., opening file)\n",
    "            IndexError Raised if index to sequence is out of bounds\n",
    "            KeyError Raised if nonexistent key requested for set or dictionary\n",
    "            KeyboardInterrupt Raised if user types ctrl-C while program is executing\n",
    "            NameError Raised if nonexistent identifier used\n",
    "            StopIteration Raised by next(iterator) if no element; see Section 1.8\n",
    "            TypeError Raised when wrong type of parameter is sent to a function\n",
    "            ValueError Raised when parameter has invalid value (e.g., sqrt(−5))\n",
    "            ZeroDivisionError Raised when any division operator used with 0 as divison\n",
    "\n",
    "\n",
    "        \n",
    "            \n",
    "        \n",
    "         \n",
    "            "
   ]
  },
  {
   "cell_type": "markdown",
   "id": "68d41fb3-a562-4e1e-802d-5bd9ba9a3043",
   "metadata": {},
   "source": [
    "Write a short Python function, is multiple(n, m), that takes two integer\n",
    "values and returns True if n is a multiple of m, that is, n = mi for some\n",
    "integer i, and False otherwise.\n"
   ]
  },
  {
   "cell_type": "code",
   "execution_count": 1,
   "id": "b1b5f202-3425-4266-9935-40e3d12304fc",
   "metadata": {},
   "outputs": [],
   "source": [
    "def is_multiple(n,m):\n",
    "    if n%m == 0:\n",
    "        return True\n",
    "    return False"
   ]
  },
  {
   "cell_type": "code",
   "execution_count": 2,
   "id": "4e2fb741-c104-4dd5-b5ee-689b1bbbe4da",
   "metadata": {},
   "outputs": [
    {
     "data": {
      "text/plain": [
       "True"
      ]
     },
     "execution_count": 2,
     "metadata": {},
     "output_type": "execute_result"
    }
   ],
   "source": [
    "is_multiple(16,8)"
   ]
  },
  {
   "cell_type": "code",
   "execution_count": 3,
   "id": "c04e6ee0-58fb-4860-b3aa-3fcb48d71f48",
   "metadata": {},
   "outputs": [
    {
     "data": {
      "text/plain": [
       "False"
      ]
     },
     "execution_count": 3,
     "metadata": {},
     "output_type": "execute_result"
    }
   ],
   "source": [
    "is_multiple(16,3)"
   ]
  },
  {
   "cell_type": "markdown",
   "id": "8b4ac594-c7a0-4238-abd0-6908d39c2c4f",
   "metadata": {},
   "source": [
    "R-1.2 Write a short Python function, is even(k), that takes an integer value and\n",
    "returns True if k is even, and False otherwise. However, your function\n",
    "cannot use the multiplication, modulo, or division operators."
   ]
  },
  {
   "cell_type": "code",
   "execution_count": 4,
   "id": "ed5dd03b-b2fd-45ce-89aa-7129b5c159df",
   "metadata": {},
   "outputs": [],
   "source": [
    "def is_even(k):\n",
    "    if (k & 1) == 0:\n",
    "        return True\n",
    "    return False"
   ]
  },
  {
   "cell_type": "code",
   "execution_count": 5,
   "id": "ec2a0598-d9f4-4979-8f54-8534123137d9",
   "metadata": {},
   "outputs": [
    {
     "data": {
      "text/plain": [
       "False"
      ]
     },
     "execution_count": 5,
     "metadata": {},
     "output_type": "execute_result"
    }
   ],
   "source": [
    "is_even(1)"
   ]
  },
  {
   "cell_type": "code",
   "execution_count": 6,
   "id": "4cbf0548-cc4a-4c83-bf80-26d9da4f8ceb",
   "metadata": {},
   "outputs": [
    {
     "data": {
      "text/plain": [
       "True"
      ]
     },
     "execution_count": 6,
     "metadata": {},
     "output_type": "execute_result"
    }
   ],
   "source": [
    "is_even(10)"
   ]
  },
  {
   "cell_type": "code",
   "execution_count": 9,
   "id": "264e1a04-e3af-4f7b-ad17-27b3e4d62539",
   "metadata": {},
   "outputs": [
    {
     "data": {
      "text/plain": [
       "[0, 101, 202, 303, 404, 505, 606, 707, 808, 909]"
      ]
     },
     "execution_count": 9,
     "metadata": {},
     "output_type": "execute_result"
    }
   ],
   "source": [
    "# Test Map Function\n",
    "\n",
    "def add(a,b):\n",
    "    return a+b\n",
    "\n",
    "def iter_lists(func,list1,list2):\n",
    "    return map(func,list1,list2)\n",
    "\n",
    "l1 = [i for i in range(0,10,)] \n",
    "l2 = [i*100 for i in range(0,10)]\n",
    "\n",
    "list(iter_lists(add,l1,l2))"
   ]
  },
  {
   "cell_type": "code",
   "execution_count": null,
   "id": "06ddcd04-0a48-4e66-8817-b968d87670ea",
   "metadata": {},
   "outputs": [],
   "source": []
  }
 ],
 "metadata": {
  "kernelspec": {
   "display_name": "Python 3 (ipykernel)",
   "language": "python",
   "name": "python3"
  },
  "language_info": {
   "codemirror_mode": {
    "name": "ipython",
    "version": 3
   },
   "file_extension": ".py",
   "mimetype": "text/x-python",
   "name": "python",
   "nbconvert_exporter": "python",
   "pygments_lexer": "ipython3",
   "version": "3.9.0"
  }
 },
 "nbformat": 4,
 "nbformat_minor": 5
}
